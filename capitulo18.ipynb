{
 "cells": [
  {
   "cell_type": "code",
   "execution_count": 1,
   "metadata": {},
   "outputs": [],
   "source": [
    "import pandas as pd\n",
    "import numpy as np\n",
    "import statsmodels.formula.api as smf\n",
    "import statsmodels.api as sm\n",
    "import matplotlib.pyplot as plt\n",
    "%matplotlib inline"
   ]
  },
  {
   "cell_type": "code",
   "execution_count": null,
   "metadata": {},
   "outputs": [],
   "source": [
    "# Modelo de Rezagos Distribuidos Geométrico y Racional"
   ]
  },
  {
   "cell_type": "markdown",
   "metadata": {},
   "source": [
    "## Ejemplo 18.1 Inversión en vivienda e inflación en los precios de la vivienda (hseinv.dta)"
   ]
  },
  {
   "cell_type": "code",
   "execution_count": 2,
   "metadata": {},
   "outputs": [
    {
     "data": {
      "text/html": [
       "<div>\n",
       "<style scoped>\n",
       "    .dataframe tbody tr th:only-of-type {\n",
       "        vertical-align: middle;\n",
       "    }\n",
       "\n",
       "    .dataframe tbody tr th {\n",
       "        vertical-align: top;\n",
       "    }\n",
       "\n",
       "    .dataframe thead th {\n",
       "        text-align: right;\n",
       "    }\n",
       "</style>\n",
       "<table border=\"1\" class=\"dataframe\">\n",
       "  <thead>\n",
       "    <tr style=\"text-align: right;\">\n",
       "      <th></th>\n",
       "      <th>year</th>\n",
       "      <th>inv</th>\n",
       "      <th>pop</th>\n",
       "      <th>price</th>\n",
       "      <th>linv</th>\n",
       "      <th>lpop</th>\n",
       "      <th>lprice</th>\n",
       "      <th>t</th>\n",
       "      <th>invpc</th>\n",
       "      <th>linvpc</th>\n",
       "      <th>lprice_1</th>\n",
       "      <th>linvpc_1</th>\n",
       "      <th>gprice</th>\n",
       "      <th>ginvpc</th>\n",
       "    </tr>\n",
       "  </thead>\n",
       "  <tbody>\n",
       "    <tr>\n",
       "      <th>0</th>\n",
       "      <td>1947</td>\n",
       "      <td>54864.0</td>\n",
       "      <td>144126.0</td>\n",
       "      <td>0.8190</td>\n",
       "      <td>10.912613</td>\n",
       "      <td>11.878443</td>\n",
       "      <td>-0.199671</td>\n",
       "      <td>1</td>\n",
       "      <td>0.380667</td>\n",
       "      <td>-0.965831</td>\n",
       "      <td>NaN</td>\n",
       "      <td>NaN</td>\n",
       "      <td>NaN</td>\n",
       "      <td>NaN</td>\n",
       "    </tr>\n",
       "    <tr>\n",
       "      <th>1</th>\n",
       "      <td>1948</td>\n",
       "      <td>64717.0</td>\n",
       "      <td>146631.0</td>\n",
       "      <td>0.8649</td>\n",
       "      <td>11.077779</td>\n",
       "      <td>11.895675</td>\n",
       "      <td>-0.145141</td>\n",
       "      <td>2</td>\n",
       "      <td>0.441360</td>\n",
       "      <td>-0.817895</td>\n",
       "      <td>-0.199671</td>\n",
       "      <td>-0.965831</td>\n",
       "      <td>0.054530</td>\n",
       "      <td>0.147935</td>\n",
       "    </tr>\n",
       "    <tr>\n",
       "      <th>2</th>\n",
       "      <td>1949</td>\n",
       "      <td>63150.0</td>\n",
       "      <td>149188.0</td>\n",
       "      <td>0.8456</td>\n",
       "      <td>11.053268</td>\n",
       "      <td>11.912963</td>\n",
       "      <td>-0.167709</td>\n",
       "      <td>3</td>\n",
       "      <td>0.423291</td>\n",
       "      <td>-0.859694</td>\n",
       "      <td>-0.145141</td>\n",
       "      <td>-0.817895</td>\n",
       "      <td>-0.022567</td>\n",
       "      <td>-0.041799</td>\n",
       "    </tr>\n",
       "    <tr>\n",
       "      <th>3</th>\n",
       "      <td>1950</td>\n",
       "      <td>86014.0</td>\n",
       "      <td>151684.0</td>\n",
       "      <td>0.8765</td>\n",
       "      <td>11.362266</td>\n",
       "      <td>11.929555</td>\n",
       "      <td>-0.131819</td>\n",
       "      <td>4</td>\n",
       "      <td>0.567060</td>\n",
       "      <td>-0.567289</td>\n",
       "      <td>-0.167709</td>\n",
       "      <td>-0.859694</td>\n",
       "      <td>0.035890</td>\n",
       "      <td>0.292405</td>\n",
       "    </tr>\n",
       "    <tr>\n",
       "      <th>4</th>\n",
       "      <td>1951</td>\n",
       "      <td>70610.0</td>\n",
       "      <td>154287.0</td>\n",
       "      <td>0.8819</td>\n",
       "      <td>11.164927</td>\n",
       "      <td>11.946569</td>\n",
       "      <td>-0.125677</td>\n",
       "      <td>5</td>\n",
       "      <td>0.457654</td>\n",
       "      <td>-0.781643</td>\n",
       "      <td>-0.131819</td>\n",
       "      <td>-0.567289</td>\n",
       "      <td>0.006142</td>\n",
       "      <td>-0.214353</td>\n",
       "    </tr>\n",
       "  </tbody>\n",
       "</table>\n",
       "</div>"
      ],
      "text/plain": [
       "   year      inv       pop   price       linv       lpop    lprice  t  \\\n",
       "0  1947  54864.0  144126.0  0.8190  10.912613  11.878443 -0.199671  1   \n",
       "1  1948  64717.0  146631.0  0.8649  11.077779  11.895675 -0.145141  2   \n",
       "2  1949  63150.0  149188.0  0.8456  11.053268  11.912963 -0.167709  3   \n",
       "3  1950  86014.0  151684.0  0.8765  11.362266  11.929555 -0.131819  4   \n",
       "4  1951  70610.0  154287.0  0.8819  11.164927  11.946569 -0.125677  5   \n",
       "\n",
       "      invpc    linvpc  lprice_1  linvpc_1    gprice    ginvpc  \n",
       "0  0.380667 -0.965831       NaN       NaN       NaN       NaN  \n",
       "1  0.441360 -0.817895 -0.199671 -0.965831  0.054530  0.147935  \n",
       "2  0.423291 -0.859694 -0.145141 -0.817895 -0.022567 -0.041799  \n",
       "3  0.567060 -0.567289 -0.167709 -0.859694  0.035890  0.292405  \n",
       "4  0.457654 -0.781643 -0.131819 -0.567289  0.006142 -0.214353  "
      ]
     },
     "execution_count": 2,
     "metadata": {},
     "output_type": "execute_result"
    }
   ],
   "source": [
    "dfej18_1 = pd.read_stata('hseinv.dta')\n",
    "dfej18_1.head()"
   ]
  },
  {
   "cell_type": "code",
   "execution_count": null,
   "metadata": {},
   "outputs": [],
   "source": [
    "# Se utiliza MCO sobre el modelo RD de Koyck y Racional"
   ]
  },
  {
   "cell_type": "code",
   "execution_count": null,
   "metadata": {},
   "outputs": [],
   "source": [
    "# Se busca estudiar el impacto de la inflación en la inversión en el mercado de viviendas\n",
    "# La variable dependiente se pone en logaritmos, a la cual se le elimina la tendencialineal\n",
    "# La independiente es la inflación, es decir el crecimiento en el índice de precios  "
   ]
  },
  {
   "cell_type": "code",
   "execution_count": null,
   "metadata": {},
   "outputs": [],
   "source": [
    "# Se elimina la tendencia y se construyen los rezagos"
   ]
  },
  {
   "cell_type": "code",
   "execution_count": 3,
   "metadata": {},
   "outputs": [],
   "source": [
    "dfej18_1['linvpc_det'] = sm.tsa.tsatools.detrend(dfej18_1['linvpc'])\n",
    "dfej18_1['gprice_lag1'] = dfej18_1['gprice'].shift(1)\n",
    "dfej18_1['linvpc_det_lag1'] = dfej18_1['linvpc_det'].shift(1)"
   ]
  },
  {
   "cell_type": "code",
   "execution_count": null,
   "metadata": {},
   "outputs": [],
   "source": [
    "# Se hace la regresión con rezagos distribuidos de Koyck "
   ]
  },
  {
   "cell_type": "code",
   "execution_count": 9,
   "metadata": {},
   "outputs": [
    {
     "name": "stdout",
     "output_type": "stream",
     "text": [
      "                            OLS Regression Results                            \n",
      "==============================================================================\n",
      "Dep. Variable:             linvpc_det   R-squared:                       0.407\n",
      "Model:                            OLS   Adj. R-squared:                  0.375\n",
      "Method:                 Least Squares   F-statistic:                     13.02\n",
      "Date:                Sat, 17 Oct 2020   Prob (F-statistic):           4.93e-05\n",
      "Time:                        00:11:26   Log-Likelihood:                 33.403\n",
      "No. Observations:                  41   AIC:                            -60.81\n",
      "Df Residuals:                      38   BIC:                            -55.67\n",
      "Df Model:                           2                                         \n",
      "Covariance Type:            nonrobust                                         \n",
      "===================================================================================\n",
      "                      coef    std err          t      P>|t|      [0.025      0.975]\n",
      "-----------------------------------------------------------------------------------\n",
      "Intercept          -0.0100      0.018     -0.556      0.581      -0.046       0.026\n",
      "gprice              3.0948      0.933      3.316      0.002       1.205       4.984\n",
      "linvpc_det_lag1     0.3399      0.132      2.583      0.014       0.074       0.606\n",
      "==============================================================================\n",
      "Omnibus:                        0.647   Durbin-Watson:                   1.287\n",
      "Prob(Omnibus):                  0.724   Jarque-Bera (JB):                0.416\n",
      "Skew:                          -0.245   Prob(JB):                        0.812\n",
      "Kurtosis:                       2.939   Cond. No.                         53.8\n",
      "==============================================================================\n",
      "\n",
      "Warnings:\n",
      "[1] Standard Errors assume that the covariance matrix of the errors is correctly specified.\n"
     ]
    }
   ],
   "source": [
    "# Koyck geometric d.l.:\n",
    "reg_koyck = smf.ols(formula='linvpc_det ~ gprice + linvpc_det_lag1',data=dfej18_1).fit()\n",
    "print(reg_koyck.summary())"
   ]
  },
  {
   "cell_type": "code",
   "execution_count": 8,
   "metadata": {},
   "outputs": [
    {
     "name": "stdout",
     "output_type": "stream",
     "text": [
      "                            OLS Regression Results                            \n",
      "==============================================================================\n",
      "Dep. Variable:             linvpc_det   R-squared:                       0.542\n",
      "Model:                            OLS   Adj. R-squared:                  0.504\n",
      "Method:                 Least Squares   F-statistic:                     14.20\n",
      "Date:                Sat, 17 Oct 2020   Prob (F-statistic):           2.89e-06\n",
      "Time:                        00:11:17   Log-Likelihood:                 37.273\n",
      "No. Observations:                  40   AIC:                            -66.55\n",
      "Df Residuals:                      36   BIC:                            -59.79\n",
      "Df Model:                           3                                         \n",
      "Covariance Type:            nonrobust                                         \n",
      "===================================================================================\n",
      "                      coef    std err          t      P>|t|      [0.025      0.975]\n",
      "-----------------------------------------------------------------------------------\n",
      "Intercept           0.0059      0.017      0.347      0.731      -0.028       0.040\n",
      "gprice              3.2564      0.970      3.356      0.002       1.288       5.224\n",
      "linvpc_det_lag1     0.5472      0.152      3.608      0.001       0.240       0.855\n",
      "gprice_lag1        -2.9363      0.973     -3.017      0.005      -4.910      -0.963\n",
      "==============================================================================\n",
      "Omnibus:                        3.363   Durbin-Watson:                   1.525\n",
      "Prob(Omnibus):                  0.186   Jarque-Bera (JB):                2.176\n",
      "Skew:                          -0.501   Prob(JB):                        0.337\n",
      "Kurtosis:                       3.550   Cond. No.                         65.6\n",
      "==============================================================================\n",
      "\n",
      "Warnings:\n",
      "[1] Standard Errors assume that the covariance matrix of the errors is correctly specified.\n"
     ]
    }
   ],
   "source": [
    "# rational d.l.:\n",
    "reg_rational = smf.ols(formula='linvpc_det ~ gprice + linvpc_det_lag1 +gprice_lag1',  data=dfej18_1).fit()\n",
    "print(reg_rational.summary()) \n"
   ]
  },
  {
   "cell_type": "code",
   "execution_count": null,
   "metadata": {},
   "outputs": [],
   "source": [
    "# Comentario : Se rechaza el modelo Geométrico pues la inflación rezagda es significativa "
   ]
  },
  {
   "cell_type": "code",
   "execution_count": 5,
   "metadata": {},
   "outputs": [
    {
     "data": {
      "text/plain": [
       "0.004661506515167232"
      ]
     },
     "execution_count": 5,
     "metadata": {},
     "output_type": "execute_result"
    }
   ],
   "source": [
    "reg_rational.pvalues['gprice_lag1']"
   ]
  },
  {
   "cell_type": "code",
   "execution_count": null,
   "metadata": {},
   "outputs": [],
   "source": [
    "# El R2 ajustado también es mejor en el modelo racional"
   ]
  },
  {
   "cell_type": "code",
   "execution_count": null,
   "metadata": {},
   "outputs": [],
   "source": []
  },
  {
   "cell_type": "code",
   "execution_count": null,
   "metadata": {},
   "outputs": [],
   "source": [
    "# El multiplicador de largo plazo en el modelo geométrico es "
   ]
  },
  {
   "cell_type": "code",
   "execution_count": 10,
   "metadata": {},
   "outputs": [
    {
     "data": {
      "text/plain": [
       "4.688434194769014"
      ]
     },
     "execution_count": 10,
     "metadata": {},
     "output_type": "execute_result"
    }
   ],
   "source": [
    "reg_koyck.params['gprice']/(1-reg_koyck.params['linvpc_det_lag1'])"
   ]
  },
  {
   "cell_type": "code",
   "execution_count": null,
   "metadata": {},
   "outputs": [],
   "source": [
    "# un incremento de un punto porcentual permanente en la inflación del precio residencial aumenta la inversión a \n",
    "# largo plazo en la vivienda en 4.7% por encima de su valor de tendencia\n",
    "# Poco factible que eso pueda ser así"
   ]
  },
  {
   "cell_type": "code",
   "execution_count": null,
   "metadata": {},
   "outputs": [],
   "source": [
    "# El multiplicador de largo plazo en el modelo racional es "
   ]
  },
  {
   "cell_type": "code",
   "execution_count": 6,
   "metadata": {},
   "outputs": [
    {
     "data": {
      "text/plain": [
       "0.7066808046888199"
      ]
     },
     "execution_count": 6,
     "metadata": {},
     "output_type": "execute_result"
    }
   ],
   "source": [
    "(reg_rational.params['gprice']+ reg_rational.params['gprice_lag1'])/(1-reg_rational.params['linvpc_det_lag1'])"
   ]
  },
  {
   "cell_type": "code",
   "execution_count": 11,
   "metadata": {},
   "outputs": [
    {
     "name": "stdout",
     "output_type": "stream",
     "text": [
      "<F test: F=array([[0.04755413]]), p=0.8286066949721947, df_denom=36, df_num=1>\n"
     ]
    }
   ],
   "source": [
    "hypotheses = '(gprice +gprice_lag1=0)'\n",
    "f_test = reg_rational.f_test(hypotheses)    \n",
    "print (f_test)"
   ]
  },
  {
   "cell_type": "code",
   "execution_count": null,
   "metadata": {},
   "outputs": [],
   "source": [
    "# No hay evidencia de que el multiplicador de largo plazo sea distinto a cero"
   ]
  },
  {
   "cell_type": "code",
   "execution_count": null,
   "metadata": {},
   "outputs": [],
   "source": [
    "# SI acepto erróneamente el modelo geométrico, equivoco la especificación dinámica del modelo omitiendo rezagos relevantes"
   ]
  },
  {
   "cell_type": "code",
   "execution_count": null,
   "metadata": {},
   "outputs": [],
   "source": [
    "# Prueba de Raíces unitarias"
   ]
  },
  {
   "cell_type": "markdown",
   "metadata": {},
   "source": [
    "## Ejemplo 18.2 Contraste de raíz unitaria para el tipo de interés a tres meses de los bonos del Tesoro (intqrt.dta)"
   ]
  },
  {
   "cell_type": "code",
   "execution_count": 3,
   "metadata": {
    "scrolled": true
   },
   "outputs": [
    {
     "data": {
      "text/html": [
       "<div>\n",
       "<style scoped>\n",
       "    .dataframe tbody tr th:only-of-type {\n",
       "        vertical-align: middle;\n",
       "    }\n",
       "\n",
       "    .dataframe tbody tr th {\n",
       "        vertical-align: top;\n",
       "    }\n",
       "\n",
       "    .dataframe thead th {\n",
       "        text-align: right;\n",
       "    }\n",
       "</style>\n",
       "<table border=\"1\" class=\"dataframe\">\n",
       "  <thead>\n",
       "    <tr style=\"text-align: right;\">\n",
       "      <th></th>\n",
       "      <th>r3</th>\n",
       "      <th>r6</th>\n",
       "      <th>r12</th>\n",
       "      <th>p3</th>\n",
       "      <th>p6</th>\n",
       "      <th>hy6</th>\n",
       "      <th>hy3</th>\n",
       "      <th>spr63</th>\n",
       "      <th>hy3_1</th>\n",
       "      <th>hy6_1</th>\n",
       "      <th>...</th>\n",
       "      <th>r3_1</th>\n",
       "      <th>chy6</th>\n",
       "      <th>chy3</th>\n",
       "      <th>chy6_1</th>\n",
       "      <th>chy3_1</th>\n",
       "      <th>cr6</th>\n",
       "      <th>cr6_1</th>\n",
       "      <th>cr3_1</th>\n",
       "      <th>r6_1</th>\n",
       "      <th>cspr63</th>\n",
       "    </tr>\n",
       "  </thead>\n",
       "  <tbody>\n",
       "    <tr>\n",
       "      <th>0</th>\n",
       "      <td>2.77</td>\n",
       "      <td>3.02</td>\n",
       "      <td>3.32</td>\n",
       "      <td>9931.413086</td>\n",
       "      <td>9851.647461</td>\n",
       "      <td>NaN</td>\n",
       "      <td>0.690603</td>\n",
       "      <td>0.25</td>\n",
       "      <td>NaN</td>\n",
       "      <td>NaN</td>\n",
       "      <td>...</td>\n",
       "      <td>NaN</td>\n",
       "      <td>NaN</td>\n",
       "      <td>NaN</td>\n",
       "      <td>NaN</td>\n",
       "      <td>NaN</td>\n",
       "      <td>NaN</td>\n",
       "      <td>NaN</td>\n",
       "      <td>NaN</td>\n",
       "      <td>NaN</td>\n",
       "      <td>NaN</td>\n",
       "    </tr>\n",
       "    <tr>\n",
       "      <th>1</th>\n",
       "      <td>2.97</td>\n",
       "      <td>3.43</td>\n",
       "      <td>3.67</td>\n",
       "      <td>9926.498047</td>\n",
       "      <td>9831.845703</td>\n",
       "      <td>0.759777</td>\n",
       "      <td>0.740466</td>\n",
       "      <td>0.46</td>\n",
       "      <td>0.690603</td>\n",
       "      <td>NaN</td>\n",
       "      <td>...</td>\n",
       "      <td>2.77</td>\n",
       "      <td>NaN</td>\n",
       "      <td>0.049863</td>\n",
       "      <td>NaN</td>\n",
       "      <td>NaN</td>\n",
       "      <td>0.41</td>\n",
       "      <td>NaN</td>\n",
       "      <td>NaN</td>\n",
       "      <td>3.02</td>\n",
       "      <td>0.21</td>\n",
       "    </tr>\n",
       "    <tr>\n",
       "      <th>2</th>\n",
       "      <td>4.00</td>\n",
       "      <td>4.32</td>\n",
       "      <td>4.41</td>\n",
       "      <td>9901.258789</td>\n",
       "      <td>9789.133789</td>\n",
       "      <td>0.706003</td>\n",
       "      <td>0.997260</td>\n",
       "      <td>0.32</td>\n",
       "      <td>0.740466</td>\n",
       "      <td>0.759777</td>\n",
       "      <td>...</td>\n",
       "      <td>2.97</td>\n",
       "      <td>-0.053775</td>\n",
       "      <td>0.256795</td>\n",
       "      <td>NaN</td>\n",
       "      <td>0.049863</td>\n",
       "      <td>0.89</td>\n",
       "      <td>0.41</td>\n",
       "      <td>0.20</td>\n",
       "      <td>3.43</td>\n",
       "      <td>-0.14</td>\n",
       "    </tr>\n",
       "    <tr>\n",
       "      <th>3</th>\n",
       "      <td>4.60</td>\n",
       "      <td>4.68</td>\n",
       "      <td>4.75</td>\n",
       "      <td>9886.615234</td>\n",
       "      <td>9771.962891</td>\n",
       "      <td>0.995813</td>\n",
       "      <td>1.146849</td>\n",
       "      <td>0.08</td>\n",
       "      <td>0.997260</td>\n",
       "      <td>0.706003</td>\n",
       "      <td>...</td>\n",
       "      <td>4.00</td>\n",
       "      <td>0.289810</td>\n",
       "      <td>0.149589</td>\n",
       "      <td>-0.053775</td>\n",
       "      <td>0.256795</td>\n",
       "      <td>0.36</td>\n",
       "      <td>0.89</td>\n",
       "      <td>1.03</td>\n",
       "      <td>4.32</td>\n",
       "      <td>-0.24</td>\n",
       "    </tr>\n",
       "    <tr>\n",
       "      <th>4</th>\n",
       "      <td>4.16</td>\n",
       "      <td>4.33</td>\n",
       "      <td>4.38</td>\n",
       "      <td>9897.349609</td>\n",
       "      <td>9788.656250</td>\n",
       "      <td>1.283127</td>\n",
       "      <td>1.037151</td>\n",
       "      <td>0.17</td>\n",
       "      <td>1.146849</td>\n",
       "      <td>0.995813</td>\n",
       "      <td>...</td>\n",
       "      <td>4.60</td>\n",
       "      <td>0.287315</td>\n",
       "      <td>-0.109699</td>\n",
       "      <td>0.289810</td>\n",
       "      <td>0.149589</td>\n",
       "      <td>-0.35</td>\n",
       "      <td>0.36</td>\n",
       "      <td>0.60</td>\n",
       "      <td>4.68</td>\n",
       "      <td>0.09</td>\n",
       "    </tr>\n",
       "  </tbody>\n",
       "</table>\n",
       "<p>5 rows × 23 columns</p>\n",
       "</div>"
      ],
      "text/plain": [
       "     r3    r6   r12           p3           p6       hy6       hy3  spr63  \\\n",
       "0  2.77  3.02  3.32  9931.413086  9851.647461       NaN  0.690603   0.25   \n",
       "1  2.97  3.43  3.67  9926.498047  9831.845703  0.759777  0.740466   0.46   \n",
       "2  4.00  4.32  4.41  9901.258789  9789.133789  0.706003  0.997260   0.32   \n",
       "3  4.60  4.68  4.75  9886.615234  9771.962891  0.995813  1.146849   0.08   \n",
       "4  4.16  4.33  4.38  9897.349609  9788.656250  1.283127  1.037151   0.17   \n",
       "\n",
       "      hy3_1     hy6_1  ...  r3_1      chy6      chy3    chy6_1    chy3_1  \\\n",
       "0       NaN       NaN  ...   NaN       NaN       NaN       NaN       NaN   \n",
       "1  0.690603       NaN  ...  2.77       NaN  0.049863       NaN       NaN   \n",
       "2  0.740466  0.759777  ...  2.97 -0.053775  0.256795       NaN  0.049863   \n",
       "3  0.997260  0.706003  ...  4.00  0.289810  0.149589 -0.053775  0.256795   \n",
       "4  1.146849  0.995813  ...  4.60  0.287315 -0.109699  0.289810  0.149589   \n",
       "\n",
       "    cr6  cr6_1  cr3_1  r6_1  cspr63  \n",
       "0   NaN    NaN    NaN   NaN     NaN  \n",
       "1  0.41    NaN    NaN  3.02    0.21  \n",
       "2  0.89   0.41   0.20  3.43   -0.14  \n",
       "3  0.36   0.89   1.03  4.32   -0.24  \n",
       "4 -0.35   0.36   0.60  4.68    0.09  \n",
       "\n",
       "[5 rows x 23 columns]"
      ]
     },
     "execution_count": 3,
     "metadata": {},
     "output_type": "execute_result"
    }
   ],
   "source": [
    "dfej18_2 = pd.read_stata('intqrt.dta')\n",
    "dfej18_2.head()"
   ]
  },
  {
   "cell_type": "code",
   "execution_count": null,
   "metadata": {},
   "outputs": [],
   "source": [
    "# Se busca raíz unitaria en una serie de tasas de interés\n",
    "# Se hace la regresión de la diferencia contra el rezago"
   ]
  },
  {
   "cell_type": "code",
   "execution_count": 4,
   "metadata": {},
   "outputs": [
    {
     "name": "stdout",
     "output_type": "stream",
     "text": [
      "                            OLS Regression Results                            \n",
      "==============================================================================\n",
      "Dep. Variable:              r3.diff()   R-squared:                       0.048\n",
      "Model:                            OLS   Adj. R-squared:                  0.040\n",
      "Method:                 Least Squares   F-statistic:                     6.116\n",
      "Date:                Wed, 21 Oct 2020   Prob (F-statistic):             0.0148\n",
      "Time:                        12:10:16   Log-Likelihood:                -198.80\n",
      "No. Observations:                 123   AIC:                             401.6\n",
      "Df Residuals:                     121   BIC:                             407.2\n",
      "Df Model:                           1                                         \n",
      "Covariance Type:            nonrobust                                         \n",
      "===============================================================================\n",
      "                  coef    std err          t      P>|t|      [0.025      0.975]\n",
      "-------------------------------------------------------------------------------\n",
      "Intercept       0.6253      0.261      2.398      0.018       0.109       1.142\n",
      "r3.shift(1)    -0.0907      0.037     -2.473      0.015      -0.163      -0.018\n",
      "==============================================================================\n",
      "Omnibus:                       35.722   Durbin-Watson:                   2.139\n",
      "Prob(Omnibus):                  0.000   Jarque-Bera (JB):              298.442\n",
      "Skew:                          -0.598   Prob(JB):                     1.56e-65\n",
      "Kurtosis:                      10.537   Cond. No.                         17.0\n",
      "==============================================================================\n",
      "\n",
      "Warnings:\n",
      "[1] Standard Errors assume that the covariance matrix of the errors is correctly specified.\n"
     ]
    }
   ],
   "source": [
    "regdfej18_2 = smf.ols('r3.diff() ~   r3.shift(1)' , data=dfej18_2).fit()\n",
    "print(regdfej18_2.summary())"
   ]
  },
  {
   "cell_type": "code",
   "execution_count": null,
   "metadata": {},
   "outputs": [],
   "source": [
    "# Comentario: se recuerda que los errores estándr reportados no sirven si hay raíz unitaria\n",
    "# El estimador del coeficiente del rezago puede usarse para estimar el ro, sumando una unidad"
   ]
  },
  {
   "cell_type": "code",
   "execution_count": 5,
   "metadata": {},
   "outputs": [
    {
     "data": {
      "text/plain": [
       "0.9092893810799101"
      ]
     },
     "execution_count": 5,
     "metadata": {},
     "output_type": "execute_result"
    }
   ],
   "source": [
    "regdfej18_2.params['r3.shift(1)'] + 1"
   ]
  },
  {
   "cell_type": "code",
   "execution_count": 6,
   "metadata": {},
   "outputs": [],
   "source": [
    "# No puede decirse si es significativamente menor a uno PAra ello hacemos el test de Dickey Fuller\n",
    "# USanos el t de la salida y lo comparamos con los valores de la Tabla Dickey Fuller"
   ]
  },
  {
   "cell_type": "code",
   "execution_count": 7,
   "metadata": {},
   "outputs": [
    {
     "data": {
      "text/plain": [
       "-2.4731506198108684"
      ]
     },
     "execution_count": 7,
     "metadata": {},
     "output_type": "execute_result"
    }
   ],
   "source": [
    "regdfej18_2.tvalues['r3.shift(1)']"
   ]
  },
  {
   "cell_type": "code",
   "execution_count": null,
   "metadata": {},
   "outputs": [],
   "source": [
    "# Ese valor crítico es mayor al valor crítico -2.57 de rechazo al 10% \n",
    "# Por lo tanton no se puede rechazar la H0 de que rho = 1 al 10% de significatividad"
   ]
  },
  {
   "cell_type": "code",
   "execution_count": null,
   "metadata": {},
   "outputs": [],
   "source": [
    "# Es decir, no se tiene evidencia contra la H0 (no es que se acepte que ro = 1 )"
   ]
  },
  {
   "cell_type": "code",
   "execution_count": null,
   "metadata": {},
   "outputs": [],
   "source": [
    "# Entocnes, lo que se concluye es que debe tenerse mucho cuidado en el uso de la variable r3 en una regresión y que por ejemplo\n",
    "# podría usarse la diferencia de r3 "
   ]
  },
  {
   "cell_type": "code",
   "execution_count": null,
   "metadata": {},
   "outputs": [],
   "source": [
    "# Test Dickey Fuller Aumentado"
   ]
  },
  {
   "cell_type": "markdown",
   "metadata": {},
   "source": [
    "## Ejemplo 18.3 Contraste de ruíz unitaria para la inflación anual en EE.UU (phillips.dta)"
   ]
  },
  {
   "cell_type": "code",
   "execution_count": 17,
   "metadata": {},
   "outputs": [
    {
     "data": {
      "text/html": [
       "<div>\n",
       "<style scoped>\n",
       "    .dataframe tbody tr th:only-of-type {\n",
       "        vertical-align: middle;\n",
       "    }\n",
       "\n",
       "    .dataframe tbody tr th {\n",
       "        vertical-align: top;\n",
       "    }\n",
       "\n",
       "    .dataframe thead th {\n",
       "        text-align: right;\n",
       "    }\n",
       "</style>\n",
       "<table border=\"1\" class=\"dataframe\">\n",
       "  <thead>\n",
       "    <tr style=\"text-align: right;\">\n",
       "      <th></th>\n",
       "      <th>year</th>\n",
       "      <th>unem</th>\n",
       "      <th>inf</th>\n",
       "      <th>unem_1</th>\n",
       "      <th>inf_1</th>\n",
       "      <th>unem_2</th>\n",
       "      <th>inf_2</th>\n",
       "      <th>cunem</th>\n",
       "      <th>cinf</th>\n",
       "      <th>cunem_1</th>\n",
       "      <th>cinf_1</th>\n",
       "    </tr>\n",
       "  </thead>\n",
       "  <tbody>\n",
       "    <tr>\n",
       "      <th>0</th>\n",
       "      <td>1948</td>\n",
       "      <td>3.8</td>\n",
       "      <td>8.1</td>\n",
       "      <td>NaN</td>\n",
       "      <td>NaN</td>\n",
       "      <td>NaN</td>\n",
       "      <td>NaN</td>\n",
       "      <td>NaN</td>\n",
       "      <td>NaN</td>\n",
       "      <td>NaN</td>\n",
       "      <td>NaN</td>\n",
       "    </tr>\n",
       "    <tr>\n",
       "      <th>1</th>\n",
       "      <td>1949</td>\n",
       "      <td>5.9</td>\n",
       "      <td>-1.2</td>\n",
       "      <td>3.8</td>\n",
       "      <td>8.1</td>\n",
       "      <td>NaN</td>\n",
       "      <td>NaN</td>\n",
       "      <td>2.1</td>\n",
       "      <td>-9.3</td>\n",
       "      <td>NaN</td>\n",
       "      <td>NaN</td>\n",
       "    </tr>\n",
       "    <tr>\n",
       "      <th>2</th>\n",
       "      <td>1950</td>\n",
       "      <td>5.3</td>\n",
       "      <td>1.3</td>\n",
       "      <td>5.9</td>\n",
       "      <td>-1.2</td>\n",
       "      <td>3.8</td>\n",
       "      <td>8.1</td>\n",
       "      <td>-0.6</td>\n",
       "      <td>2.5</td>\n",
       "      <td>2.1</td>\n",
       "      <td>-9.3</td>\n",
       "    </tr>\n",
       "    <tr>\n",
       "      <th>3</th>\n",
       "      <td>1951</td>\n",
       "      <td>3.3</td>\n",
       "      <td>7.9</td>\n",
       "      <td>5.3</td>\n",
       "      <td>1.3</td>\n",
       "      <td>5.9</td>\n",
       "      <td>-1.2</td>\n",
       "      <td>-2.0</td>\n",
       "      <td>6.6</td>\n",
       "      <td>-0.6</td>\n",
       "      <td>2.5</td>\n",
       "    </tr>\n",
       "    <tr>\n",
       "      <th>4</th>\n",
       "      <td>1952</td>\n",
       "      <td>3.0</td>\n",
       "      <td>1.9</td>\n",
       "      <td>3.3</td>\n",
       "      <td>7.9</td>\n",
       "      <td>5.3</td>\n",
       "      <td>1.3</td>\n",
       "      <td>-0.3</td>\n",
       "      <td>-6.0</td>\n",
       "      <td>-2.0</td>\n",
       "      <td>6.6</td>\n",
       "    </tr>\n",
       "  </tbody>\n",
       "</table>\n",
       "</div>"
      ],
      "text/plain": [
       "   year  unem  inf  unem_1  inf_1  unem_2  inf_2  cunem  cinf  cunem_1  cinf_1\n",
       "0  1948   3.8  8.1     NaN    NaN     NaN    NaN    NaN   NaN      NaN     NaN\n",
       "1  1949   5.9 -1.2     3.8    8.1     NaN    NaN    2.1  -9.3      NaN     NaN\n",
       "2  1950   5.3  1.3     5.9   -1.2     3.8    8.1   -0.6   2.5      2.1    -9.3\n",
       "3  1951   3.3  7.9     5.3    1.3     5.9   -1.2   -2.0   6.6     -0.6     2.5\n",
       "4  1952   3.0  1.9     3.3    7.9     5.3    1.3   -0.3  -6.0     -2.0     6.6"
      ]
     },
     "execution_count": 17,
     "metadata": {},
     "output_type": "execute_result"
    }
   ],
   "source": [
    "dfej18_3 = pd.read_stata('phillips.dta')\n",
    "dfej18_3.head()"
   ]
  },
  {
   "cell_type": "code",
   "execution_count": 18,
   "metadata": {},
   "outputs": [
    {
     "data": {
      "text/html": [
       "<div>\n",
       "<style scoped>\n",
       "    .dataframe tbody tr th:only-of-type {\n",
       "        vertical-align: middle;\n",
       "    }\n",
       "\n",
       "    .dataframe tbody tr th {\n",
       "        vertical-align: top;\n",
       "    }\n",
       "\n",
       "    .dataframe thead th {\n",
       "        text-align: right;\n",
       "    }\n",
       "</style>\n",
       "<table border=\"1\" class=\"dataframe\">\n",
       "  <thead>\n",
       "    <tr style=\"text-align: right;\">\n",
       "      <th></th>\n",
       "      <th>year</th>\n",
       "      <th>unem</th>\n",
       "      <th>inf</th>\n",
       "      <th>unem_1</th>\n",
       "      <th>inf_1</th>\n",
       "      <th>unem_2</th>\n",
       "      <th>inf_2</th>\n",
       "      <th>cunem</th>\n",
       "      <th>cinf</th>\n",
       "      <th>cunem_1</th>\n",
       "      <th>cinf_1</th>\n",
       "    </tr>\n",
       "  </thead>\n",
       "  <tbody>\n",
       "    <tr>\n",
       "      <th>44</th>\n",
       "      <td>1992</td>\n",
       "      <td>7.5</td>\n",
       "      <td>3.0</td>\n",
       "      <td>6.8</td>\n",
       "      <td>4.2</td>\n",
       "      <td>5.6</td>\n",
       "      <td>5.4</td>\n",
       "      <td>0.7</td>\n",
       "      <td>-1.2</td>\n",
       "      <td>1.2</td>\n",
       "      <td>-1.2</td>\n",
       "    </tr>\n",
       "    <tr>\n",
       "      <th>45</th>\n",
       "      <td>1993</td>\n",
       "      <td>6.9</td>\n",
       "      <td>3.0</td>\n",
       "      <td>7.5</td>\n",
       "      <td>3.0</td>\n",
       "      <td>6.8</td>\n",
       "      <td>4.2</td>\n",
       "      <td>-0.6</td>\n",
       "      <td>0.0</td>\n",
       "      <td>0.7</td>\n",
       "      <td>-1.2</td>\n",
       "    </tr>\n",
       "    <tr>\n",
       "      <th>46</th>\n",
       "      <td>1994</td>\n",
       "      <td>6.1</td>\n",
       "      <td>2.6</td>\n",
       "      <td>6.9</td>\n",
       "      <td>3.0</td>\n",
       "      <td>7.5</td>\n",
       "      <td>3.0</td>\n",
       "      <td>-0.8</td>\n",
       "      <td>-0.4</td>\n",
       "      <td>-0.6</td>\n",
       "      <td>0.0</td>\n",
       "    </tr>\n",
       "    <tr>\n",
       "      <th>47</th>\n",
       "      <td>1995</td>\n",
       "      <td>5.6</td>\n",
       "      <td>2.8</td>\n",
       "      <td>6.1</td>\n",
       "      <td>2.6</td>\n",
       "      <td>6.9</td>\n",
       "      <td>3.0</td>\n",
       "      <td>-0.5</td>\n",
       "      <td>0.2</td>\n",
       "      <td>-0.8</td>\n",
       "      <td>-0.4</td>\n",
       "    </tr>\n",
       "    <tr>\n",
       "      <th>48</th>\n",
       "      <td>1996</td>\n",
       "      <td>5.4</td>\n",
       "      <td>3.0</td>\n",
       "      <td>5.6</td>\n",
       "      <td>2.8</td>\n",
       "      <td>6.1</td>\n",
       "      <td>2.6</td>\n",
       "      <td>-0.2</td>\n",
       "      <td>0.2</td>\n",
       "      <td>-0.5</td>\n",
       "      <td>0.2</td>\n",
       "    </tr>\n",
       "  </tbody>\n",
       "</table>\n",
       "</div>"
      ],
      "text/plain": [
       "    year  unem  inf  unem_1  inf_1  unem_2  inf_2  cunem  cinf  cunem_1  \\\n",
       "44  1992   7.5  3.0     6.8    4.2     5.6    5.4    0.7  -1.2      1.2   \n",
       "45  1993   6.9  3.0     7.5    3.0     6.8    4.2   -0.6   0.0      0.7   \n",
       "46  1994   6.1  2.6     6.9    3.0     7.5    3.0   -0.8  -0.4     -0.6   \n",
       "47  1995   5.6  2.8     6.1    2.6     6.9    3.0   -0.5   0.2     -0.8   \n",
       "48  1996   5.4  3.0     5.6    2.8     6.1    2.6   -0.2   0.2     -0.5   \n",
       "\n",
       "    cinf_1  \n",
       "44    -1.2  \n",
       "45    -1.2  \n",
       "46     0.0  \n",
       "47    -0.4  \n",
       "48     0.2  "
      ]
     },
     "execution_count": 18,
     "metadata": {},
     "output_type": "execute_result"
    }
   ],
   "source": [
    "dfej18_3.tail()"
   ]
  },
  {
   "cell_type": "code",
   "execution_count": 30,
   "metadata": {},
   "outputs": [],
   "source": [
    "inflation = dfej18_3['inf']"
   ]
  },
  {
   "cell_type": "code",
   "execution_count": null,
   "metadata": {},
   "outputs": [],
   "source": [
    "# Con datos anuales de inflación, IPC, se testea raíz unitaria, con un rezago de la diferencia en la regresión DF Aumentada"
   ]
  },
  {
   "cell_type": "code",
   "execution_count": 17,
   "metadata": {},
   "outputs": [
    {
     "name": "stdout",
     "output_type": "stream",
     "text": [
      "                            OLS Regression Results                            \n",
      "==============================================================================\n",
      "Dep. Variable:       inflation.diff()   R-squared:                       0.172\n",
      "Model:                            OLS   Adj. R-squared:                  0.134\n",
      "Method:                 Least Squares   F-statistic:                     4.568\n",
      "Date:                Sat, 17 Oct 2020   Prob (F-statistic):             0.0158\n",
      "Time:                        19:14:41   Log-Likelihood:                -98.885\n",
      "No. Observations:                  47   AIC:                             203.8\n",
      "Df Residuals:                      44   BIC:                             209.3\n",
      "Df Model:                           2                                         \n",
      "Covariance Type:            nonrobust                                         \n",
      "============================================================================================\n",
      "                               coef    std err          t      P>|t|      [0.025      0.975]\n",
      "--------------------------------------------------------------------------------------------\n",
      "Intercept                    1.3608      0.517      2.634      0.012       0.319       2.402\n",
      "inflation.shift(1)          -0.3103      0.103     -3.021      0.004      -0.517      -0.103\n",
      "inflation.diff().shift()     0.1384      0.126      1.095      0.280      -0.116       0.393\n",
      "==============================================================================\n",
      "Omnibus:                        7.380   Durbin-Watson:                   1.661\n",
      "Prob(Omnibus):                  0.025   Jarque-Bera (JB):                7.846\n",
      "Skew:                           0.547   Prob(JB):                       0.0198\n",
      "Kurtosis:                       4.676   Cond. No.                         9.18\n",
      "==============================================================================\n",
      "\n",
      "Warnings:\n",
      "[1] Standard Errors assume that the covariance matrix of the errors is correctly specified.\n"
     ]
    }
   ],
   "source": [
    "regdfej18_3 = smf.ols('inflation.diff() ~   inflation.shift(1) +inflation.diff().shift()' , data=dfej18_3).fit()\n",
    "print(regdfej18_3.summary())"
   ]
  },
  {
   "cell_type": "code",
   "execution_count": null,
   "metadata": {},
   "outputs": [],
   "source": [
    "# Comentarios: El t de la variable rezagada , del theta, es menor al valor de la Tabla -2.86 al 5%  "
   ]
  },
  {
   "cell_type": "code",
   "execution_count": 18,
   "metadata": {},
   "outputs": [
    {
     "data": {
      "text/plain": [
       "-3.02144118344197"
      ]
     },
     "execution_count": 18,
     "metadata": {},
     "output_type": "execute_result"
    }
   ],
   "source": [
    "regdfej18_3.tvalues['inflation.shift(1)']"
   ]
  },
  {
   "cell_type": "code",
   "execution_count": null,
   "metadata": {},
   "outputs": [],
   "source": [
    "# Se rechaza la H0 , con una estimación de ro de aproximadamente 0.690"
   ]
  },
  {
   "cell_type": "code",
   "execution_count": 20,
   "metadata": {},
   "outputs": [
    {
     "data": {
      "text/plain": [
       "0.6896747685117396"
      ]
     },
     "execution_count": 20,
     "metadata": {},
     "output_type": "execute_result"
    }
   ],
   "source": [
    "regdfej18_3.params['inflation.shift(1)']+1"
   ]
  },
  {
   "cell_type": "code",
   "execution_count": null,
   "metadata": {},
   "outputs": [],
   "source": [
    "# Hay evidencia contra la raíz unitaria de la variable inclación"
   ]
  },
  {
   "cell_type": "code",
   "execution_count": null,
   "metadata": {},
   "outputs": [],
   "source": [
    "# El t del rezago de la variación "
   ]
  },
  {
   "cell_type": "code",
   "execution_count": 21,
   "metadata": {},
   "outputs": [
    {
     "data": {
      "text/plain": [
       "1.0946096572743615"
      ]
     },
     "execution_count": 21,
     "metadata": {},
     "output_type": "execute_result"
    }
   ],
   "source": [
    "regdfej18_3.tvalues['inflation.diff().shift()']"
   ]
  },
  {
   "cell_type": "code",
   "execution_count": null,
   "metadata": {},
   "outputs": [],
   "source": [
    "# siendo no significativo, por lo que parece no necesario incluuirlo. Probamos la regresión sin rezago"
   ]
  },
  {
   "cell_type": "code",
   "execution_count": 22,
   "metadata": {},
   "outputs": [
    {
     "name": "stdout",
     "output_type": "stream",
     "text": [
      "                            OLS Regression Results                            \n",
      "==============================================================================\n",
      "Dep. Variable:       inflation.diff()   R-squared:                       0.175\n",
      "Model:                            OLS   Adj. R-squared:                  0.158\n",
      "Method:                 Least Squares   F-statistic:                     9.790\n",
      "Date:                Sat, 17 Oct 2020   Prob (F-statistic):            0.00304\n",
      "Time:                        20:05:01   Log-Likelihood:                -108.22\n",
      "No. Observations:                  48   AIC:                             220.4\n",
      "Df Residuals:                      46   BIC:                             224.2\n",
      "Df Model:                           1                                         \n",
      "Covariance Type:            nonrobust                                         \n",
      "======================================================================================\n",
      "                         coef    std err          t      P>|t|      [0.025      0.975]\n",
      "--------------------------------------------------------------------------------------\n",
      "Intercept              1.2767      0.558      2.289      0.027       0.154       2.399\n",
      "inflation.shift(1)    -0.3347      0.107     -3.129      0.003      -0.550      -0.119\n",
      "==============================================================================\n",
      "Omnibus:                        7.544   Durbin-Watson:                   1.432\n",
      "Prob(Omnibus):                  0.023   Jarque-Bera (JB):               14.154\n",
      "Skew:                          -0.029   Prob(JB):                     0.000844\n",
      "Kurtosis:                       5.660   Cond. No.                         8.75\n",
      "==============================================================================\n",
      "\n",
      "Warnings:\n",
      "[1] Standard Errors assume that the covariance matrix of the errors is correctly specified.\n"
     ]
    }
   ],
   "source": [
    "regdfej18_3a = smf.ols('inflation.diff() ~   inflation.shift(1) ' , data=dfej18_3).fit()\n",
    "print(regdfej18_3a.summary())"
   ]
  },
  {
   "cell_type": "code",
   "execution_count": null,
   "metadata": {},
   "outputs": [],
   "source": [
    "# Comentario: Ahora el theta es  "
   ]
  },
  {
   "cell_type": "code",
   "execution_count": 24,
   "metadata": {},
   "outputs": [
    {
     "data": {
      "text/plain": [
       "-0.334741405591961"
      ]
     },
     "execution_count": 24,
     "metadata": {},
     "output_type": "execute_result"
    }
   ],
   "source": [
    "regdfej18_3a.params['inflation.shift(1)']"
   ]
  },
  {
   "cell_type": "code",
   "execution_count": null,
   "metadata": {},
   "outputs": [],
   "source": [
    "# y e ro"
   ]
  },
  {
   "cell_type": "code",
   "execution_count": 25,
   "metadata": {},
   "outputs": [
    {
     "data": {
      "text/plain": [
       "0.6652585944080389"
      ]
     },
     "execution_count": 25,
     "metadata": {},
     "output_type": "execute_result"
    }
   ],
   "source": [
    "regdfej18_3a.params['inflation.shift(1)']+1"
   ]
  },
  {
   "cell_type": "code",
   "execution_count": 26,
   "metadata": {},
   "outputs": [],
   "source": [
    "# y el t es "
   ]
  },
  {
   "cell_type": "code",
   "execution_count": 27,
   "metadata": {},
   "outputs": [
    {
     "data": {
      "text/plain": [
       "-3.128952279296516"
      ]
     },
     "execution_count": 27,
     "metadata": {},
     "output_type": "execute_result"
    }
   ],
   "source": [
    "regdfej18_3a.tvalues['inflation.shift(1)']"
   ]
  },
  {
   "cell_type": "code",
   "execution_count": null,
   "metadata": {},
   "outputs": [],
   "source": [
    "# Lo que da mayor robustez a la evidencia contra la raíz untaria si no incluimos el rezago de la variación"
   ]
  },
  {
   "cell_type": "code",
   "execution_count": null,
   "metadata": {},
   "outputs": [],
   "source": [
    "# Test Dickey Fuller con tendencia no estocástica"
   ]
  },
  {
   "cell_type": "markdown",
   "metadata": {},
   "source": [
    "## Ejemplo 18.4 Raíz unltaria en el logaritmo del producto lnterior bruto de EE.UU (inven.dta)"
   ]
  },
  {
   "cell_type": "code",
   "execution_count": 28,
   "metadata": {
    "scrolled": true
   },
   "outputs": [
    {
     "data": {
      "text/html": [
       "<div>\n",
       "<style scoped>\n",
       "    .dataframe tbody tr th:only-of-type {\n",
       "        vertical-align: middle;\n",
       "    }\n",
       "\n",
       "    .dataframe tbody tr th {\n",
       "        vertical-align: top;\n",
       "    }\n",
       "\n",
       "    .dataframe thead th {\n",
       "        text-align: right;\n",
       "    }\n",
       "</style>\n",
       "<table border=\"1\" class=\"dataframe\">\n",
       "  <thead>\n",
       "    <tr style=\"text-align: right;\">\n",
       "      <th></th>\n",
       "      <th>year</th>\n",
       "      <th>i3</th>\n",
       "      <th>inf</th>\n",
       "      <th>inven</th>\n",
       "      <th>gdp</th>\n",
       "      <th>r3</th>\n",
       "      <th>cinven</th>\n",
       "      <th>cgdp</th>\n",
       "      <th>cr3</th>\n",
       "      <th>ci3</th>\n",
       "      <th>cinf</th>\n",
       "      <th>ginven</th>\n",
       "      <th>ggdp</th>\n",
       "    </tr>\n",
       "  </thead>\n",
       "  <tbody>\n",
       "    <tr>\n",
       "      <th>0</th>\n",
       "      <td>1959</td>\n",
       "      <td>3.41</td>\n",
       "      <td>0.7</td>\n",
       "      <td>401.399994</td>\n",
       "      <td>2212.300049</td>\n",
       "      <td>2.71</td>\n",
       "      <td>NaN</td>\n",
       "      <td>NaN</td>\n",
       "      <td>NaN</td>\n",
       "      <td>NaN</td>\n",
       "      <td>NaN</td>\n",
       "      <td>NaN</td>\n",
       "      <td>NaN</td>\n",
       "    </tr>\n",
       "    <tr>\n",
       "      <th>1</th>\n",
       "      <td>1960</td>\n",
       "      <td>2.93</td>\n",
       "      <td>1.7</td>\n",
       "      <td>412.000000</td>\n",
       "      <td>2261.699951</td>\n",
       "      <td>1.23</td>\n",
       "      <td>10.600006</td>\n",
       "      <td>49.399902</td>\n",
       "      <td>-1.48</td>\n",
       "      <td>-0.48</td>\n",
       "      <td>1.0</td>\n",
       "      <td>0.026065</td>\n",
       "      <td>0.022084</td>\n",
       "    </tr>\n",
       "    <tr>\n",
       "      <th>2</th>\n",
       "      <td>1961</td>\n",
       "      <td>2.38</td>\n",
       "      <td>1.0</td>\n",
       "      <td>420.899994</td>\n",
       "      <td>2309.800049</td>\n",
       "      <td>1.38</td>\n",
       "      <td>8.899994</td>\n",
       "      <td>48.100098</td>\n",
       "      <td>0.15</td>\n",
       "      <td>-0.55</td>\n",
       "      <td>-0.7</td>\n",
       "      <td>0.021372</td>\n",
       "      <td>0.021044</td>\n",
       "    </tr>\n",
       "    <tr>\n",
       "      <th>3</th>\n",
       "      <td>1962</td>\n",
       "      <td>2.78</td>\n",
       "      <td>1.0</td>\n",
       "      <td>440.899994</td>\n",
       "      <td>2449.100098</td>\n",
       "      <td>1.78</td>\n",
       "      <td>20.000000</td>\n",
       "      <td>139.300049</td>\n",
       "      <td>0.40</td>\n",
       "      <td>0.40</td>\n",
       "      <td>0.0</td>\n",
       "      <td>0.046423</td>\n",
       "      <td>0.058560</td>\n",
       "    </tr>\n",
       "    <tr>\n",
       "      <th>4</th>\n",
       "      <td>1963</td>\n",
       "      <td>3.16</td>\n",
       "      <td>1.3</td>\n",
       "      <td>459.000000</td>\n",
       "      <td>2554.000000</td>\n",
       "      <td>1.86</td>\n",
       "      <td>18.100006</td>\n",
       "      <td>104.899902</td>\n",
       "      <td>0.08</td>\n",
       "      <td>0.38</td>\n",
       "      <td>0.3</td>\n",
       "      <td>0.040232</td>\n",
       "      <td>0.041940</td>\n",
       "    </tr>\n",
       "  </tbody>\n",
       "</table>\n",
       "</div>"
      ],
      "text/plain": [
       "   year    i3  inf       inven          gdp    r3     cinven        cgdp  \\\n",
       "0  1959  3.41  0.7  401.399994  2212.300049  2.71        NaN         NaN   \n",
       "1  1960  2.93  1.7  412.000000  2261.699951  1.23  10.600006   49.399902   \n",
       "2  1961  2.38  1.0  420.899994  2309.800049  1.38   8.899994   48.100098   \n",
       "3  1962  2.78  1.0  440.899994  2449.100098  1.78  20.000000  139.300049   \n",
       "4  1963  3.16  1.3  459.000000  2554.000000  1.86  18.100006  104.899902   \n",
       "\n",
       "    cr3   ci3  cinf    ginven      ggdp  \n",
       "0   NaN   NaN   NaN       NaN       NaN  \n",
       "1 -1.48 -0.48   1.0  0.026065  0.022084  \n",
       "2  0.15 -0.55  -0.7  0.021372  0.021044  \n",
       "3  0.40  0.40   0.0  0.046423  0.058560  \n",
       "4  0.08  0.38   0.3  0.040232  0.041940  "
      ]
     },
     "execution_count": 28,
     "metadata": {},
     "output_type": "execute_result"
    }
   ],
   "source": [
    "dfej18_4 = pd.read_stata('inven.dta')\n",
    "dfej18_4.head()"
   ]
  },
  {
   "cell_type": "code",
   "execution_count": null,
   "metadata": {},
   "outputs": [],
   "source": [
    "# A la serie del log(GDP) se busca testear raíz unitaria con tendencia no estocástica\n",
    "# La serie tiene una tendencia que parece lineal"
   ]
  },
  {
   "cell_type": "code",
   "execution_count": 33,
   "metadata": {},
   "outputs": [
    {
     "data": {
      "text/plain": [
       "<matplotlib.axes._subplots.AxesSubplot at 0xe5694f0>"
      ]
     },
     "execution_count": 33,
     "metadata": {},
     "output_type": "execute_result"
    },
    {
     "data": {
      "image/png": "[encoded data removed]",
      "text/plain": [
       "<Figure size 432x288 with 1 Axes>"
      ]
     },
     "metadata": {},
     "output_type": "display_data"
    }
   ],
   "source": [
    "dfej18_4.gdp.plot()"
   ]
  },
  {
   "cell_type": "code",
   "execution_count": null,
   "metadata": {},
   "outputs": [],
   "source": [
    "# Se inlcuye un solo rezago de la varaición del logaritmo , que es simplemente la tasa de crecimiento\n",
    "# para dar cuenta de la dinámica"
   ]
  },
  {
   "cell_type": "code",
   "execution_count": null,
   "metadata": {},
   "outputs": [],
   "source": [
    "# ggdp es la tasa de crecimiento que es igual que la variación del logaritmo "
   ]
  },
  {
   "cell_type": "code",
   "execution_count": 29,
   "metadata": {},
   "outputs": [
    {
     "name": "stdout",
     "output_type": "stream",
     "text": [
      "                            OLS Regression Results                            \n",
      "==============================================================================\n",
      "Dep. Variable:                   ggdp   R-squared:                       0.268\n",
      "Model:                            OLS   Adj. R-squared:                  0.197\n",
      "Method:                 Least Squares   F-statistic:                     3.783\n",
      "Date:                Sat, 17 Oct 2020   Prob (F-statistic):             0.0201\n",
      "Time:                        23:18:26   Log-Likelihood:                 89.183\n",
      "No. Observations:                  35   AIC:                            -170.4\n",
      "Df Residuals:                      31   BIC:                            -164.1\n",
      "Df Model:                           3                                         \n",
      "Covariance Type:            nonrobust                                         \n",
      "========================================================================================\n",
      "                           coef    std err          t      P>|t|      [0.025      0.975]\n",
      "----------------------------------------------------------------------------------------\n",
      "Intercept               -9.8418      4.620     -2.130      0.041     -19.265      -0.419\n",
      "year                     0.0059      0.003      2.177      0.037       0.000       0.011\n",
      "np.log(gdp.shift(1))    -0.2096      0.087     -2.421      0.022      -0.386      -0.033\n",
      "ggdp.shift(1)            0.2638      0.165      1.601      0.120      -0.072       0.600\n",
      "==============================================================================\n",
      "Omnibus:                        2.173   Durbin-Watson:                   1.981\n",
      "Prob(Omnibus):                  0.337   Jarque-Bera (JB):                2.004\n",
      "Skew:                          -0.537   Prob(JB):                        0.367\n",
      "Kurtosis:                       2.531   Cond. No.                     2.69e+06\n",
      "==============================================================================\n",
      "\n",
      "Warnings:\n",
      "[1] Standard Errors assume that the covariance matrix of the errors is correctly specified.\n",
      "[2] The condition number is large, 2.69e+06. This might indicate that there are\n",
      "strong multicollinearity or other numerical problems.\n"
     ]
    }
   ],
   "source": [
    "regdfej18_4 = smf.ols('ggdp ~   year + np.log(gdp.shift(1)) + ggdp.shift(1)' , data=dfej18_4).fit()\n",
    "print(regdfej18_4.summary())"
   ]
  },
  {
   "cell_type": "raw",
   "metadata": {},
   "source": [
    "# Comentarios :  El ro, vimos que se obtiene sumando 1 al theta , es "
   ]
  },
  {
   "cell_type": "code",
   "execution_count": 35,
   "metadata": {},
   "outputs": [
    {
     "data": {
      "text/plain": [
       "0.7903790762943923"
      ]
     },
     "execution_count": 35,
     "metadata": {},
     "output_type": "execute_result"
    }
   ],
   "source": [
    "regdfej18_4.params['np.log(gdp.shift(1))'] + 1"
   ]
  },
  {
   "cell_type": "code",
   "execution_count": null,
   "metadata": {},
   "outputs": [],
   "source": [
    "# que es claramente menor a 1, pero no puede rechazarse la H0 pues la significatividad está muy a derecha del crítico\n",
    "# al 10% , -3.12"
   ]
  },
  {
   "cell_type": "code",
   "execution_count": 36,
   "metadata": {},
   "outputs": [
    {
     "data": {
      "text/plain": [
       "-2.42073296245074"
      ]
     },
     "execution_count": 36,
     "metadata": {},
     "output_type": "execute_result"
    }
   ],
   "source": [
    "regdfej18_4.tvalues['np.log(gdp.shift(1))']"
   ]
  },
  {
   "cell_type": "code",
   "execution_count": null,
   "metadata": {},
   "outputs": [],
   "source": [
    "# La varaición rezagada del logaritmo , tiene baja significatividad"
   ]
  },
  {
   "cell_type": "code",
   "execution_count": 37,
   "metadata": {},
   "outputs": [
    {
     "data": {
      "text/plain": [
       "1.6010171110850409"
      ]
     },
     "execution_count": 37,
     "metadata": {},
     "output_type": "execute_result"
    }
   ],
   "source": [
    "regdfej18_4.tvalues['ggdp.shift(1)']"
   ]
  },
  {
   "cell_type": "code",
   "execution_count": 38,
   "metadata": {},
   "outputs": [
    {
     "data": {
      "text/plain": [
       "0.11951607850544346"
      ]
     },
     "execution_count": 38,
     "metadata": {},
     "output_type": "execute_result"
    }
   ],
   "source": [
    "regdfej18_4.pvalues['ggdp.shift(1)']"
   ]
  },
  {
   "cell_type": "code",
   "execution_count": null,
   "metadata": {},
   "outputs": [],
   "source": [
    "# En conclusión no puede rechazarse H0 pero el estimador puntual no está muy cerca de 1. Esto es por el tamaño pequeño\n",
    "# de muestra"
   ]
  },
  {
   "cell_type": "code",
   "execution_count": null,
   "metadata": {},
   "outputs": [],
   "source": [
    "# En general se supone que esto indicaría que el log(dgp) es I(1) y que el crecimiento en GPD es I(0) pero los tamaño de \n",
    "# muestras no permiten confiar en esas conlcusiones "
   ]
  },
  {
   "cell_type": "code",
   "execution_count": null,
   "metadata": {},
   "outputs": [],
   "source": [
    "# Si se saca la tendencia de la regresión"
   ]
  },
  {
   "cell_type": "code",
   "execution_count": 39,
   "metadata": {},
   "outputs": [
    {
     "name": "stdout",
     "output_type": "stream",
     "text": [
      "                            OLS Regression Results                            \n",
      "==============================================================================\n",
      "Dep. Variable:                   ggdp   R-squared:                       0.156\n",
      "Model:                            OLS   Adj. R-squared:                  0.103\n",
      "Method:                 Least Squares   F-statistic:                     2.959\n",
      "Date:                Sat, 17 Oct 2020   Prob (F-statistic):             0.0662\n",
      "Time:                        23:43:00   Log-Likelihood:                 86.693\n",
      "No. Observations:                  35   AIC:                            -167.4\n",
      "Df Residuals:                      32   BIC:                            -162.7\n",
      "Df Model:                           2                                         \n",
      "Covariance Type:            nonrobust                                         \n",
      "========================================================================================\n",
      "                           coef    std err          t      P>|t|      [0.025      0.975]\n",
      "----------------------------------------------------------------------------------------\n",
      "Intercept                0.2149      0.100      2.139      0.040       0.010       0.420\n",
      "np.log(gdp.shift(1))    -0.0227      0.012     -1.908      0.065      -0.047       0.002\n",
      "ggdp.shift(1)            0.1672      0.168      0.997      0.326      -0.174       0.509\n",
      "==============================================================================\n",
      "Omnibus:                        3.458   Durbin-Watson:                   1.935\n",
      "Prob(Omnibus):                  0.178   Jarque-Bera (JB):                3.082\n",
      "Skew:                          -0.712   Prob(JB):                        0.214\n",
      "Kurtosis:                       2.708   Cond. No.                         400.\n",
      "==============================================================================\n",
      "\n",
      "Warnings:\n",
      "[1] Standard Errors assume that the covariance matrix of the errors is correctly specified.\n"
     ]
    }
   ],
   "source": [
    "regdfej18_4a = smf.ols('ggdp ~    np.log(gdp.shift(1)) + ggdp.shift(1)' , data=dfej18_4).fit()\n",
    "print(regdfej18_4a.summary())"
   ]
  },
  {
   "cell_type": "code",
   "execution_count": 40,
   "metadata": {},
   "outputs": [
    {
     "data": {
      "text/plain": [
       "-0.022687541771458253"
      ]
     },
     "execution_count": 40,
     "metadata": {},
     "output_type": "execute_result"
    }
   ],
   "source": [
    "regdfej18_4a.params['np.log(gdp.shift(1))']"
   ]
  },
  {
   "cell_type": "code",
   "execution_count": 41,
   "metadata": {},
   "outputs": [
    {
     "data": {
      "text/plain": [
       "-1.9082138265184063"
      ]
     },
     "execution_count": 41,
     "metadata": {},
     "output_type": "execute_result"
    }
   ],
   "source": [
    "regdfej18_4a.tvalues['np.log(gdp.shift(1))']"
   ]
  },
  {
   "cell_type": "code",
   "execution_count": null,
   "metadata": {},
   "outputs": [],
   "source": [
    "# Hay menos evidencia contra la H0 y el rho se acerca ás al 1"
   ]
  },
  {
   "cell_type": "code",
   "execution_count": 42,
   "metadata": {},
   "outputs": [
    {
     "data": {
      "text/plain": [
       "0.9773124582285417"
      ]
     },
     "execution_count": 42,
     "metadata": {},
     "output_type": "execute_result"
    }
   ],
   "source": [
    "regdfej18_4a.params['np.log(gdp.shift(1))']+1"
   ]
  },
  {
   "cell_type": "code",
   "execution_count": null,
   "metadata": {},
   "outputs": [],
   "source": [
    "# pero eso en engañoso pro la tendencia omitida"
   ]
  },
  {
   "cell_type": "code",
   "execution_count": null,
   "metadata": {},
   "outputs": [],
   "source": []
  },
  {
   "cell_type": "code",
   "execution_count": 11,
   "metadata": {},
   "outputs": [
    {
     "name": "stdout",
     "output_type": "stream",
     "text": [
      "table: \n",
      "   names       b      se       t    pval\n",
      "0     x1 -0.2096  0.0866 -2.4207  0.0215\n",
      "1     x2  0.2637  0.1647  1.6010  0.1195\n",
      "2  const  1.6627  0.6717  2.4752  0.0190\n",
      "3     x3  0.0059  0.0027  2.1772  0.0372\n",
      "\n",
      "ADF_stat_aut: -2.4207219969767375\n",
      "\n",
      "ADF_pval_aut: 0.36866156928030924\n",
      "\n"
     ]
    }
   ],
   "source": [
    "dfej18_4['lgdp'] = np.log(dfej18_4['gdp'])\n",
    "\n",
    "# automated ADF:\n",
    "res_ADF_aut = sm.tsa.stattools.adfuller(dfej18_4['lgdp'], maxlag=1, autolag=None,\n",
    "                                        regression='ct', regresults=True)\n",
    "ADF_stat_aut = res_ADF_aut[0]\n",
    "ADF_pval_aut = res_ADF_aut[1]\n",
    "table = pd.DataFrame({'names': res_ADF_aut[3].resols.model.exog_names,\n",
    "                      'b': np.round(res_ADF_aut[3].resols.params, 4),\n",
    "                      'se': np.round(res_ADF_aut[3].resols.bse, 4),\n",
    "                      't': np.round(res_ADF_aut[3].resols.tvalues, 4),\n",
    "                      'pval': np.round(res_ADF_aut[3].resols.pvalues, 4)})\n",
    "print(f'table: \\n{table}\\n')\n",
    "print(f'ADF_stat_aut: {ADF_stat_aut}\\n')\n",
    "print(f'ADF_pval_aut: {ADF_pval_aut}\\n')\n"
   ]
  },
  {
   "cell_type": "markdown",
   "metadata": {},
   "source": [
    "## Ejemplo 18.5 Análisis de cointegración entre fertilidad y exención fiscal personal (fertil3.dta)"
   ]
  },
  {
   "cell_type": "code",
   "execution_count": 34,
   "metadata": {
    "scrolled": true
   },
   "outputs": [
    {
     "data": {
      "text/html": [
       "<div>\n",
       "<style scoped>\n",
       "    .dataframe tbody tr th:only-of-type {\n",
       "        vertical-align: middle;\n",
       "    }\n",
       "\n",
       "    .dataframe tbody tr th {\n",
       "        vertical-align: top;\n",
       "    }\n",
       "\n",
       "    .dataframe thead th {\n",
       "        text-align: right;\n",
       "    }\n",
       "</style>\n",
       "<table border=\"1\" class=\"dataframe\">\n",
       "  <thead>\n",
       "    <tr style=\"text-align: right;\">\n",
       "      <th></th>\n",
       "      <th>gfr</th>\n",
       "      <th>pe</th>\n",
       "      <th>year</th>\n",
       "      <th>t</th>\n",
       "      <th>tsq</th>\n",
       "      <th>pe_1</th>\n",
       "      <th>pe_2</th>\n",
       "      <th>pe_3</th>\n",
       "      <th>pe_4</th>\n",
       "      <th>pill</th>\n",
       "      <th>...</th>\n",
       "      <th>cpe_1</th>\n",
       "      <th>cpe_2</th>\n",
       "      <th>cpe_3</th>\n",
       "      <th>cpe_4</th>\n",
       "      <th>gfr_1</th>\n",
       "      <th>cgfr_1</th>\n",
       "      <th>cgfr_2</th>\n",
       "      <th>cgfr_3</th>\n",
       "      <th>cgfr_4</th>\n",
       "      <th>gfr_2</th>\n",
       "    </tr>\n",
       "  </thead>\n",
       "  <tbody>\n",
       "    <tr>\n",
       "      <th>0</th>\n",
       "      <td>124.699997</td>\n",
       "      <td>0.00</td>\n",
       "      <td>1913</td>\n",
       "      <td>1</td>\n",
       "      <td>1</td>\n",
       "      <td>NaN</td>\n",
       "      <td>NaN</td>\n",
       "      <td>NaN</td>\n",
       "      <td>NaN</td>\n",
       "      <td>0</td>\n",
       "      <td>...</td>\n",
       "      <td>NaN</td>\n",
       "      <td>NaN</td>\n",
       "      <td>NaN</td>\n",
       "      <td>NaN</td>\n",
       "      <td>NaN</td>\n",
       "      <td>NaN</td>\n",
       "      <td>NaN</td>\n",
       "      <td>NaN</td>\n",
       "      <td>NaN</td>\n",
       "      <td>NaN</td>\n",
       "    </tr>\n",
       "    <tr>\n",
       "      <th>1</th>\n",
       "      <td>126.599998</td>\n",
       "      <td>0.00</td>\n",
       "      <td>1914</td>\n",
       "      <td>2</td>\n",
       "      <td>4</td>\n",
       "      <td>0.0</td>\n",
       "      <td>NaN</td>\n",
       "      <td>NaN</td>\n",
       "      <td>NaN</td>\n",
       "      <td>0</td>\n",
       "      <td>...</td>\n",
       "      <td>NaN</td>\n",
       "      <td>NaN</td>\n",
       "      <td>NaN</td>\n",
       "      <td>NaN</td>\n",
       "      <td>124.699997</td>\n",
       "      <td>NaN</td>\n",
       "      <td>NaN</td>\n",
       "      <td>NaN</td>\n",
       "      <td>NaN</td>\n",
       "      <td>NaN</td>\n",
       "    </tr>\n",
       "    <tr>\n",
       "      <th>2</th>\n",
       "      <td>125.000000</td>\n",
       "      <td>0.00</td>\n",
       "      <td>1915</td>\n",
       "      <td>3</td>\n",
       "      <td>9</td>\n",
       "      <td>0.0</td>\n",
       "      <td>0.0</td>\n",
       "      <td>NaN</td>\n",
       "      <td>NaN</td>\n",
       "      <td>0</td>\n",
       "      <td>...</td>\n",
       "      <td>0.0</td>\n",
       "      <td>NaN</td>\n",
       "      <td>NaN</td>\n",
       "      <td>NaN</td>\n",
       "      <td>126.599998</td>\n",
       "      <td>1.900002</td>\n",
       "      <td>NaN</td>\n",
       "      <td>NaN</td>\n",
       "      <td>NaN</td>\n",
       "      <td>124.699997</td>\n",
       "    </tr>\n",
       "    <tr>\n",
       "      <th>3</th>\n",
       "      <td>123.400002</td>\n",
       "      <td>0.00</td>\n",
       "      <td>1916</td>\n",
       "      <td>4</td>\n",
       "      <td>16</td>\n",
       "      <td>0.0</td>\n",
       "      <td>0.0</td>\n",
       "      <td>0.0</td>\n",
       "      <td>NaN</td>\n",
       "      <td>0</td>\n",
       "      <td>...</td>\n",
       "      <td>0.0</td>\n",
       "      <td>0.0</td>\n",
       "      <td>NaN</td>\n",
       "      <td>NaN</td>\n",
       "      <td>125.000000</td>\n",
       "      <td>-1.599998</td>\n",
       "      <td>1.900002</td>\n",
       "      <td>NaN</td>\n",
       "      <td>NaN</td>\n",
       "      <td>126.599998</td>\n",
       "    </tr>\n",
       "    <tr>\n",
       "      <th>4</th>\n",
       "      <td>121.000000</td>\n",
       "      <td>19.27</td>\n",
       "      <td>1917</td>\n",
       "      <td>5</td>\n",
       "      <td>25</td>\n",
       "      <td>0.0</td>\n",
       "      <td>0.0</td>\n",
       "      <td>0.0</td>\n",
       "      <td>0.0</td>\n",
       "      <td>0</td>\n",
       "      <td>...</td>\n",
       "      <td>0.0</td>\n",
       "      <td>0.0</td>\n",
       "      <td>0.0</td>\n",
       "      <td>NaN</td>\n",
       "      <td>123.400002</td>\n",
       "      <td>-1.599998</td>\n",
       "      <td>-1.599998</td>\n",
       "      <td>1.900002</td>\n",
       "      <td>NaN</td>\n",
       "      <td>125.000000</td>\n",
       "    </tr>\n",
       "  </tbody>\n",
       "</table>\n",
       "<p>5 rows × 24 columns</p>\n",
       "</div>"
      ],
      "text/plain": [
       "          gfr     pe  year  t  tsq  pe_1  pe_2  pe_3  pe_4  pill  ...  cpe_1  \\\n",
       "0  124.699997   0.00  1913  1    1   NaN   NaN   NaN   NaN     0  ...    NaN   \n",
       "1  126.599998   0.00  1914  2    4   0.0   NaN   NaN   NaN     0  ...    NaN   \n",
       "2  125.000000   0.00  1915  3    9   0.0   0.0   NaN   NaN     0  ...    0.0   \n",
       "3  123.400002   0.00  1916  4   16   0.0   0.0   0.0   NaN     0  ...    0.0   \n",
       "4  121.000000  19.27  1917  5   25   0.0   0.0   0.0   0.0     0  ...    0.0   \n",
       "\n",
       "   cpe_2  cpe_3  cpe_4       gfr_1    cgfr_1    cgfr_2    cgfr_3  cgfr_4  \\\n",
       "0    NaN    NaN    NaN         NaN       NaN       NaN       NaN     NaN   \n",
       "1    NaN    NaN    NaN  124.699997       NaN       NaN       NaN     NaN   \n",
       "2    NaN    NaN    NaN  126.599998  1.900002       NaN       NaN     NaN   \n",
       "3    0.0    NaN    NaN  125.000000 -1.599998  1.900002       NaN     NaN   \n",
       "4    0.0    0.0    NaN  123.400002 -1.599998 -1.599998  1.900002     NaN   \n",
       "\n",
       "        gfr_2  \n",
       "0         NaN  \n",
       "1         NaN  \n",
       "2  124.699997  \n",
       "3  126.599998  \n",
       "4  125.000000  \n",
       "\n",
       "[5 rows x 24 columns]"
      ]
     },
     "execution_count": 34,
     "metadata": {},
     "output_type": "execute_result"
    }
   ],
   "source": [
    "dfej18_5 = pd.read_stata('fertil3.dta')\n",
    "dfej18_5.head()"
   ]
  },
  {
   "cell_type": "code",
   "execution_count": null,
   "metadata": {},
   "outputs": [],
   "source": []
  },
  {
   "cell_type": "code",
   "execution_count": 37,
   "metadata": {},
   "outputs": [
    {
     "name": "stdout",
     "output_type": "stream",
     "text": [
      "                            OLS Regression Results                            \n",
      "==============================================================================\n",
      "Dep. Variable:                    gfr   R-squared:                       0.500\n",
      "Model:                            OLS   Adj. R-squared:                  0.486\n",
      "Method:                 Least Squares   F-statistic:                     34.53\n",
      "Date:                Sat, 18 Jul 2020   Prob (F-statistic):           4.06e-11\n",
      "Time:                        22:56:15   Log-Likelihood:                -291.68\n",
      "No. Observations:                  72   AIC:                             589.4\n",
      "Df Residuals:                      69   BIC:                             596.2\n",
      "Df Model:                           2                                         \n",
      "Covariance Type:            nonrobust                                         \n",
      "==============================================================================\n",
      "                 coef    std err          t      P>|t|      [0.025      0.975]\n",
      "------------------------------------------------------------------------------\n",
      "Intercept    109.9302      3.475     31.632      0.000     102.997     116.863\n",
      "pe             0.1867      0.035      5.391      0.000       0.118       0.256\n",
      "t             -0.9052      0.109     -8.305      0.000      -1.123      -0.688\n",
      "==============================================================================\n",
      "Omnibus:                        2.255   Durbin-Watson:                   0.172\n",
      "Prob(Omnibus):                  0.324   Jarque-Bera (JB):                2.076\n",
      "Skew:                          -0.411   Prob(JB):                        0.354\n",
      "Kurtosis:                       2.867   Cond. No.                         261.\n",
      "==============================================================================\n",
      "\n",
      "Warnings:\n",
      "[1] Standard Errors assume that the covariance matrix of the errors is correctly specified.\n"
     ]
    }
   ],
   "source": [
    "regdfej18_5 = smf.ols('gfr ~  pe + t' , data=dfej18_5).fit()\n",
    "print(regdfej18_5.summary())"
   ]
  },
  {
   "cell_type": "code",
   "execution_count": 36,
   "metadata": {},
   "outputs": [
    {
     "name": "stdout",
     "output_type": "stream",
     "text": [
      "                            OLS Regression Results                            \n",
      "==============================================================================\n",
      "Dep. Variable:             gfr.diff()   R-squared:                       0.032\n",
      "Model:                            OLS   Adj. R-squared:                  0.018\n",
      "Method:                 Least Squares   F-statistic:                     2.263\n",
      "Date:                Sat, 18 Jul 2020   Prob (F-statistic):              0.137\n",
      "Time:                        22:55:19   Log-Likelihood:                -201.97\n",
      "No. Observations:                  71   AIC:                             407.9\n",
      "Df Residuals:                      69   BIC:                             412.5\n",
      "Df Model:                           1                                         \n",
      "Covariance Type:            nonrobust                                         \n",
      "==============================================================================\n",
      "                 coef    std err          t      P>|t|      [0.025      0.975]\n",
      "------------------------------------------------------------------------------\n",
      "Intercept     -0.7848      0.502     -1.563      0.123      -1.786       0.217\n",
      "pe.diff()     -0.0427      0.028     -1.504      0.137      -0.099       0.014\n",
      "==============================================================================\n",
      "Omnibus:                       13.747   Durbin-Watson:                   1.355\n",
      "Prob(Omnibus):                  0.001   Jarque-Bera (JB):               17.832\n",
      "Skew:                           0.816   Prob(JB):                     0.000134\n",
      "Kurtosis:                       4.834   Cond. No.                         17.7\n",
      "==============================================================================\n",
      "\n",
      "Warnings:\n",
      "[1] Standard Errors assume that the covariance matrix of the errors is correctly specified.\n"
     ]
    }
   ],
   "source": [
    "regdfej18_5a = smf.ols('gfr.diff() ~  pe.diff()' , data=dfej18_5).fit()\n",
    "print(regdfej18_5a.summary())"
   ]
  },
  {
   "cell_type": "markdown",
   "metadata": {},
   "source": [
    "## Ejemplo 18.6 Parámetro de cointegración para los tipos de interés (intqrt.dta)"
   ]
  },
  {
   "cell_type": "code",
   "execution_count": 79,
   "metadata": {},
   "outputs": [
    {
     "data": {
      "text/html": [
       "<div>\n",
       "<style scoped>\n",
       "    .dataframe tbody tr th:only-of-type {\n",
       "        vertical-align: middle;\n",
       "    }\n",
       "\n",
       "    .dataframe tbody tr th {\n",
       "        vertical-align: top;\n",
       "    }\n",
       "\n",
       "    .dataframe thead th {\n",
       "        text-align: right;\n",
       "    }\n",
       "</style>\n",
       "<table border=\"1\" class=\"dataframe\">\n",
       "  <thead>\n",
       "    <tr style=\"text-align: right;\">\n",
       "      <th></th>\n",
       "      <th>r3</th>\n",
       "      <th>r6</th>\n",
       "      <th>r12</th>\n",
       "      <th>p3</th>\n",
       "      <th>p6</th>\n",
       "      <th>hy6</th>\n",
       "      <th>hy3</th>\n",
       "      <th>spr63</th>\n",
       "      <th>hy3_1</th>\n",
       "      <th>hy6_1</th>\n",
       "      <th>...</th>\n",
       "      <th>r3_1</th>\n",
       "      <th>chy6</th>\n",
       "      <th>chy3</th>\n",
       "      <th>chy6_1</th>\n",
       "      <th>chy3_1</th>\n",
       "      <th>cr6</th>\n",
       "      <th>cr6_1</th>\n",
       "      <th>cr3_1</th>\n",
       "      <th>r6_1</th>\n",
       "      <th>cspr63</th>\n",
       "    </tr>\n",
       "  </thead>\n",
       "  <tbody>\n",
       "    <tr>\n",
       "      <th>0</th>\n",
       "      <td>2.77</td>\n",
       "      <td>3.02</td>\n",
       "      <td>3.32</td>\n",
       "      <td>9931.413086</td>\n",
       "      <td>9851.647461</td>\n",
       "      <td>NaN</td>\n",
       "      <td>0.690603</td>\n",
       "      <td>0.25</td>\n",
       "      <td>NaN</td>\n",
       "      <td>NaN</td>\n",
       "      <td>...</td>\n",
       "      <td>NaN</td>\n",
       "      <td>NaN</td>\n",
       "      <td>NaN</td>\n",
       "      <td>NaN</td>\n",
       "      <td>NaN</td>\n",
       "      <td>NaN</td>\n",
       "      <td>NaN</td>\n",
       "      <td>NaN</td>\n",
       "      <td>NaN</td>\n",
       "      <td>NaN</td>\n",
       "    </tr>\n",
       "    <tr>\n",
       "      <th>1</th>\n",
       "      <td>2.97</td>\n",
       "      <td>3.43</td>\n",
       "      <td>3.67</td>\n",
       "      <td>9926.498047</td>\n",
       "      <td>9831.845703</td>\n",
       "      <td>0.759777</td>\n",
       "      <td>0.740466</td>\n",
       "      <td>0.46</td>\n",
       "      <td>0.690603</td>\n",
       "      <td>NaN</td>\n",
       "      <td>...</td>\n",
       "      <td>2.77</td>\n",
       "      <td>NaN</td>\n",
       "      <td>0.049863</td>\n",
       "      <td>NaN</td>\n",
       "      <td>NaN</td>\n",
       "      <td>0.41</td>\n",
       "      <td>NaN</td>\n",
       "      <td>NaN</td>\n",
       "      <td>3.02</td>\n",
       "      <td>0.21</td>\n",
       "    </tr>\n",
       "    <tr>\n",
       "      <th>2</th>\n",
       "      <td>4.00</td>\n",
       "      <td>4.32</td>\n",
       "      <td>4.41</td>\n",
       "      <td>9901.258789</td>\n",
       "      <td>9789.133789</td>\n",
       "      <td>0.706003</td>\n",
       "      <td>0.997260</td>\n",
       "      <td>0.32</td>\n",
       "      <td>0.740466</td>\n",
       "      <td>0.759777</td>\n",
       "      <td>...</td>\n",
       "      <td>2.97</td>\n",
       "      <td>-0.053775</td>\n",
       "      <td>0.256795</td>\n",
       "      <td>NaN</td>\n",
       "      <td>0.049863</td>\n",
       "      <td>0.89</td>\n",
       "      <td>0.41</td>\n",
       "      <td>0.20</td>\n",
       "      <td>3.43</td>\n",
       "      <td>-0.14</td>\n",
       "    </tr>\n",
       "    <tr>\n",
       "      <th>3</th>\n",
       "      <td>4.60</td>\n",
       "      <td>4.68</td>\n",
       "      <td>4.75</td>\n",
       "      <td>9886.615234</td>\n",
       "      <td>9771.962891</td>\n",
       "      <td>0.995813</td>\n",
       "      <td>1.146849</td>\n",
       "      <td>0.08</td>\n",
       "      <td>0.997260</td>\n",
       "      <td>0.706003</td>\n",
       "      <td>...</td>\n",
       "      <td>4.00</td>\n",
       "      <td>0.289810</td>\n",
       "      <td>0.149589</td>\n",
       "      <td>-0.053775</td>\n",
       "      <td>0.256795</td>\n",
       "      <td>0.36</td>\n",
       "      <td>0.89</td>\n",
       "      <td>1.03</td>\n",
       "      <td>4.32</td>\n",
       "      <td>-0.24</td>\n",
       "    </tr>\n",
       "    <tr>\n",
       "      <th>4</th>\n",
       "      <td>4.16</td>\n",
       "      <td>4.33</td>\n",
       "      <td>4.38</td>\n",
       "      <td>9897.349609</td>\n",
       "      <td>9788.656250</td>\n",
       "      <td>1.283127</td>\n",
       "      <td>1.037151</td>\n",
       "      <td>0.17</td>\n",
       "      <td>1.146849</td>\n",
       "      <td>0.995813</td>\n",
       "      <td>...</td>\n",
       "      <td>4.60</td>\n",
       "      <td>0.287315</td>\n",
       "      <td>-0.109699</td>\n",
       "      <td>0.289810</td>\n",
       "      <td>0.149589</td>\n",
       "      <td>-0.35</td>\n",
       "      <td>0.36</td>\n",
       "      <td>0.60</td>\n",
       "      <td>4.68</td>\n",
       "      <td>0.09</td>\n",
       "    </tr>\n",
       "  </tbody>\n",
       "</table>\n",
       "<p>5 rows × 23 columns</p>\n",
       "</div>"
      ],
      "text/plain": [
       "     r3    r6   r12           p3           p6       hy6       hy3  spr63  \\\n",
       "0  2.77  3.02  3.32  9931.413086  9851.647461       NaN  0.690603   0.25   \n",
       "1  2.97  3.43  3.67  9926.498047  9831.845703  0.759777  0.740466   0.46   \n",
       "2  4.00  4.32  4.41  9901.258789  9789.133789  0.706003  0.997260   0.32   \n",
       "3  4.60  4.68  4.75  9886.615234  9771.962891  0.995813  1.146849   0.08   \n",
       "4  4.16  4.33  4.38  9897.349609  9788.656250  1.283127  1.037151   0.17   \n",
       "\n",
       "      hy3_1     hy6_1  ...  r3_1      chy6      chy3    chy6_1    chy3_1  \\\n",
       "0       NaN       NaN  ...   NaN       NaN       NaN       NaN       NaN   \n",
       "1  0.690603       NaN  ...  2.77       NaN  0.049863       NaN       NaN   \n",
       "2  0.740466  0.759777  ...  2.97 -0.053775  0.256795       NaN  0.049863   \n",
       "3  0.997260  0.706003  ...  4.00  0.289810  0.149589 -0.053775  0.256795   \n",
       "4  1.146849  0.995813  ...  4.60  0.287315 -0.109699  0.289810  0.149589   \n",
       "\n",
       "    cr6  cr6_1  cr3_1  r6_1  cspr63  \n",
       "0   NaN    NaN    NaN   NaN     NaN  \n",
       "1  0.41    NaN    NaN  3.02    0.21  \n",
       "2  0.89   0.41   0.20  3.43   -0.14  \n",
       "3  0.36   0.89   1.03  4.32   -0.24  \n",
       "4 -0.35   0.36   0.60  4.68    0.09  \n",
       "\n",
       "[5 rows x 23 columns]"
      ]
     },
     "execution_count": 79,
     "metadata": {},
     "output_type": "execute_result"
    }
   ],
   "source": [
    "dfej18_6 = pd.read_stata('intqrt.dta')\n",
    "dfej18_6.head()"
   ]
  },
  {
   "cell_type": "markdown",
   "metadata": {},
   "source": [
    "## Ejemplo 18.7 (Modelo de corrección del error para el rendimiento de los bonos* (intqrt.dta)"
   ]
  },
  {
   "cell_type": "code",
   "execution_count": 80,
   "metadata": {},
   "outputs": [
    {
     "name": "stdout",
     "output_type": "stream",
     "text": [
      "                            OLS Regression Results                            \n",
      "==============================================================================\n",
      "Dep. Variable:                    hy6   R-squared:                       0.866\n",
      "Model:                            OLS   Adj. R-squared:                  0.865\n",
      "Method:                 Least Squares   F-statistic:                     783.2\n",
      "Date:                Sun, 19 Jul 2020   Prob (F-statistic):           1.11e-54\n",
      "Time:                        02:39:56   Log-Likelihood:                -36.934\n",
      "No. Observations:                 123   AIC:                             77.87\n",
      "Df Residuals:                     121   BIC:                             83.49\n",
      "Df Model:                           1                                         \n",
      "Covariance Type:            nonrobust                                         \n",
      "================================================================================\n",
      "                   coef    std err          t      P>|t|      [0.025      0.975]\n",
      "--------------------------------------------------------------------------------\n",
      "Intercept       -0.0579      0.070     -0.828      0.409      -0.196       0.081\n",
      "hy3.shift(1)     1.1043      0.039     27.986      0.000       1.026       1.182\n",
      "==============================================================================\n",
      "Omnibus:                       32.029   Durbin-Watson:                   1.983\n",
      "Prob(Omnibus):                  0.000   Jarque-Bera (JB):              183.985\n",
      "Skew:                           0.639   Prob(JB):                     1.12e-40\n",
      "Kurtosis:                       8.854   Cond. No.                         5.32\n",
      "==============================================================================\n",
      "\n",
      "Warnings:\n",
      "[1] Standard Errors assume that the covariance matrix of the errors is correctly specified.\n"
     ]
    }
   ],
   "source": [
    "regdfej18_7 = smf.ols('hy6 ~  hy3.shift(1)' , data=dfej18_6).fit()\n",
    "print(regdfej18_7.summary())"
   ]
  },
  {
   "cell_type": "code",
   "execution_count": 81,
   "metadata": {},
   "outputs": [],
   "source": [
    "dfej18_6['res'] = regdfej18_7.resid"
   ]
  },
  {
   "cell_type": "code",
   "execution_count": 75,
   "metadata": {},
   "outputs": [
    {
     "data": {
      "text/html": [
       "<div>\n",
       "<style scoped>\n",
       "    .dataframe tbody tr th:only-of-type {\n",
       "        vertical-align: middle;\n",
       "    }\n",
       "\n",
       "    .dataframe tbody tr th {\n",
       "        vertical-align: top;\n",
       "    }\n",
       "\n",
       "    .dataframe thead th {\n",
       "        text-align: right;\n",
       "    }\n",
       "</style>\n",
       "<table border=\"1\" class=\"dataframe\">\n",
       "  <thead>\n",
       "    <tr style=\"text-align: right;\">\n",
       "      <th></th>\n",
       "      <th>r3</th>\n",
       "      <th>r6</th>\n",
       "      <th>r12</th>\n",
       "      <th>p3</th>\n",
       "      <th>p6</th>\n",
       "      <th>hy6</th>\n",
       "      <th>hy3</th>\n",
       "      <th>spr63</th>\n",
       "      <th>hy3_1</th>\n",
       "      <th>hy6_1</th>\n",
       "      <th>...</th>\n",
       "      <th>chy6</th>\n",
       "      <th>chy3</th>\n",
       "      <th>chy6_1</th>\n",
       "      <th>chy3_1</th>\n",
       "      <th>cr6</th>\n",
       "      <th>cr6_1</th>\n",
       "      <th>cr3_1</th>\n",
       "      <th>r6_1</th>\n",
       "      <th>cspr63</th>\n",
       "      <th>res</th>\n",
       "    </tr>\n",
       "  </thead>\n",
       "  <tbody>\n",
       "    <tr>\n",
       "      <th>3</th>\n",
       "      <td>4.60</td>\n",
       "      <td>4.68</td>\n",
       "      <td>4.75</td>\n",
       "      <td>9886.615234</td>\n",
       "      <td>9771.962891</td>\n",
       "      <td>0.995813</td>\n",
       "      <td>1.146849</td>\n",
       "      <td>0.08</td>\n",
       "      <td>0.997260</td>\n",
       "      <td>0.706003</td>\n",
       "      <td>...</td>\n",
       "      <td>0.289810</td>\n",
       "      <td>0.149589</td>\n",
       "      <td>-0.053775</td>\n",
       "      <td>0.256795</td>\n",
       "      <td>0.36</td>\n",
       "      <td>0.89</td>\n",
       "      <td>1.03</td>\n",
       "      <td>4.32</td>\n",
       "      <td>-0.24</td>\n",
       "      <td>-0.047527</td>\n",
       "    </tr>\n",
       "    <tr>\n",
       "      <th>4</th>\n",
       "      <td>4.16</td>\n",
       "      <td>4.33</td>\n",
       "      <td>4.38</td>\n",
       "      <td>9897.349609</td>\n",
       "      <td>9788.656250</td>\n",
       "      <td>1.283127</td>\n",
       "      <td>1.037151</td>\n",
       "      <td>0.17</td>\n",
       "      <td>1.146849</td>\n",
       "      <td>0.995813</td>\n",
       "      <td>...</td>\n",
       "      <td>0.287315</td>\n",
       "      <td>-0.109699</td>\n",
       "      <td>0.289810</td>\n",
       "      <td>0.149589</td>\n",
       "      <td>-0.35</td>\n",
       "      <td>0.36</td>\n",
       "      <td>0.60</td>\n",
       "      <td>4.68</td>\n",
       "      <td>0.09</td>\n",
       "      <td>0.074595</td>\n",
       "    </tr>\n",
       "    <tr>\n",
       "      <th>5</th>\n",
       "      <td>3.07</td>\n",
       "      <td>3.50</td>\n",
       "      <td>3.82</td>\n",
       "      <td>9924.041992</td>\n",
       "      <td>9828.472656</td>\n",
       "      <td>1.383088</td>\n",
       "      <td>0.765397</td>\n",
       "      <td>0.43</td>\n",
       "      <td>1.037151</td>\n",
       "      <td>1.283127</td>\n",
       "      <td>...</td>\n",
       "      <td>0.099961</td>\n",
       "      <td>-0.271753</td>\n",
       "      <td>0.287315</td>\n",
       "      <td>-0.109699</td>\n",
       "      <td>-0.83</td>\n",
       "      <td>-0.35</td>\n",
       "      <td>-0.44</td>\n",
       "      <td>4.33</td>\n",
       "      <td>0.26</td>\n",
       "      <td>0.295697</td>\n",
       "    </tr>\n",
       "    <tr>\n",
       "      <th>6</th>\n",
       "      <td>2.60</td>\n",
       "      <td>2.84</td>\n",
       "      <td>2.95</td>\n",
       "      <td>9935.595703</td>\n",
       "      <td>9860.366211</td>\n",
       "      <td>1.089926</td>\n",
       "      <td>0.648219</td>\n",
       "      <td>0.24</td>\n",
       "      <td>0.765397</td>\n",
       "      <td>1.383088</td>\n",
       "      <td>...</td>\n",
       "      <td>-0.293162</td>\n",
       "      <td>-0.117178</td>\n",
       "      <td>0.099961</td>\n",
       "      <td>-0.271753</td>\n",
       "      <td>-0.66</td>\n",
       "      <td>-0.83</td>\n",
       "      <td>-1.09</td>\n",
       "      <td>3.50</td>\n",
       "      <td>-0.19</td>\n",
       "      <td>0.302634</td>\n",
       "    </tr>\n",
       "    <tr>\n",
       "      <th>7</th>\n",
       "      <td>2.34</td>\n",
       "      <td>2.67</td>\n",
       "      <td>2.99</td>\n",
       "      <td>9941.999023</td>\n",
       "      <td>9868.615234</td>\n",
       "      <td>0.827888</td>\n",
       "      <td>0.583397</td>\n",
       "      <td>0.33</td>\n",
       "      <td>0.648219</td>\n",
       "      <td>1.089926</td>\n",
       "      <td>...</td>\n",
       "      <td>-0.262037</td>\n",
       "      <td>-0.064822</td>\n",
       "      <td>-0.293162</td>\n",
       "      <td>-0.117178</td>\n",
       "      <td>-0.17</td>\n",
       "      <td>-0.66</td>\n",
       "      <td>-0.47</td>\n",
       "      <td>2.84</td>\n",
       "      <td>0.09</td>\n",
       "      <td>0.169998</td>\n",
       "    </tr>\n",
       "  </tbody>\n",
       "</table>\n",
       "<p>5 rows × 24 columns</p>\n",
       "</div>"
      ],
      "text/plain": [
       "     r3    r6   r12           p3           p6       hy6       hy3  spr63  \\\n",
       "3  4.60  4.68  4.75  9886.615234  9771.962891  0.995813  1.146849   0.08   \n",
       "4  4.16  4.33  4.38  9897.349609  9788.656250  1.283127  1.037151   0.17   \n",
       "5  3.07  3.50  3.82  9924.041992  9828.472656  1.383088  0.765397   0.43   \n",
       "6  2.60  2.84  2.95  9935.595703  9860.366211  1.089926  0.648219   0.24   \n",
       "7  2.34  2.67  2.99  9941.999023  9868.615234  0.827888  0.583397   0.33   \n",
       "\n",
       "      hy3_1     hy6_1  ...      chy6      chy3    chy6_1    chy3_1   cr6  \\\n",
       "3  0.997260  0.706003  ...  0.289810  0.149589 -0.053775  0.256795  0.36   \n",
       "4  1.146849  0.995813  ...  0.287315 -0.109699  0.289810  0.149589 -0.35   \n",
       "5  1.037151  1.283127  ...  0.099961 -0.271753  0.287315 -0.109699 -0.83   \n",
       "6  0.765397  1.383088  ... -0.293162 -0.117178  0.099961 -0.271753 -0.66   \n",
       "7  0.648219  1.089926  ... -0.262037 -0.064822 -0.293162 -0.117178 -0.17   \n",
       "\n",
       "   cr6_1  cr3_1  r6_1  cspr63       res  \n",
       "3   0.89   1.03  4.32   -0.24 -0.047527  \n",
       "4   0.36   0.60  4.68    0.09  0.074595  \n",
       "5  -0.35  -0.44  4.33    0.26  0.295697  \n",
       "6  -0.83  -1.09  3.50   -0.19  0.302634  \n",
       "7  -0.66  -0.47  2.84    0.09  0.169998  \n",
       "\n",
       "[5 rows x 24 columns]"
      ]
     },
     "execution_count": 75,
     "metadata": {},
     "output_type": "execute_result"
    }
   ],
   "source": [
    "dfej18_6.head()"
   ]
  },
  {
   "cell_type": "code",
   "execution_count": 88,
   "metadata": {},
   "outputs": [
    {
     "name": "stdout",
     "output_type": "stream",
     "text": [
      "                            OLS Regression Results                            \n",
      "==============================================================================\n",
      "Dep. Variable:             hy6.diff()   R-squared:                       0.800\n",
      "Model:                            OLS   Adj. R-squared:                  0.797\n",
      "Method:                 Least Squares   F-statistic:                     238.7\n",
      "Date:                Sun, 19 Jul 2020   Prob (F-statistic):           2.26e-42\n",
      "Time:                        21:03:42   Log-Likelihood:                -37.032\n",
      "No. Observations:                 122   AIC:                             80.06\n",
      "Df Residuals:                     119   BIC:                             88.48\n",
      "Df Model:                           2                                         \n",
      "Covariance Type:            nonrobust                                         \n",
      "=======================================================================================\n",
      "                          coef    std err          t      P>|t|      [0.025      0.975]\n",
      "---------------------------------------------------------------------------------------\n",
      "Intercept              -0.0015      0.030     -0.049      0.961      -0.061       0.058\n",
      "hy3.diff().shift(1)     1.1930      0.222      5.369      0.000       0.753       1.633\n",
      "res.shift(1)           -0.9157      0.212     -4.325      0.000      -1.335      -0.496\n",
      "==============================================================================\n",
      "Omnibus:                       35.851   Durbin-Watson:                   2.003\n",
      "Prob(Omnibus):                  0.000   Jarque-Bera (JB):              208.303\n",
      "Skew:                           0.768   Prob(JB):                     5.86e-46\n",
      "Kurtosis:                       9.214   Cond. No.                         9.96\n",
      "==============================================================================\n",
      "\n",
      "Warnings:\n",
      "[1] Standard Errors assume that the covariance matrix of the errors is correctly specified.\n"
     ]
    }
   ],
   "source": [
    "regdfej18_7a = smf.ols('hy6.diff() ~ hy3.diff().shift(1)  + res.shift(1)  ' , data=dfej18_6).fit()\n",
    "print(regdfej18_7a.summary())"
   ]
  },
  {
   "cell_type": "code",
   "execution_count": 90,
   "metadata": {},
   "outputs": [],
   "source": [
    "resta = dfej18_6['hy6'].shift(1)-dfej18_6['hy3'].shift(2)"
   ]
  },
  {
   "cell_type": "code",
   "execution_count": 91,
   "metadata": {},
   "outputs": [
    {
     "name": "stdout",
     "output_type": "stream",
     "text": [
      "                            OLS Regression Results                            \n",
      "==============================================================================\n",
      "Dep. Variable:             hy6.diff()   R-squared:                       0.790\n",
      "Model:                            OLS   Adj. R-squared:                  0.786\n",
      "Method:                 Least Squares   F-statistic:                     223.8\n",
      "Date:                Sun, 19 Jul 2020   Prob (F-statistic):           4.74e-41\n",
      "Time:                        21:17:54   Log-Likelihood:                -40.152\n",
      "No. Observations:                 122   AIC:                             86.30\n",
      "Df Residuals:                     119   BIC:                             94.72\n",
      "Df Model:                           2                                         \n",
      "Covariance Type:            nonrobust                                         \n",
      "=======================================================================================\n",
      "                          coef    std err          t      P>|t|      [0.025      0.975]\n",
      "---------------------------------------------------------------------------------------\n",
      "Intercept               0.0898      0.043      2.105      0.037       0.005       0.174\n",
      "hy3.diff().shift(1)     1.2184      0.264      4.622      0.000       0.696       1.740\n",
      "resta                  -0.8400      0.244     -3.441      0.001      -1.323      -0.357\n",
      "==============================================================================\n",
      "Omnibus:                       67.853   Durbin-Watson:                   2.020\n",
      "Prob(Omnibus):                  0.000   Jarque-Bera (JB):              457.063\n",
      "Skew:                           1.747   Prob(JB):                    5.62e-100\n",
      "Kurtosis:                      11.815   Cond. No.                         11.6\n",
      "==============================================================================\n",
      "\n",
      "Warnings:\n",
      "[1] Standard Errors assume that the covariance matrix of the errors is correctly specified.\n"
     ]
    }
   ],
   "source": [
    "regdfej18_7b = smf.ols('hy6.diff() ~ hy3.diff().shift(1)  + resta  ' , data=dfej18_6).fit()\n",
    "print(regdfej18_7b.summary())"
   ]
  },
  {
   "cell_type": "markdown",
   "metadata": {},
   "source": [
    "## Ejemplo 18.8 Predlcclón de la tasa de desempleo de EE.UU* (phillips.dta)"
   ]
  },
  {
   "cell_type": "code",
   "execution_count": 19,
   "metadata": {},
   "outputs": [],
   "source": [
    "# define yearly time series beginning in 1948:\n",
    "date_range = pd.date_range(start='1948', periods=len(dfej18_3), freq='Y')\n",
    "dfej18_3.index = date_range.year"
   ]
  },
  {
   "cell_type": "code",
   "execution_count": 21,
   "metadata": {},
   "outputs": [
    {
     "data": {
      "text/html": [
       "<div>\n",
       "<style scoped>\n",
       "    .dataframe tbody tr th:only-of-type {\n",
       "        vertical-align: middle;\n",
       "    }\n",
       "\n",
       "    .dataframe tbody tr th {\n",
       "        vertical-align: top;\n",
       "    }\n",
       "\n",
       "    .dataframe thead th {\n",
       "        text-align: right;\n",
       "    }\n",
       "</style>\n",
       "<table border=\"1\" class=\"dataframe\">\n",
       "  <thead>\n",
       "    <tr style=\"text-align: right;\">\n",
       "      <th></th>\n",
       "      <th>year</th>\n",
       "      <th>unem</th>\n",
       "      <th>inf</th>\n",
       "      <th>unem_1</th>\n",
       "      <th>inf_1</th>\n",
       "      <th>unem_2</th>\n",
       "      <th>inf_2</th>\n",
       "      <th>cunem</th>\n",
       "      <th>cinf</th>\n",
       "      <th>cunem_1</th>\n",
       "      <th>cinf_1</th>\n",
       "    </tr>\n",
       "  </thead>\n",
       "  <tbody>\n",
       "    <tr>\n",
       "      <th>1994</th>\n",
       "      <td>1994</td>\n",
       "      <td>6.1</td>\n",
       "      <td>2.6</td>\n",
       "      <td>6.9</td>\n",
       "      <td>3.0</td>\n",
       "      <td>7.5</td>\n",
       "      <td>3.0</td>\n",
       "      <td>-0.8</td>\n",
       "      <td>-0.4</td>\n",
       "      <td>-0.6</td>\n",
       "      <td>0.0</td>\n",
       "    </tr>\n",
       "    <tr>\n",
       "      <th>1995</th>\n",
       "      <td>1995</td>\n",
       "      <td>5.6</td>\n",
       "      <td>2.8</td>\n",
       "      <td>6.1</td>\n",
       "      <td>2.6</td>\n",
       "      <td>6.9</td>\n",
       "      <td>3.0</td>\n",
       "      <td>-0.5</td>\n",
       "      <td>0.2</td>\n",
       "      <td>-0.8</td>\n",
       "      <td>-0.4</td>\n",
       "    </tr>\n",
       "    <tr>\n",
       "      <th>1996</th>\n",
       "      <td>1996</td>\n",
       "      <td>5.4</td>\n",
       "      <td>3.0</td>\n",
       "      <td>5.6</td>\n",
       "      <td>2.8</td>\n",
       "      <td>6.1</td>\n",
       "      <td>2.6</td>\n",
       "      <td>-0.2</td>\n",
       "      <td>0.2</td>\n",
       "      <td>-0.5</td>\n",
       "      <td>0.2</td>\n",
       "    </tr>\n",
       "  </tbody>\n",
       "</table>\n",
       "</div>"
      ],
      "text/plain": [
       "      year  unem  inf  unem_1  inf_1  unem_2  inf_2  cunem  cinf  cunem_1  \\\n",
       "1994  1994   6.1  2.6     6.9    3.0     7.5    3.0   -0.8  -0.4     -0.6   \n",
       "1995  1995   5.6  2.8     6.1    2.6     6.9    3.0   -0.5   0.2     -0.8   \n",
       "1996  1996   5.4  3.0     5.6    2.8     6.1    2.6   -0.2   0.2     -0.5   \n",
       "\n",
       "      cinf_1  \n",
       "1994     0.0  \n",
       "1995    -0.4  \n",
       "1996     0.2  "
      ]
     },
     "execution_count": 21,
     "metadata": {},
     "output_type": "execute_result"
    }
   ],
   "source": [
    "dfej18_3.tail(3)"
   ]
  },
  {
   "cell_type": "code",
   "execution_count": 23,
   "metadata": {},
   "outputs": [],
   "source": [
    "# estimate models:\n",
    "yt96 = (dfej18_3['year'] <= 1986)\n",
    "reg_1 = smf.ols(formula='unem ~ unem_1', data=dfej18_3, subset=yt96)\n",
    "results_1 = reg_1.fit()\n",
    "reg_2 = smf.ols(formula='unem ~ unem_1 + inf_1', data=dfej18_3, subset=yt96)\n",
    "results_2 = reg_2.fit()"
   ]
  },
  {
   "cell_type": "code",
   "execution_count": null,
   "metadata": {},
   "outputs": [],
   "source": []
  },
  {
   "cell_type": "code",
   "execution_count": null,
   "metadata": {},
   "outputs": [],
   "source": [
    "# Nota : PUSE 86 en vez de 96 , pues NO SE COMO HACER PRONOSTICO UN PASO ADELANTE\n",
    "# Eso lo vi para sarimax, pero no para ols\n",
    "# La base está hasta 96. No hay manera de estirarla automáticamente. "
   ]
  },
  {
   "cell_type": "code",
   "execution_count": 24,
   "metadata": {},
   "outputs": [
    {
     "name": "stdout",
     "output_type": "stream",
     "text": [
      "pred_1_FI: \n",
      "          mean  obs_ci_lower  obs_ci_upper\n",
      "1987  6.728320      4.358587      9.098053\n",
      "1988  6.134006      3.780765      8.487246\n",
      "1989  5.613981      3.264189      7.963773\n",
      "1990  5.465402      3.114702      7.816103\n",
      "1991  5.688270      3.338617      8.037923\n",
      "1992  6.579742      4.215376      8.944108\n",
      "1993  7.099767      4.713039      9.486495\n",
      "1994  6.654031      4.287085      9.020977\n",
      "1995  6.059717      3.707599      8.411834\n",
      "1996  5.688270      3.338617      8.037923\n",
      "\n",
      "pred_2_FI: \n",
      "          mean  obs_ci_lower  obs_ci_upper\n",
      "1987  6.151638      4.121635      8.181640\n",
      "1988  5.948749      3.952652      7.944845\n",
      "1989  5.592122      3.601240      7.583004\n",
      "1990  5.591276      3.598582      7.583970\n",
      "1991  5.891799      3.898257      7.885341\n",
      "1992  6.440977      4.436481      8.445473\n",
      "1993  6.670647      4.636236      8.705058\n",
      "1994  6.287239      4.272811      8.301667\n",
      "1995  5.703481      3.702075      7.704887\n",
      "1996  5.420248      3.424645      7.415850\n",
      "\n"
     ]
    }
   ],
   "source": [
    "# predictions for 1997-2003 including 95% forecast intervals:\n",
    "yf97 = (dfej18_3['year'] > 1986)\n",
    "pred_1 = results_1.get_prediction(dfej18_3[yf97])\n",
    "pred_1_FI = pred_1.summary_frame(alpha=0.05)[['mean', 'obs_ci_lower', 'obs_ci_upper']]\n",
    "pred_1_FI.index = date_range.year[yf97]\n",
    "print(f'pred_1_FI: \\n{pred_1_FI}\\n')\n",
    "\n",
    "pred_2 = results_2.get_prediction(dfej18_3[yf97])\n",
    "pred_2_FI = pred_2.summary_frame(alpha=0.05)[['mean', 'obs_ci_lower', 'obs_ci_upper']]\n",
    "pred_2_FI.index = date_range.year[yf97]\n",
    "print(f'pred_2_FI: \\n{pred_2_FI}\\n')"
   ]
  },
  {
   "cell_type": "code",
   "execution_count": 25,
   "metadata": {},
   "outputs": [
    {
     "name": "stdout",
     "output_type": "stream",
     "text": [
      "rmse1: 0.5934560874341179\n",
      "\n",
      "rmse2: 0.4831422317894614\n",
      "\n",
      "mae1: 0.5144676971461742\n",
      "\n",
      "mae2: 0.3305501839402959\n",
      "\n"
     ]
    },
    {
     "data": {
      "text/plain": [
       "<matplotlib.legend.Legend at 0x80f7270>"
      ]
     },
     "execution_count": 25,
     "metadata": {},
     "output_type": "execute_result"
    },
    {
     "data": {
      "image/png": "[encoded data removed]",
      "text/plain": [
       "<Figure size 432x288 with 1 Axes>"
      ]
     },
     "metadata": {},
     "output_type": "display_data"
    }
   ],
   "source": [
    "# forecast errors:\n",
    "e1 = dfej18_3[yf97]['unem'] - pred_1_FI['mean']\n",
    "e2 = dfej18_3[yf97]['unem'] - pred_2_FI['mean']\n",
    "\n",
    "# RMSE and MAE:\n",
    "rmse1 = np.sqrt(np.mean(e1 ** 2))\n",
    "print(f'rmse1: {rmse1}\\n')\n",
    "rmse2 = np.sqrt(np.mean(e2 ** 2))\n",
    "print(f'rmse2: {rmse2}\\n')\n",
    "mae1 = np.mean(abs(e1))\n",
    "print(f'mae1: {mae1}\\n')\n",
    "mae2 = np.mean(abs(e2))\n",
    "print(f'mae2: {mae2}\\n')\n",
    "\n",
    "# graph:\n",
    "plt.plot(dfej18_3[yf97]['unem'], color='black', marker='', label='unem')\n",
    "plt.plot(pred_1_FI['mean'], color='black',\n",
    "         marker='', linestyle='--', label='forecast without inflation')\n",
    "plt.plot(pred_2_FI['mean'], color='black',\n",
    "         marker='', linestyle='-.', label='forecast with inflation')\n",
    "plt.ylabel('unemployment')\n",
    "plt.xlabel('time')\n",
    "plt.legend()"
   ]
  },
  {
   "cell_type": "code",
   "execution_count": null,
   "metadata": {},
   "outputs": [],
   "source": []
  },
  {
   "cell_type": "code",
   "execution_count": 31,
   "metadata": {},
   "outputs": [
    {
     "name": "stdout",
     "output_type": "stream",
     "text": [
      "                            OLS Regression Results                            \n",
      "==============================================================================\n",
      "Dep. Variable:                   unem   R-squared:                       0.554\n",
      "Model:                            OLS   Adj. R-squared:                  0.544\n",
      "Method:                 Least Squares   F-statistic:                     57.13\n",
      "Date:                Sun, 17 Oct 2021   Prob (F-statistic):           1.33e-09\n",
      "Time:                        00:36:02   Log-Likelihood:                -69.364\n",
      "No. Observations:                  48   AIC:                             142.7\n",
      "Df Residuals:                      46   BIC:                             146.5\n",
      "Df Model:                           1                                         \n",
      "Covariance Type:            nonrobust                                         \n",
      "=================================================================================\n",
      "                    coef    std err          t      P>|t|      [0.025      0.975]\n",
      "---------------------------------------------------------------------------------\n",
      "Intercept         1.5717      0.577      2.723      0.009       0.410       2.733\n",
      "unem.shift(1)     0.7324      0.097      7.559      0.000       0.537       0.927\n",
      "==============================================================================\n",
      "Omnibus:                        7.064   Durbin-Watson:                   1.694\n",
      "Prob(Omnibus):                  0.029   Jarque-Bera (JB):                6.178\n",
      "Skew:                           0.851   Prob(JB):                       0.0455\n",
      "Kurtosis:                       3.435   Cond. No.                         23.3\n",
      "==============================================================================\n",
      "\n",
      "Notes:\n",
      "[1] Standard Errors assume that the covariance matrix of the errors is correctly specified.\n"
     ]
    }
   ],
   "source": [
    "regdfej18_8a = smf.ols('unem ~ unem.shift(1)   ' , data=dfej18_3).fit()\n",
    "print(regdfej18_8a.summary())"
   ]
  },
  {
   "cell_type": "code",
   "execution_count": 32,
   "metadata": {},
   "outputs": [
    {
     "name": "stdout",
     "output_type": "stream",
     "text": [
      "                            OLS Regression Results                            \n",
      "==============================================================================\n",
      "Dep. Variable:                   unem   R-squared:                       0.691\n",
      "Model:                            OLS   Adj. R-squared:                  0.677\n",
      "Method:                 Least Squares   F-statistic:                     50.22\n",
      "Date:                Sun, 17 Oct 2021   Prob (F-statistic):           3.44e-12\n",
      "Time:                        00:36:04   Log-Likelihood:                -60.587\n",
      "No. Observations:                  48   AIC:                             127.2\n",
      "Df Residuals:                      45   BIC:                             132.8\n",
      "Df Model:                           2                                         \n",
      "Covariance Type:            nonrobust                                         \n",
      "======================================================================================\n",
      "                         coef    std err          t      P>|t|      [0.025      0.975]\n",
      "--------------------------------------------------------------------------------------\n",
      "Intercept              1.3038      0.490      2.663      0.011       0.318       2.290\n",
      "unem.shift(1)          0.6470      0.084      7.721      0.000       0.478       0.816\n",
      "inflation.shift(1)     0.1836      0.041      4.458      0.000       0.101       0.267\n",
      "==============================================================================\n",
      "Omnibus:                        3.980   Durbin-Watson:                   1.869\n",
      "Prob(Omnibus):                  0.137   Jarque-Bera (JB):                2.940\n",
      "Skew:                           0.570   Prob(JB):                        0.230\n",
      "Kurtosis:                       3.412   Cond. No.                         29.5\n",
      "==============================================================================\n",
      "\n",
      "Notes:\n",
      "[1] Standard Errors assume that the covariance matrix of the errors is correctly specified.\n"
     ]
    }
   ],
   "source": [
    "regdfej18_8b = smf.ols('unem ~ unem.shift(1) + inflation.shift(1)  ' , data=dfej18_3).fit()\n",
    "print(regdfej18_8b.summary())"
   ]
  },
  {
   "cell_type": "code",
   "execution_count": 41,
   "metadata": {},
   "outputs": [
    {
     "data": {
      "text/plain": [
       "1996    5.672923\n",
       "dtype: float64"
      ]
     },
     "execution_count": 41,
     "metadata": {},
     "output_type": "execute_result"
    }
   ],
   "source": [
    "regdfej18_8a.fittedvalues[-1:]"
   ]
  },
  {
   "cell_type": "code",
   "execution_count": 37,
   "metadata": {},
   "outputs": [
    {
     "data": {
      "text/plain": [
       "1996    5.441158\n",
       "dtype: float64"
      ]
     },
     "execution_count": 37,
     "metadata": {},
     "output_type": "execute_result"
    }
   ],
   "source": [
    "regdfej18_8b.fittedvalues[-1:]"
   ]
  },
  {
   "cell_type": "code",
   "execution_count": 40,
   "metadata": {},
   "outputs": [
    {
     "data": {
      "text/plain": [
       "1996    5.526452\n",
       "Name: unem, dtype: float32"
      ]
     },
     "execution_count": 40,
     "metadata": {},
     "output_type": "execute_result"
    }
   ],
   "source": [
    "regdfej18_8a.params[0]+regdfej18_8a.params[1]*dfej18_3.unem[-1:]"
   ]
  },
  {
   "cell_type": "code",
   "execution_count": 43,
   "metadata": {},
   "outputs": [
    {
     "data": {
      "text/plain": [
       "1996    5.348468\n",
       "dtype: float32"
      ]
     },
     "execution_count": 43,
     "metadata": {},
     "output_type": "execute_result"
    }
   ],
   "source": [
    "regdfej18_8b.params[0]+regdfej18_8b.params[1]*dfej18_3.unem[-1:]+regdfej18_8b.params[2]*dfej18_3.inf[-1:]"
   ]
  },
  {
   "cell_type": "markdown",
   "metadata": {},
   "source": [
    "## Ejemplo 18.9 Comparaciones fuera de la muestra de las predicciones de desempleo* (phillips.dta)"
   ]
  },
  {
   "cell_type": "code",
   "execution_count": null,
   "metadata": {},
   "outputs": [],
   "source": []
  },
  {
   "cell_type": "markdown",
   "metadata": {},
   "source": [
    "## Ejemplo 18.10 Predicción de horizonte dos años de la tása de desempleo* (phillips.dta)"
   ]
  },
  {
   "cell_type": "code",
   "execution_count": 97,
   "metadata": {},
   "outputs": [
    {
     "name": "stdout",
     "output_type": "stream",
     "text": [
      "                            OLS Regression Results                            \n",
      "==============================================================================\n",
      "Dep. Variable:              inflation   R-squared:                       0.457\n",
      "Model:                            OLS   Adj. R-squared:                  0.445\n",
      "Method:                 Least Squares   F-statistic:                     38.67\n",
      "Date:                Sun, 19 Jul 2020   Prob (F-statistic):           1.36e-07\n",
      "Time:                        21:57:40   Log-Likelihood:                -108.22\n",
      "No. Observations:                  48   AIC:                             220.4\n",
      "Df Residuals:                      46   BIC:                             224.2\n",
      "Df Model:                           1                                         \n",
      "Covariance Type:            nonrobust                                         \n",
      "=====================================================================================\n",
      "                        coef    std err          t      P>|t|      [0.025      0.975]\n",
      "-------------------------------------------------------------------------------------\n",
      "Intercept             1.2767      0.558      2.289      0.027       0.154       2.399\n",
      "inflation.shift()     0.6653      0.107      6.218      0.000       0.450       0.881\n",
      "==============================================================================\n",
      "Omnibus:                        7.544   Durbin-Watson:                   1.432\n",
      "Prob(Omnibus):                  0.023   Jarque-Bera (JB):               14.154\n",
      "Skew:                          -0.029   Prob(JB):                     0.000844\n",
      "Kurtosis:                       5.660   Cond. No.                         8.75\n",
      "==============================================================================\n",
      "\n",
      "Warnings:\n",
      "[1] Standard Errors assume that the covariance matrix of the errors is correctly specified.\n"
     ]
    }
   ],
   "source": [
    "regdfej18_10 = smf.ols('inflation ~ inflation.shift()  ' , data=dfej18_3).fit()\n",
    "print(regdfej18_10.summary())"
   ]
  },
  {
   "cell_type": "code",
   "execution_count": null,
   "metadata": {},
   "outputs": [],
   "source": []
  }
 ],
 "metadata": {
  "kernelspec": {
   "display_name": "Python 3 (ipykernel)",
   "language": "python",
   "name": "python3"
  },
  "language_info": {
   "codemirror_mode": {
    "name": "ipython",
    "version": 3
   },
   "file_extension": ".py",
   "mimetype": "text/x-python",
   "name": "python",
   "nbconvert_exporter": "python",
   "pygments_lexer": "ipython3",
   "version": "3.12.4"
  }
 },
 "nbformat": 4,
 "nbformat_minor": 4
}
