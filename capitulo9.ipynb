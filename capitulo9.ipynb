{
 "cells": [
  {
   "cell_type": "code",
   "execution_count": 6,
   "metadata": {},
   "outputs": [],
   "source": [
    "import pandas as pd\n",
    "import numpy as np\n",
    "import statsmodels.api as sm\n",
    "import statsmodels.formula.api as smf\n",
    "import statsmodels.stats.diagnostic as smd\n",
    "import statsmodels.stats.outliers_influence as oi\n",
    "import matplotlib.pyplot as plt\n",
    "from statsmodels.iolib.summary2 import summary_col\n",
    "%matplotlib inline\n"
   ]
  },
  {
   "cell_type": "markdown",
   "metadata": {},
   "source": [
    "## Ejemplo 9.1 Modelo económico de la delincuencia (crime.dta)"
   ]
  },
  {
   "cell_type": "code",
   "execution_count": 3,
   "metadata": {},
   "outputs": [
    {
     "data": {
      "text/html": [
       "<div>\n",
       "<style scoped>\n",
       "    .dataframe tbody tr th:only-of-type {\n",
       "        vertical-align: middle;\n",
       "    }\n",
       "\n",
       "    .dataframe tbody tr th {\n",
       "        vertical-align: top;\n",
       "    }\n",
       "\n",
       "    .dataframe thead th {\n",
       "        text-align: right;\n",
       "    }\n",
       "</style>\n",
       "<table border=\"1\" class=\"dataframe\">\n",
       "  <thead>\n",
       "    <tr style=\"text-align: right;\">\n",
       "      <th></th>\n",
       "      <th>narr86</th>\n",
       "      <th>nfarr86</th>\n",
       "      <th>nparr86</th>\n",
       "      <th>pcnv</th>\n",
       "      <th>avgsen</th>\n",
       "      <th>tottime</th>\n",
       "      <th>ptime86</th>\n",
       "      <th>qemp86</th>\n",
       "      <th>inc86</th>\n",
       "      <th>durat</th>\n",
       "      <th>black</th>\n",
       "      <th>hispan</th>\n",
       "      <th>born60</th>\n",
       "      <th>pcnvsq</th>\n",
       "      <th>pt86sq</th>\n",
       "      <th>inc86sq</th>\n",
       "    </tr>\n",
       "  </thead>\n",
       "  <tbody>\n",
       "    <tr>\n",
       "      <th>0</th>\n",
       "      <td>0</td>\n",
       "      <td>0</td>\n",
       "      <td>0</td>\n",
       "      <td>0.38</td>\n",
       "      <td>17.600000</td>\n",
       "      <td>35.200001</td>\n",
       "      <td>12</td>\n",
       "      <td>0.0</td>\n",
       "      <td>0.0</td>\n",
       "      <td>0.0</td>\n",
       "      <td>0</td>\n",
       "      <td>0</td>\n",
       "      <td>1</td>\n",
       "      <td>0.1444</td>\n",
       "      <td>144</td>\n",
       "      <td>0.000000</td>\n",
       "    </tr>\n",
       "    <tr>\n",
       "      <th>1</th>\n",
       "      <td>2</td>\n",
       "      <td>2</td>\n",
       "      <td>0</td>\n",
       "      <td>0.44</td>\n",
       "      <td>0.000000</td>\n",
       "      <td>0.000000</td>\n",
       "      <td>0</td>\n",
       "      <td>1.0</td>\n",
       "      <td>0.8</td>\n",
       "      <td>0.0</td>\n",
       "      <td>0</td>\n",
       "      <td>1</td>\n",
       "      <td>0</td>\n",
       "      <td>0.1936</td>\n",
       "      <td>0</td>\n",
       "      <td>0.640000</td>\n",
       "    </tr>\n",
       "    <tr>\n",
       "      <th>2</th>\n",
       "      <td>1</td>\n",
       "      <td>1</td>\n",
       "      <td>0</td>\n",
       "      <td>0.33</td>\n",
       "      <td>22.799999</td>\n",
       "      <td>22.799999</td>\n",
       "      <td>0</td>\n",
       "      <td>0.0</td>\n",
       "      <td>0.0</td>\n",
       "      <td>11.0</td>\n",
       "      <td>1</td>\n",
       "      <td>0</td>\n",
       "      <td>1</td>\n",
       "      <td>0.1089</td>\n",
       "      <td>0</td>\n",
       "      <td>0.000000</td>\n",
       "    </tr>\n",
       "    <tr>\n",
       "      <th>3</th>\n",
       "      <td>2</td>\n",
       "      <td>2</td>\n",
       "      <td>1</td>\n",
       "      <td>0.25</td>\n",
       "      <td>0.000000</td>\n",
       "      <td>0.000000</td>\n",
       "      <td>5</td>\n",
       "      <td>2.0</td>\n",
       "      <td>8.8</td>\n",
       "      <td>0.0</td>\n",
       "      <td>0</td>\n",
       "      <td>1</td>\n",
       "      <td>1</td>\n",
       "      <td>0.0625</td>\n",
       "      <td>25</td>\n",
       "      <td>77.440002</td>\n",
       "    </tr>\n",
       "    <tr>\n",
       "      <th>4</th>\n",
       "      <td>1</td>\n",
       "      <td>1</td>\n",
       "      <td>0</td>\n",
       "      <td>0.00</td>\n",
       "      <td>0.000000</td>\n",
       "      <td>0.000000</td>\n",
       "      <td>0</td>\n",
       "      <td>2.0</td>\n",
       "      <td>8.1</td>\n",
       "      <td>1.0</td>\n",
       "      <td>0</td>\n",
       "      <td>0</td>\n",
       "      <td>0</td>\n",
       "      <td>0.0000</td>\n",
       "      <td>0</td>\n",
       "      <td>65.610008</td>\n",
       "    </tr>\n",
       "  </tbody>\n",
       "</table>\n",
       "</div>"
      ],
      "text/plain": [
       "   narr86  nfarr86  nparr86  pcnv     avgsen    tottime  ptime86  qemp86  \\\n",
       "0       0        0        0  0.38  17.600000  35.200001       12     0.0   \n",
       "1       2        2        0  0.44   0.000000   0.000000        0     1.0   \n",
       "2       1        1        0  0.33  22.799999  22.799999        0     0.0   \n",
       "3       2        2        1  0.25   0.000000   0.000000        5     2.0   \n",
       "4       1        1        0  0.00   0.000000   0.000000        0     2.0   \n",
       "\n",
       "   inc86  durat  black  hispan  born60  pcnvsq  pt86sq    inc86sq  \n",
       "0    0.0    0.0      0       0       1  0.1444     144   0.000000  \n",
       "1    0.8    0.0      0       1       0  0.1936       0   0.640000  \n",
       "2    0.0   11.0      1       0       1  0.1089       0   0.000000  \n",
       "3    8.8    0.0      0       1       1  0.0625      25  77.440002  \n",
       "4    8.1    1.0      0       0       0  0.0000       0  65.610008  "
      ]
     },
     "execution_count": 3,
     "metadata": {},
     "output_type": "execute_result"
    }
   ],
   "source": [
    "dfej9_1 = pd.read_stata('crime1.dta')\n",
    "dfej9_1.head()"
   ]
  },
  {
   "cell_type": "code",
   "execution_count": 4,
   "metadata": {},
   "outputs": [
    {
     "name": "stdout",
     "output_type": "stream",
     "text": [
      "                            OLS Regression Results                            \n",
      "==============================================================================\n",
      "Dep. Variable:                 narr86   R-squared:                       0.072\n",
      "Model:                            OLS   Adj. R-squared:                  0.070\n",
      "Method:                 Least Squares   F-statistic:                     26.47\n",
      "Date:                Sat, 25 Sep 2021   Prob (F-statistic):           8.69e-40\n",
      "Time:                        14:36:46   Log-Likelihood:                -3349.9\n",
      "No. Observations:                2725   AIC:                             6718.\n",
      "Df Residuals:                    2716   BIC:                             6771.\n",
      "Df Model:                           8                                         \n",
      "Covariance Type:            nonrobust                                         \n",
      "==============================================================================\n",
      "                 coef    std err          t      P>|t|      [0.025      0.975]\n",
      "------------------------------------------------------------------------------\n",
      "Intercept      0.5687      0.036     15.777      0.000       0.498       0.639\n",
      "pcnv          -0.1332      0.040     -3.302      0.001      -0.212      -0.054\n",
      "avgsen        -0.0113      0.012     -0.925      0.355      -0.035       0.013\n",
      "tottime        0.0120      0.009      1.274      0.203      -0.006       0.031\n",
      "ptime86       -0.0408      0.009     -4.635      0.000      -0.058      -0.024\n",
      "qemp86        -0.0505      0.014     -3.500      0.000      -0.079      -0.022\n",
      "inc86         -0.0015      0.000     -4.370      0.000      -0.002      -0.001\n",
      "black          0.3265      0.045      7.189      0.000       0.237       0.416\n",
      "hispan         0.1939      0.040      4.883      0.000       0.116       0.272\n",
      "==============================================================================\n",
      "Omnibus:                     2396.637   Durbin-Watson:                   1.841\n",
      "Prob(Omnibus):                  0.000   Jarque-Bera (JB):           112063.876\n",
      "Skew:                           3.984   Prob(JB):                         0.00\n",
      "Kurtosis:                      33.389   Cond. No.                         289.\n",
      "==============================================================================\n",
      "\n",
      "Warnings:\n",
      "[1] Standard Errors assume that the covariance matrix of the errors is correctly specified.\n"
     ]
    }
   ],
   "source": [
    "regdfej9_1 = smf.ols('narr86 ~  pcnv + avgsen + tottime + ptime86 + qemp86 + inc86 + black + hispan ', data = dfej9_1).fit()\n",
    "print(regdfej9_1.summary())"
   ]
  },
  {
   "cell_type": "code",
   "execution_count": 9,
   "metadata": {},
   "outputs": [
    {
     "name": "stdout",
     "output_type": "stream",
     "text": [
      "                            OLS Regression Results                            \n",
      "==============================================================================\n",
      "Dep. Variable:                 narr86   R-squared:                       0.103\n",
      "Model:                            OLS   Adj. R-squared:                  0.100\n",
      "Method:                 Least Squares   F-statistic:                     28.46\n",
      "Date:                Sat, 25 Sep 2021   Prob (F-statistic):           4.21e-57\n",
      "Time:                        16:43:18   Log-Likelihood:                -3303.4\n",
      "No. Observations:                2725   AIC:                             6631.\n",
      "Df Residuals:                    2713   BIC:                             6702.\n",
      "Df Model:                          11                                         \n",
      "Covariance Type:            nonrobust                                         \n",
      "==============================================================================\n",
      "                 coef    std err          t      P>|t|      [0.025      0.975]\n",
      "------------------------------------------------------------------------------\n",
      "Intercept      0.5046      0.037     13.699      0.000       0.432       0.577\n",
      "pcnv           0.5525      0.154      3.582      0.000       0.250       0.855\n",
      "pcnvsq        -0.7302      0.156     -4.677      0.000      -1.036      -0.424\n",
      "avgsen        -0.0170      0.012     -1.412      0.158      -0.041       0.007\n",
      "tottime        0.0120      0.009      1.288      0.198      -0.006       0.030\n",
      "ptime86        0.2874      0.044      6.494      0.000       0.201       0.374\n",
      "pt86sq        -0.0296      0.004     -7.664      0.000      -0.037      -0.022\n",
      "qemp86        -0.0141      0.017     -0.812      0.417      -0.048       0.020\n",
      "inc86         -0.0034      0.001     -4.249      0.000      -0.005      -0.002\n",
      "inc86sq     7.186e-06   2.56e-06      2.811      0.005    2.17e-06    1.22e-05\n",
      "black          0.2923      0.045      6.520      0.000       0.204       0.380\n",
      "hispan         0.1636      0.039      4.147      0.000       0.086       0.241\n",
      "==============================================================================\n",
      "Omnibus:                     2398.739   Durbin-Watson:                   1.823\n",
      "Prob(Omnibus):                  0.000   Jarque-Bera (JB):           118676.960\n",
      "Skew:                           3.966   Prob(JB):                         0.00\n",
      "Kurtosis:                      34.342   Cond. No.                     2.51e+05\n",
      "==============================================================================\n",
      "\n",
      "Warnings:\n",
      "[1] Standard Errors assume that the covariance matrix of the errors is correctly specified.\n",
      "[2] The condition number is large, 2.51e+05. This might indicate that there are\n",
      "strong multicollinearity or other numerical problems.\n"
     ]
    }
   ],
   "source": [
    "regdfej9_1a = smf.ols('narr86 ~ pcnv+pcnvsq+avgsen+tottime+ptime86+pt86sq+qemp86+inc86+inc86sq + black + hispan ', data = dfej9_1).fit()\n",
    "print(regdfej9_1a.summary())"
   ]
  },
  {
   "cell_type": "code",
   "execution_count": 10,
   "metadata": {},
   "outputs": [],
   "source": []
  },
  {
   "cell_type": "code",
   "execution_count": 11,
   "metadata": {},
   "outputs": [
    {
     "name": "stdout",
     "output_type": "stream",
     "text": [
      "\n",
      "============================\n",
      "          narr86 I narr86 II\n",
      "----------------------------\n",
      "Intercept 0.5687   0.5046   \n",
      "          (0.0360) (0.0368) \n",
      "avgsen    -0.0113  -0.0170  \n",
      "          (0.0122) (0.0121) \n",
      "black     0.3265   0.2923   \n",
      "          (0.0454) (0.0448) \n",
      "hispan    0.1939   0.1636   \n",
      "          (0.0397) (0.0395) \n",
      "inc86     -0.0015  -0.0034  \n",
      "          (0.0003) (0.0008) \n",
      "inc86sq            0.0000   \n",
      "                   (0.0000) \n",
      "pcnv      -0.1332  0.5525   \n",
      "          (0.0404) (0.1542) \n",
      "pcnvsq             -0.7302  \n",
      "                   (0.1561) \n",
      "pt86sq             -0.0296  \n",
      "                   (0.0039) \n",
      "ptime86   -0.0408  0.2874   \n",
      "          (0.0088) (0.0443) \n",
      "qemp86    -0.0505  -0.0141  \n",
      "          (0.0144) (0.0174) \n",
      "tottime   0.0120   0.0120   \n",
      "          (0.0094) (0.0093) \n",
      "============================\n",
      "Standard errors in\n",
      "parentheses.\n"
     ]
    }
   ],
   "source": [
    "print(summary_col([regdfej9_1,regdfej9_1a]))"
   ]
  },
  {
   "cell_type": "markdown",
   "metadata": {},
   "source": [
    "Los cuadrados de las variables $pcnv$, $ptime86$ e $inc86$, se incluyen porque en el modelo original cada uno de los términos lineales es significativo"
   ]
  },
  {
   "cell_type": "markdown",
   "metadata": {},
   "source": [
    "La variable $qemp86$ es una variable discreta , de manera que en no se en el nuevo modelo incluye su cuadrado."
   ]
  },
  {
   "cell_type": "markdown",
   "metadata": {},
   "source": [
    "Nota : Si hacemos la regresión y el test con np.power(var, 2) el F es distinto, pero el resultado en términos de decisión es el mismo"
   ]
  },
  {
   "cell_type": "code",
   "execution_count": 13,
   "metadata": {},
   "outputs": [
    {
     "name": "stdout",
     "output_type": "stream",
     "text": [
      "<F test: F=array([[31.40381314]]), p=5.965855699821252e-20, df_denom=2713, df_num=3>\n"
     ]
    }
   ],
   "source": [
    "hypotheses = '(pcnvsq = 0),(pt86sq=0), (inc86sq=0)'\n",
    "f_test = regdfej9_1a.f_test(hypotheses)    \n",
    "print (f_test)"
   ]
  },
  {
   "cell_type": "markdown",
   "metadata": {},
   "source": [
    "Se rechaza la Ho pues el p value es muy pequeño 5,9e-20. Entonces el modelo inicial pasó por alto algunas no linealidades\n",
    "potencialmente importantes."
   ]
  },
  {
   "cell_type": "markdown",
   "metadata": {},
   "source": [
    "La presencia de los términos cuadráticos dificulta un poco la interpretación del modelo"
   ]
  },
  {
   "cell_type": "markdown",
   "metadata": {},
   "source": [
    "El problema de la forma funcional puede deberse a la naturaleza de la variable dependiente. Otros modelos son teóricamente más adecuados para manejar variables dependientes que toman una cantidad reducida de valores enteros"
   ]
  },
  {
   "cell_type": "code",
   "execution_count": 14,
   "metadata": {},
   "outputs": [
    {
     "data": {
      "text/plain": [
       "array([ 0,  2,  1,  5,  3,  4, 12,  9,  6, 10,  7], dtype=int8)"
      ]
     },
     "execution_count": 14,
     "metadata": {},
     "output_type": "execute_result"
    }
   ],
   "source": [
    "dfej9_1.narr86.unique()"
   ]
  },
  {
   "cell_type": "markdown",
   "metadata": {},
   "source": [
    "## Ejemplo 9.2  La ecuación del precio de la vivienda (hprice1.dta)"
   ]
  },
  {
   "cell_type": "code",
   "execution_count": 2,
   "metadata": {},
   "outputs": [
    {
     "data": {
      "text/html": [
       "<div>\n",
       "<style scoped>\n",
       "    .dataframe tbody tr th:only-of-type {\n",
       "        vertical-align: middle;\n",
       "    }\n",
       "\n",
       "    .dataframe tbody tr th {\n",
       "        vertical-align: top;\n",
       "    }\n",
       "\n",
       "    .dataframe thead th {\n",
       "        text-align: right;\n",
       "    }\n",
       "</style>\n",
       "<table border=\"1\" class=\"dataframe\">\n",
       "  <thead>\n",
       "    <tr style=\"text-align: right;\">\n",
       "      <th></th>\n",
       "      <th>price</th>\n",
       "      <th>assess</th>\n",
       "      <th>bdrms</th>\n",
       "      <th>lotsize</th>\n",
       "      <th>sqrft</th>\n",
       "      <th>colonial</th>\n",
       "      <th>lprice</th>\n",
       "      <th>lassess</th>\n",
       "      <th>llotsize</th>\n",
       "      <th>lsqrft</th>\n",
       "    </tr>\n",
       "  </thead>\n",
       "  <tbody>\n",
       "    <tr>\n",
       "      <th>0</th>\n",
       "      <td>300.0</td>\n",
       "      <td>349.100006</td>\n",
       "      <td>4</td>\n",
       "      <td>6126.0</td>\n",
       "      <td>2438</td>\n",
       "      <td>1</td>\n",
       "      <td>5.703783</td>\n",
       "      <td>5.855359</td>\n",
       "      <td>8.720297</td>\n",
       "      <td>7.798934</td>\n",
       "    </tr>\n",
       "    <tr>\n",
       "      <th>1</th>\n",
       "      <td>370.0</td>\n",
       "      <td>351.500000</td>\n",
       "      <td>3</td>\n",
       "      <td>9903.0</td>\n",
       "      <td>2076</td>\n",
       "      <td>1</td>\n",
       "      <td>5.913503</td>\n",
       "      <td>5.862210</td>\n",
       "      <td>9.200593</td>\n",
       "      <td>7.638198</td>\n",
       "    </tr>\n",
       "    <tr>\n",
       "      <th>2</th>\n",
       "      <td>191.0</td>\n",
       "      <td>217.699997</td>\n",
       "      <td>3</td>\n",
       "      <td>5200.0</td>\n",
       "      <td>1374</td>\n",
       "      <td>0</td>\n",
       "      <td>5.252274</td>\n",
       "      <td>5.383118</td>\n",
       "      <td>8.556414</td>\n",
       "      <td>7.225482</td>\n",
       "    </tr>\n",
       "    <tr>\n",
       "      <th>3</th>\n",
       "      <td>195.0</td>\n",
       "      <td>231.800003</td>\n",
       "      <td>3</td>\n",
       "      <td>4600.0</td>\n",
       "      <td>1448</td>\n",
       "      <td>1</td>\n",
       "      <td>5.273000</td>\n",
       "      <td>5.445875</td>\n",
       "      <td>8.433811</td>\n",
       "      <td>7.277938</td>\n",
       "    </tr>\n",
       "    <tr>\n",
       "      <th>4</th>\n",
       "      <td>373.0</td>\n",
       "      <td>319.100006</td>\n",
       "      <td>4</td>\n",
       "      <td>6095.0</td>\n",
       "      <td>2514</td>\n",
       "      <td>1</td>\n",
       "      <td>5.921578</td>\n",
       "      <td>5.765504</td>\n",
       "      <td>8.715224</td>\n",
       "      <td>7.829630</td>\n",
       "    </tr>\n",
       "  </tbody>\n",
       "</table>\n",
       "</div>"
      ],
      "text/plain": [
       "   price      assess  bdrms  lotsize  sqrft  colonial    lprice   lassess  \\\n",
       "0  300.0  349.100006      4   6126.0   2438         1  5.703783  5.855359   \n",
       "1  370.0  351.500000      3   9903.0   2076         1  5.913503  5.862210   \n",
       "2  191.0  217.699997      3   5200.0   1374         0  5.252274  5.383118   \n",
       "3  195.0  231.800003      3   4600.0   1448         1  5.273000  5.445875   \n",
       "4  373.0  319.100006      4   6095.0   2514         1  5.921578  5.765504   \n",
       "\n",
       "   llotsize    lsqrft  \n",
       "0  8.720297  7.798934  \n",
       "1  9.200593  7.638198  \n",
       "2  8.556414  7.225482  \n",
       "3  8.433811  7.277938  \n",
       "4  8.715224  7.829630  "
      ]
     },
     "execution_count": 2,
     "metadata": {},
     "output_type": "execute_result"
    }
   ],
   "source": [
    "dfej9_2 = pd.read_stata('hprice1.dta')\n",
    "dfej9_2.head()"
   ]
  },
  {
   "cell_type": "code",
   "execution_count": 3,
   "metadata": {},
   "outputs": [
    {
     "name": "stdout",
     "output_type": "stream",
     "text": [
      "                            OLS Regression Results                            \n",
      "==============================================================================\n",
      "Dep. Variable:                  price   R-squared:                       0.672\n",
      "Model:                            OLS   Adj. R-squared:                  0.661\n",
      "Method:                 Least Squares   F-statistic:                     57.46\n",
      "Date:                Thu, 23 Sep 2021   Prob (F-statistic):           2.70e-20\n",
      "Time:                        18:14:52   Log-Likelihood:                -482.88\n",
      "No. Observations:                  88   AIC:                             973.8\n",
      "Df Residuals:                      84   BIC:                             983.7\n",
      "Df Model:                           3                                         \n",
      "Covariance Type:            nonrobust                                         \n",
      "==============================================================================\n",
      "                 coef    std err          t      P>|t|      [0.025      0.975]\n",
      "------------------------------------------------------------------------------\n",
      "Intercept    -21.7703     29.475     -0.739      0.462     -80.385      36.844\n",
      "lotsize        0.0021      0.001      3.220      0.002       0.001       0.003\n",
      "sqrft          0.1228      0.013      9.275      0.000       0.096       0.149\n",
      "bdrms         13.8525      9.010      1.537      0.128      -4.065      31.770\n",
      "==============================================================================\n",
      "Omnibus:                       20.398   Durbin-Watson:                   2.110\n",
      "Prob(Omnibus):                  0.000   Jarque-Bera (JB):               32.278\n",
      "Skew:                           0.961   Prob(JB):                     9.79e-08\n",
      "Kurtosis:                       5.261   Cond. No.                     6.41e+04\n",
      "==============================================================================\n",
      "\n",
      "Warnings:\n",
      "[1] Standard Errors assume that the covariance matrix of the errors is correctly specified.\n",
      "[2] The condition number is large, 6.41e+04. This might indicate that there are\n",
      "strong multicollinearity or other numerical problems.\n"
     ]
    }
   ],
   "source": [
    "regdfej9_2 = smf.ols('price ~  lotsize + sqrft + bdrms ', data = dfej9_2).fit()\n",
    "print(regdfej9_2.summary())"
   ]
  },
  {
   "cell_type": "code",
   "execution_count": null,
   "metadata": {},
   "outputs": [],
   "source": [
    "# Nota : Ya no existe el comando linear_reset de la librería  statsmodels.stats.diagnostic"
   ]
  },
  {
   "cell_type": "code",
   "execution_count": null,
   "metadata": {},
   "outputs": [],
   "source": [
    "En degree van la cantidad de independientes de la regresión original"
   ]
  },
  {
   "cell_type": "code",
   "execution_count": 10,
   "metadata": {},
   "outputs": [],
   "source": [
    "resettest = oi.reset_ramsey (regdfej9_2, degree = 3)"
   ]
  },
  {
   "cell_type": "code",
   "execution_count": 11,
   "metadata": {},
   "outputs": [
    {
     "name": "stdout",
     "output_type": "stream",
     "text": [
      "<F test: F=array([[4.66820553]]), p=0.012021711442873445, df_denom=82, df_num=2>\n"
     ]
    }
   ],
   "source": [
    "print(resettest)"
   ]
  },
  {
   "cell_type": "code",
   "execution_count": 12,
   "metadata": {},
   "outputs": [
    {
     "name": "stdout",
     "output_type": "stream",
     "text": [
      "                            OLS Regression Results                            \n",
      "==============================================================================\n",
      "Dep. Variable:                 lprice   R-squared:                       0.643\n",
      "Model:                            OLS   Adj. R-squared:                  0.630\n",
      "Method:                 Least Squares   F-statistic:                     50.42\n",
      "Date:                Thu, 23 Sep 2021   Prob (F-statistic):           9.74e-19\n",
      "Time:                        19:43:53   Log-Likelihood:                 25.861\n",
      "No. Observations:                  88   AIC:                            -43.72\n",
      "Df Residuals:                      84   BIC:                            -33.81\n",
      "Df Model:                           3                                         \n",
      "Covariance Type:            nonrobust                                         \n",
      "==============================================================================\n",
      "                 coef    std err          t      P>|t|      [0.025      0.975]\n",
      "------------------------------------------------------------------------------\n",
      "Intercept     -1.2970      0.651     -1.992      0.050      -2.592      -0.002\n",
      "llotsize       0.1680      0.038      4.388      0.000       0.092       0.244\n",
      "lsqrft         0.7002      0.093      7.540      0.000       0.516       0.885\n",
      "bdrms          0.0370      0.028      1.342      0.183      -0.018       0.092\n",
      "==============================================================================\n",
      "Omnibus:                       12.060   Durbin-Watson:                   2.089\n",
      "Prob(Omnibus):                  0.002   Jarque-Bera (JB):               34.889\n",
      "Skew:                          -0.188   Prob(JB):                     2.65e-08\n",
      "Kurtosis:                       6.062   Cond. No.                         410.\n",
      "==============================================================================\n",
      "\n",
      "Warnings:\n",
      "[1] Standard Errors assume that the covariance matrix of the errors is correctly specified.\n"
     ]
    }
   ],
   "source": [
    "regdfej9_2a = smf.ols('lprice ~  llotsize + lsqrft + bdrms ', data = dfej9_2).fit()\n",
    "print(regdfej9_2a.summary())"
   ]
  },
  {
   "cell_type": "code",
   "execution_count": 14,
   "metadata": {},
   "outputs": [],
   "source": [
    "resettesta = oi.reset_ramsey (regdfej9_2a, degree = 3)"
   ]
  },
  {
   "cell_type": "code",
   "execution_count": 15,
   "metadata": {},
   "outputs": [
    {
     "name": "stdout",
     "output_type": "stream",
     "text": [
      "<F test: F=array([[2.5650462]]), p=0.0830754662433421, df_denom=82, df_num=2>\n"
     ]
    }
   ],
   "source": [
    "print(resettesta)"
   ]
  },
  {
   "cell_type": "markdown",
   "metadata": {},
   "source": [
    "Se prueban dos modelos, uno en nivel, y el otro en logaritmos, y con las explicativas también en logaritmos salvo una, $bdrms$"
   ]
  },
  {
   "cell_type": "markdown",
   "metadata": {},
   "source": [
    "El RESET del primer modelo tiene un p value de 0.012 , pareciendo que hay evidencia de especificación incorrecta de la forma funcional\n",
    "El RESET del segundo modelo, con un p value de 0.08 , no rechaza la Ho (que supone que el polinomo de valores ajustados no es significativo) por lo que no se rechaza el modelo con logaritmos (al 5%, pero si al 10%)"
   ]
  },
  {
   "cell_type": "markdown",
   "metadata": {},
   "source": [
    "## Ejemplo 9.3 QI como proxi de la habilidad (wage2.dta)"
   ]
  },
  {
   "cell_type": "code",
   "execution_count": 2,
   "metadata": {},
   "outputs": [
    {
     "data": {
      "text/html": [
       "<div>\n",
       "<style scoped>\n",
       "    .dataframe tbody tr th:only-of-type {\n",
       "        vertical-align: middle;\n",
       "    }\n",
       "\n",
       "    .dataframe tbody tr th {\n",
       "        vertical-align: top;\n",
       "    }\n",
       "\n",
       "    .dataframe thead th {\n",
       "        text-align: right;\n",
       "    }\n",
       "</style>\n",
       "<table border=\"1\" class=\"dataframe\">\n",
       "  <thead>\n",
       "    <tr style=\"text-align: right;\">\n",
       "      <th></th>\n",
       "      <th>wage</th>\n",
       "      <th>hours</th>\n",
       "      <th>IQ</th>\n",
       "      <th>KWW</th>\n",
       "      <th>educ</th>\n",
       "      <th>exper</th>\n",
       "      <th>tenure</th>\n",
       "      <th>age</th>\n",
       "      <th>married</th>\n",
       "      <th>black</th>\n",
       "      <th>south</th>\n",
       "      <th>urban</th>\n",
       "      <th>sibs</th>\n",
       "      <th>brthord</th>\n",
       "      <th>meduc</th>\n",
       "      <th>feduc</th>\n",
       "      <th>lwage</th>\n",
       "    </tr>\n",
       "  </thead>\n",
       "  <tbody>\n",
       "    <tr>\n",
       "      <th>0</th>\n",
       "      <td>769</td>\n",
       "      <td>40</td>\n",
       "      <td>93</td>\n",
       "      <td>35</td>\n",
       "      <td>12</td>\n",
       "      <td>11</td>\n",
       "      <td>2</td>\n",
       "      <td>31</td>\n",
       "      <td>1</td>\n",
       "      <td>0</td>\n",
       "      <td>0</td>\n",
       "      <td>1</td>\n",
       "      <td>1</td>\n",
       "      <td>2.0</td>\n",
       "      <td>8.0</td>\n",
       "      <td>8.0</td>\n",
       "      <td>6.645091</td>\n",
       "    </tr>\n",
       "    <tr>\n",
       "      <th>1</th>\n",
       "      <td>808</td>\n",
       "      <td>50</td>\n",
       "      <td>119</td>\n",
       "      <td>41</td>\n",
       "      <td>18</td>\n",
       "      <td>11</td>\n",
       "      <td>16</td>\n",
       "      <td>37</td>\n",
       "      <td>1</td>\n",
       "      <td>0</td>\n",
       "      <td>0</td>\n",
       "      <td>1</td>\n",
       "      <td>1</td>\n",
       "      <td>NaN</td>\n",
       "      <td>14.0</td>\n",
       "      <td>14.0</td>\n",
       "      <td>6.694562</td>\n",
       "    </tr>\n",
       "    <tr>\n",
       "      <th>2</th>\n",
       "      <td>825</td>\n",
       "      <td>40</td>\n",
       "      <td>108</td>\n",
       "      <td>46</td>\n",
       "      <td>14</td>\n",
       "      <td>11</td>\n",
       "      <td>9</td>\n",
       "      <td>33</td>\n",
       "      <td>1</td>\n",
       "      <td>0</td>\n",
       "      <td>0</td>\n",
       "      <td>1</td>\n",
       "      <td>1</td>\n",
       "      <td>2.0</td>\n",
       "      <td>14.0</td>\n",
       "      <td>14.0</td>\n",
       "      <td>6.715384</td>\n",
       "    </tr>\n",
       "    <tr>\n",
       "      <th>3</th>\n",
       "      <td>650</td>\n",
       "      <td>40</td>\n",
       "      <td>96</td>\n",
       "      <td>32</td>\n",
       "      <td>12</td>\n",
       "      <td>13</td>\n",
       "      <td>7</td>\n",
       "      <td>32</td>\n",
       "      <td>1</td>\n",
       "      <td>0</td>\n",
       "      <td>0</td>\n",
       "      <td>1</td>\n",
       "      <td>4</td>\n",
       "      <td>3.0</td>\n",
       "      <td>12.0</td>\n",
       "      <td>12.0</td>\n",
       "      <td>6.476973</td>\n",
       "    </tr>\n",
       "    <tr>\n",
       "      <th>4</th>\n",
       "      <td>562</td>\n",
       "      <td>40</td>\n",
       "      <td>74</td>\n",
       "      <td>27</td>\n",
       "      <td>11</td>\n",
       "      <td>14</td>\n",
       "      <td>5</td>\n",
       "      <td>34</td>\n",
       "      <td>1</td>\n",
       "      <td>0</td>\n",
       "      <td>0</td>\n",
       "      <td>1</td>\n",
       "      <td>10</td>\n",
       "      <td>6.0</td>\n",
       "      <td>6.0</td>\n",
       "      <td>11.0</td>\n",
       "      <td>6.331502</td>\n",
       "    </tr>\n",
       "  </tbody>\n",
       "</table>\n",
       "</div>"
      ],
      "text/plain": [
       "   wage  hours   IQ  KWW  educ  exper  tenure  age  married  black  south  \\\n",
       "0   769     40   93   35    12     11       2   31        1      0      0   \n",
       "1   808     50  119   41    18     11      16   37        1      0      0   \n",
       "2   825     40  108   46    14     11       9   33        1      0      0   \n",
       "3   650     40   96   32    12     13       7   32        1      0      0   \n",
       "4   562     40   74   27    11     14       5   34        1      0      0   \n",
       "\n",
       "   urban  sibs  brthord  meduc  feduc     lwage  \n",
       "0      1     1      2.0    8.0    8.0  6.645091  \n",
       "1      1     1      NaN   14.0   14.0  6.694562  \n",
       "2      1     1      2.0   14.0   14.0  6.715384  \n",
       "3      1     4      3.0   12.0   12.0  6.476973  \n",
       "4      1    10      6.0    6.0   11.0  6.331502  "
      ]
     },
     "execution_count": 2,
     "metadata": {},
     "output_type": "execute_result"
    }
   ],
   "source": [
    "dfej9_3 = pd.read_stata('wage2.dta')\n",
    "dfej9_3.head()"
   ]
  },
  {
   "cell_type": "code",
   "execution_count": 7,
   "metadata": {},
   "outputs": [
    {
     "data": {
      "text/plain": [
       "wage         int16\n",
       "hours         int8\n",
       "IQ           int16\n",
       "KWW           int8\n",
       "educ          int8\n",
       "exper         int8\n",
       "tenure        int8\n",
       "age           int8\n",
       "married       int8\n",
       "black         int8\n",
       "south         int8\n",
       "urban         int8\n",
       "sibs          int8\n",
       "brthord    float64\n",
       "meduc      float64\n",
       "feduc      float64\n",
       "lwage      float32\n",
       "dtype: object"
      ]
     },
     "execution_count": 7,
     "metadata": {},
     "output_type": "execute_result"
    }
   ],
   "source": [
    "dfej9_3.dtypes"
   ]
  },
  {
   "cell_type": "code",
   "execution_count": 8,
   "metadata": {},
   "outputs": [],
   "source": [
    "dfej9_3['wage'] = dfej9_3['wage'].astype(float)"
   ]
  },
  {
   "cell_type": "code",
   "execution_count": 9,
   "metadata": {},
   "outputs": [],
   "source": [
    "dfej9_3['educ'] = dfej9_3['educ'].astype(float)"
   ]
  },
  {
   "cell_type": "code",
   "execution_count": 10,
   "metadata": {},
   "outputs": [],
   "source": [
    "dfej9_3['tenure'] = dfej9_3['tenure'].astype(float)"
   ]
  },
  {
   "cell_type": "code",
   "execution_count": 11,
   "metadata": {},
   "outputs": [],
   "source": [
    "dfej9_3['married'] = dfej9_3['married'].astype(float)"
   ]
  },
  {
   "cell_type": "code",
   "execution_count": 12,
   "metadata": {},
   "outputs": [],
   "source": [
    "dfej9_3['south'] = dfej9_3['south'].astype(float)"
   ]
  },
  {
   "cell_type": "code",
   "execution_count": 13,
   "metadata": {},
   "outputs": [],
   "source": [
    "dfej9_3['urban'] = dfej9_3['urban'].astype(float)"
   ]
  },
  {
   "cell_type": "code",
   "execution_count": 14,
   "metadata": {},
   "outputs": [],
   "source": [
    "dfej9_3['black'] = dfej9_3['black'].astype(float)"
   ]
  },
  {
   "cell_type": "code",
   "execution_count": 15,
   "metadata": {},
   "outputs": [],
   "source": [
    "dfej9_3['IQ'] = dfej9_3['IQ'].astype(float)"
   ]
  },
  {
   "cell_type": "code",
   "execution_count": 18,
   "metadata": {},
   "outputs": [],
   "source": [
    "dfej9_3['exper'] = dfej9_3['exper'].astype(float)"
   ]
  },
  {
   "cell_type": "code",
   "execution_count": 16,
   "metadata": {},
   "outputs": [],
   "source": [
    "edIQ = dfej9_3['educ']*dfej9_3['IQ']"
   ]
  },
  {
   "cell_type": "code",
   "execution_count": 19,
   "metadata": {},
   "outputs": [
    {
     "name": "stdout",
     "output_type": "stream",
     "text": [
      "                            OLS Regression Results                            \n",
      "==============================================================================\n",
      "Dep. Variable:           np.log(wage)   R-squared:                       0.263\n",
      "Model:                            OLS   Adj. R-squared:                  0.256\n",
      "Method:                 Least Squares   F-statistic:                     36.76\n",
      "Date:                Wed, 15 Jul 2020   Prob (F-statistic):           6.85e-56\n",
      "Time:                        15:53:57   Log-Likelihood:                -374.69\n",
      "No. Observations:                 935   AIC:                             769.4\n",
      "Df Residuals:                     925   BIC:                             817.8\n",
      "Df Model:                           9                                         \n",
      "Covariance Type:            nonrobust                                         \n",
      "==============================================================================\n",
      "                 coef    std err          t      P>|t|      [0.025      0.975]\n",
      "------------------------------------------------------------------------------\n",
      "Intercept      5.6482      0.546     10.339      0.000       4.576       6.720\n",
      "educ           0.0185      0.041      0.449      0.653      -0.062       0.099\n",
      "exper          0.0139      0.003      4.378      0.000       0.008       0.020\n",
      "tenure         0.0114      0.002      4.670      0.000       0.007       0.016\n",
      "married        0.2009      0.039      5.173      0.000       0.125       0.277\n",
      "south         -0.0802      0.026     -3.056      0.002      -0.132      -0.029\n",
      "urban          0.1836      0.027      6.835      0.000       0.131       0.236\n",
      "black         -0.1467      0.040     -3.695      0.000      -0.225      -0.069\n",
      "IQ            -0.0009      0.005     -0.182      0.855      -0.011       0.009\n",
      "edIQ           0.0003      0.000      0.888      0.375      -0.000       0.001\n",
      "==============================================================================\n",
      "Omnibus:                       43.073   Durbin-Watson:                   1.822\n",
      "Prob(Omnibus):                  0.000   Jarque-Bera (JB):               98.942\n",
      "Skew:                          -0.245   Prob(JB):                     3.27e-22\n",
      "Kurtosis:                       4.517   Cond. No.                     6.62e+04\n",
      "==============================================================================\n",
      "\n",
      "Warnings:\n",
      "[1] Standard Errors assume that the covariance matrix of the errors is correctly specified.\n",
      "[2] The condition number is large, 6.62e+04. This might indicate that there are\n",
      "strong multicollinearity or other numerical problems.\n"
     ]
    }
   ],
   "source": [
    "regdfej9_3 = smf.ols('np.log(wage) ~  educ + exper + tenure + married + south + urban + black + IQ + edIQ  ', data = dfej9_3).fit()\n",
    "print(regdfej9_3.summary())"
   ]
  },
  {
   "cell_type": "markdown",
   "metadata": {},
   "source": [
    "## Ejemplo 9.4 Índices de delincuancia urbana (crime2.dta)"
   ]
  },
  {
   "cell_type": "code",
   "execution_count": 45,
   "metadata": {},
   "outputs": [
    {
     "data": {
      "text/html": [
       "<div>\n",
       "<style scoped>\n",
       "    .dataframe tbody tr th:only-of-type {\n",
       "        vertical-align: middle;\n",
       "    }\n",
       "\n",
       "    .dataframe tbody tr th {\n",
       "        vertical-align: top;\n",
       "    }\n",
       "\n",
       "    .dataframe thead th {\n",
       "        text-align: right;\n",
       "    }\n",
       "</style>\n",
       "<table border=\"1\" class=\"dataframe\">\n",
       "  <thead>\n",
       "    <tr style=\"text-align: right;\">\n",
       "      <th></th>\n",
       "      <th>pop</th>\n",
       "      <th>crimes</th>\n",
       "      <th>unem</th>\n",
       "      <th>officers</th>\n",
       "      <th>pcinc</th>\n",
       "      <th>west</th>\n",
       "      <th>nrtheast</th>\n",
       "      <th>south</th>\n",
       "      <th>year</th>\n",
       "      <th>area</th>\n",
       "      <th>...</th>\n",
       "      <th>clcrimes</th>\n",
       "      <th>clpop</th>\n",
       "      <th>clcrmrte</th>\n",
       "      <th>lpolpc</th>\n",
       "      <th>clpolpc</th>\n",
       "      <th>cllawexp</th>\n",
       "      <th>cunem</th>\n",
       "      <th>clpopden</th>\n",
       "      <th>lcrmrt_1</th>\n",
       "      <th>ccrmrte</th>\n",
       "    </tr>\n",
       "  </thead>\n",
       "  <tbody>\n",
       "    <tr>\n",
       "      <th>0</th>\n",
       "      <td>229528.0</td>\n",
       "      <td>17136.0</td>\n",
       "      <td>8.2</td>\n",
       "      <td>326</td>\n",
       "      <td>8532</td>\n",
       "      <td>1</td>\n",
       "      <td>0</td>\n",
       "      <td>0</td>\n",
       "      <td>82</td>\n",
       "      <td>44.599998</td>\n",
       "      <td>...</td>\n",
       "      <td>NaN</td>\n",
       "      <td>NaN</td>\n",
       "      <td>NaN</td>\n",
       "      <td>0.350872</td>\n",
       "      <td>NaN</td>\n",
       "      <td>NaN</td>\n",
       "      <td>NaN</td>\n",
       "      <td>NaN</td>\n",
       "      <td>NaN</td>\n",
       "      <td>NaN</td>\n",
       "    </tr>\n",
       "    <tr>\n",
       "      <th>1</th>\n",
       "      <td>246815.0</td>\n",
       "      <td>17306.0</td>\n",
       "      <td>3.7</td>\n",
       "      <td>321</td>\n",
       "      <td>12155</td>\n",
       "      <td>1</td>\n",
       "      <td>0</td>\n",
       "      <td>0</td>\n",
       "      <td>87</td>\n",
       "      <td>44.599998</td>\n",
       "      <td>...</td>\n",
       "      <td>0.009871</td>\n",
       "      <td>0.072614</td>\n",
       "      <td>-0.062743</td>\n",
       "      <td>0.262802</td>\n",
       "      <td>-0.08807</td>\n",
       "      <td>0.977952</td>\n",
       "      <td>-4.5</td>\n",
       "      <td>0.072615</td>\n",
       "      <td>4.312912</td>\n",
       "      <td>-4.540268</td>\n",
       "    </tr>\n",
       "    <tr>\n",
       "      <th>2</th>\n",
       "      <td>814054.0</td>\n",
       "      <td>75654.0</td>\n",
       "      <td>8.1</td>\n",
       "      <td>1621</td>\n",
       "      <td>7551</td>\n",
       "      <td>1</td>\n",
       "      <td>0</td>\n",
       "      <td>0</td>\n",
       "      <td>82</td>\n",
       "      <td>375.000000</td>\n",
       "      <td>...</td>\n",
       "      <td>NaN</td>\n",
       "      <td>NaN</td>\n",
       "      <td>NaN</td>\n",
       "      <td>0.688772</td>\n",
       "      <td>NaN</td>\n",
       "      <td>NaN</td>\n",
       "      <td>NaN</td>\n",
       "      <td>NaN</td>\n",
       "      <td>NaN</td>\n",
       "      <td>NaN</td>\n",
       "    </tr>\n",
       "    <tr>\n",
       "      <th>3</th>\n",
       "      <td>933177.0</td>\n",
       "      <td>83960.0</td>\n",
       "      <td>5.4</td>\n",
       "      <td>1803</td>\n",
       "      <td>11363</td>\n",
       "      <td>1</td>\n",
       "      <td>0</td>\n",
       "      <td>0</td>\n",
       "      <td>87</td>\n",
       "      <td>375.000000</td>\n",
       "      <td>...</td>\n",
       "      <td>0.104170</td>\n",
       "      <td>0.136568</td>\n",
       "      <td>-0.032398</td>\n",
       "      <td>0.658612</td>\n",
       "      <td>-0.03016</td>\n",
       "      <td>0.200762</td>\n",
       "      <td>-2.7</td>\n",
       "      <td>0.136568</td>\n",
       "      <td>4.531899</td>\n",
       "      <td>-2.962654</td>\n",
       "    </tr>\n",
       "    <tr>\n",
       "      <th>4</th>\n",
       "      <td>374974.0</td>\n",
       "      <td>31352.0</td>\n",
       "      <td>9.0</td>\n",
       "      <td>633</td>\n",
       "      <td>8343</td>\n",
       "      <td>1</td>\n",
       "      <td>0</td>\n",
       "      <td>0</td>\n",
       "      <td>82</td>\n",
       "      <td>49.799999</td>\n",
       "      <td>...</td>\n",
       "      <td>NaN</td>\n",
       "      <td>NaN</td>\n",
       "      <td>NaN</td>\n",
       "      <td>0.523614</td>\n",
       "      <td>NaN</td>\n",
       "      <td>NaN</td>\n",
       "      <td>NaN</td>\n",
       "      <td>NaN</td>\n",
       "      <td>NaN</td>\n",
       "      <td>NaN</td>\n",
       "    </tr>\n",
       "  </tbody>\n",
       "</table>\n",
       "<p>5 rows × 34 columns</p>\n",
       "</div>"
      ],
      "text/plain": [
       "        pop   crimes  unem  officers  pcinc  west  nrtheast  south  year  \\\n",
       "0  229528.0  17136.0   8.2       326   8532     1         0      0    82   \n",
       "1  246815.0  17306.0   3.7       321  12155     1         0      0    87   \n",
       "2  814054.0  75654.0   8.1      1621   7551     1         0      0    82   \n",
       "3  933177.0  83960.0   5.4      1803  11363     1         0      0    87   \n",
       "4  374974.0  31352.0   9.0       633   8343     1         0      0    82   \n",
       "\n",
       "         area  ...  clcrimes     clpop  clcrmrte    lpolpc  clpolpc  cllawexp  \\\n",
       "0   44.599998  ...       NaN       NaN       NaN  0.350872      NaN       NaN   \n",
       "1   44.599998  ...  0.009871  0.072614 -0.062743  0.262802 -0.08807  0.977952   \n",
       "2  375.000000  ...       NaN       NaN       NaN  0.688772      NaN       NaN   \n",
       "3  375.000000  ...  0.104170  0.136568 -0.032398  0.658612 -0.03016  0.200762   \n",
       "4   49.799999  ...       NaN       NaN       NaN  0.523614      NaN       NaN   \n",
       "\n",
       "   cunem  clpopden  lcrmrt_1   ccrmrte  \n",
       "0    NaN       NaN       NaN       NaN  \n",
       "1   -4.5  0.072615  4.312912 -4.540268  \n",
       "2    NaN       NaN       NaN       NaN  \n",
       "3   -2.7  0.136568  4.531899 -2.962654  \n",
       "4    NaN       NaN       NaN       NaN  \n",
       "\n",
       "[5 rows x 34 columns]"
      ]
     },
     "execution_count": 45,
     "metadata": {},
     "output_type": "execute_result"
    }
   ],
   "source": [
    "dfej9_4 = pd.read_stata('crime2.dta')\n",
    "dfej9_4.head()"
   ]
  },
  {
   "cell_type": "code",
   "execution_count": null,
   "metadata": {},
   "outputs": [],
   "source": []
  },
  {
   "cell_type": "code",
   "execution_count": 53,
   "metadata": {},
   "outputs": [],
   "source": [
    "# Se filtra la base para el año 1987 y se resetea el índice por quue lo exige la regresión\n",
    "# si hicieramos len() se vería que esta base y la serie que se crea luego tienen la misma dimensión (46), de otra manera \n",
    "# no podría hacere la regrsión\n",
    "dfej9_487= dfej9_4[dfej9_4.year == 87].reset_index()"
   ]
  },
  {
   "cell_type": "code",
   "execution_count": null,
   "metadata": {},
   "outputs": [],
   "source": []
  },
  {
   "cell_type": "code",
   "execution_count": null,
   "metadata": {},
   "outputs": [],
   "source": []
  },
  {
   "cell_type": "code",
   "execution_count": 69,
   "metadata": {},
   "outputs": [],
   "source": [
    "# De la base filtrada para año 82 selecciono crmrte y lo escribo como la serie, pues no hace falta imcorporar a la base para\n",
    "# hacer la regresión (podría haberlo hecho) y se pone reset_index, por que lo exige la regresión, y se pone drop para \n",
    "# que no sea dataframe y se coloque el índice viejo como serie. \n",
    "crmrte82 = dfej9_4[dfej9_4.year == 82].crmrte.reset_index(drop=True)"
   ]
  },
  {
   "cell_type": "code",
   "execution_count": null,
   "metadata": {},
   "outputs": [],
   "source": []
  },
  {
   "cell_type": "code",
   "execution_count": null,
   "metadata": {},
   "outputs": [],
   "source": []
  },
  {
   "cell_type": "code",
   "execution_count": null,
   "metadata": {},
   "outputs": [],
   "source": []
  },
  {
   "cell_type": "code",
   "execution_count": 71,
   "metadata": {},
   "outputs": [
    {
     "name": "stdout",
     "output_type": "stream",
     "text": [
      "                            OLS Regression Results                            \n",
      "==============================================================================\n",
      "Dep. Variable:         np.log(crmrte)   R-squared:                       0.680\n",
      "Model:                            OLS   Adj. R-squared:                  0.657\n",
      "Method:                 Least Squares   F-statistic:                     29.73\n",
      "Date:                Wed, 15 Jul 2020   Prob (F-statistic):           1.80e-10\n",
      "Time:                        17:36:47   Log-Likelihood:                 13.087\n",
      "No. Observations:                  46   AIC:                            -18.17\n",
      "Df Residuals:                      42   BIC:                            -10.86\n",
      "Df Model:                           3                                         \n",
      "Covariance Type:            nonrobust                                         \n",
      "====================================================================================\n",
      "                       coef    std err          t      P>|t|      [0.025      0.975]\n",
      "------------------------------------------------------------------------------------\n",
      "Intercept            0.0765      0.821      0.093      0.926      -1.581       1.734\n",
      "unem                 0.0086      0.020      0.442      0.661      -0.031       0.048\n",
      "np.log(lawexpc)     -0.1396      0.109     -1.285      0.206      -0.359       0.080\n",
      "np.log(crmrte82)     1.1939      0.132      9.038      0.000       0.927       1.461\n",
      "==============================================================================\n",
      "Omnibus:                        0.349   Durbin-Watson:                   1.294\n",
      "Prob(Omnibus):                  0.840   Jarque-Bera (JB):                0.509\n",
      "Skew:                          -0.160   Prob(JB):                        0.775\n",
      "Kurtosis:                       2.597   Cond. No.                         303.\n",
      "==============================================================================\n",
      "\n",
      "Warnings:\n",
      "[1] Standard Errors assume that the covariance matrix of the errors is correctly specified.\n"
     ]
    }
   ],
   "source": [
    "regdfej9_4 = smf.ols('np.log(crmrte) ~  unem + np.log(lawexpc) + np.log(crmrte82) ', data = dfej9_487).fit()\n",
    "print(regdfej9_4.summary())"
   ]
  },
  {
   "cell_type": "markdown",
   "metadata": {},
   "source": [
    "## Ejemplo 9.5 Función de ahorro con error de medida "
   ]
  },
  {
   "cell_type": "code",
   "execution_count": null,
   "metadata": {},
   "outputs": [],
   "source": []
  },
  {
   "cell_type": "markdown",
   "metadata": {},
   "source": [
    "## Ejemplo 9.6 Error de medida en la tasa de desecho "
   ]
  },
  {
   "cell_type": "code",
   "execution_count": null,
   "metadata": {},
   "outputs": [],
   "source": []
  },
  {
   "cell_type": "markdown",
   "metadata": {},
   "source": [
    "## Ejemplo 9.7 Ecuación de la calficaclón media en la universidad con error de medida"
   ]
  },
  {
   "cell_type": "code",
   "execution_count": null,
   "metadata": {},
   "outputs": [],
   "source": []
  },
  {
   "cell_type": "markdown",
   "metadata": {},
   "source": [
    "## Ejemplo 9.8 Tamaño de la empresa e inversión en I+D (rdchem.dta)"
   ]
  },
  {
   "cell_type": "code",
   "execution_count": 2,
   "metadata": {},
   "outputs": [
    {
     "data": {
      "text/html": [
       "<div>\n",
       "<style scoped>\n",
       "    .dataframe tbody tr th:only-of-type {\n",
       "        vertical-align: middle;\n",
       "    }\n",
       "\n",
       "    .dataframe tbody tr th {\n",
       "        vertical-align: top;\n",
       "    }\n",
       "\n",
       "    .dataframe thead th {\n",
       "        text-align: right;\n",
       "    }\n",
       "</style>\n",
       "<table border=\"1\" class=\"dataframe\">\n",
       "  <thead>\n",
       "    <tr style=\"text-align: right;\">\n",
       "      <th></th>\n",
       "      <th>rd</th>\n",
       "      <th>sales</th>\n",
       "      <th>profits</th>\n",
       "      <th>rdintens</th>\n",
       "      <th>profmarg</th>\n",
       "      <th>salessq</th>\n",
       "      <th>lsales</th>\n",
       "      <th>lrd</th>\n",
       "    </tr>\n",
       "  </thead>\n",
       "  <tbody>\n",
       "    <tr>\n",
       "      <th>0</th>\n",
       "      <td>430.600006</td>\n",
       "      <td>4570.200195</td>\n",
       "      <td>186.899994</td>\n",
       "      <td>9.421906</td>\n",
       "      <td>4.089536</td>\n",
       "      <td>2.088673e+07</td>\n",
       "      <td>8.427312</td>\n",
       "      <td>6.065180</td>\n",
       "    </tr>\n",
       "    <tr>\n",
       "      <th>1</th>\n",
       "      <td>59.000000</td>\n",
       "      <td>2830.000000</td>\n",
       "      <td>467.000000</td>\n",
       "      <td>2.084806</td>\n",
       "      <td>16.501766</td>\n",
       "      <td>8.008900e+06</td>\n",
       "      <td>7.948032</td>\n",
       "      <td>4.077538</td>\n",
       "    </tr>\n",
       "    <tr>\n",
       "      <th>2</th>\n",
       "      <td>23.500000</td>\n",
       "      <td>596.799988</td>\n",
       "      <td>107.400002</td>\n",
       "      <td>3.937668</td>\n",
       "      <td>17.995979</td>\n",
       "      <td>3.561702e+05</td>\n",
       "      <td>6.391582</td>\n",
       "      <td>3.157000</td>\n",
       "    </tr>\n",
       "    <tr>\n",
       "      <th>3</th>\n",
       "      <td>3.500000</td>\n",
       "      <td>133.600006</td>\n",
       "      <td>-4.300000</td>\n",
       "      <td>2.619760</td>\n",
       "      <td>-3.218563</td>\n",
       "      <td>1.784896e+04</td>\n",
       "      <td>4.894850</td>\n",
       "      <td>1.252763</td>\n",
       "    </tr>\n",
       "    <tr>\n",
       "      <th>4</th>\n",
       "      <td>1.700000</td>\n",
       "      <td>42.000000</td>\n",
       "      <td>8.000000</td>\n",
       "      <td>4.047619</td>\n",
       "      <td>19.047619</td>\n",
       "      <td>1.764000e+03</td>\n",
       "      <td>3.737670</td>\n",
       "      <td>0.530628</td>\n",
       "    </tr>\n",
       "  </tbody>\n",
       "</table>\n",
       "</div>"
      ],
      "text/plain": [
       "           rd        sales     profits  rdintens   profmarg       salessq  \\\n",
       "0  430.600006  4570.200195  186.899994  9.421906   4.089536  2.088673e+07   \n",
       "1   59.000000  2830.000000  467.000000  2.084806  16.501766  8.008900e+06   \n",
       "2   23.500000   596.799988  107.400002  3.937668  17.995979  3.561702e+05   \n",
       "3    3.500000   133.600006   -4.300000  2.619760  -3.218563  1.784896e+04   \n",
       "4    1.700000    42.000000    8.000000  4.047619  19.047619  1.764000e+03   \n",
       "\n",
       "     lsales       lrd  \n",
       "0  8.427312  6.065180  \n",
       "1  7.948032  4.077538  \n",
       "2  6.391582  3.157000  \n",
       "3  4.894850  1.252763  \n",
       "4  3.737670  0.530628  "
      ]
     },
     "execution_count": 2,
     "metadata": {},
     "output_type": "execute_result"
    }
   ],
   "source": [
    "dfej9_8 = pd.read_stata('rdchem.dta')\n",
    "dfej9_8.head()"
   ]
  },
  {
   "cell_type": "code",
   "execution_count": null,
   "metadata": {},
   "outputs": [],
   "source": []
  },
  {
   "cell_type": "code",
   "execution_count": 3,
   "metadata": {},
   "outputs": [
    {
     "name": "stdout",
     "output_type": "stream",
     "text": [
      "                            OLS Regression Results                            \n",
      "==============================================================================\n",
      "Dep. Variable:               rdintens   R-squared:                       0.076\n",
      "Model:                            OLS   Adj. R-squared:                  0.012\n",
      "Method:                 Least Squares   F-statistic:                     1.195\n",
      "Date:                Sun, 26 Sep 2021   Prob (F-statistic):              0.317\n",
      "Time:                        11:03:38   Log-Likelihood:                -63.725\n",
      "No. Observations:                  32   AIC:                             133.4\n",
      "Df Residuals:                      29   BIC:                             137.8\n",
      "Df Model:                           2                                         \n",
      "Covariance Type:            nonrobust                                         \n",
      "==============================================================================\n",
      "                 coef    std err          t      P>|t|      [0.025      0.975]\n",
      "------------------------------------------------------------------------------\n",
      "Intercept      2.6253      0.586      4.484      0.000       1.428       3.823\n",
      "sales       5.338e-05   4.41e-05      1.211      0.236   -3.68e-05       0.000\n",
      "profmarg       0.0446      0.046      0.966      0.342      -0.050       0.139\n",
      "==============================================================================\n",
      "Omnibus:                       20.499   Durbin-Watson:                   1.694\n",
      "Prob(Omnibus):                  0.000   Jarque-Bera (JB):               28.349\n",
      "Skew:                           1.674   Prob(JB):                     6.98e-07\n",
      "Kurtosis:                       6.170   Cond. No.                     1.49e+04\n",
      "==============================================================================\n",
      "\n",
      "Warnings:\n",
      "[1] Standard Errors assume that the covariance matrix of the errors is correctly specified.\n",
      "[2] The condition number is large, 1.49e+04. This might indicate that there are\n",
      "strong multicollinearity or other numerical problems.\n"
     ]
    }
   ],
   "source": [
    "regdfej9_8 = smf.ols('rdintens ~  sales + profmarg ', data = dfej9_8).fit()\n",
    "print(regdfej9_8.summary())"
   ]
  },
  {
   "cell_type": "markdown",
   "metadata": {},
   "source": [
    "Ni $sales$ ni $profmarg$ son significativos"
   ]
  },
  {
   "cell_type": "code",
   "execution_count": 4,
   "metadata": {},
   "outputs": [
    {
     "data": {
      "text/plain": [
       "<matplotlib.collections.PathCollection at 0xe01ff0>"
      ]
     },
     "execution_count": 4,
     "metadata": {},
     "output_type": "execute_result"
    },
    {
     "data": {
      "image/png": "[encoded data removed]",
      "text/plain": [
       "<Figure size 432x288 with 1 Axes>"
      ]
     },
     "metadata": {},
     "output_type": "display_data"
    }
   ],
   "source": [
    "plt.scatter(dfej9_8.sales, dfej9_8.rdintens)"
   ]
  },
  {
   "cell_type": "markdown",
   "metadata": {},
   "source": [
    "De las 32 empresas, 31 tienen ventas anuales menores a 20 mil millones"
   ]
  },
  {
   "cell_type": "markdown",
   "metadata": {},
   "source": [
    "Estimamos el modelo eliminando ese outlier"
   ]
  },
  {
   "cell_type": "code",
   "execution_count": 5,
   "metadata": {},
   "outputs": [
    {
     "name": "stdout",
     "output_type": "stream",
     "text": [
      "                            OLS Regression Results                            \n",
      "==============================================================================\n",
      "Dep. Variable:               rdintens   R-squared:                       0.173\n",
      "Model:                            OLS   Adj. R-squared:                  0.114\n",
      "Method:                 Least Squares   F-statistic:                     2.925\n",
      "Date:                Sun, 26 Sep 2021   Prob (F-statistic):             0.0702\n",
      "Time:                        11:19:09   Log-Likelihood:                -60.496\n",
      "No. Observations:                  31   AIC:                             127.0\n",
      "Df Residuals:                      28   BIC:                             131.3\n",
      "Df Model:                           2                                         \n",
      "Covariance Type:            nonrobust                                         \n",
      "==============================================================================\n",
      "                 coef    std err          t      P>|t|      [0.025      0.975]\n",
      "------------------------------------------------------------------------------\n",
      "Intercept      2.2969      0.592      3.881      0.001       1.085       3.509\n",
      "sales          0.0002   8.42e-05      2.204      0.036    1.31e-05       0.000\n",
      "profmarg       0.0478      0.044      1.075      0.291      -0.043       0.139\n",
      "==============================================================================\n",
      "Omnibus:                       19.377   Durbin-Watson:                   1.694\n",
      "Prob(Omnibus):                  0.000   Jarque-Bera (JB):               25.558\n",
      "Skew:                           1.623   Prob(JB):                     2.82e-06\n",
      "Kurtosis:                       6.040   Cond. No.                     8.56e+03\n",
      "==============================================================================\n",
      "\n",
      "Warnings:\n",
      "[1] Standard Errors assume that the covariance matrix of the errors is correctly specified.\n",
      "[2] The condition number is large, 8.56e+03. This might indicate that there are\n",
      "strong multicollinearity or other numerical problems.\n"
     ]
    }
   ],
   "source": [
    "regdfej9_8a = smf.ols('rdintens ~  sales + profmarg ', data = dfej9_8[(dfej9_8['sales']<30000)]).fit()\n",
    "print(regdfej9_8a.summary())"
   ]
  },
  {
   "cell_type": "markdown",
   "metadata": {},
   "source": [
    "Ahora $sales$ es significativas, al 5%, pero $profmarg$ sigue sin serlo\n",
    "El coeficiente de $sales$ aumentó mucho "
   ]
  },
  {
   "cell_type": "code",
   "execution_count": 10,
   "metadata": {},
   "outputs": [
    {
     "name": "stdout",
     "output_type": "stream",
     "text": [
      "\n",
      "================================\n",
      "          rdintens I rdintens II\n",
      "--------------------------------\n",
      "Intercept 2.6253***  2.2969***  \n",
      "          (0.5855)   (0.5918)   \n",
      "sales     0.0001     0.0002**   \n",
      "          (0.0000)   (0.0001)   \n",
      "profmarg  0.0446     0.0478     \n",
      "          (0.0462)   (0.0445)   \n",
      "================================\n",
      "Standard errors in parentheses.\n",
      "* p<.1, ** p<.05, ***p<.01\n"
     ]
    }
   ],
   "source": [
    "print(summary_col([regdfej9_8,regdfej9_8a], stars=True))"
   ]
  },
  {
   "cell_type": "markdown",
   "metadata": {},
   "source": [
    "## Ejemplo 9.9 lntensldad de inversión en I+D * (rdchem.dta)"
   ]
  },
  {
   "cell_type": "code",
   "execution_count": 77,
   "metadata": {},
   "outputs": [
    {
     "name": "stdout",
     "output_type": "stream",
     "text": [
      "                            OLS Regression Results                            \n",
      "==============================================================================\n",
      "Dep. Variable:             np.log(rd)   R-squared:                       0.918\n",
      "Model:                            OLS   Adj. R-squared:                  0.912\n",
      "Method:                 Least Squares   F-statistic:                     162.2\n",
      "Date:                Wed, 15 Jul 2020   Prob (F-statistic):           1.79e-16\n",
      "Time:                        18:15:48   Log-Likelihood:                -22.511\n",
      "No. Observations:                  32   AIC:                             51.02\n",
      "Df Residuals:                      29   BIC:                             55.42\n",
      "Df Model:                           2                                         \n",
      "Covariance Type:            nonrobust                                         \n",
      "=================================================================================\n",
      "                    coef    std err          t      P>|t|      [0.025      0.975]\n",
      "---------------------------------------------------------------------------------\n",
      "Intercept        -4.3783      0.468     -9.355      0.000      -5.335      -3.421\n",
      "np.log(sales)     1.0842      0.060     18.012      0.000       0.961       1.207\n",
      "profmarg          0.0217      0.013      1.694      0.101      -0.004       0.048\n",
      "==============================================================================\n",
      "Omnibus:                        0.670   Durbin-Watson:                   1.859\n",
      "Prob(Omnibus):                  0.715   Jarque-Bera (JB):                0.671\n",
      "Skew:                           0.308   Prob(JB):                        0.715\n",
      "Kurtosis:                       2.649   Cond. No.                         70.6\n",
      "==============================================================================\n",
      "\n",
      "Warnings:\n",
      "[1] Standard Errors assume that the covariance matrix of the errors is correctly specified.\n"
     ]
    }
   ],
   "source": [
    "regdfej9_9 = smf.ols('np.log(rd) ~  np.log(sales) + profmarg ', data = dfej9_8).fit()\n",
    "print(regdfej9_9.summary())"
   ]
  },
  {
   "cell_type": "markdown",
   "metadata": {},
   "source": [
    "## Ejemplo 9.10 Índice estatal de mortalidad infantil (infmrt.dta)"
   ]
  },
  {
   "cell_type": "code",
   "execution_count": 78,
   "metadata": {},
   "outputs": [
    {
     "data": {
      "text/html": [
       "<div>\n",
       "<style scoped>\n",
       "    .dataframe tbody tr th:only-of-type {\n",
       "        vertical-align: middle;\n",
       "    }\n",
       "\n",
       "    .dataframe tbody tr th {\n",
       "        vertical-align: top;\n",
       "    }\n",
       "\n",
       "    .dataframe thead th {\n",
       "        text-align: right;\n",
       "    }\n",
       "</style>\n",
       "<table border=\"1\" class=\"dataframe\">\n",
       "  <thead>\n",
       "    <tr style=\"text-align: right;\">\n",
       "      <th></th>\n",
       "      <th>year</th>\n",
       "      <th>infmort</th>\n",
       "      <th>afdcprt</th>\n",
       "      <th>popul</th>\n",
       "      <th>pcinc</th>\n",
       "      <th>physic</th>\n",
       "      <th>afdcper</th>\n",
       "      <th>d90</th>\n",
       "      <th>lpcinc</th>\n",
       "      <th>lphysic</th>\n",
       "      <th>DC</th>\n",
       "      <th>lpopul</th>\n",
       "    </tr>\n",
       "  </thead>\n",
       "  <tbody>\n",
       "    <tr>\n",
       "      <th>0</th>\n",
       "      <td>1987</td>\n",
       "      <td>8.3</td>\n",
       "      <td>52</td>\n",
       "      <td>1186</td>\n",
       "      <td>13996</td>\n",
       "      <td>173</td>\n",
       "      <td>4.384486</td>\n",
       "      <td>0</td>\n",
       "      <td>9.546527</td>\n",
       "      <td>5.153292</td>\n",
       "      <td>0</td>\n",
       "      <td>7.078341</td>\n",
       "    </tr>\n",
       "    <tr>\n",
       "      <th>1</th>\n",
       "      <td>1990</td>\n",
       "      <td>6.2</td>\n",
       "      <td>62</td>\n",
       "      <td>1228</td>\n",
       "      <td>17125</td>\n",
       "      <td>178</td>\n",
       "      <td>5.048860</td>\n",
       "      <td>1</td>\n",
       "      <td>9.748295</td>\n",
       "      <td>5.181784</td>\n",
       "      <td>0</td>\n",
       "      <td>7.113142</td>\n",
       "    </tr>\n",
       "    <tr>\n",
       "      <th>2</th>\n",
       "      <td>1987</td>\n",
       "      <td>7.8</td>\n",
       "      <td>11</td>\n",
       "      <td>1056</td>\n",
       "      <td>18083</td>\n",
       "      <td>186</td>\n",
       "      <td>1.041667</td>\n",
       "      <td>0</td>\n",
       "      <td>9.802728</td>\n",
       "      <td>5.225747</td>\n",
       "      <td>0</td>\n",
       "      <td>6.962244</td>\n",
       "    </tr>\n",
       "    <tr>\n",
       "      <th>3</th>\n",
       "      <td>1990</td>\n",
       "      <td>7.1</td>\n",
       "      <td>21</td>\n",
       "      <td>1109</td>\n",
       "      <td>21051</td>\n",
       "      <td>200</td>\n",
       "      <td>1.893598</td>\n",
       "      <td>1</td>\n",
       "      <td>9.954703</td>\n",
       "      <td>5.298317</td>\n",
       "      <td>0</td>\n",
       "      <td>7.011214</td>\n",
       "    </tr>\n",
       "    <tr>\n",
       "      <th>4</th>\n",
       "      <td>1987</td>\n",
       "      <td>8.5</td>\n",
       "      <td>20</td>\n",
       "      <td>547</td>\n",
       "      <td>14267</td>\n",
       "      <td>244</td>\n",
       "      <td>3.656307</td>\n",
       "      <td>0</td>\n",
       "      <td>9.565704</td>\n",
       "      <td>5.497168</td>\n",
       "      <td>0</td>\n",
       "      <td>6.304449</td>\n",
       "    </tr>\n",
       "  </tbody>\n",
       "</table>\n",
       "</div>"
      ],
      "text/plain": [
       "   year  infmort  afdcprt  popul  pcinc  physic   afdcper  d90    lpcinc  \\\n",
       "0  1987      8.3       52   1186  13996     173  4.384486    0  9.546527   \n",
       "1  1990      6.2       62   1228  17125     178  5.048860    1  9.748295   \n",
       "2  1987      7.8       11   1056  18083     186  1.041667    0  9.802728   \n",
       "3  1990      7.1       21   1109  21051     200  1.893598    1  9.954703   \n",
       "4  1987      8.5       20    547  14267     244  3.656307    0  9.565704   \n",
       "\n",
       "    lphysic  DC    lpopul  \n",
       "0  5.153292   0  7.078341  \n",
       "1  5.181784   0  7.113142  \n",
       "2  5.225747   0  6.962244  \n",
       "3  5.298317   0  7.011214  \n",
       "4  5.497168   0  6.304449  "
      ]
     },
     "execution_count": 78,
     "metadata": {},
     "output_type": "execute_result"
    }
   ],
   "source": [
    "dfej9_10 = pd.read_stata('infmrt.dta')\n",
    "dfej9_10.head()"
   ]
  },
  {
   "cell_type": "code",
   "execution_count": 80,
   "metadata": {},
   "outputs": [],
   "source": [
    "# Filtra base en year = 1990\n",
    "dfej9_1090= dfej9_10[dfej9_10.year == 1990]"
   ]
  },
  {
   "cell_type": "code",
   "execution_count": 81,
   "metadata": {},
   "outputs": [
    {
     "name": "stdout",
     "output_type": "stream",
     "text": [
      "                            OLS Regression Results                            \n",
      "==============================================================================\n",
      "Dep. Variable:                infmort   R-squared:                       0.139\n",
      "Model:                            OLS   Adj. R-squared:                  0.084\n",
      "Method:                 Least Squares   F-statistic:                     2.531\n",
      "Date:                Wed, 15 Jul 2020   Prob (F-statistic):             0.0684\n",
      "Time:                        18:38:02   Log-Likelihood:                -107.09\n",
      "No. Observations:                  51   AIC:                             222.2\n",
      "Df Residuals:                      47   BIC:                             229.9\n",
      "Df Model:                           3                                         \n",
      "Covariance Type:            nonrobust                                         \n",
      "==================================================================================\n",
      "                     coef    std err          t      P>|t|      [0.025      0.975]\n",
      "----------------------------------------------------------------------------------\n",
      "Intercept         33.8593     20.428      1.658      0.104      -7.236      74.955\n",
      "np.log(pcinc)     -4.6847      2.604     -1.799      0.078      -9.923       0.554\n",
      "np.log(physic)     4.1533      1.513      2.746      0.009       1.110       7.196\n",
      "np.log(popul)     -0.0878      0.287     -0.306      0.761      -0.666       0.490\n",
      "==============================================================================\n",
      "Omnibus:                       19.635   Durbin-Watson:                   1.419\n",
      "Prob(Omnibus):                  0.000   Jarque-Bera (JB):               36.681\n",
      "Skew:                           1.114   Prob(JB):                     1.08e-08\n",
      "Kurtosis:                       6.507   Cond. No.                         982.\n",
      "==============================================================================\n",
      "\n",
      "Warnings:\n",
      "[1] Standard Errors assume that the covariance matrix of the errors is correctly specified.\n"
     ]
    }
   ],
   "source": [
    "regdfej9_10 = smf.ols('infmort ~  np.log(pcinc) + np.log(physic) +np.log(popul) ', data = dfej9_1090).fit()\n",
    "print(regdfej9_10.summary())"
   ]
  },
  {
   "cell_type": "code",
   "execution_count": null,
   "metadata": {},
   "outputs": [],
   "source": []
  }
 ],
 "metadata": {
  "kernelspec": {
   "display_name": "Python 3 (ipykernel)",
   "language": "python",
   "name": "python3"
  },
  "language_info": {
   "codemirror_mode": {
    "name": "ipython",
    "version": 3
   },
   "file_extension": ".py",
   "mimetype": "text/x-python",
   "name": "python",
   "nbconvert_exporter": "python",
   "pygments_lexer": "ipython3",
   "version": "3.7.0"
  }
 },
 "nbformat": 4,
 "nbformat_minor": 2
}
