{
 "cells": [
  {
   "cell_type": "code",
   "execution_count": 1,
   "metadata": {},
   "outputs": [
    {
     "name": "stderr",
     "output_type": "stream",
     "text": [
      "c:\\python\\lib\\site-packages\\statsmodels\\compat\\pandas.py:49: FutureWarning: The Panel class is removed from pandas. Accessing it from the top-level namespace will also be removed in the next version\n",
      "  data_klasses = (pandas.Series, pandas.DataFrame, pandas.Panel)\n"
     ]
    }
   ],
   "source": [
    "import pandas as pd\n",
    "import numpy as np\n",
    "import statsmodels.formula.api as smf\n",
    "import statsmodels.stats.api as sms \n",
    "from statsmodels.iolib.summary2 import summary_col"
   ]
  },
  {
   "cell_type": "markdown",
   "metadata": {},
   "source": [
    "## Ejemplo 13.1 La fertilidad de las mujeres en el tiempo (fertil1.dta) "
   ]
  },
  {
   "cell_type": "code",
   "execution_count": 5,
   "metadata": {},
   "outputs": [
    {
     "data": {
      "text/html": [
       "<div>\n",
       "<style scoped>\n",
       "    .dataframe tbody tr th:only-of-type {\n",
       "        vertical-align: middle;\n",
       "    }\n",
       "\n",
       "    .dataframe tbody tr th {\n",
       "        vertical-align: top;\n",
       "    }\n",
       "\n",
       "    .dataframe thead th {\n",
       "        text-align: right;\n",
       "    }\n",
       "</style>\n",
       "<table border=\"1\" class=\"dataframe\">\n",
       "  <thead>\n",
       "    <tr style=\"text-align: right;\">\n",
       "      <th></th>\n",
       "      <th>year</th>\n",
       "      <th>educ</th>\n",
       "      <th>meduc</th>\n",
       "      <th>feduc</th>\n",
       "      <th>age</th>\n",
       "      <th>kids</th>\n",
       "      <th>black</th>\n",
       "      <th>east</th>\n",
       "      <th>northcen</th>\n",
       "      <th>west</th>\n",
       "      <th>...</th>\n",
       "      <th>y80</th>\n",
       "      <th>y82</th>\n",
       "      <th>y84</th>\n",
       "      <th>agesq</th>\n",
       "      <th>y74educ</th>\n",
       "      <th>y76educ</th>\n",
       "      <th>y78educ</th>\n",
       "      <th>y80educ</th>\n",
       "      <th>y82educ</th>\n",
       "      <th>y84educ</th>\n",
       "    </tr>\n",
       "  </thead>\n",
       "  <tbody>\n",
       "    <tr>\n",
       "      <th>0</th>\n",
       "      <td>72</td>\n",
       "      <td>12</td>\n",
       "      <td>8</td>\n",
       "      <td>8</td>\n",
       "      <td>48</td>\n",
       "      <td>4</td>\n",
       "      <td>0</td>\n",
       "      <td>0</td>\n",
       "      <td>1</td>\n",
       "      <td>0</td>\n",
       "      <td>...</td>\n",
       "      <td>0</td>\n",
       "      <td>0</td>\n",
       "      <td>0</td>\n",
       "      <td>2304</td>\n",
       "      <td>0</td>\n",
       "      <td>0</td>\n",
       "      <td>0</td>\n",
       "      <td>0</td>\n",
       "      <td>0</td>\n",
       "      <td>0</td>\n",
       "    </tr>\n",
       "    <tr>\n",
       "      <th>1</th>\n",
       "      <td>72</td>\n",
       "      <td>17</td>\n",
       "      <td>8</td>\n",
       "      <td>18</td>\n",
       "      <td>46</td>\n",
       "      <td>3</td>\n",
       "      <td>0</td>\n",
       "      <td>0</td>\n",
       "      <td>0</td>\n",
       "      <td>0</td>\n",
       "      <td>...</td>\n",
       "      <td>0</td>\n",
       "      <td>0</td>\n",
       "      <td>0</td>\n",
       "      <td>2116</td>\n",
       "      <td>0</td>\n",
       "      <td>0</td>\n",
       "      <td>0</td>\n",
       "      <td>0</td>\n",
       "      <td>0</td>\n",
       "      <td>0</td>\n",
       "    </tr>\n",
       "    <tr>\n",
       "      <th>2</th>\n",
       "      <td>72</td>\n",
       "      <td>12</td>\n",
       "      <td>7</td>\n",
       "      <td>8</td>\n",
       "      <td>53</td>\n",
       "      <td>2</td>\n",
       "      <td>0</td>\n",
       "      <td>0</td>\n",
       "      <td>1</td>\n",
       "      <td>0</td>\n",
       "      <td>...</td>\n",
       "      <td>0</td>\n",
       "      <td>0</td>\n",
       "      <td>0</td>\n",
       "      <td>2809</td>\n",
       "      <td>0</td>\n",
       "      <td>0</td>\n",
       "      <td>0</td>\n",
       "      <td>0</td>\n",
       "      <td>0</td>\n",
       "      <td>0</td>\n",
       "    </tr>\n",
       "    <tr>\n",
       "      <th>3</th>\n",
       "      <td>72</td>\n",
       "      <td>12</td>\n",
       "      <td>12</td>\n",
       "      <td>10</td>\n",
       "      <td>42</td>\n",
       "      <td>2</td>\n",
       "      <td>0</td>\n",
       "      <td>0</td>\n",
       "      <td>1</td>\n",
       "      <td>0</td>\n",
       "      <td>...</td>\n",
       "      <td>0</td>\n",
       "      <td>0</td>\n",
       "      <td>0</td>\n",
       "      <td>1764</td>\n",
       "      <td>0</td>\n",
       "      <td>0</td>\n",
       "      <td>0</td>\n",
       "      <td>0</td>\n",
       "      <td>0</td>\n",
       "      <td>0</td>\n",
       "    </tr>\n",
       "    <tr>\n",
       "      <th>4</th>\n",
       "      <td>72</td>\n",
       "      <td>12</td>\n",
       "      <td>3</td>\n",
       "      <td>8</td>\n",
       "      <td>51</td>\n",
       "      <td>2</td>\n",
       "      <td>0</td>\n",
       "      <td>0</td>\n",
       "      <td>0</td>\n",
       "      <td>0</td>\n",
       "      <td>...</td>\n",
       "      <td>0</td>\n",
       "      <td>0</td>\n",
       "      <td>0</td>\n",
       "      <td>2601</td>\n",
       "      <td>0</td>\n",
       "      <td>0</td>\n",
       "      <td>0</td>\n",
       "      <td>0</td>\n",
       "      <td>0</td>\n",
       "      <td>0</td>\n",
       "    </tr>\n",
       "  </tbody>\n",
       "</table>\n",
       "<p>5 rows × 27 columns</p>\n",
       "</div>"
      ],
      "text/plain": [
       "   year  educ  meduc  feduc  age  kids  black  east  northcen  west  ...  y80  \\\n",
       "0    72    12      8      8   48     4      0     0         1     0  ...    0   \n",
       "1    72    17      8     18   46     3      0     0         0     0  ...    0   \n",
       "2    72    12      7      8   53     2      0     0         1     0  ...    0   \n",
       "3    72    12     12     10   42     2      0     0         1     0  ...    0   \n",
       "4    72    12      3      8   51     2      0     0         0     0  ...    0   \n",
       "\n",
       "   y82  y84  agesq  y74educ  y76educ  y78educ  y80educ  y82educ  y84educ  \n",
       "0    0    0   2304        0        0        0        0        0        0  \n",
       "1    0    0   2116        0        0        0        0        0        0  \n",
       "2    0    0   2809        0        0        0        0        0        0  \n",
       "3    0    0   1764        0        0        0        0        0        0  \n",
       "4    0    0   2601        0        0        0        0        0        0  \n",
       "\n",
       "[5 rows x 27 columns]"
      ]
     },
     "execution_count": 5,
     "metadata": {},
     "output_type": "execute_result"
    }
   ],
   "source": [
    "dfej13_1 = pd.read_stata('fertil1.dta')\n",
    "dfej13_1.head()"
   ]
  },
  {
   "cell_type": "code",
   "execution_count": 6,
   "metadata": {},
   "outputs": [
    {
     "data": {
      "text/plain": [
       "year         int8\n",
       "educ         int8\n",
       "meduc        int8\n",
       "feduc        int8\n",
       "age          int8\n",
       "kids         int8\n",
       "black        int8\n",
       "east         int8\n",
       "northcen     int8\n",
       "west         int8\n",
       "farm         int8\n",
       "othrural     int8\n",
       "town         int8\n",
       "smcity       int8\n",
       "y74          int8\n",
       "y76          int8\n",
       "y78          int8\n",
       "y80          int8\n",
       "y82          int8\n",
       "y84          int8\n",
       "agesq       int16\n",
       "y74educ      int8\n",
       "y76educ      int8\n",
       "y78educ      int8\n",
       "y80educ      int8\n",
       "y82educ      int8\n",
       "y84educ      int8\n",
       "dtype: object"
      ]
     },
     "execution_count": 6,
     "metadata": {},
     "output_type": "execute_result"
    }
   ],
   "source": [
    "dfej13_1.dtypes"
   ]
  },
  {
   "cell_type": "code",
   "execution_count": 7,
   "metadata": {},
   "outputs": [],
   "source": [
    "dfej13_1['kids'] = dfej13_1['kids'].astype(float)"
   ]
  },
  {
   "cell_type": "code",
   "execution_count": 8,
   "metadata": {},
   "outputs": [],
   "source": [
    "dfej13_1['educ'] = dfej13_1['educ'].astype(float)"
   ]
  },
  {
   "cell_type": "code",
   "execution_count": 9,
   "metadata": {},
   "outputs": [],
   "source": [
    "dfej13_1['age'] = dfej13_1['age'].astype(float)"
   ]
  },
  {
   "cell_type": "code",
   "execution_count": 10,
   "metadata": {},
   "outputs": [],
   "source": [
    "dfej13_1['black'] = dfej13_1['black'].astype(float)"
   ]
  },
  {
   "cell_type": "code",
   "execution_count": 11,
   "metadata": {},
   "outputs": [],
   "source": [
    "dfej13_1['east'] = dfej13_1['east'].astype(float)"
   ]
  },
  {
   "cell_type": "code",
   "execution_count": 12,
   "metadata": {},
   "outputs": [],
   "source": [
    "dfej13_1['northcen'] = dfej13_1['northcen'].astype(float)"
   ]
  },
  {
   "cell_type": "code",
   "execution_count": 13,
   "metadata": {},
   "outputs": [],
   "source": [
    "dfej13_1['farm'] = dfej13_1['farm'].astype(float)"
   ]
  },
  {
   "cell_type": "code",
   "execution_count": 14,
   "metadata": {},
   "outputs": [],
   "source": [
    "dfej13_1['othrural'] = dfej13_1['othrural'].astype(float)"
   ]
  },
  {
   "cell_type": "code",
   "execution_count": 15,
   "metadata": {},
   "outputs": [],
   "source": [
    "dfej13_1['town'] = dfej13_1['town'].astype(float)"
   ]
  },
  {
   "cell_type": "code",
   "execution_count": 16,
   "metadata": {},
   "outputs": [],
   "source": [
    "dfej13_1['smcity'] = dfej13_1['smcity'].astype(float)"
   ]
  },
  {
   "cell_type": "code",
   "execution_count": null,
   "metadata": {},
   "outputs": [],
   "source": []
  },
  {
   "cell_type": "code",
   "execution_count": 17,
   "metadata": {},
   "outputs": [
    {
     "name": "stdout",
     "output_type": "stream",
     "text": [
      "                            OLS Regression Results                            \n",
      "==============================================================================\n",
      "Dep. Variable:                   kids   R-squared:                       0.130\n",
      "Model:                            OLS   Adj. R-squared:                  0.116\n",
      "Method:                 Least Squares   F-statistic:                     9.723\n",
      "Date:                Sat, 10 Oct 2020   Prob (F-statistic):           2.42e-24\n",
      "Time:                        12:06:59   Log-Likelihood:                -2091.2\n",
      "No. Observations:                1129   AIC:                             4218.\n",
      "Df Residuals:                    1111   BIC:                             4309.\n",
      "Df Model:                          17                                         \n",
      "Covariance Type:            nonrobust                                         \n",
      "==================================================================================\n",
      "                     coef    std err          t      P>|t|      [0.025      0.975]\n",
      "----------------------------------------------------------------------------------\n",
      "Intercept         -7.7425      3.052     -2.537      0.011     -13.730      -1.755\n",
      "educ              -0.1284      0.018     -6.999      0.000      -0.164      -0.092\n",
      "age                0.5321      0.138      3.845      0.000       0.261       0.804\n",
      "np.square(age)    -0.0058      0.002     -3.710      0.000      -0.009      -0.003\n",
      "black              1.0757      0.174      6.198      0.000       0.735       1.416\n",
      "east               0.2173      0.133      1.637      0.102      -0.043       0.478\n",
      "northcen           0.3631      0.121      3.004      0.003       0.126       0.600\n",
      "west               0.1976      0.167      1.184      0.237      -0.130       0.525\n",
      "farm              -0.0526      0.147     -0.357      0.721      -0.341       0.236\n",
      "othrural          -0.1629      0.175     -0.928      0.353      -0.507       0.181\n",
      "town               0.0844      0.125      0.677      0.498      -0.160       0.329\n",
      "smcity             0.2119      0.160      1.322      0.187      -0.103       0.526\n",
      "y74                0.2682      0.173      1.553      0.121      -0.071       0.607\n",
      "y76               -0.0974      0.179     -0.544      0.587      -0.449       0.254\n",
      "y78               -0.0687      0.182     -0.378      0.706      -0.425       0.288\n",
      "y80               -0.0713      0.183     -0.390      0.697      -0.430       0.287\n",
      "y82               -0.5225      0.172     -3.030      0.003      -0.861      -0.184\n",
      "y84               -0.5452      0.175     -3.124      0.002      -0.888      -0.203\n",
      "==============================================================================\n",
      "Omnibus:                        9.775   Durbin-Watson:                   2.011\n",
      "Prob(Omnibus):                  0.008   Jarque-Bera (JB):                9.966\n",
      "Skew:                           0.227   Prob(JB):                      0.00685\n",
      "Kurtosis:                       2.920   Cond. No.                     1.32e+05\n",
      "==============================================================================\n",
      "\n",
      "Warnings:\n",
      "[1] Standard Errors assume that the covariance matrix of the errors is correctly specified.\n",
      "[2] The condition number is large, 1.32e+05. This might indicate that there are\n",
      "strong multicollinearity or other numerical problems.\n"
     ]
    }
   ],
   "source": [
    "regdfej13_1 = smf.ols('kids ~  educ + age + np.square(age) + black + east + northcen+ west + farm +othrural + town + smcity + y74 + y76 + y78 +y80 + y82+ y84 ', data = dfej13_1).fit()\n",
    "print(regdfej13_1.summary())"
   ]
  },
  {
   "cell_type": "code",
   "execution_count": null,
   "metadata": {},
   "outputs": [],
   "source": [
    "# Comentario : Se verifica el patrón de los coeficientes de las dummies temporales para ver la evoución del promedio de \n",
    "# fertilidad (dependiente) , controlando por todas las otras independientes\n",
    "# Los coeficientes de las dummies muestran descenso de la fertilidad marcado desde los 80"
   ]
  },
  {
   "cell_type": "code",
   "execution_count": 19,
   "metadata": {},
   "outputs": [
    {
     "data": {
      "text/plain": [
       "-0.5224841991276494"
      ]
     },
     "execution_count": 19,
     "metadata": {},
     "output_type": "execute_result"
    }
   ],
   "source": [
    "# dummy 1982\n",
    "regdfej13_1.params[16]"
   ]
  },
  {
   "cell_type": "code",
   "execution_count": null,
   "metadata": {},
   "outputs": [],
   "source": [
    "# ceteris paribus una mujer tuvo en promedio, 0.52 hijos menos en 1982 que en 1972, año base. Es decir, de 100 mujeres\n",
    "# habría 52 hijos menos\n",
    "# Coo está controlada la educación y las otras variables, ese descenso es por otras razones, no capturadas en las x de control"
   ]
  },
  {
   "cell_type": "code",
   "execution_count": null,
   "metadata": {},
   "outputs": [],
   "source": [
    "# Las binarias de los años son soignificativas conjuntamente"
   ]
  },
  {
   "cell_type": "code",
   "execution_count": 14,
   "metadata": {},
   "outputs": [
    {
     "name": "stdout",
     "output_type": "stream",
     "text": [
      "<F test: F=array([[5.86950867]]), p=4.855189867572506e-06, df_denom=1111, df_num=6>\n"
     ]
    }
   ],
   "source": [
    "hypotheses = '(y74 =y76 = y78 = y80 = y82 = y84 = 0)'\n",
    "f_test = regdfej13_1.f_test(hypotheses)\n",
    "print(f_test)"
   ]
  },
  {
   "cell_type": "code",
   "execution_count": null,
   "metadata": {},
   "outputs": [],
   "source": [
    "# La variable educación indica que con más educación se tiene menos hijos"
   ]
  },
  {
   "cell_type": "code",
   "execution_count": 21,
   "metadata": {},
   "outputs": [
    {
     "data": {
      "text/plain": [
       "-0.12842683104662517"
      ]
     },
     "execution_count": 21,
     "metadata": {},
     "output_type": "execute_result"
    }
   ],
   "source": [
    "regdfej13_1.params[1]"
   ]
  },
  {
   "cell_type": "code",
   "execution_count": null,
   "metadata": {},
   "outputs": [],
   "source": [
    "# Si comparamos una mujer universitaria con una secundaria, es decir con 4 años más de educción, el efecto es "
   ]
  },
  {
   "cell_type": "code",
   "execution_count": 22,
   "metadata": {},
   "outputs": [
    {
     "data": {
      "text/plain": [
       "-0.5137073241865007"
      ]
     },
     "execution_count": 22,
     "metadata": {},
     "output_type": "execute_result"
    }
   ],
   "source": [
    "regdfej13_1.params[1]*4"
   ]
  },
  {
   "cell_type": "code",
   "execution_count": null,
   "metadata": {},
   "outputs": [],
   "source": [
    "# es deci 100 universitarias tendrán 51 menos hijos que las secundarias"
   ]
  },
  {
   "cell_type": "code",
   "execution_count": null,
   "metadata": {},
   "outputs": [],
   "source": [
    "# La vairable edad tiene una parábola cuyo máximo es 46 años, donde la mayoría ha dejado de tener hijos"
   ]
  },
  {
   "cell_type": "code",
   "execution_count": null,
   "metadata": {},
   "outputs": [],
   "source": [
    "# dKids/dedad = b(edad)- 2*b(edad^2)"
   ]
  },
  {
   "cell_type": "code",
   "execution_count": 24,
   "metadata": {},
   "outputs": [
    {
     "data": {
      "text/plain": [
       "45.842030306112406"
      ]
     },
     "execution_count": 24,
     "metadata": {},
     "output_type": "execute_result"
    }
   ],
   "source": [
    "# regdfej13_1.params[2]+2*regdfej13_1.params[3]*(edad) = 0 \n",
    "edadmax = -regdfej13_1.params[2]/(2*regdfej13_1.params[3])\n",
    "edadmax"
   ]
  },
  {
   "cell_type": "code",
   "execution_count": null,
   "metadata": {},
   "outputs": [],
   "source": [
    "# Heterocedasrticidad"
   ]
  },
  {
   "cell_type": "code",
   "execution_count": 15,
   "metadata": {},
   "outputs": [
    {
     "name": "stdout",
     "output_type": "stream",
     "text": [
      "      Chi-Sq  Prob>Chi-Sq\n",
      "0  55.315373     0.000006\n"
     ]
    }
   ],
   "source": [
    "bptest = sms.diagnostic.het_breuschpagan(regdfej13_1.resid, regdfej13_1.model.exog)\n",
    "df2 = pd.DataFrame({'Chi-Sq':[bptest[0]],\n",
    "                   'Prob>Chi-Sq':[bptest[1]]})\n",
    "print(df2)"
   ]
  },
  {
   "cell_type": "code",
   "execution_count": null,
   "metadata": {},
   "outputs": [],
   "source": [
    "# FALTA. reVISAR CON CAP 8 "
   ]
  },
  {
   "cell_type": "code",
   "execution_count": null,
   "metadata": {},
   "outputs": [],
   "source": []
  },
  {
   "cell_type": "code",
   "execution_count": null,
   "metadata": {},
   "outputs": [],
   "source": []
  },
  {
   "cell_type": "code",
   "execution_count": null,
   "metadata": {},
   "outputs": [],
   "source": []
  },
  {
   "cell_type": "code",
   "execution_count": null,
   "metadata": {},
   "outputs": [],
   "source": []
  },
  {
   "cell_type": "markdown",
   "metadata": {},
   "source": [
    "## Ejemplo 13.2 Cambios en los efectos de la educación y de la diferencia salarial por razón de sexo (cps78_85.dta) "
   ]
  },
  {
   "cell_type": "code",
   "execution_count": 30,
   "metadata": {
    "scrolled": true
   },
   "outputs": [
    {
     "data": {
      "text/html": [
       "<div>\n",
       "<style scoped>\n",
       "    .dataframe tbody tr th:only-of-type {\n",
       "        vertical-align: middle;\n",
       "    }\n",
       "\n",
       "    .dataframe tbody tr th {\n",
       "        vertical-align: top;\n",
       "    }\n",
       "\n",
       "    .dataframe thead th {\n",
       "        text-align: right;\n",
       "    }\n",
       "</style>\n",
       "<table border=\"1\" class=\"dataframe\">\n",
       "  <thead>\n",
       "    <tr style=\"text-align: right;\">\n",
       "      <th></th>\n",
       "      <th>educ</th>\n",
       "      <th>south</th>\n",
       "      <th>nonwhite</th>\n",
       "      <th>female</th>\n",
       "      <th>married</th>\n",
       "      <th>exper</th>\n",
       "      <th>expersq</th>\n",
       "      <th>union</th>\n",
       "      <th>lwage</th>\n",
       "      <th>age</th>\n",
       "      <th>year</th>\n",
       "      <th>y85</th>\n",
       "      <th>y85fem</th>\n",
       "      <th>y85educ</th>\n",
       "      <th>y85union</th>\n",
       "    </tr>\n",
       "  </thead>\n",
       "  <tbody>\n",
       "    <tr>\n",
       "      <th>0</th>\n",
       "      <td>12</td>\n",
       "      <td>0</td>\n",
       "      <td>0</td>\n",
       "      <td>0</td>\n",
       "      <td>0</td>\n",
       "      <td>8</td>\n",
       "      <td>64</td>\n",
       "      <td>0</td>\n",
       "      <td>1.2150</td>\n",
       "      <td>25</td>\n",
       "      <td>78</td>\n",
       "      <td>0</td>\n",
       "      <td>0</td>\n",
       "      <td>0</td>\n",
       "      <td>0</td>\n",
       "    </tr>\n",
       "    <tr>\n",
       "      <th>1</th>\n",
       "      <td>12</td>\n",
       "      <td>0</td>\n",
       "      <td>0</td>\n",
       "      <td>1</td>\n",
       "      <td>1</td>\n",
       "      <td>30</td>\n",
       "      <td>900</td>\n",
       "      <td>1</td>\n",
       "      <td>1.6094</td>\n",
       "      <td>47</td>\n",
       "      <td>78</td>\n",
       "      <td>0</td>\n",
       "      <td>0</td>\n",
       "      <td>0</td>\n",
       "      <td>0</td>\n",
       "    </tr>\n",
       "    <tr>\n",
       "      <th>2</th>\n",
       "      <td>6</td>\n",
       "      <td>0</td>\n",
       "      <td>0</td>\n",
       "      <td>0</td>\n",
       "      <td>1</td>\n",
       "      <td>38</td>\n",
       "      <td>1444</td>\n",
       "      <td>1</td>\n",
       "      <td>2.1401</td>\n",
       "      <td>49</td>\n",
       "      <td>78</td>\n",
       "      <td>0</td>\n",
       "      <td>0</td>\n",
       "      <td>0</td>\n",
       "      <td>0</td>\n",
       "    </tr>\n",
       "    <tr>\n",
       "      <th>3</th>\n",
       "      <td>12</td>\n",
       "      <td>0</td>\n",
       "      <td>0</td>\n",
       "      <td>0</td>\n",
       "      <td>1</td>\n",
       "      <td>19</td>\n",
       "      <td>361</td>\n",
       "      <td>1</td>\n",
       "      <td>2.0732</td>\n",
       "      <td>36</td>\n",
       "      <td>78</td>\n",
       "      <td>0</td>\n",
       "      <td>0</td>\n",
       "      <td>0</td>\n",
       "      <td>0</td>\n",
       "    </tr>\n",
       "    <tr>\n",
       "      <th>4</th>\n",
       "      <td>12</td>\n",
       "      <td>0</td>\n",
       "      <td>0</td>\n",
       "      <td>0</td>\n",
       "      <td>1</td>\n",
       "      <td>11</td>\n",
       "      <td>121</td>\n",
       "      <td>0</td>\n",
       "      <td>1.6490</td>\n",
       "      <td>28</td>\n",
       "      <td>78</td>\n",
       "      <td>0</td>\n",
       "      <td>0</td>\n",
       "      <td>0</td>\n",
       "      <td>0</td>\n",
       "    </tr>\n",
       "  </tbody>\n",
       "</table>\n",
       "</div>"
      ],
      "text/plain": [
       "   educ  south  nonwhite  female  married  exper  expersq  union   lwage  age  \\\n",
       "0    12      0         0       0        0      8       64      0  1.2150   25   \n",
       "1    12      0         0       1        1     30      900      1  1.6094   47   \n",
       "2     6      0         0       0        1     38     1444      1  2.1401   49   \n",
       "3    12      0         0       0        1     19      361      1  2.0732   36   \n",
       "4    12      0         0       0        1     11      121      0  1.6490   28   \n",
       "\n",
       "   year  y85  y85fem  y85educ  y85union  \n",
       "0    78    0       0        0         0  \n",
       "1    78    0       0        0         0  \n",
       "2    78    0       0        0         0  \n",
       "3    78    0       0        0         0  \n",
       "4    78    0       0        0         0  "
      ]
     },
     "execution_count": 30,
     "metadata": {},
     "output_type": "execute_result"
    }
   ],
   "source": [
    "dfej13_2 = pd.read_stata('cps78_85.dta')\n",
    "dfej13_2.head()"
   ]
  },
  {
   "cell_type": "code",
   "execution_count": 31,
   "metadata": {},
   "outputs": [
    {
     "data": {
      "text/plain": [
       "educ           int8\n",
       "south          int8\n",
       "nonwhite       int8\n",
       "female         int8\n",
       "married        int8\n",
       "exper          int8\n",
       "expersq       int16\n",
       "union          int8\n",
       "lwage       float32\n",
       "age            int8\n",
       "year           int8\n",
       "y85            int8\n",
       "y85fem         int8\n",
       "y85educ        int8\n",
       "y85union       int8\n",
       "dtype: object"
      ]
     },
     "execution_count": 31,
     "metadata": {},
     "output_type": "execute_result"
    }
   ],
   "source": [
    "dfej13_2.dtypes"
   ]
  },
  {
   "cell_type": "code",
   "execution_count": 32,
   "metadata": {},
   "outputs": [],
   "source": [
    "dfej13_2['educ'] = dfej13_2['educ'].astype(float)"
   ]
  },
  {
   "cell_type": "code",
   "execution_count": 33,
   "metadata": {},
   "outputs": [],
   "source": [
    "dfej13_2['exper'] = dfej13_2['exper'].astype(float)"
   ]
  },
  {
   "cell_type": "code",
   "execution_count": 34,
   "metadata": {},
   "outputs": [],
   "source": [
    "dfej13_2['union'] = dfej13_2['union'].astype(float)"
   ]
  },
  {
   "cell_type": "code",
   "execution_count": 35,
   "metadata": {},
   "outputs": [],
   "source": [
    "dfej13_2['female'] = dfej13_2['female'].astype(float)"
   ]
  },
  {
   "cell_type": "code",
   "execution_count": null,
   "metadata": {},
   "outputs": [],
   "source": []
  },
  {
   "cell_type": "code",
   "execution_count": null,
   "metadata": {},
   "outputs": [],
   "source": [
    "dfej13_2['y85educ´] = dfej13_2['y85']*dfej13_2['educ']\n",
    "dfej13_2['y85female'] = dfej13_2['y85']*dfej13_2['female']"
   ]
  },
  {
   "cell_type": "code",
   "execution_count": 36,
   "metadata": {},
   "outputs": [],
   "source": [
    "# Creo serie para no agregar en la base\n",
    "y85educ = dfej13_2['y85']*dfej13_2['educ']\n",
    "y85female = dfej13_2['y85']*dfej13_2['female']"
   ]
  },
  {
   "cell_type": "code",
   "execution_count": 37,
   "metadata": {},
   "outputs": [
    {
     "name": "stdout",
     "output_type": "stream",
     "text": [
      "                            OLS Regression Results                            \n",
      "==============================================================================\n",
      "Dep. Variable:                  lwage   R-squared:                       0.426\n",
      "Model:                            OLS   Adj. R-squared:                  0.422\n",
      "Method:                 Least Squares   F-statistic:                     99.80\n",
      "Date:                Sat, 10 Oct 2020   Prob (F-statistic):          4.46e-124\n",
      "Time:                        14:56:17   Log-Likelihood:                -574.24\n",
      "No. Observations:                1084   AIC:                             1166.\n",
      "Df Residuals:                    1075   BIC:                             1211.\n",
      "Df Model:                           8                                         \n",
      "Covariance Type:            nonrobust                                         \n",
      "====================================================================================\n",
      "                       coef    std err          t      P>|t|      [0.025      0.975]\n",
      "------------------------------------------------------------------------------------\n",
      "Intercept            0.4589      0.093      4.911      0.000       0.276       0.642\n",
      "y85                  0.1178      0.124      0.952      0.341      -0.125       0.361\n",
      "educ                 0.0747      0.007     11.192      0.000       0.062       0.088\n",
      "y85educ              0.0185      0.009      1.974      0.049       0.000       0.037\n",
      "exper                0.0296      0.004      8.293      0.000       0.023       0.037\n",
      "np.square(exper)    -0.0004   7.75e-05     -5.151      0.000      -0.001      -0.000\n",
      "union                0.2021      0.030      6.672      0.000       0.143       0.262\n",
      "female              -0.3167      0.037     -8.648      0.000      -0.389      -0.245\n",
      "y85female            0.0851      0.051      1.658      0.098      -0.016       0.186\n",
      "==============================================================================\n",
      "Omnibus:                       83.747   Durbin-Watson:                   1.918\n",
      "Prob(Omnibus):                  0.000   Jarque-Bera (JB):              317.985\n",
      "Skew:                          -0.271   Prob(JB):                     8.92e-70\n",
      "Kurtosis:                       5.597   Cond. No.                     8.77e+03\n",
      "==============================================================================\n",
      "\n",
      "Warnings:\n",
      "[1] Standard Errors assume that the covariance matrix of the errors is correctly specified.\n",
      "[2] The condition number is large, 8.77e+03. This might indicate that there are\n",
      "strong multicollinearity or other numerical problems.\n"
     ]
    }
   ],
   "source": [
    "regdfej13_2 = smf.ols('lwage ~  y85 + educ +y85educ + exper +np.square(exper) + union + female + y85female ', data = dfej13_2).fit()\n",
    "print(regdfej13_2.summary())"
   ]
  },
  {
   "cell_type": "code",
   "execution_count": null,
   "metadata": {},
   "outputs": [],
   "source": [
    "# Comentario : Se usan variables dummy de interacción para saber si las independientes cambian su efecto en el tiempo\n",
    "# En el ejemplo se ve si la rentabilidad en la educación y las diferencias de género cambian en el tiempo\n",
    "# El año base es 78 . Hay dummy de año, y dos dummies de interacción , con educ, y female\n",
    "# Se ha supuesto que la sindicalización y la experiencia tienen el mismo efecto en los salarios en ambos períodos"
   ]
  },
  {
   "cell_type": "code",
   "execution_count": null,
   "metadata": {},
   "outputs": [],
   "source": [
    "# Ordenada para 78"
   ]
  },
  {
   "cell_type": "code",
   "execution_count": 38,
   "metadata": {},
   "outputs": [
    {
     "data": {
      "text/plain": [
       "0.45893288315285313"
      ]
     },
     "execution_count": 38,
     "metadata": {},
     "output_type": "execute_result"
    }
   ],
   "source": [
    "regdfej13_2.params[0]"
   ]
  },
  {
   "cell_type": "code",
   "execution_count": null,
   "metadata": {},
   "outputs": [],
   "source": [
    "# ORdenada para 85"
   ]
  },
  {
   "cell_type": "code",
   "execution_count": 39,
   "metadata": {},
   "outputs": [
    {
     "data": {
      "text/plain": [
       "0.5767391010172603"
      ]
     },
     "execution_count": 39,
     "metadata": {},
     "output_type": "execute_result"
    }
   ],
   "source": [
    "regdfej13_2.params[0]+regdfej13_2.params[1]"
   ]
  },
  {
   "cell_type": "code",
   "execution_count": null,
   "metadata": {},
   "outputs": [],
   "source": [
    "# Impacto de la educación en 78, alrededor de 7.5%"
   ]
  },
  {
   "cell_type": "code",
   "execution_count": 40,
   "metadata": {},
   "outputs": [
    {
     "data": {
      "text/plain": [
       "0.07472091292293376"
      ]
     },
     "execution_count": 40,
     "metadata": {},
     "output_type": "execute_result"
    }
   ],
   "source": [
    "regdfej13_2.params[2]"
   ]
  },
  {
   "cell_type": "code",
   "execution_count": null,
   "metadata": {},
   "outputs": [],
   "source": [
    "# Impacto de la educación en 85, es de 9.3%"
   ]
  },
  {
   "cell_type": "code",
   "execution_count": 41,
   "metadata": {},
   "outputs": [
    {
     "data": {
      "text/plain": [
       "0.09318144522805318"
      ]
     },
     "execution_count": 41,
     "metadata": {},
     "output_type": "execute_result"
    }
   ],
   "source": [
    "regdfej13_2.params[2]+regdfej13_2.params[3]"
   ]
  },
  {
   "cell_type": "code",
   "execution_count": null,
   "metadata": {},
   "outputs": [],
   "source": [
    "# p value de interacción y85*edu "
   ]
  },
  {
   "cell_type": "code",
   "execution_count": 45,
   "metadata": {},
   "outputs": [
    {
     "data": {
      "text/plain": [
       "0.0486934422862361"
      ]
     },
     "execution_count": 45,
     "metadata": {},
     "output_type": "execute_result"
    }
   ],
   "source": [
    "regdfej13_2.pvalues[3]"
   ]
  },
  {
   "cell_type": "code",
   "execution_count": null,
   "metadata": {},
   "outputs": [],
   "source": [
    "# la diferencia en el impacto de la educación es estadísticamente significativa al nivel de 5% contra \n",
    "# una alternativa de dos colas"
   ]
  },
  {
   "cell_type": "code",
   "execution_count": null,
   "metadata": {},
   "outputs": [],
   "source": [
    "# Diferencia en log(wage) en 78. Ceteris paribus una mujer gana 31.7% menos (en log(wage))"
   ]
  },
  {
   "cell_type": "code",
   "execution_count": 42,
   "metadata": {},
   "outputs": [
    {
     "data": {
      "text/plain": [
       "-0.31670864807359267"
      ]
     },
     "execution_count": 42,
     "metadata": {},
     "output_type": "execute_result"
    }
   ],
   "source": [
    "regdfej13_2.params[7]"
   ]
  },
  {
   "cell_type": "code",
   "execution_count": null,
   "metadata": {},
   "outputs": [],
   "source": [
    "# Falta transformar a wage"
   ]
  },
  {
   "cell_type": "code",
   "execution_count": null,
   "metadata": {},
   "outputs": [],
   "source": []
  },
  {
   "cell_type": "code",
   "execution_count": 43,
   "metadata": {},
   "outputs": [],
   "source": [
    "# Diferencia en log(wage) en 85. La mujer gana 23.2% menos (en log(wage))"
   ]
  },
  {
   "cell_type": "code",
   "execution_count": 44,
   "metadata": {},
   "outputs": [
    {
     "data": {
      "text/plain": [
       "-0.23165667751274965"
      ]
     },
     "execution_count": 44,
     "metadata": {},
     "output_type": "execute_result"
    }
   ],
   "source": [
    "regdfej13_2.params[7]+regdfej13_2.params[8]"
   ]
  },
  {
   "cell_type": "code",
   "execution_count": null,
   "metadata": {},
   "outputs": [],
   "source": [
    "# es decir, la diferencia de género parace haber bajado 8.5% "
   ]
  },
  {
   "cell_type": "code",
   "execution_count": null,
   "metadata": {},
   "outputs": [],
   "source": [
    "# p value de interacción y85*female "
   ]
  },
  {
   "cell_type": "code",
   "execution_count": 46,
   "metadata": {},
   "outputs": [
    {
     "data": {
      "text/plain": [
       "0.09768120660347125"
      ]
     },
     "execution_count": 46,
     "metadata": {},
     "output_type": "execute_result"
    }
   ],
   "source": [
    "regdfej13_2.pvalues[8]"
   ]
  },
  {
   "cell_type": "code",
   "execution_count": null,
   "metadata": {},
   "outputs": [],
   "source": [
    "# es significativo al nivel de 5% contra una alternativa de una cola positiva."
   ]
  },
  {
   "cell_type": "code",
   "execution_count": null,
   "metadata": {},
   "outputs": [],
   "source": []
  },
  {
   "cell_type": "code",
   "execution_count": null,
   "metadata": {},
   "outputs": [],
   "source": [
    "# Falta explicar porque cuando la dependiente está en logaritmo y es en valor monetario , no hace falta poner en real"
   ]
  },
  {
   "cell_type": "code",
   "execution_count": null,
   "metadata": {},
   "outputs": [],
   "source": []
  },
  {
   "cell_type": "code",
   "execution_count": null,
   "metadata": {},
   "outputs": [],
   "source": [
    "# Falta ver todas las interacciones igual a ecuaciones separadas"
   ]
  },
  {
   "cell_type": "code",
   "execution_count": null,
   "metadata": {},
   "outputs": [],
   "source": []
  },
  {
   "cell_type": "code",
   "execution_count": null,
   "metadata": {},
   "outputs": [],
   "source": [
    "# Análisis de políticas con dos cortes trasversales"
   ]
  },
  {
   "cell_type": "markdown",
   "metadata": {},
   "source": [
    "## Ejemplo 13.3 Efectos de la ubicación de un incinerador de basura en el precio de la vivienda (kielmc.dta)"
   ]
  },
  {
   "cell_type": "code",
   "execution_count": 47,
   "metadata": {
    "scrolled": true
   },
   "outputs": [
    {
     "data": {
      "text/html": [
       "<div>\n",
       "<style scoped>\n",
       "    .dataframe tbody tr th:only-of-type {\n",
       "        vertical-align: middle;\n",
       "    }\n",
       "\n",
       "    .dataframe tbody tr th {\n",
       "        vertical-align: top;\n",
       "    }\n",
       "\n",
       "    .dataframe thead th {\n",
       "        text-align: right;\n",
       "    }\n",
       "</style>\n",
       "<table border=\"1\" class=\"dataframe\">\n",
       "  <thead>\n",
       "    <tr style=\"text-align: right;\">\n",
       "      <th></th>\n",
       "      <th>year</th>\n",
       "      <th>age</th>\n",
       "      <th>agesq</th>\n",
       "      <th>nbh</th>\n",
       "      <th>cbd</th>\n",
       "      <th>intst</th>\n",
       "      <th>lintst</th>\n",
       "      <th>price</th>\n",
       "      <th>rooms</th>\n",
       "      <th>area</th>\n",
       "      <th>...</th>\n",
       "      <th>lprice</th>\n",
       "      <th>y81</th>\n",
       "      <th>larea</th>\n",
       "      <th>lland</th>\n",
       "      <th>y81ldist</th>\n",
       "      <th>lintstsq</th>\n",
       "      <th>nearinc</th>\n",
       "      <th>y81nrinc</th>\n",
       "      <th>rprice</th>\n",
       "      <th>lrprice</th>\n",
       "    </tr>\n",
       "  </thead>\n",
       "  <tbody>\n",
       "    <tr>\n",
       "      <th>0</th>\n",
       "      <td>1978</td>\n",
       "      <td>48</td>\n",
       "      <td>2304.0</td>\n",
       "      <td>4</td>\n",
       "      <td>3000.0</td>\n",
       "      <td>1000.0</td>\n",
       "      <td>6.9078</td>\n",
       "      <td>60000.0</td>\n",
       "      <td>7</td>\n",
       "      <td>1660</td>\n",
       "      <td>...</td>\n",
       "      <td>11.002100</td>\n",
       "      <td>0</td>\n",
       "      <td>7.414573</td>\n",
       "      <td>8.429017</td>\n",
       "      <td>0.0</td>\n",
       "      <td>47.717705</td>\n",
       "      <td>1</td>\n",
       "      <td>0</td>\n",
       "      <td>60000.0</td>\n",
       "      <td>11.002100</td>\n",
       "    </tr>\n",
       "    <tr>\n",
       "      <th>1</th>\n",
       "      <td>1978</td>\n",
       "      <td>83</td>\n",
       "      <td>6889.0</td>\n",
       "      <td>4</td>\n",
       "      <td>4000.0</td>\n",
       "      <td>1000.0</td>\n",
       "      <td>6.9078</td>\n",
       "      <td>40000.0</td>\n",
       "      <td>6</td>\n",
       "      <td>2612</td>\n",
       "      <td>...</td>\n",
       "      <td>10.596635</td>\n",
       "      <td>0</td>\n",
       "      <td>7.867871</td>\n",
       "      <td>9.032409</td>\n",
       "      <td>0.0</td>\n",
       "      <td>47.717705</td>\n",
       "      <td>1</td>\n",
       "      <td>0</td>\n",
       "      <td>40000.0</td>\n",
       "      <td>10.596635</td>\n",
       "    </tr>\n",
       "    <tr>\n",
       "      <th>2</th>\n",
       "      <td>1978</td>\n",
       "      <td>58</td>\n",
       "      <td>3364.0</td>\n",
       "      <td>4</td>\n",
       "      <td>4000.0</td>\n",
       "      <td>1000.0</td>\n",
       "      <td>6.9078</td>\n",
       "      <td>34000.0</td>\n",
       "      <td>6</td>\n",
       "      <td>1144</td>\n",
       "      <td>...</td>\n",
       "      <td>10.434115</td>\n",
       "      <td>0</td>\n",
       "      <td>7.042286</td>\n",
       "      <td>8.517193</td>\n",
       "      <td>0.0</td>\n",
       "      <td>47.717705</td>\n",
       "      <td>1</td>\n",
       "      <td>0</td>\n",
       "      <td>34000.0</td>\n",
       "      <td>10.434115</td>\n",
       "    </tr>\n",
       "    <tr>\n",
       "      <th>3</th>\n",
       "      <td>1978</td>\n",
       "      <td>11</td>\n",
       "      <td>121.0</td>\n",
       "      <td>4</td>\n",
       "      <td>4000.0</td>\n",
       "      <td>1000.0</td>\n",
       "      <td>6.9078</td>\n",
       "      <td>63900.0</td>\n",
       "      <td>5</td>\n",
       "      <td>1136</td>\n",
       "      <td>...</td>\n",
       "      <td>11.065075</td>\n",
       "      <td>0</td>\n",
       "      <td>7.035269</td>\n",
       "      <td>9.210340</td>\n",
       "      <td>0.0</td>\n",
       "      <td>47.717705</td>\n",
       "      <td>1</td>\n",
       "      <td>0</td>\n",
       "      <td>63900.0</td>\n",
       "      <td>11.065075</td>\n",
       "    </tr>\n",
       "    <tr>\n",
       "      <th>4</th>\n",
       "      <td>1978</td>\n",
       "      <td>48</td>\n",
       "      <td>2304.0</td>\n",
       "      <td>4</td>\n",
       "      <td>4000.0</td>\n",
       "      <td>2000.0</td>\n",
       "      <td>7.6009</td>\n",
       "      <td>44000.0</td>\n",
       "      <td>5</td>\n",
       "      <td>1868</td>\n",
       "      <td>...</td>\n",
       "      <td>10.691945</td>\n",
       "      <td>0</td>\n",
       "      <td>7.532624</td>\n",
       "      <td>9.210340</td>\n",
       "      <td>0.0</td>\n",
       "      <td>57.773682</td>\n",
       "      <td>1</td>\n",
       "      <td>0</td>\n",
       "      <td>44000.0</td>\n",
       "      <td>10.691945</td>\n",
       "    </tr>\n",
       "  </tbody>\n",
       "</table>\n",
       "<p>5 rows × 25 columns</p>\n",
       "</div>"
      ],
      "text/plain": [
       "   year  age   agesq  nbh     cbd   intst  lintst    price  rooms  area  ...  \\\n",
       "0  1978   48  2304.0    4  3000.0  1000.0  6.9078  60000.0      7  1660  ...   \n",
       "1  1978   83  6889.0    4  4000.0  1000.0  6.9078  40000.0      6  2612  ...   \n",
       "2  1978   58  3364.0    4  4000.0  1000.0  6.9078  34000.0      6  1144  ...   \n",
       "3  1978   11   121.0    4  4000.0  1000.0  6.9078  63900.0      5  1136  ...   \n",
       "4  1978   48  2304.0    4  4000.0  2000.0  7.6009  44000.0      5  1868  ...   \n",
       "\n",
       "      lprice  y81     larea     lland  y81ldist   lintstsq  nearinc  y81nrinc  \\\n",
       "0  11.002100    0  7.414573  8.429017       0.0  47.717705        1         0   \n",
       "1  10.596635    0  7.867871  9.032409       0.0  47.717705        1         0   \n",
       "2  10.434115    0  7.042286  8.517193       0.0  47.717705        1         0   \n",
       "3  11.065075    0  7.035269  9.210340       0.0  47.717705        1         0   \n",
       "4  10.691945    0  7.532624  9.210340       0.0  57.773682        1         0   \n",
       "\n",
       "    rprice    lrprice  \n",
       "0  60000.0  11.002100  \n",
       "1  40000.0  10.596635  \n",
       "2  34000.0  10.434115  \n",
       "3  63900.0  11.065075  \n",
       "4  44000.0  10.691945  \n",
       "\n",
       "[5 rows x 25 columns]"
      ]
     },
     "execution_count": 47,
     "metadata": {},
     "output_type": "execute_result"
    }
   ],
   "source": [
    "dfej13_3 = pd.read_stata('kielmc.dta')\n",
    "dfej13_3.head()"
   ]
  },
  {
   "cell_type": "code",
   "execution_count": 50,
   "metadata": {
    "scrolled": true
   },
   "outputs": [
    {
     "data": {
      "text/plain": [
       "year          int16\n",
       "age           int16\n",
       "agesq       float32\n",
       "nbh            int8\n",
       "cbd         float32\n",
       "intst       float32\n",
       "lintst      float32\n",
       "price       float32\n",
       "rooms          int8\n",
       "area          int16\n",
       "land        float32\n",
       "baths          int8\n",
       "dist        float32\n",
       "ldist       float32\n",
       "wind           int8\n",
       "lprice      float32\n",
       "y81            int8\n",
       "larea       float32\n",
       "lland       float32\n",
       "y81ldist    float32\n",
       "lintstsq    float32\n",
       "nearinc     float64\n",
       "y81nrinc       int8\n",
       "rprice      float32\n",
       "lrprice     float32\n",
       "dtype: object"
      ]
     },
     "execution_count": 50,
     "metadata": {},
     "output_type": "execute_result"
    }
   ],
   "source": [
    "dfej13_3.dtypes"
   ]
  },
  {
   "cell_type": "code",
   "execution_count": 48,
   "metadata": {},
   "outputs": [],
   "source": [
    "dfej13_3['nearinc'] = dfej13_3['nearinc'].astype(float)"
   ]
  },
  {
   "cell_type": "code",
   "execution_count": 49,
   "metadata": {},
   "outputs": [],
   "source": [
    "# Se filtra la base para el año 1981\n",
    "dfej13_381 = dfej13_3[dfej13_3.year==1981]"
   ]
  },
  {
   "cell_type": "code",
   "execution_count": 50,
   "metadata": {},
   "outputs": [
    {
     "name": "stdout",
     "output_type": "stream",
     "text": [
      "                            OLS Regression Results                            \n",
      "==============================================================================\n",
      "Dep. Variable:                 rprice   R-squared:                       0.165\n",
      "Model:                            OLS   Adj. R-squared:                  0.159\n",
      "Method:                 Least Squares   F-statistic:                     27.73\n",
      "Date:                Sat, 10 Oct 2020   Prob (F-statistic):           5.14e-07\n",
      "Time:                        16:03:51   Log-Likelihood:                -1670.1\n",
      "No. Observations:                 142   AIC:                             3344.\n",
      "Df Residuals:                     140   BIC:                             3350.\n",
      "Df Model:                           1                                         \n",
      "Covariance Type:            nonrobust                                         \n",
      "==============================================================================\n",
      "                 coef    std err          t      P>|t|      [0.025      0.975]\n",
      "------------------------------------------------------------------------------\n",
      "Intercept   1.013e+05   3093.027     32.754      0.000    9.52e+04    1.07e+05\n",
      "nearinc    -3.069e+04   5827.709     -5.266      0.000   -4.22e+04   -1.92e+04\n",
      "==============================================================================\n",
      "Omnibus:                       23.943   Durbin-Watson:                   1.380\n",
      "Prob(Omnibus):                  0.000   Jarque-Bera (JB):               38.601\n",
      "Skew:                           0.832   Prob(JB):                     4.15e-09\n",
      "Kurtosis:                       4.939   Cond. No.                         2.44\n",
      "==============================================================================\n",
      "\n",
      "Warnings:\n",
      "[1] Standard Errors assume that the covariance matrix of the errors is correctly specified.\n"
     ]
    }
   ],
   "source": [
    "regdfej13_3 = smf.ols('rprice ~  nearinc ', data = dfej13_381).fit()\n",
    "print(regdfej13_3.summary())"
   ]
  },
  {
   "cell_type": "code",
   "execution_count": null,
   "metadata": {},
   "outputs": [],
   "source": [
    "# Comentario : Este modelo (inocente) es del valor de las casas contra una dummy de cera vs lejos, por lo que la ordenada es \n",
    "# el valor promedio de las que están lejos y el coeficiente de la dummy es la diferencia de las que están cerca\n",
    "# el p valu muestra que hay disferencia significativa entre los dos grupos\n",
    "# Las cercanas valen 30000 menos"
   ]
  },
  {
   "cell_type": "code",
   "execution_count": null,
   "metadata": {},
   "outputs": [],
   "source": [
    "# Problema: esa ecuación no indica que el incinerador sea el que provoque la diferencia\n",
    "# Si hacemos la regresión en el 78, veremos que igual había diferencia y era significativa"
   ]
  },
  {
   "cell_type": "code",
   "execution_count": 54,
   "metadata": {},
   "outputs": [],
   "source": [
    "# Se filtra la base para el año 1978\n",
    "dfej13_378 = dfej13_3[dfej13_3.year==1978]"
   ]
  },
  {
   "cell_type": "code",
   "execution_count": 55,
   "metadata": {},
   "outputs": [
    {
     "name": "stdout",
     "output_type": "stream",
     "text": [
      "                            OLS Regression Results                            \n",
      "==============================================================================\n",
      "Dep. Variable:                 rprice   R-squared:                       0.082\n",
      "Model:                            OLS   Adj. R-squared:                  0.076\n",
      "Method:                 Least Squares   F-statistic:                     15.74\n",
      "Date:                Sat, 10 Oct 2020   Prob (F-statistic):           0.000105\n",
      "Time:                        16:29:36   Log-Likelihood:                -2094.9\n",
      "No. Observations:                 179   AIC:                             4194.\n",
      "Df Residuals:                     177   BIC:                             4200.\n",
      "Df Model:                           1                                         \n",
      "Covariance Type:            nonrobust                                         \n",
      "==============================================================================\n",
      "                 coef    std err          t      P>|t|      [0.025      0.975]\n",
      "------------------------------------------------------------------------------\n",
      "Intercept   8.252e+04   2653.790     31.094      0.000    7.73e+04    8.78e+04\n",
      "nearinc    -1.882e+04   4744.594     -3.968      0.000   -2.82e+04   -9461.117\n",
      "==============================================================================\n",
      "Omnibus:                      173.455   Durbin-Watson:                   1.707\n",
      "Prob(Omnibus):                  0.000   Jarque-Bera (JB):             4526.710\n",
      "Skew:                           3.520   Prob(JB):                         0.00\n",
      "Kurtosis:                      26.609   Cond. No.                         2.42\n",
      "==============================================================================\n",
      "\n",
      "Warnings:\n",
      "[1] Standard Errors assume that the covariance matrix of the errors is correctly specified.\n"
     ]
    }
   ],
   "source": [
    "regdfej13_3a = smf.ols('rprice ~  nearinc ', data = dfej13_378).fit()\n",
    "print(regdfej13_3a.summary())"
   ]
  },
  {
   "cell_type": "code",
   "execution_count": null,
   "metadata": {},
   "outputs": [],
   "source": [
    "# Comentario : Nuevamente la diferencia es sginficiativa, y en este caso es de 18000 menos para las cercanas\n",
    "# Coherente con que se construyó el incinerador en zona de casas de bajo valor"
   ]
  },
  {
   "cell_type": "code",
   "execution_count": 53,
   "metadata": {},
   "outputs": [
    {
     "name": "stdout",
     "output_type": "stream",
     "text": [
      "\n",
      "=====================================\n",
      "              grab81        grab78   \n",
      "              (b/se)        (b/se)   \n",
      "-------------------------------------\n",
      "Intercept 101307.514*** 82517.228*** \n",
      "          (3093.027)    (2653.790)   \n",
      "nearinc   -30688.274*** -18824.370***\n",
      "          (5827.709)    (4744.594)   \n",
      "N         142           179          \n",
      "R2        0.165         0.082        \n",
      "Adj.R2    0.159         0.076        \n",
      "=====================================\n",
      "Standard errors in parentheses.\n",
      "* p<.1, ** p<.05, ***p<.01\n"
     ]
    }
   ],
   "source": [
    "print(summary_col([regdfej13_3, regdfej13_3a],stars=True,float_format='%0.3f',\n",
    "                  model_names=['grab81\\n(b/se)','grab78\\n(b/se)'],\n",
    "                 info_dict={'N':lambda x: \"{0:d}\".format(int(x.nobs)),\n",
    "                             'R2':lambda x: \"{:.3f}\".format(x.rsquared), \n",
    "                           'Adj.R2':lambda x: \"{:.3f}\".format(x.rsquared_adj)}))"
   ]
  },
  {
   "cell_type": "code",
   "execution_count": null,
   "metadata": {},
   "outputs": [],
   "source": [
    "# Cómo saber si el incinerador reduce el valor de las casas? "
   ]
  },
  {
   "cell_type": "code",
   "execution_count": null,
   "metadata": {},
   "outputs": [],
   "source": [
    "# La clave es ver el cambio en el coeficiente de la dummy"
   ]
  },
  {
   "cell_type": "code",
   "execution_count": 57,
   "metadata": {},
   "outputs": [
    {
     "data": {
      "text/plain": [
       "-11863.903252112581"
      ]
     },
     "execution_count": 57,
     "metadata": {},
     "output_type": "execute_result"
    }
   ],
   "source": [
    "Difendif = regdfej13_3.params[1]-regdfej13_3a.params[1]\n",
    "Difendif"
   ]
  },
  {
   "cell_type": "markdown",
   "metadata": {},
   "source": [
    "$ \\hat \\delta_{1} = (\\overline{rprice_{n81}}- \\overline{rprice_{f81}})-( \\overline{rprice_{n78}} - \\overline{rprice_{f78}}) $"
   ]
  },
  {
   "cell_type": "code",
   "execution_count": null,
   "metadata": {},
   "outputs": [],
   "source": [
    "# Para encontrar el error estándar de ese coeficiente es mejor hacer la regresión con las Dos Secciones Cruzadas y usando una \n",
    "# dummy de tiempo, cuya interacción con la dummy de distancia es ese coeficiente"
   ]
  },
  {
   "cell_type": "code",
   "execution_count": 59,
   "metadata": {},
   "outputs": [],
   "source": [
    "# Creo serie para no agregar en la base\n",
    "y81nearinc = dfej13_3['y81']*dfej13_3['nearinc']"
   ]
  },
  {
   "cell_type": "code",
   "execution_count": 60,
   "metadata": {},
   "outputs": [
    {
     "name": "stdout",
     "output_type": "stream",
     "text": [
      "                            OLS Regression Results                            \n",
      "==============================================================================\n",
      "Dep. Variable:                 rprice   R-squared:                       0.174\n",
      "Model:                            OLS   Adj. R-squared:                  0.166\n",
      "Method:                 Least Squares   F-statistic:                     22.25\n",
      "Date:                Sat, 10 Oct 2020   Prob (F-statistic):           4.22e-13\n",
      "Time:                        16:52:53   Log-Likelihood:                -3765.2\n",
      "No. Observations:                 321   AIC:                             7538.\n",
      "Df Residuals:                     317   BIC:                             7554.\n",
      "Df Model:                           3                                         \n",
      "Covariance Type:            nonrobust                                         \n",
      "==============================================================================\n",
      "                 coef    std err          t      P>|t|      [0.025      0.975]\n",
      "------------------------------------------------------------------------------\n",
      "Intercept   8.252e+04   2726.910     30.260      0.000    7.72e+04    8.79e+04\n",
      "y81         1.879e+04   4050.065      4.640      0.000    1.08e+04    2.68e+04\n",
      "nearinc    -1.882e+04   4875.322     -3.861      0.000   -2.84e+04   -9232.293\n",
      "y81nearinc -1.186e+04   7456.646     -1.591      0.113   -2.65e+04    2806.867\n",
      "==============================================================================\n",
      "Omnibus:                      192.562   Durbin-Watson:                   1.557\n",
      "Prob(Omnibus):                  0.000   Jarque-Bera (JB):             2462.071\n",
      "Skew:                           2.217   Prob(JB):                         0.00\n",
      "Kurtosis:                      15.822   Cond. No.                         6.05\n",
      "==============================================================================\n",
      "\n",
      "Warnings:\n",
      "[1] Standard Errors assume that the covariance matrix of the errors is correctly specified.\n"
     ]
    }
   ],
   "source": [
    "regdfej13_3b = smf.ols('rprice ~  y81 + nearinc + y81nearinc ', data = dfej13_3).fit()\n",
    "print(regdfej13_3b.summary())"
   ]
  },
  {
   "cell_type": "code",
   "execution_count": null,
   "metadata": {},
   "outputs": [],
   "source": [
    "# Comentario : Vemos que el coeficiente de la interacción de las dos dummies es lo esperado, la DifenDif y que no es \n",
    "# estadísticamente muy significativo\n",
    "# El coeficiente de la dummy de distancia muestra los otros efectos que hacen a la diferencia de valores pro distancia, \n",
    "# distintos al incinerador\n",
    "# La ordenada, mide el promedio de valor de las casas lejanas en el 78"
   ]
  },
  {
   "cell_type": "code",
   "execution_count": null,
   "metadata": {},
   "outputs": [],
   "source": [
    "# El coeficiente de la interacción de las dos dummies mide la disminución en valor por el inicinerador si ambos grupos de casas\n",
    "# no se revalorizaron pro otras razones"
   ]
  },
  {
   "cell_type": "code",
   "execution_count": null,
   "metadata": {},
   "outputs": [],
   "source": [
    "# Otras características"
   ]
  },
  {
   "cell_type": "code",
   "execution_count": null,
   "metadata": {},
   "outputs": [],
   "source": [
    "# Es probable que el grupo de casas del 81 sean sistemáticamente distintas a las del 78, por lo que interesa controlar por \n",
    "# esas características que pueden valorarlas diferente\n",
    "# Aún si no difieren, es bueno incluir esas características para reducir la varianza del error y quizás haga más significativo\n",
    "# al coeficiente de DifenDif"
   ]
  },
  {
   "cell_type": "code",
   "execution_count": 61,
   "metadata": {},
   "outputs": [
    {
     "name": "stdout",
     "output_type": "stream",
     "text": [
      "                            OLS Regression Results                            \n",
      "==============================================================================\n",
      "Dep. Variable:                 rprice   R-squared:                       0.414\n",
      "Model:                            OLS   Adj. R-squared:                  0.405\n",
      "Method:                 Least Squares   F-statistic:                     44.59\n",
      "Date:                Sat, 10 Oct 2020   Prob (F-statistic):           1.00e-34\n",
      "Time:                        17:15:20   Log-Likelihood:                -3710.0\n",
      "No. Observations:                 321   AIC:                             7432.\n",
      "Df Residuals:                     315   BIC:                             7455.\n",
      "Df Model:                           5                                         \n",
      "Covariance Type:            nonrobust                                         \n",
      "==============================================================================\n",
      "                 coef    std err          t      P>|t|      [0.025      0.975]\n",
      "------------------------------------------------------------------------------\n",
      "Intercept   8.912e+04   2406.051     37.039      0.000    8.44e+04    9.39e+04\n",
      "y81         2.132e+04   3443.631      6.191      0.000    1.45e+04    2.81e+04\n",
      "nearinc     9397.9359   4812.222      1.953      0.052     -70.224    1.89e+04\n",
      "y81nearinc -2.192e+04   6359.745     -3.447      0.001   -3.44e+04   -9407.321\n",
      "age        -1494.4240    131.860    -11.333      0.000   -1753.862   -1234.986\n",
      "agesq          8.6913      0.848     10.248      0.000       7.023      10.360\n",
      "==============================================================================\n",
      "Omnibus:                      185.735   Durbin-Watson:                   1.668\n",
      "Prob(Omnibus):                  0.000   Jarque-Bera (JB):             2674.532\n",
      "Skew:                           2.062   Prob(JB):                         0.00\n",
      "Kurtosis:                      16.526   Cond. No.                     2.66e+04\n",
      "==============================================================================\n",
      "\n",
      "Warnings:\n",
      "[1] Standard Errors assume that the covariance matrix of the errors is correctly specified.\n",
      "[2] The condition number is large, 2.66e+04. This might indicate that there are\n",
      "strong multicollinearity or other numerical problems.\n"
     ]
    }
   ],
   "source": [
    "regdfej13_3c = smf.ols('rprice ~  y81 + nearinc + y81nearinc + age + agesq ', data = dfej13_3).fit()\n",
    "print(regdfej13_3c.summary())"
   ]
  },
  {
   "cell_type": "code",
   "execution_count": null,
   "metadata": {},
   "outputs": [],
   "source": [
    "# Comentario : se ha controlado la edad de las casas y aumenta la R2 (al reducir la varianza residual). \n",
    "# El coeficiente de y81·nearinc ahora es mayor y su error estándar es menor."
   ]
  },
  {
   "cell_type": "code",
   "execution_count": null,
   "metadata": {},
   "outputs": [],
   "source": []
  },
  {
   "cell_type": "code",
   "execution_count": 63,
   "metadata": {},
   "outputs": [
    {
     "name": "stdout",
     "output_type": "stream",
     "text": [
      "                            OLS Regression Results                            \n",
      "==============================================================================\n",
      "Dep. Variable:                 rprice   R-squared:                       0.660\n",
      "Model:                            OLS   Adj. R-squared:                  0.649\n",
      "Method:                 Least Squares   F-statistic:                     60.19\n",
      "Date:                Sat, 10 Oct 2020   Prob (F-statistic):           1.16e-66\n",
      "Time:                        17:20:20   Log-Likelihood:                -3622.7\n",
      "No. Observations:                 321   AIC:                             7267.\n",
      "Df Residuals:                     310   BIC:                             7309.\n",
      "Df Model:                          10                                         \n",
      "Covariance Type:            nonrobust                                         \n",
      "==============================================================================\n",
      "                 coef    std err          t      P>|t|      [0.025      0.975]\n",
      "------------------------------------------------------------------------------\n",
      "Intercept   1.381e+04   1.12e+04      1.237      0.217   -8164.239    3.58e+04\n",
      "y81         1.393e+04   2798.747      4.977      0.000    8421.533    1.94e+04\n",
      "nearinc     3780.3368   4453.415      0.849      0.397   -4982.408    1.25e+04\n",
      "y81nearinc -1.418e+04   4987.267     -2.843      0.005    -2.4e+04   -4364.759\n",
      "age         -739.4510    131.127     -5.639      0.000    -997.463    -481.439\n",
      "agesq          3.4527      0.813      4.248      0.000       1.853       5.052\n",
      "intst         -0.5386      0.196     -2.743      0.006      -0.925      -0.152\n",
      "land           0.1414      0.031      4.551      0.000       0.080       0.203\n",
      "area          18.0862      2.306      7.843      0.000      13.549      22.624\n",
      "rooms       3304.2267   1661.248      1.989      0.048      35.479    6572.974\n",
      "baths       6977.3166   2581.321      2.703      0.007    1898.191    1.21e+04\n",
      "==============================================================================\n",
      "Omnibus:                      120.913   Durbin-Watson:                   1.677\n",
      "Prob(Omnibus):                  0.000   Jarque-Bera (JB):             1499.068\n",
      "Skew:                           1.176   Prob(JB):                         0.00\n",
      "Kurtosis:                      13.322   Cond. No.                     6.02e+05\n",
      "==============================================================================\n",
      "\n",
      "Warnings:\n",
      "[1] Standard Errors assume that the covariance matrix of the errors is correctly specified.\n",
      "[2] The condition number is large, 6.02e+05. This might indicate that there are\n",
      "strong multicollinearity or other numerical problems.\n"
     ]
    }
   ],
   "source": [
    "regdfej13_3d = smf.ols('rprice ~  y81 + nearinc + y81nearinc + age + agesq + intst+ land+ area+ rooms+ baths ', data = dfej13_3).fit()\n",
    "print(regdfej13_3d.summary())"
   ]
  },
  {
   "cell_type": "code",
   "execution_count": null,
   "metadata": {},
   "outputs": [],
   "source": []
  },
  {
   "cell_type": "code",
   "execution_count": null,
   "metadata": {},
   "outputs": [],
   "source": [
    "# Comentario : ahora se controla también por distancia a la carretera (intst), el área del terreno (land), \n",
    "# el área de la casa (area), el número de habitaciones (rooms) y el número de baños (baths).\n",
    "# La estimación de la DifenDif es más cercana a cuando se computó sin controles, pero con error estándar menor y que la hace \n",
    "# ahora si , significtiva"
   ]
  },
  {
   "cell_type": "code",
   "execution_count": null,
   "metadata": {},
   "outputs": [],
   "source": [
    "# Todos los errores estándar son menores, como se esperaba, salvo para la ordenada , pero en realidad esta no importa si \n",
    "# están todos los controles necesarios\n",
    "# Que la dummy de distancia sola no sea significativa es porque los controles capturan las principales características \n",
    "# que explican la diferencia de precios"
   ]
  },
  {
   "cell_type": "code",
   "execution_count": null,
   "metadata": {},
   "outputs": [],
   "source": [
    "# Para medir los efectos en términos porcentuales mejor es con el log del precio"
   ]
  },
  {
   "cell_type": "code",
   "execution_count": null,
   "metadata": {},
   "outputs": [],
   "source": [
    "# Cuando se hace en logaritmo , ahora el coeficiente de DifenDif es multiplicado por 100 y se interpreta como diferencia\n",
    "# porcentual"
   ]
  },
  {
   "cell_type": "code",
   "execution_count": 65,
   "metadata": {},
   "outputs": [
    {
     "name": "stdout",
     "output_type": "stream",
     "text": [
      "                            OLS Regression Results                            \n",
      "==============================================================================\n",
      "Dep. Variable:         np.log(rprice)   R-squared:                       0.246\n",
      "Model:                            OLS   Adj. R-squared:                  0.239\n",
      "Method:                 Least Squares   F-statistic:                     34.47\n",
      "Date:                Sat, 10 Oct 2020   Prob (F-statistic):           2.62e-19\n",
      "Time:                        17:35:41   Log-Likelihood:                -105.68\n",
      "No. Observations:                 321   AIC:                             219.4\n",
      "Df Residuals:                     317   BIC:                             234.4\n",
      "Df Model:                           3                                         \n",
      "Covariance Type:            nonrobust                                         \n",
      "==============================================================================\n",
      "                 coef    std err          t      P>|t|      [0.025      0.975]\n",
      "------------------------------------------------------------------------------\n",
      "Intercept     11.2854      0.031    369.839      0.000      11.225      11.345\n",
      "y81            0.1931      0.045      4.261      0.000       0.104       0.282\n",
      "nearinc       -0.3399      0.055     -6.231      0.000      -0.447      -0.233\n",
      "y81nearinc    -0.0626      0.083     -0.751      0.453      -0.227       0.102\n",
      "==============================================================================\n",
      "Omnibus:                       29.462   Durbin-Watson:                   1.568\n",
      "Prob(Omnibus):                  0.000   Jarque-Bera (JB):               84.380\n",
      "Skew:                           0.370   Prob(JB):                     4.75e-19\n",
      "Kurtosis:                       5.400   Cond. No.                         6.05\n",
      "==============================================================================\n",
      "\n",
      "Warnings:\n",
      "[1] Standard Errors assume that the covariance matrix of the errors is correctly specified.\n"
     ]
    }
   ],
   "source": [
    "regdfej13_3e = smf.ols('np.log(rprice) ~  y81 + nearinc + y81nearinc ', data = dfej13_3).fit()\n",
    "print(regdfej13_3e.summary())"
   ]
  },
  {
   "cell_type": "code",
   "execution_count": null,
   "metadata": {},
   "outputs": [],
   "source": [
    "# Comentario : Las casas cercanas al incinerador , pierden por él, 6.3% de su valor. Aunque la significatividad es mala, \n",
    "# vimos que cuando se usan todos los controles cambia "
   ]
  },
  {
   "cell_type": "code",
   "execution_count": 66,
   "metadata": {},
   "outputs": [
    {
     "name": "stdout",
     "output_type": "stream",
     "text": [
      "                            OLS Regression Results                            \n",
      "==============================================================================\n",
      "Dep. Variable:          np.log(price)   R-squared:                       0.409\n",
      "Model:                            OLS   Adj. R-squared:                  0.403\n",
      "Method:                 Least Squares   F-statistic:                     73.15\n",
      "Date:                Sat, 10 Oct 2020   Prob (F-statistic):           5.61e-36\n",
      "Time:                        17:37:20   Log-Likelihood:                -105.68\n",
      "No. Observations:                 321   AIC:                             219.4\n",
      "Df Residuals:                     317   BIC:                             234.4\n",
      "Df Model:                           3                                         \n",
      "Covariance Type:            nonrobust                                         \n",
      "==============================================================================\n",
      "                 coef    std err          t      P>|t|      [0.025      0.975]\n",
      "------------------------------------------------------------------------------\n",
      "Intercept     11.2854      0.031    369.839      0.000      11.225      11.345\n",
      "y81            0.4570      0.045     10.084      0.000       0.368       0.546\n",
      "nearinc       -0.3399      0.055     -6.231      0.000      -0.447      -0.233\n",
      "y81nearinc    -0.0626      0.083     -0.751      0.453      -0.227       0.102\n",
      "==============================================================================\n",
      "Omnibus:                       29.462   Durbin-Watson:                   1.568\n",
      "Prob(Omnibus):                  0.000   Jarque-Bera (JB):               84.380\n",
      "Skew:                           0.370   Prob(JB):                     4.75e-19\n",
      "Kurtosis:                       5.400   Cond. No.                         6.05\n",
      "==============================================================================\n",
      "\n",
      "Warnings:\n",
      "[1] Standard Errors assume that the covariance matrix of the errors is correctly specified.\n"
     ]
    }
   ],
   "source": [
    "regdfej13_3f = smf.ols('np.log(price) ~  y81 + nearinc + y81nearinc ', data = dfej13_3).fit()\n",
    "print(regdfej13_3f.summary())"
   ]
  },
  {
   "cell_type": "code",
   "execution_count": null,
   "metadata": {},
   "outputs": [],
   "source": [
    "# Comentario: Com ovimos, cuando usamos log con precios nominales, solamente difiere del uso en terminos reales en el \n",
    "# coeficiente de la dummy temporal"
   ]
  },
  {
   "cell_type": "code",
   "execution_count": 67,
   "metadata": {},
   "outputs": [
    {
     "name": "stdout",
     "output_type": "stream",
     "text": [
      "                            OLS Regression Results                            \n",
      "==============================================================================\n",
      "Dep. Variable:          np.log(price)   R-squared:                       0.790\n",
      "Model:                            OLS   Adj. R-squared:                  0.784\n",
      "Method:                 Least Squares   F-statistic:                     116.9\n",
      "Date:                Sat, 10 Oct 2020   Prob (F-statistic):           6.53e-99\n",
      "Time:                        17:50:50   Log-Likelihood:                 60.690\n",
      "No. Observations:                 321   AIC:                            -99.38\n",
      "Df Residuals:                     310   BIC:                            -57.89\n",
      "Df Model:                          10                                         \n",
      "Covariance Type:            nonrobust                                         \n",
      "=================================================================================\n",
      "                    coef    std err          t      P>|t|      [0.025      0.975]\n",
      "---------------------------------------------------------------------------------\n",
      "Intercept         7.6517      0.416     18.399      0.000       6.833       8.470\n",
      "y81               0.4260      0.028     14.947      0.000       0.370       0.482\n",
      "nearinc           0.0322      0.047      0.679      0.498      -0.061       0.126\n",
      "y81nearinc       -0.1315      0.052     -2.531      0.012      -0.234      -0.029\n",
      "age              -0.0084      0.001     -5.924      0.000      -0.011      -0.006\n",
      "agesq          3.763e-05   8.67e-06      4.342      0.000    2.06e-05    5.47e-05\n",
      "np.log(intst)    -0.0614      0.032     -1.950      0.052      -0.123       0.001\n",
      "np.log(land)      0.0998      0.024      4.077      0.000       0.052       0.148\n",
      "np.log(area)      0.3508      0.051      6.813      0.000       0.249       0.452\n",
      "rooms             0.0473      0.017      2.732      0.007       0.013       0.081\n",
      "baths             0.0943      0.028      3.400      0.001       0.040       0.149\n",
      "==============================================================================\n",
      "Omnibus:                       67.366   Durbin-Watson:                   1.710\n",
      "Prob(Omnibus):                  0.000   Jarque-Bera (JB):              356.621\n",
      "Skew:                          -0.734   Prob(JB):                     3.64e-78\n",
      "Kurtosis:                       7.951   Cond. No.                     1.83e+05\n",
      "==============================================================================\n",
      "\n",
      "Warnings:\n",
      "[1] Standard Errors assume that the covariance matrix of the errors is correctly specified.\n",
      "[2] The condition number is large, 1.83e+05. This might indicate that there are\n",
      "strong multicollinearity or other numerical problems.\n"
     ]
    }
   ],
   "source": [
    "regdfej13_3g = smf.ols('np.log(price) ~  y81 + nearinc + y81nearinc + age + agesq + np.log(intst)+ np.log(land)+ np.log(area)+ rooms+ baths', data = dfej13_3).fit()\n",
    "print(regdfej13_3g.summary())"
   ]
  },
  {
   "cell_type": "code",
   "execution_count": null,
   "metadata": {},
   "outputs": [],
   "source": [
    "# Comentario : Ahora vemos que el efecto del incinerador es de 13% al reducir el valor de las propiedades cercanas\n",
    "# y significativo al colocar los controles como antes, pues eso reduce la varianza del error"
   ]
  },
  {
   "cell_type": "markdown",
   "metadata": {},
   "source": [
    "## Ejemplo 13.4  Efecto de las leyes de indemnización de los trabajadores sobre la duración  de la baja laboral (injury.dta)"
   ]
  },
  {
   "cell_type": "code",
   "execution_count": null,
   "metadata": {},
   "outputs": [],
   "source": [
    "# Una indemnización mayor para los de mayor ingreso hace que permanezcan sin trabajar por más tiempo? "
   ]
  },
  {
   "cell_type": "code",
   "execution_count": 68,
   "metadata": {
    "scrolled": true
   },
   "outputs": [
    {
     "data": {
      "text/html": [
       "<div>\n",
       "<style scoped>\n",
       "    .dataframe tbody tr th:only-of-type {\n",
       "        vertical-align: middle;\n",
       "    }\n",
       "\n",
       "    .dataframe tbody tr th {\n",
       "        vertical-align: top;\n",
       "    }\n",
       "\n",
       "    .dataframe thead th {\n",
       "        text-align: right;\n",
       "    }\n",
       "</style>\n",
       "<table border=\"1\" class=\"dataframe\">\n",
       "  <thead>\n",
       "    <tr style=\"text-align: right;\">\n",
       "      <th></th>\n",
       "      <th>durat</th>\n",
       "      <th>afchnge</th>\n",
       "      <th>highearn</th>\n",
       "      <th>male</th>\n",
       "      <th>married</th>\n",
       "      <th>hosp</th>\n",
       "      <th>indust</th>\n",
       "      <th>injtype</th>\n",
       "      <th>age</th>\n",
       "      <th>prewage</th>\n",
       "      <th>...</th>\n",
       "      <th>head</th>\n",
       "      <th>neck</th>\n",
       "      <th>upextr</th>\n",
       "      <th>trunk</th>\n",
       "      <th>lowback</th>\n",
       "      <th>lowextr</th>\n",
       "      <th>occdis</th>\n",
       "      <th>manuf</th>\n",
       "      <th>construc</th>\n",
       "      <th>highlpre</th>\n",
       "    </tr>\n",
       "  </thead>\n",
       "  <tbody>\n",
       "    <tr>\n",
       "      <th>0</th>\n",
       "      <td>1.0</td>\n",
       "      <td>1</td>\n",
       "      <td>1</td>\n",
       "      <td>1.0</td>\n",
       "      <td>0.0</td>\n",
       "      <td>1</td>\n",
       "      <td>3.0</td>\n",
       "      <td>1</td>\n",
       "      <td>26.0</td>\n",
       "      <td>404.950012</td>\n",
       "      <td>...</td>\n",
       "      <td>1</td>\n",
       "      <td>0</td>\n",
       "      <td>0</td>\n",
       "      <td>0</td>\n",
       "      <td>0</td>\n",
       "      <td>0</td>\n",
       "      <td>0</td>\n",
       "      <td>0.0</td>\n",
       "      <td>0.0</td>\n",
       "      <td>6.003764</td>\n",
       "    </tr>\n",
       "    <tr>\n",
       "      <th>1</th>\n",
       "      <td>1.0</td>\n",
       "      <td>1</td>\n",
       "      <td>1</td>\n",
       "      <td>1.0</td>\n",
       "      <td>1.0</td>\n",
       "      <td>0</td>\n",
       "      <td>3.0</td>\n",
       "      <td>1</td>\n",
       "      <td>31.0</td>\n",
       "      <td>643.825012</td>\n",
       "      <td>...</td>\n",
       "      <td>1</td>\n",
       "      <td>0</td>\n",
       "      <td>0</td>\n",
       "      <td>0</td>\n",
       "      <td>0</td>\n",
       "      <td>0</td>\n",
       "      <td>0</td>\n",
       "      <td>0.0</td>\n",
       "      <td>0.0</td>\n",
       "      <td>6.467427</td>\n",
       "    </tr>\n",
       "    <tr>\n",
       "      <th>2</th>\n",
       "      <td>84.0</td>\n",
       "      <td>1</td>\n",
       "      <td>1</td>\n",
       "      <td>1.0</td>\n",
       "      <td>1.0</td>\n",
       "      <td>1</td>\n",
       "      <td>3.0</td>\n",
       "      <td>1</td>\n",
       "      <td>37.0</td>\n",
       "      <td>398.125000</td>\n",
       "      <td>...</td>\n",
       "      <td>1</td>\n",
       "      <td>0</td>\n",
       "      <td>0</td>\n",
       "      <td>0</td>\n",
       "      <td>0</td>\n",
       "      <td>0</td>\n",
       "      <td>0</td>\n",
       "      <td>0.0</td>\n",
       "      <td>0.0</td>\n",
       "      <td>5.986766</td>\n",
       "    </tr>\n",
       "    <tr>\n",
       "      <th>3</th>\n",
       "      <td>4.0</td>\n",
       "      <td>1</td>\n",
       "      <td>1</td>\n",
       "      <td>1.0</td>\n",
       "      <td>1.0</td>\n",
       "      <td>1</td>\n",
       "      <td>3.0</td>\n",
       "      <td>1</td>\n",
       "      <td>31.0</td>\n",
       "      <td>527.799988</td>\n",
       "      <td>...</td>\n",
       "      <td>1</td>\n",
       "      <td>0</td>\n",
       "      <td>0</td>\n",
       "      <td>0</td>\n",
       "      <td>0</td>\n",
       "      <td>0</td>\n",
       "      <td>0</td>\n",
       "      <td>0.0</td>\n",
       "      <td>0.0</td>\n",
       "      <td>6.268717</td>\n",
       "    </tr>\n",
       "    <tr>\n",
       "      <th>4</th>\n",
       "      <td>1.0</td>\n",
       "      <td>1</td>\n",
       "      <td>1</td>\n",
       "      <td>1.0</td>\n",
       "      <td>1.0</td>\n",
       "      <td>0</td>\n",
       "      <td>3.0</td>\n",
       "      <td>1</td>\n",
       "      <td>23.0</td>\n",
       "      <td>528.937500</td>\n",
       "      <td>...</td>\n",
       "      <td>1</td>\n",
       "      <td>0</td>\n",
       "      <td>0</td>\n",
       "      <td>0</td>\n",
       "      <td>0</td>\n",
       "      <td>0</td>\n",
       "      <td>0</td>\n",
       "      <td>0.0</td>\n",
       "      <td>0.0</td>\n",
       "      <td>6.270870</td>\n",
       "    </tr>\n",
       "  </tbody>\n",
       "</table>\n",
       "<p>5 rows × 30 columns</p>\n",
       "</div>"
      ],
      "text/plain": [
       "   durat  afchnge  highearn  male  married  hosp  indust  injtype   age  \\\n",
       "0    1.0        1         1   1.0      0.0     1     3.0        1  26.0   \n",
       "1    1.0        1         1   1.0      1.0     0     3.0        1  31.0   \n",
       "2   84.0        1         1   1.0      1.0     1     3.0        1  37.0   \n",
       "3    4.0        1         1   1.0      1.0     1     3.0        1  31.0   \n",
       "4    1.0        1         1   1.0      1.0     0     3.0        1  23.0   \n",
       "\n",
       "      prewage  ...  head  neck  upextr  trunk  lowback  lowextr  occdis  \\\n",
       "0  404.950012  ...     1     0       0      0        0        0       0   \n",
       "1  643.825012  ...     1     0       0      0        0        0       0   \n",
       "2  398.125000  ...     1     0       0      0        0        0       0   \n",
       "3  527.799988  ...     1     0       0      0        0        0       0   \n",
       "4  528.937500  ...     1     0       0      0        0        0       0   \n",
       "\n",
       "   manuf  construc  highlpre  \n",
       "0    0.0       0.0  6.003764  \n",
       "1    0.0       0.0  6.467427  \n",
       "2    0.0       0.0  5.986766  \n",
       "3    0.0       0.0  6.268717  \n",
       "4    0.0       0.0  6.270870  \n",
       "\n",
       "[5 rows x 30 columns]"
      ]
     },
     "execution_count": 68,
     "metadata": {},
     "output_type": "execute_result"
    }
   ],
   "source": [
    "dfej13_4 = pd.read_stata('injury.dta')\n",
    "dfej13_4.head()"
   ]
  },
  {
   "cell_type": "code",
   "execution_count": 69,
   "metadata": {},
   "outputs": [],
   "source": [
    "afhi = dfej13_4['afchnge']*dfej13_4['highearn']"
   ]
  },
  {
   "cell_type": "code",
   "execution_count": 70,
   "metadata": {},
   "outputs": [
    {
     "name": "stdout",
     "output_type": "stream",
     "text": [
      "                            OLS Regression Results                            \n",
      "==============================================================================\n",
      "Dep. Variable:          np.log(durat)   R-squared:                       0.016\n",
      "Model:                            OLS   Adj. R-squared:                  0.015\n",
      "Method:                 Least Squares   F-statistic:                     38.34\n",
      "Date:                Sat, 10 Oct 2020   Prob (F-statistic):           1.42e-24\n",
      "Time:                        19:51:56   Log-Likelihood:                -12011.\n",
      "No. Observations:                7150   AIC:                         2.403e+04\n",
      "Df Residuals:                    7146   BIC:                         2.406e+04\n",
      "Df Model:                           3                                         \n",
      "Covariance Type:            nonrobust                                         \n",
      "==============================================================================\n",
      "                 coef    std err          t      P>|t|      [0.025      0.975]\n",
      "------------------------------------------------------------------------------\n",
      "Intercept      1.1993      0.027     44.241      0.000       1.146       1.252\n",
      "afchnge        0.0236      0.040      0.595      0.552      -0.054       0.101\n",
      "highearn       0.2152      0.043      4.963      0.000       0.130       0.300\n",
      "afhi           0.1883      0.063      2.999      0.003       0.065       0.311\n",
      "==============================================================================\n",
      "Omnibus:                       61.563   Durbin-Watson:                   1.899\n",
      "Prob(Omnibus):                  0.000   Jarque-Bera (JB):               91.572\n",
      "Skew:                           0.078   Prob(JB):                     1.30e-20\n",
      "Kurtosis:                       3.532   Cond. No.                         6.28\n",
      "==============================================================================\n",
      "\n",
      "Warnings:\n",
      "[1] Standard Errors assume that the covariance matrix of the errors is correctly specified.\n"
     ]
    }
   ],
   "source": [
    "regdfej13_4 = smf.ols('np.log(durat) ~  afchnge + highearn + afhi ', data = dfej13_4).fit()\n",
    "print(regdfej13_4.summary())"
   ]
  },
  {
   "cell_type": "code",
   "execution_count": null,
   "metadata": {},
   "outputs": [],
   "source": [
    "# Comentario : El grupo de control, son los de bajo ingreso, siendo la dummy higheard. \n",
    "# La variable temporal, es afchange, y la variable  de interacción es afhi\n",
    "# El coeficiente de la afhi, es decir la difendif indica que la duración promedio aumento caso 19% con el aumento del seguro\n",
    "# El coeficiente de afchange es chico y no significativo, esperable pues no hay cambio en el tiempo para los de bao ingreso\n",
    "# El bajo R2 se explica pues el cambio en la duración se explica por muchos factores, como la gravedad de la lesión, género,\n",
    "# estado civil, industria, que oermite considerar que  las personas y las lesiones difieren sistemáticamente en los dos años\n",
    "# Como la muestra es grande, el t es significativo"
   ]
  },
  {
   "cell_type": "code",
   "execution_count": null,
   "metadata": {},
   "outputs": [],
   "source": [
    "# Panel en dos años\n",
    "# Método Diferencias"
   ]
  },
  {
   "cell_type": "markdown",
   "metadata": {},
   "source": [
    "## Ejemplo 13.5  ¿Dormir o trabajar?  (slp75_81.dta)"
   ]
  },
  {
   "cell_type": "markdown",
   "metadata": {},
   "source": [
    "$slpnap_{it} = \\beta_{0}+ \\delta_{0} d281_{t}+ \\beta_{1} totwrk_{it}+ \\beta_{2} educa_{it}+ \\beta_{3}marr_{it}+\\beta_{4}ymgkid_{it}+ \\beta_{5}gdhlth_{it}+ a_{i} + u_{it} $  t = 1,2"
   ]
  },
  {
   "cell_type": "code",
   "execution_count": null,
   "metadata": {},
   "outputs": [],
   "source": [
    "# Importante dejar correlacionar ai con totwrkit pues fatores por ejemplo biológicos que hacen dormir, captados en ai, \n",
    "# se correlacionen con el tiempo de trabajo\n",
    "# No se incluye sexo o raza , que si iría en sección cruzada, pues no cambia en el tiempo, y están dentro de ai"
   ]
  },
  {
   "cell_type": "code",
   "execution_count": null,
   "metadata": {},
   "outputs": [],
   "source": [
    "# La diferenciación "
   ]
  },
  {
   "cell_type": "markdown",
   "metadata": {},
   "source": [
    "$\\Delta slpnap_{i} = \\Delta_{0} + \\beta_{1} \\Delta totwrk_{i}+ \\beta_{2} \\Delta educ_{i}+ \\beta_{3} \\Delta marr_{i}+\\beta_{4} \\Delta ymgkid_{i}+ \\beta_{5} \\Delta gdhlth_{i}+ \\Delta u_{i} $ "
   ]
  },
  {
   "cell_type": "code",
   "execution_count": null,
   "metadata": {},
   "outputs": [],
   "source": [
    "# supuesto qeu la variación del error no se correlaciona con las variaciones en las explicativas"
   ]
  },
  {
   "cell_type": "code",
   "execution_count": 71,
   "metadata": {},
   "outputs": [
    {
     "data": {
      "text/html": [
       "<div>\n",
       "<style scoped>\n",
       "    .dataframe tbody tr th:only-of-type {\n",
       "        vertical-align: middle;\n",
       "    }\n",
       "\n",
       "    .dataframe tbody tr th {\n",
       "        vertical-align: top;\n",
       "    }\n",
       "\n",
       "    .dataframe thead th {\n",
       "        text-align: right;\n",
       "    }\n",
       "</style>\n",
       "<table border=\"1\" class=\"dataframe\">\n",
       "  <thead>\n",
       "    <tr style=\"text-align: right;\">\n",
       "      <th></th>\n",
       "      <th>age75</th>\n",
       "      <th>educ75</th>\n",
       "      <th>educ81</th>\n",
       "      <th>gdhlth75</th>\n",
       "      <th>gdhlth81</th>\n",
       "      <th>male</th>\n",
       "      <th>marr75</th>\n",
       "      <th>marr81</th>\n",
       "      <th>slpnap75</th>\n",
       "      <th>slpnap81</th>\n",
       "      <th>totwrk75</th>\n",
       "      <th>totwrk81</th>\n",
       "      <th>yngkid75</th>\n",
       "      <th>yngkid81</th>\n",
       "      <th>ceduc</th>\n",
       "      <th>cgdhlth</th>\n",
       "      <th>cmarr</th>\n",
       "      <th>cslpnap</th>\n",
       "      <th>ctotwrk</th>\n",
       "      <th>cyngkid</th>\n",
       "    </tr>\n",
       "  </thead>\n",
       "  <tbody>\n",
       "    <tr>\n",
       "      <th>0</th>\n",
       "      <td>46</td>\n",
       "      <td>16</td>\n",
       "      <td>16</td>\n",
       "      <td>1</td>\n",
       "      <td>1</td>\n",
       "      <td>1</td>\n",
       "      <td>0</td>\n",
       "      <td>1</td>\n",
       "      <td>3991</td>\n",
       "      <td>4695</td>\n",
       "      <td>2050</td>\n",
       "      <td>2430</td>\n",
       "      <td>0</td>\n",
       "      <td>0</td>\n",
       "      <td>0</td>\n",
       "      <td>0</td>\n",
       "      <td>1</td>\n",
       "      <td>704</td>\n",
       "      <td>380</td>\n",
       "      <td>0</td>\n",
       "    </tr>\n",
       "    <tr>\n",
       "      <th>1</th>\n",
       "      <td>39</td>\n",
       "      <td>16</td>\n",
       "      <td>16</td>\n",
       "      <td>1</td>\n",
       "      <td>1</td>\n",
       "      <td>1</td>\n",
       "      <td>1</td>\n",
       "      <td>0</td>\n",
       "      <td>2243</td>\n",
       "      <td>2195</td>\n",
       "      <td>2713</td>\n",
       "      <td>2610</td>\n",
       "      <td>0</td>\n",
       "      <td>0</td>\n",
       "      <td>0</td>\n",
       "      <td>0</td>\n",
       "      <td>-1</td>\n",
       "      <td>-48</td>\n",
       "      <td>-103</td>\n",
       "      <td>0</td>\n",
       "    </tr>\n",
       "    <tr>\n",
       "      <th>2</th>\n",
       "      <td>55</td>\n",
       "      <td>15</td>\n",
       "      <td>15</td>\n",
       "      <td>1</td>\n",
       "      <td>0</td>\n",
       "      <td>1</td>\n",
       "      <td>1</td>\n",
       "      <td>1</td>\n",
       "      <td>3285</td>\n",
       "      <td>3115</td>\n",
       "      <td>2493</td>\n",
       "      <td>0</td>\n",
       "      <td>0</td>\n",
       "      <td>0</td>\n",
       "      <td>0</td>\n",
       "      <td>-1</td>\n",
       "      <td>0</td>\n",
       "      <td>-170</td>\n",
       "      <td>-2493</td>\n",
       "      <td>0</td>\n",
       "    </tr>\n",
       "    <tr>\n",
       "      <th>3</th>\n",
       "      <td>39</td>\n",
       "      <td>16</td>\n",
       "      <td>16</td>\n",
       "      <td>1</td>\n",
       "      <td>1</td>\n",
       "      <td>1</td>\n",
       "      <td>1</td>\n",
       "      <td>1</td>\n",
       "      <td>3158</td>\n",
       "      <td>3387</td>\n",
       "      <td>2778</td>\n",
       "      <td>1787</td>\n",
       "      <td>0</td>\n",
       "      <td>0</td>\n",
       "      <td>0</td>\n",
       "      <td>0</td>\n",
       "      <td>0</td>\n",
       "      <td>229</td>\n",
       "      <td>-991</td>\n",
       "      <td>0</td>\n",
       "    </tr>\n",
       "    <tr>\n",
       "      <th>4</th>\n",
       "      <td>54</td>\n",
       "      <td>17</td>\n",
       "      <td>17</td>\n",
       "      <td>1</td>\n",
       "      <td>1</td>\n",
       "      <td>1</td>\n",
       "      <td>1</td>\n",
       "      <td>1</td>\n",
       "      <td>3743</td>\n",
       "      <td>3800</td>\n",
       "      <td>3118</td>\n",
       "      <td>552</td>\n",
       "      <td>0</td>\n",
       "      <td>0</td>\n",
       "      <td>0</td>\n",
       "      <td>0</td>\n",
       "      <td>0</td>\n",
       "      <td>57</td>\n",
       "      <td>-2566</td>\n",
       "      <td>0</td>\n",
       "    </tr>\n",
       "  </tbody>\n",
       "</table>\n",
       "</div>"
      ],
      "text/plain": [
       "   age75  educ75  educ81  gdhlth75  gdhlth81  male  marr75  marr81  slpnap75  \\\n",
       "0     46      16      16         1         1     1       0       1      3991   \n",
       "1     39      16      16         1         1     1       1       0      2243   \n",
       "2     55      15      15         1         0     1       1       1      3285   \n",
       "3     39      16      16         1         1     1       1       1      3158   \n",
       "4     54      17      17         1         1     1       1       1      3743   \n",
       "\n",
       "   slpnap81  totwrk75  totwrk81  yngkid75  yngkid81  ceduc  cgdhlth  cmarr  \\\n",
       "0      4695      2050      2430         0         0      0        0      1   \n",
       "1      2195      2713      2610         0         0      0        0     -1   \n",
       "2      3115      2493         0         0         0      0       -1      0   \n",
       "3      3387      2778      1787         0         0      0        0      0   \n",
       "4      3800      3118       552         0         0      0        0      0   \n",
       "\n",
       "   cslpnap  ctotwrk  cyngkid  \n",
       "0      704      380        0  \n",
       "1      -48     -103        0  \n",
       "2     -170    -2493        0  \n",
       "3      229     -991        0  \n",
       "4       57    -2566        0  "
      ]
     },
     "execution_count": 71,
     "metadata": {},
     "output_type": "execute_result"
    }
   ],
   "source": [
    "dfej13_5 = pd.read_stata('slp75_81.dta')\n",
    "dfej13_5.head()"
   ]
  },
  {
   "cell_type": "code",
   "execution_count": 72,
   "metadata": {},
   "outputs": [],
   "source": [
    "dslpnap = dfej13_5['slpnap75']-dfej13_5['slpnap81']"
   ]
  },
  {
   "cell_type": "code",
   "execution_count": 73,
   "metadata": {},
   "outputs": [],
   "source": [
    "dtotwrk = dfej13_5['totwrk75']-dfej13_5['totwrk81']"
   ]
  },
  {
   "cell_type": "code",
   "execution_count": 74,
   "metadata": {},
   "outputs": [],
   "source": [
    "deduc = dfej13_5['educ75']-dfej13_5['educ81']"
   ]
  },
  {
   "cell_type": "code",
   "execution_count": 75,
   "metadata": {},
   "outputs": [],
   "source": [
    "dmarr = dfej13_5['marr75']-dfej13_5['marr81']"
   ]
  },
  {
   "cell_type": "code",
   "execution_count": 76,
   "metadata": {},
   "outputs": [],
   "source": [
    "dyngkid = dfej13_5['yngkid75']-dfej13_5['yngkid81']"
   ]
  },
  {
   "cell_type": "code",
   "execution_count": 77,
   "metadata": {},
   "outputs": [],
   "source": [
    "dgdhlth = dfej13_5['gdhlth75']-dfej13_5['gdhlth81']"
   ]
  },
  {
   "cell_type": "code",
   "execution_count": null,
   "metadata": {},
   "outputs": [],
   "source": [
    "# La base de datos ya estaba preparada y facilitó crear las variables diferencia"
   ]
  },
  {
   "cell_type": "code",
   "execution_count": 78,
   "metadata": {},
   "outputs": [
    {
     "name": "stdout",
     "output_type": "stream",
     "text": [
      "                            OLS Regression Results                            \n",
      "==============================================================================\n",
      "Dep. Variable:                dslpnap   R-squared:                       0.150\n",
      "Model:                            OLS   Adj. R-squared:                  0.131\n",
      "Method:                 Least Squares   F-statistic:                     8.191\n",
      "Date:                Sun, 11 Oct 2020   Prob (F-statistic):           3.83e-07\n",
      "Time:                        12:44:56   Log-Likelihood:                -1864.4\n",
      "No. Observations:                 239   AIC:                             3741.\n",
      "Df Residuals:                     233   BIC:                             3762.\n",
      "Df Model:                           5                                         \n",
      "Covariance Type:            nonrobust                                         \n",
      "==============================================================================\n",
      "                 coef    std err          t      P>|t|      [0.025      0.975]\n",
      "------------------------------------------------------------------------------\n",
      "Intercept     92.6340     45.866      2.020      0.045       2.269     182.999\n",
      "dtotwrk       -0.2267      0.036     -6.287      0.000      -0.298      -0.156\n",
      "deduc         -0.0245     48.759     -0.001      1.000     -96.090      96.041\n",
      "dmarr        104.2139     92.855      1.122      0.263     -78.729     287.157\n",
      "dyngkid       94.6654     87.653      1.080      0.281     -78.027     267.358\n",
      "dgdhlth       87.5778     76.599      1.143      0.254     -63.338     238.493\n",
      "==============================================================================\n",
      "Omnibus:                       31.927   Durbin-Watson:                   1.890\n",
      "Prob(Omnibus):                  0.000   Jarque-Bera (JB):               57.378\n",
      "Skew:                           0.719   Prob(JB):                     3.47e-13\n",
      "Kurtosis:                       4.922   Cond. No.                     2.72e+03\n",
      "==============================================================================\n",
      "\n",
      "Warnings:\n",
      "[1] Standard Errors assume that the covariance matrix of the errors is correctly specified.\n",
      "[2] The condition number is large, 2.72e+03. This might indicate that there are\n",
      "strong multicollinearity or other numerical problems.\n"
     ]
    }
   ],
   "source": [
    "regdfej13_5 = smf.ols('dslpnap ~  dtotwrk + deduc+ dmarr+ dyngkid+ dgdhlth ', data = dfej13_5).fit()\n",
    "print(regdfej13_5.summary())"
   ]
  },
  {
   "cell_type": "code",
   "execution_count": null,
   "metadata": {},
   "outputs": [],
   "source": [
    "# Comentarios: El coeficiente de la variación de totwrk indica que una hora más de trabajo se relaciona con 0.23 horas \n",
    "# menos de sueño , siendo significativo\n",
    "# Salvo la ordenada, el resto no es significativo"
   ]
  },
  {
   "cell_type": "code",
   "execution_count": 79,
   "metadata": {},
   "outputs": [
    {
     "name": "stdout",
     "output_type": "stream",
     "text": [
      "<F test: F=array([[0.86483857]]), p=0.48573468205905057, df_denom=233, df_num=4>\n"
     ]
    }
   ],
   "source": [
    "hypotheses = '(deduc= dmarr= dyngkid= dgdhlth  = 0)'\n",
    "f_test = regdfej13_5.f_test(hypotheses)\n",
    "print(f_test)"
   ]
  },
  {
   "cell_type": "code",
   "execution_count": null,
   "metadata": {},
   "outputs": [],
   "source": [
    "# El test de significatividad conjunta de todas menos totwrk, (que no son significativas individualmente) muestra que \n",
    "# no son conjuntamente significativas y que podrían omitirse de la ecuación"
   ]
  },
  {
   "cell_type": "code",
   "execution_count": null,
   "metadata": {},
   "outputs": [],
   "source": [
    "# La variación de educación tiene un error estandar relativamente muy grande y es porque no tiene mucha varaición"
   ]
  },
  {
   "cell_type": "code",
   "execution_count": 82,
   "metadata": {},
   "outputs": [
    {
     "data": {
      "text/plain": [
       "count    239.000000\n",
       "mean      -0.372385\n",
       "std        0.804028\n",
       "min       -5.000000\n",
       "25%        0.000000\n",
       "50%        0.000000\n",
       "75%        0.000000\n",
       "max        0.000000\n",
       "dtype: float64"
      ]
     },
     "execution_count": 82,
     "metadata": {},
     "output_type": "execute_result"
    }
   ],
   "source": [
    "deduc.describe()"
   ]
  },
  {
   "cell_type": "code",
   "execution_count": 85,
   "metadata": {},
   "outputs": [
    {
     "data": {
      "text/plain": [
       " 0    0.765690\n",
       "-1    0.133891\n",
       "-2    0.083682\n",
       "-5    0.008368\n",
       "-3    0.004184\n",
       "-4    0.004184\n",
       "dtype: float64"
      ]
     },
     "execution_count": 85,
     "metadata": {},
     "output_type": "execute_result"
    }
   ],
   "source": [
    "deduc. value_counts(normalize=True)"
   ]
  },
  {
   "cell_type": "code",
   "execution_count": null,
   "metadata": {},
   "outputs": [],
   "source": [
    "# El 76% no cambió si nivel educativo y el 90% solo a lo sumo un año"
   ]
  },
  {
   "cell_type": "code",
   "execution_count": null,
   "metadata": {},
   "outputs": [],
   "source": [
    "# El gran error estándar muestra que no hay suficiente variación para estimar el coeficiente con precisión\n",
    "# De todos modos el coeficiente es muy pequeño"
   ]
  },
  {
   "cell_type": "code",
   "execution_count": null,
   "metadata": {},
   "outputs": [],
   "source": [
    "# Panel para rezagos distribuidos "
   ]
  },
  {
   "cell_type": "code",
   "execution_count": null,
   "metadata": {},
   "outputs": [],
   "source": [
    "# Ejemplo de dos años y método de diferencias"
   ]
  },
  {
   "cell_type": "markdown",
   "metadata": {},
   "source": [
    "## Ejemplo 13.6  Modelo de retardos dlstrlbuldos del índice de dellncuencla en el porcentaje de casos resueltos (crime3.dta)"
   ]
  },
  {
   "cell_type": "code",
   "execution_count": 2,
   "metadata": {},
   "outputs": [
    {
     "data": {
      "text/html": [
       "<div>\n",
       "<style scoped>\n",
       "    .dataframe tbody tr th:only-of-type {\n",
       "        vertical-align: middle;\n",
       "    }\n",
       "\n",
       "    .dataframe tbody tr th {\n",
       "        vertical-align: top;\n",
       "    }\n",
       "\n",
       "    .dataframe thead th {\n",
       "        text-align: right;\n",
       "    }\n",
       "</style>\n",
       "<table border=\"1\" class=\"dataframe\">\n",
       "  <thead>\n",
       "    <tr style=\"text-align: right;\">\n",
       "      <th></th>\n",
       "      <th>district</th>\n",
       "      <th>year</th>\n",
       "      <th>crime</th>\n",
       "      <th>clrprc1</th>\n",
       "      <th>clrprc2</th>\n",
       "      <th>d78</th>\n",
       "      <th>avgclr</th>\n",
       "      <th>lcrime</th>\n",
       "      <th>clcrime</th>\n",
       "      <th>cavgclr</th>\n",
       "      <th>cclrprc1</th>\n",
       "      <th>cclrprc2</th>\n",
       "    </tr>\n",
       "  </thead>\n",
       "  <tbody>\n",
       "    <tr>\n",
       "      <th>0</th>\n",
       "      <td>1</td>\n",
       "      <td>72</td>\n",
       "      <td>49.540001</td>\n",
       "      <td>22</td>\n",
       "      <td>23</td>\n",
       "      <td>0</td>\n",
       "      <td>22.5</td>\n",
       "      <td>3.902781</td>\n",
       "      <td>NaN</td>\n",
       "      <td>NaN</td>\n",
       "      <td>NaN</td>\n",
       "      <td>NaN</td>\n",
       "    </tr>\n",
       "    <tr>\n",
       "      <th>1</th>\n",
       "      <td>1</td>\n",
       "      <td>78</td>\n",
       "      <td>71.320000</td>\n",
       "      <td>15</td>\n",
       "      <td>17</td>\n",
       "      <td>1</td>\n",
       "      <td>16.0</td>\n",
       "      <td>4.267177</td>\n",
       "      <td>0.364396</td>\n",
       "      <td>-6.5</td>\n",
       "      <td>-7.0</td>\n",
       "      <td>-6.0</td>\n",
       "    </tr>\n",
       "    <tr>\n",
       "      <th>2</th>\n",
       "      <td>2</td>\n",
       "      <td>72</td>\n",
       "      <td>14.770000</td>\n",
       "      <td>51</td>\n",
       "      <td>62</td>\n",
       "      <td>0</td>\n",
       "      <td>56.5</td>\n",
       "      <td>2.692598</td>\n",
       "      <td>NaN</td>\n",
       "      <td>NaN</td>\n",
       "      <td>NaN</td>\n",
       "      <td>NaN</td>\n",
       "    </tr>\n",
       "    <tr>\n",
       "      <th>3</th>\n",
       "      <td>2</td>\n",
       "      <td>78</td>\n",
       "      <td>17.850000</td>\n",
       "      <td>39</td>\n",
       "      <td>40</td>\n",
       "      <td>1</td>\n",
       "      <td>39.5</td>\n",
       "      <td>2.882004</td>\n",
       "      <td>0.189405</td>\n",
       "      <td>-17.0</td>\n",
       "      <td>-12.0</td>\n",
       "      <td>-22.0</td>\n",
       "    </tr>\n",
       "    <tr>\n",
       "      <th>4</th>\n",
       "      <td>3</td>\n",
       "      <td>72</td>\n",
       "      <td>17.350000</td>\n",
       "      <td>33</td>\n",
       "      <td>34</td>\n",
       "      <td>0</td>\n",
       "      <td>33.5</td>\n",
       "      <td>2.853593</td>\n",
       "      <td>NaN</td>\n",
       "      <td>NaN</td>\n",
       "      <td>NaN</td>\n",
       "      <td>NaN</td>\n",
       "    </tr>\n",
       "  </tbody>\n",
       "</table>\n",
       "</div>"
      ],
      "text/plain": [
       "   district  year      crime  clrprc1  clrprc2  d78  avgclr    lcrime  \\\n",
       "0         1    72  49.540001       22       23    0    22.5  3.902781   \n",
       "1         1    78  71.320000       15       17    1    16.0  4.267177   \n",
       "2         2    72  14.770000       51       62    0    56.5  2.692598   \n",
       "3         2    78  17.850000       39       40    1    39.5  2.882004   \n",
       "4         3    72  17.350000       33       34    0    33.5  2.853593   \n",
       "\n",
       "    clcrime  cavgclr  cclrprc1  cclrprc2  \n",
       "0       NaN      NaN       NaN       NaN  \n",
       "1  0.364396     -6.5      -7.0      -6.0  \n",
       "2       NaN      NaN       NaN       NaN  \n",
       "3  0.189405    -17.0     -12.0     -22.0  \n",
       "4       NaN      NaN       NaN       NaN  "
      ]
     },
     "execution_count": 2,
     "metadata": {},
     "output_type": "execute_result"
    }
   ],
   "source": [
    "dfej13_6 = pd.read_stata('crime3.dta')\n",
    "dfej13_6.head()"
   ]
  },
  {
   "cell_type": "code",
   "execution_count": null,
   "metadata": {},
   "outputs": [],
   "source": [
    "# Tasa de delincuencia para años 72 y 78 en función de los rezagos del porcentaje de casos resueltos\n",
    "# En la base ya están las primeras diferencias de los casos resueltos\n",
    "# Como la base es de un panel de distritos policíacos, tenemos efectos fijos"
   ]
  },
  {
   "cell_type": "markdown",
   "metadata": {},
   "source": [
    "$ log(crime)_{it} = \\beta_{0}+ \\delta_{0} d78_{t} + \\beta_{1} clrpcr_{i,t-1}+ \\beta_{2} clrpcr_{i,t-2}+a_{i}+ u_{it} $"
   ]
  },
  {
   "cell_type": "code",
   "execution_count": null,
   "metadata": {},
   "outputs": [],
   "source": [
    "# Diferenciando"
   ]
  },
  {
   "cell_type": "markdown",
   "metadata": {},
   "source": [
    "$ \\Delta log(crime)_{i} = \\delta_{0} + \\beta_{1} \\Delta clrpcr_{-1}+ \\beta_{2} \\Delta clrpcr_{-2}+ \\Delta u_{i} $"
   ]
  },
  {
   "cell_type": "code",
   "execution_count": null,
   "metadata": {},
   "outputs": [],
   "source": []
  },
  {
   "cell_type": "code",
   "execution_count": 3,
   "metadata": {},
   "outputs": [
    {
     "name": "stdout",
     "output_type": "stream",
     "text": [
      "                            OLS Regression Results                            \n",
      "==============================================================================\n",
      "Dep. Variable:                clcrime   R-squared:                       0.193\n",
      "Model:                            OLS   Adj. R-squared:                  0.161\n",
      "Method:                 Least Squares   F-statistic:                     5.992\n",
      "Date:                Thu, 22 Oct 2020   Prob (F-statistic):            0.00465\n",
      "Time:                        23:07:37   Log-Likelihood:                -17.194\n",
      "No. Observations:                  53   AIC:                             40.39\n",
      "Df Residuals:                      50   BIC:                             46.30\n",
      "Df Model:                           2                                         \n",
      "Covariance Type:            nonrobust                                         \n",
      "==============================================================================\n",
      "                 coef    std err          t      P>|t|      [0.025      0.975]\n",
      "------------------------------------------------------------------------------\n",
      "Intercept      0.0857      0.064      1.343      0.185      -0.042       0.214\n",
      "cclrprc1      -0.0040      0.005     -0.858      0.395      -0.014       0.005\n",
      "cclrprc2      -0.0132      0.005     -2.540      0.014      -0.024      -0.003\n",
      "==============================================================================\n",
      "Omnibus:                        3.032   Durbin-Watson:                   2.203\n",
      "Prob(Omnibus):                  0.220   Jarque-Bera (JB):                2.071\n",
      "Skew:                          -0.344   Prob(JB):                        0.355\n",
      "Kurtosis:                       3.681   Cond. No.                         23.6\n",
      "==============================================================================\n",
      "\n",
      "Warnings:\n",
      "[1] Standard Errors assume that the covariance matrix of the errors is correctly specified.\n"
     ]
    }
   ],
   "source": [
    "regdfej13_6 = smf.ols('clcrime ~  cclrprc1 + cclrprc2  ', data = dfej13_6).fit()\n",
    "print(regdfej13_6.summary())"
   ]
  },
  {
   "cell_type": "code",
   "execution_count": null,
   "metadata": {},
   "outputs": [],
   "source": [
    "# Comentario : los rezagos sonnegativos indicando que afectan a la tasa de crimen y es el segundo que es significativo. \n",
    "# Si aumentan los casos resueltos en 10 puntos hace dos años, 13,2% es lo que disminuyen la tasa de delincuencia"
   ]
  },
  {
   "cell_type": "code",
   "execution_count": 7,
   "metadata": {},
   "outputs": [
    {
     "data": {
      "text/plain": [
       "0           NaN\n",
       "1      0.364396\n",
       "2           NaN\n",
       "3      0.189405\n",
       "4           NaN\n",
       "         ...   \n",
       "101   -0.393374\n",
       "102         NaN\n",
       "103   -0.079920\n",
       "104         NaN\n",
       "105    0.497440\n",
       "Name: clcrime, Length: 106, dtype: float32"
      ]
     },
     "execution_count": 7,
     "metadata": {},
     "output_type": "execute_result"
    }
   ],
   "source": [
    "dfej13_6.clcrime"
   ]
  },
  {
   "cell_type": "code",
   "execution_count": 6,
   "metadata": {},
   "outputs": [
    {
     "data": {
      "text/plain": [
       "0           NaN\n",
       "1      0.364396\n",
       "2     -1.574579\n",
       "3      0.189405\n",
       "4     -0.028411\n",
       "         ...   \n",
       "101   -0.393374\n",
       "102   -0.442677\n",
       "103   -0.079920\n",
       "104    0.826978\n",
       "105    0.497440\n",
       "Name: crime, Length: 106, dtype: float32"
      ]
     },
     "execution_count": 6,
     "metadata": {},
     "output_type": "execute_result"
    }
   ],
   "source": [
    "np.log(dfej13_6.crime).diff()"
   ]
  },
  {
   "cell_type": "code",
   "execution_count": 14,
   "metadata": {},
   "outputs": [
    {
     "data": {
      "text/plain": [
       "0           NaN\n",
       "1      0.364396\n",
       "2           NaN\n",
       "3      0.189405\n",
       "4           NaN\n",
       "         ...   \n",
       "101   -0.393374\n",
       "102         NaN\n",
       "103   -0.079920\n",
       "104         NaN\n",
       "105    0.497440\n",
       "Name: lcrime, Length: 106, dtype: float32"
      ]
     },
     "execution_count": 14,
     "metadata": {},
     "output_type": "execute_result"
    }
   ],
   "source": [
    "dfej13_6.groupby('district')['lcrime'].diff()"
   ]
  },
  {
   "cell_type": "code",
   "execution_count": null,
   "metadata": {},
   "outputs": [],
   "source": [
    "# Otra forma de hacer la regresión con diff(), por ejemplo con el primer rezago\n",
    "# Pero vemos que es porque dejamos cclrprc2 y ello hace qeu sus nan elimine de la regresión los nan que con diff() no pudimos\n",
    "# eliminar"
   ]
  },
  {
   "cell_type": "code",
   "execution_count": 4,
   "metadata": {},
   "outputs": [
    {
     "name": "stdout",
     "output_type": "stream",
     "text": [
      "                             OLS Regression Results                             \n",
      "================================================================================\n",
      "Dep. Variable:     np.log(crime).diff()   R-squared:                       0.193\n",
      "Model:                              OLS   Adj. R-squared:                  0.161\n",
      "Method:                   Least Squares   F-statistic:                     5.992\n",
      "Date:                  Thu, 22 Oct 2020   Prob (F-statistic):            0.00465\n",
      "Time:                          23:07:44   Log-Likelihood:                -17.194\n",
      "No. Observations:                    53   AIC:                             40.39\n",
      "Df Residuals:                        50   BIC:                             46.30\n",
      "Df Model:                             2                                         \n",
      "Covariance Type:              nonrobust                                         \n",
      "==================================================================================\n",
      "                     coef    std err          t      P>|t|      [0.025      0.975]\n",
      "----------------------------------------------------------------------------------\n",
      "Intercept          0.0857      0.064      1.343      0.185      -0.042       0.214\n",
      "clrprc1.diff()    -0.0040      0.005     -0.858      0.395      -0.014       0.005\n",
      "cclrprc2          -0.0132      0.005     -2.540      0.014      -0.024      -0.003\n",
      "==============================================================================\n",
      "Omnibus:                        3.032   Durbin-Watson:                   2.203\n",
      "Prob(Omnibus):                  0.220   Jarque-Bera (JB):                2.071\n",
      "Skew:                          -0.344   Prob(JB):                        0.355\n",
      "Kurtosis:                       3.681   Cond. No.                         23.6\n",
      "==============================================================================\n",
      "\n",
      "Warnings:\n",
      "[1] Standard Errors assume that the covariance matrix of the errors is correctly specified.\n"
     ]
    }
   ],
   "source": [
    "regdfej13_6a = smf.ols('np.log(crime).diff() ~  clrprc1.diff() + cclrprc2  ', data = dfej13_6).fit()\n",
    "print(regdfej13_6a.summary())"
   ]
  },
  {
   "cell_type": "code",
   "execution_count": null,
   "metadata": {},
   "outputs": [],
   "source": [
    "# Ahora mostramos claramente que no está bien la regresión pues ahora no se han eliminado las diferencias que no corresponden \n",
    "# pues se hacen con diferentes individuos"
   ]
  },
  {
   "cell_type": "code",
   "execution_count": 8,
   "metadata": {},
   "outputs": [
    {
     "name": "stdout",
     "output_type": "stream",
     "text": [
      "                             OLS Regression Results                             \n",
      "================================================================================\n",
      "Dep. Variable:     np.log(crime).diff()   R-squared:                       0.440\n",
      "Model:                              OLS   Adj. R-squared:                  0.429\n",
      "Method:                   Least Squares   F-statistic:                     40.11\n",
      "Date:                  Thu, 22 Oct 2020   Prob (F-statistic):           1.40e-13\n",
      "Time:                          23:12:50   Log-Likelihood:                -72.336\n",
      "No. Observations:                   105   AIC:                             150.7\n",
      "Df Residuals:                       102   BIC:                             158.6\n",
      "Df Model:                             2                                         \n",
      "Covariance Type:              nonrobust                                         \n",
      "==================================================================================\n",
      "                     coef    std err          t      P>|t|      [0.025      0.975]\n",
      "----------------------------------------------------------------------------------\n",
      "Intercept         -0.0028      0.048     -0.058      0.954      -0.097       0.092\n",
      "clrprc1.diff()    -0.0093      0.005     -1.973      0.051      -0.019    4.94e-05\n",
      "clrprc2.diff()    -0.0185      0.004     -4.215      0.000      -0.027      -0.010\n",
      "==============================================================================\n",
      "Omnibus:                       33.462   Durbin-Watson:                   2.395\n",
      "Prob(Omnibus):                  0.000   Jarque-Bera (JB):               79.302\n",
      "Skew:                          -1.185   Prob(JB):                     6.02e-18\n",
      "Kurtosis:                       6.536   Cond. No.                         21.3\n",
      "==============================================================================\n",
      "\n",
      "Warnings:\n",
      "[1] Standard Errors assume that the covariance matrix of the errors is correctly specified.\n"
     ]
    }
   ],
   "source": [
    "regdfej13_6b = smf.ols('np.log(crime).diff() ~  clrprc1.diff() + clrprc2.diff()  ', data = dfej13_6).fit()\n",
    "print(regdfej13_6b.summary())"
   ]
  },
  {
   "cell_type": "code",
   "execution_count": null,
   "metadata": {},
   "outputs": [],
   "source": []
  },
  {
   "cell_type": "code",
   "execution_count": null,
   "metadata": {},
   "outputs": [],
   "source": []
  },
  {
   "cell_type": "code",
   "execution_count": null,
   "metadata": {},
   "outputs": [],
   "source": []
  },
  {
   "cell_type": "code",
   "execution_count": null,
   "metadata": {},
   "outputs": [],
   "source": []
  },
  {
   "cell_type": "code",
   "execution_count": null,
   "metadata": {},
   "outputs": [],
   "source": [
    "# Evaluación de politicas con panel de dos períodos"
   ]
  },
  {
   "cell_type": "markdown",
   "metadata": {},
   "source": [
    "## Ejemplo 13.7 Efecto sobre los accidentes mortales de tráfico de las leyes sobre la conducción en estado de embriaguez (traffic1.dta)"
   ]
  },
  {
   "cell_type": "code",
   "execution_count": 88,
   "metadata": {},
   "outputs": [
    {
     "data": {
      "text/html": [
       "<div>\n",
       "<style scoped>\n",
       "    .dataframe tbody tr th:only-of-type {\n",
       "        vertical-align: middle;\n",
       "    }\n",
       "\n",
       "    .dataframe tbody tr th {\n",
       "        vertical-align: top;\n",
       "    }\n",
       "\n",
       "    .dataframe thead th {\n",
       "        text-align: right;\n",
       "    }\n",
       "</style>\n",
       "<table border=\"1\" class=\"dataframe\">\n",
       "  <thead>\n",
       "    <tr style=\"text-align: right;\">\n",
       "      <th></th>\n",
       "      <th>state</th>\n",
       "      <th>admn90</th>\n",
       "      <th>admn85</th>\n",
       "      <th>open90</th>\n",
       "      <th>open85</th>\n",
       "      <th>dthrte90</th>\n",
       "      <th>dthrte85</th>\n",
       "      <th>speed90</th>\n",
       "      <th>speed85</th>\n",
       "      <th>cdthrte</th>\n",
       "      <th>cadmn</th>\n",
       "      <th>copen</th>\n",
       "      <th>cspeed</th>\n",
       "    </tr>\n",
       "  </thead>\n",
       "  <tbody>\n",
       "    <tr>\n",
       "      <th>0</th>\n",
       "      <td>AL</td>\n",
       "      <td>0</td>\n",
       "      <td>0</td>\n",
       "      <td>0</td>\n",
       "      <td>0</td>\n",
       "      <td>2.6</td>\n",
       "      <td>2.9</td>\n",
       "      <td>1</td>\n",
       "      <td>0</td>\n",
       "      <td>-0.3</td>\n",
       "      <td>0</td>\n",
       "      <td>0</td>\n",
       "      <td>1</td>\n",
       "    </tr>\n",
       "    <tr>\n",
       "      <th>1</th>\n",
       "      <td>AK</td>\n",
       "      <td>1</td>\n",
       "      <td>1</td>\n",
       "      <td>1</td>\n",
       "      <td>0</td>\n",
       "      <td>2.1</td>\n",
       "      <td>3.2</td>\n",
       "      <td>0</td>\n",
       "      <td>0</td>\n",
       "      <td>-1.1</td>\n",
       "      <td>0</td>\n",
       "      <td>1</td>\n",
       "      <td>0</td>\n",
       "    </tr>\n",
       "    <tr>\n",
       "      <th>2</th>\n",
       "      <td>AZ</td>\n",
       "      <td>1</td>\n",
       "      <td>0</td>\n",
       "      <td>0</td>\n",
       "      <td>0</td>\n",
       "      <td>2.5</td>\n",
       "      <td>4.4</td>\n",
       "      <td>1</td>\n",
       "      <td>0</td>\n",
       "      <td>-1.9</td>\n",
       "      <td>1</td>\n",
       "      <td>0</td>\n",
       "      <td>1</td>\n",
       "    </tr>\n",
       "    <tr>\n",
       "      <th>3</th>\n",
       "      <td>AR</td>\n",
       "      <td>0</td>\n",
       "      <td>0</td>\n",
       "      <td>0</td>\n",
       "      <td>0</td>\n",
       "      <td>2.9</td>\n",
       "      <td>3.4</td>\n",
       "      <td>1</td>\n",
       "      <td>0</td>\n",
       "      <td>-0.5</td>\n",
       "      <td>0</td>\n",
       "      <td>0</td>\n",
       "      <td>1</td>\n",
       "    </tr>\n",
       "    <tr>\n",
       "      <th>4</th>\n",
       "      <td>CA</td>\n",
       "      <td>1</td>\n",
       "      <td>0</td>\n",
       "      <td>1</td>\n",
       "      <td>1</td>\n",
       "      <td>2.0</td>\n",
       "      <td>2.6</td>\n",
       "      <td>1</td>\n",
       "      <td>0</td>\n",
       "      <td>-0.6</td>\n",
       "      <td>1</td>\n",
       "      <td>0</td>\n",
       "      <td>1</td>\n",
       "    </tr>\n",
       "  </tbody>\n",
       "</table>\n",
       "</div>"
      ],
      "text/plain": [
       "  state  admn90  admn85  open90  open85  dthrte90  dthrte85  speed90  speed85  \\\n",
       "0    AL       0       0       0       0       2.6       2.9        1        0   \n",
       "1    AK       1       1       1       0       2.1       3.2        0        0   \n",
       "2    AZ       1       0       0       0       2.5       4.4        1        0   \n",
       "3    AR       0       0       0       0       2.9       3.4        1        0   \n",
       "4    CA       1       0       1       1       2.0       2.6        1        0   \n",
       "\n",
       "   cdthrte  cadmn  copen  cspeed  \n",
       "0     -0.3      0      0       1  \n",
       "1     -1.1      0      1       0  \n",
       "2     -1.9      1      0       1  \n",
       "3     -0.5      0      0       1  \n",
       "4     -0.6      1      0       1  "
      ]
     },
     "execution_count": 88,
     "metadata": {},
     "output_type": "execute_result"
    }
   ],
   "source": [
    "dfej13_7 = pd.read_stata('traffic1.dta')\n",
    "dfej13_7.head()"
   ]
  },
  {
   "cell_type": "code",
   "execution_count": null,
   "metadata": {},
   "outputs": [],
   "source": [
    "# Se busca explicar las muertes en accidentes de tránsito en función de la ley de recipientes abiertos y leyes administrativas\n",
    "# Es un panel de estados\n",
    "# Son datos de 1985 y 1990\n",
    "# Las variables ya están separadas por años"
   ]
  },
  {
   "cell_type": "code",
   "execution_count": null,
   "metadata": {},
   "outputs": [],
   "source": [
    "# Si hiciéramos análisis con un solo corte trasversal , entre muertes y las binarias que indiquen la presencia de las leyes\n",
    "# es probable que no funciones pues se decide las leyes por accidentes de últimos años, por lo que estaría correlacionado con \n",
    "# la causalidad del otro lado y no estaríamos estudiando el efecto de las leyes sobre accidentes"
   ]
  },
  {
   "cell_type": "code",
   "execution_count": null,
   "metadata": {},
   "outputs": [],
   "source": [
    "# Mejor es estudair con un panel, en un período donde algunos estados adoptan las leyes y otros quizás revoquen las que tienen"
   ]
  },
  {
   "cell_type": "code",
   "execution_count": 93,
   "metadata": {},
   "outputs": [
    {
     "data": {
      "text/plain": [
       "19"
      ]
     },
     "execution_count": 93,
     "metadata": {},
     "output_type": "execute_result"
    }
   ],
   "source": [
    "dfej13_7.loc[dfej13_7.open85==1,'open85' ].sum()"
   ]
  },
  {
   "cell_type": "code",
   "execution_count": 95,
   "metadata": {},
   "outputs": [
    {
     "data": {
      "text/plain": [
       "22"
      ]
     },
     "execution_count": 95,
     "metadata": {},
     "output_type": "execute_result"
    }
   ],
   "source": [
    "dfej13_7.loc[dfej13_7.open90==1,'open90' ].sum()"
   ]
  },
  {
   "cell_type": "code",
   "execution_count": 96,
   "metadata": {},
   "outputs": [
    {
     "data": {
      "text/plain": [
       "21"
      ]
     },
     "execution_count": 96,
     "metadata": {},
     "output_type": "execute_result"
    }
   ],
   "source": [
    "dfej13_7.loc[dfej13_7.admn85==1,'admn85' ].sum()"
   ]
  },
  {
   "cell_type": "code",
   "execution_count": 97,
   "metadata": {},
   "outputs": [
    {
     "data": {
      "text/plain": [
       "29"
      ]
     },
     "execution_count": 97,
     "metadata": {},
     "output_type": "execute_result"
    }
   ],
   "source": [
    "dfej13_7.loc[dfej13_7.admn90==1,'admn90' ].sum()"
   ]
  },
  {
   "cell_type": "code",
   "execution_count": 89,
   "metadata": {},
   "outputs": [],
   "source": [
    "ddthrte = dfej13_7['dthrte90']-dfej13_7['dthrte85'] "
   ]
  },
  {
   "cell_type": "code",
   "execution_count": 90,
   "metadata": {},
   "outputs": [],
   "source": [
    "dopen = dfej13_7['open90']-dfej13_7['open85'] "
   ]
  },
  {
   "cell_type": "code",
   "execution_count": 91,
   "metadata": {},
   "outputs": [],
   "source": [
    "dadmn = dfej13_7['admn90']-dfej13_7['admn85'] "
   ]
  },
  {
   "cell_type": "code",
   "execution_count": 92,
   "metadata": {},
   "outputs": [
    {
     "name": "stdout",
     "output_type": "stream",
     "text": [
      "                            OLS Regression Results                            \n",
      "==============================================================================\n",
      "Dep. Variable:                ddthrte   R-squared:                       0.119\n",
      "Model:                            OLS   Adj. R-squared:                  0.082\n",
      "Method:                 Least Squares   F-statistic:                     3.231\n",
      "Date:                Sun, 11 Oct 2020   Prob (F-statistic):             0.0482\n",
      "Time:                        19:09:46   Log-Likelihood:                -16.323\n",
      "No. Observations:                  51   AIC:                             38.65\n",
      "Df Residuals:                      48   BIC:                             44.44\n",
      "Df Model:                           2                                         \n",
      "Covariance Type:            nonrobust                                         \n",
      "==============================================================================\n",
      "                 coef    std err          t      P>|t|      [0.025      0.975]\n",
      "------------------------------------------------------------------------------\n",
      "Intercept     -0.4968      0.052     -9.476      0.000      -0.602      -0.391\n",
      "dopen         -0.4197      0.206     -2.041      0.047      -0.833      -0.006\n",
      "dadmn         -0.1506      0.117     -1.289      0.204      -0.385       0.084\n",
      "==============================================================================\n",
      "Omnibus:                       17.834   Durbin-Watson:                   2.412\n",
      "Prob(Omnibus):                  0.000   Jarque-Bera (JB):               30.963\n",
      "Skew:                          -1.037   Prob(JB):                     1.89e-07\n",
      "Kurtosis:                       6.205   Cond. No.                         4.36\n",
      "==============================================================================\n",
      "\n",
      "Warnings:\n",
      "[1] Standard Errors assume that the covariance matrix of the errors is correctly specified.\n"
     ]
    }
   ],
   "source": [
    "regdfej13_7 = smf.ols('ddthrte ~  dopen + dadmn  ', data = dfej13_7).fit()\n",
    "print(regdfej13_7.summary())"
   ]
  },
  {
   "cell_type": "code",
   "execution_count": null,
   "metadata": {},
   "outputs": [],
   "source": [
    "# Comentario : La estimación con diferencias sugiere que las leyes de recipiente abiertos disminuyeron los accidentes en \n",
    "# 0.42 , significativa al 5% \n",
    "# Las leyes admnistrativas tienen también disminuyen los accidentes, pero menos significatividad\n",
    "# LA ordenada muestra qeu las muertes por accidente bajan considerablemente para todos en ese período, se hayan o no puesto leyes\n",
    "# Los que pusieron leyes de recipientes abiertos disminuyeron más\n",
    "# Hay otras leyes y otros controles que podrían ponerse y que afectan la tasa de accidentes, y podrían ponerse"
   ]
  },
  {
   "cell_type": "code",
   "execution_count": 98,
   "metadata": {},
   "outputs": [
    {
     "data": {
      "text/plain": [
       "2.7000003"
      ]
     },
     "execution_count": 98,
     "metadata": {},
     "output_type": "execute_result"
    }
   ],
   "source": [
    "dfej13_7.dthrte85.mean()"
   ]
  },
  {
   "cell_type": "code",
   "execution_count": 99,
   "metadata": {},
   "outputs": [
    {
     "data": {
      "text/plain": [
       "0.6033241"
      ]
     },
     "execution_count": 99,
     "metadata": {},
     "output_type": "execute_result"
    }
   ],
   "source": [
    "dfej13_7.dthrte85.std()"
   ]
  },
  {
   "cell_type": "code",
   "execution_count": null,
   "metadata": {},
   "outputs": [],
   "source": [
    "# Evaluación de politicas con panel de más de dos períodos"
   ]
  },
  {
   "cell_type": "markdown",
   "metadata": {},
   "source": [
    "## Ejemplo 13.8 Efectos de los polígonos industriales en las solicitudes del seguro de desempleo (ezunem.dta)"
   ]
  },
  {
   "cell_type": "code",
   "execution_count": 100,
   "metadata": {},
   "outputs": [
    {
     "data": {
      "text/html": [
       "<div>\n",
       "<style scoped>\n",
       "    .dataframe tbody tr th:only-of-type {\n",
       "        vertical-align: middle;\n",
       "    }\n",
       "\n",
       "    .dataframe tbody tr th {\n",
       "        vertical-align: top;\n",
       "    }\n",
       "\n",
       "    .dataframe thead th {\n",
       "        text-align: right;\n",
       "    }\n",
       "</style>\n",
       "<table border=\"1\" class=\"dataframe\">\n",
       "  <thead>\n",
       "    <tr style=\"text-align: right;\">\n",
       "      <th></th>\n",
       "      <th>year</th>\n",
       "      <th>uclms</th>\n",
       "      <th>ez</th>\n",
       "      <th>d81</th>\n",
       "      <th>d82</th>\n",
       "      <th>d83</th>\n",
       "      <th>d84</th>\n",
       "      <th>d85</th>\n",
       "      <th>d86</th>\n",
       "      <th>d87</th>\n",
       "      <th>...</th>\n",
       "      <th>c17</th>\n",
       "      <th>c18</th>\n",
       "      <th>c19</th>\n",
       "      <th>c20</th>\n",
       "      <th>c21</th>\n",
       "      <th>c22</th>\n",
       "      <th>luclms</th>\n",
       "      <th>guclms</th>\n",
       "      <th>cez</th>\n",
       "      <th>city</th>\n",
       "    </tr>\n",
       "  </thead>\n",
       "  <tbody>\n",
       "    <tr>\n",
       "      <th>0</th>\n",
       "      <td>1980</td>\n",
       "      <td>166746.0</td>\n",
       "      <td>0</td>\n",
       "      <td>0</td>\n",
       "      <td>0</td>\n",
       "      <td>0</td>\n",
       "      <td>0</td>\n",
       "      <td>0</td>\n",
       "      <td>0</td>\n",
       "      <td>0</td>\n",
       "      <td>...</td>\n",
       "      <td>0</td>\n",
       "      <td>0</td>\n",
       "      <td>0</td>\n",
       "      <td>0</td>\n",
       "      <td>0</td>\n",
       "      <td>0</td>\n",
       "      <td>12.024227</td>\n",
       "      <td>NaN</td>\n",
       "      <td>NaN</td>\n",
       "      <td>1</td>\n",
       "    </tr>\n",
       "    <tr>\n",
       "      <th>1</th>\n",
       "      <td>1981</td>\n",
       "      <td>83561.0</td>\n",
       "      <td>0</td>\n",
       "      <td>1</td>\n",
       "      <td>0</td>\n",
       "      <td>0</td>\n",
       "      <td>0</td>\n",
       "      <td>0</td>\n",
       "      <td>0</td>\n",
       "      <td>0</td>\n",
       "      <td>...</td>\n",
       "      <td>0</td>\n",
       "      <td>0</td>\n",
       "      <td>0</td>\n",
       "      <td>0</td>\n",
       "      <td>0</td>\n",
       "      <td>0</td>\n",
       "      <td>11.333332</td>\n",
       "      <td>-0.690895</td>\n",
       "      <td>0.0</td>\n",
       "      <td>1</td>\n",
       "    </tr>\n",
       "    <tr>\n",
       "      <th>2</th>\n",
       "      <td>1982</td>\n",
       "      <td>158146.0</td>\n",
       "      <td>0</td>\n",
       "      <td>0</td>\n",
       "      <td>1</td>\n",
       "      <td>0</td>\n",
       "      <td>0</td>\n",
       "      <td>0</td>\n",
       "      <td>0</td>\n",
       "      <td>0</td>\n",
       "      <td>...</td>\n",
       "      <td>0</td>\n",
       "      <td>0</td>\n",
       "      <td>0</td>\n",
       "      <td>0</td>\n",
       "      <td>0</td>\n",
       "      <td>0</td>\n",
       "      <td>11.971274</td>\n",
       "      <td>0.637942</td>\n",
       "      <td>0.0</td>\n",
       "      <td>1</td>\n",
       "    </tr>\n",
       "    <tr>\n",
       "      <th>3</th>\n",
       "      <td>1983</td>\n",
       "      <td>83572.0</td>\n",
       "      <td>0</td>\n",
       "      <td>0</td>\n",
       "      <td>0</td>\n",
       "      <td>1</td>\n",
       "      <td>0</td>\n",
       "      <td>0</td>\n",
       "      <td>0</td>\n",
       "      <td>0</td>\n",
       "      <td>...</td>\n",
       "      <td>0</td>\n",
       "      <td>0</td>\n",
       "      <td>0</td>\n",
       "      <td>0</td>\n",
       "      <td>0</td>\n",
       "      <td>0</td>\n",
       "      <td>11.333464</td>\n",
       "      <td>-0.637811</td>\n",
       "      <td>0.0</td>\n",
       "      <td>1</td>\n",
       "    </tr>\n",
       "    <tr>\n",
       "      <th>4</th>\n",
       "      <td>1984</td>\n",
       "      <td>45949.0</td>\n",
       "      <td>1</td>\n",
       "      <td>0</td>\n",
       "      <td>0</td>\n",
       "      <td>0</td>\n",
       "      <td>1</td>\n",
       "      <td>0</td>\n",
       "      <td>0</td>\n",
       "      <td>0</td>\n",
       "      <td>...</td>\n",
       "      <td>0</td>\n",
       "      <td>0</td>\n",
       "      <td>0</td>\n",
       "      <td>0</td>\n",
       "      <td>0</td>\n",
       "      <td>0</td>\n",
       "      <td>10.735288</td>\n",
       "      <td>-0.598176</td>\n",
       "      <td>1.0</td>\n",
       "      <td>1</td>\n",
       "    </tr>\n",
       "  </tbody>\n",
       "</table>\n",
       "<p>5 rows × 37 columns</p>\n",
       "</div>"
      ],
      "text/plain": [
       "   year     uclms  ez  d81  d82  d83  d84  d85  d86  d87  ...  c17  c18  c19  \\\n",
       "0  1980  166746.0   0    0    0    0    0    0    0    0  ...    0    0    0   \n",
       "1  1981   83561.0   0    1    0    0    0    0    0    0  ...    0    0    0   \n",
       "2  1982  158146.0   0    0    1    0    0    0    0    0  ...    0    0    0   \n",
       "3  1983   83572.0   0    0    0    1    0    0    0    0  ...    0    0    0   \n",
       "4  1984   45949.0   1    0    0    0    1    0    0    0  ...    0    0    0   \n",
       "\n",
       "   c20  c21  c22     luclms    guclms  cez  city  \n",
       "0    0    0    0  12.024227       NaN  NaN     1  \n",
       "1    0    0    0  11.333332 -0.690895  0.0     1  \n",
       "2    0    0    0  11.971274  0.637942  0.0     1  \n",
       "3    0    0    0  11.333464 -0.637811  0.0     1  \n",
       "4    0    0    0  10.735288 -0.598176  1.0     1  \n",
       "\n",
       "[5 rows x 37 columns]"
      ]
     },
     "execution_count": 100,
     "metadata": {},
     "output_type": "execute_result"
    }
   ],
   "source": [
    "dfej13_8 = pd.read_stata('ezunem.dta')\n",
    "dfej13_8.head()"
   ]
  },
  {
   "cell_type": "code",
   "execution_count": null,
   "metadata": {},
   "outputs": [],
   "source": [
    "# Panel de ciudades como zonas empresariales desde 1980 a 1988\n",
    "# 12 de las ciudades no recibieron la designación de zona empresarial en el período y sirven como grupo de control\n",
    "# Se relaciona la designación como zona empresarial con los reclamos de seguro de desempleo (uclms)"
   ]
  },
  {
   "cell_type": "code",
   "execution_count": null,
   "metadata": {},
   "outputs": [],
   "source": [
    "# El modelo básico para la evalución de la politica es "
   ]
  },
  {
   "cell_type": "markdown",
   "metadata": {},
   "source": [
    "$log(uclms_{it}) = \\theta_{t} + \\beta_{1} ez_{it} + a_{i} + u_{it}$"
   ]
  },
  {
   "cell_type": "code",
   "execution_count": null,
   "metadata": {},
   "outputs": [],
   "source": [
    "# La ordenada es difrente para cada período y busca reflejar que los reclamos descienden en todas las ciudades en el período\n",
    "# ezit es una dummy de en ese período la ciudad era definida como zona empresarial\n",
    "# ai son los efectos fijos por ciudad\n",
    "# ai y ezi probablemente se correlacionan positivamente pues se define ez cuando hay problemas económicos\n",
    "# Por esto se debe diferenciar para eliminar ai"
   ]
  },
  {
   "cell_type": "markdown",
   "metadata": {},
   "source": [
    "$ \\Delta log(uclms_{it}) = \\alpha_{0} + \\alpha_{1} d82_{t} +...+\\alpha_{7} d88_{t} + \\beta_{1} \\Delta ez_{it} + \\Delta u_{it}$"
   ]
  },
  {
   "cell_type": "code",
   "execution_count": null,
   "metadata": {},
   "outputs": [],
   "source": [
    "# La dependeinte es aproximadamente la tasa de crecimiento de los reclamos de desempleo de t-1 a t \n",
    "# La estimación se hace para los años 81 a 88"
   ]
  },
  {
   "cell_type": "code",
   "execution_count": 101,
   "metadata": {},
   "outputs": [
    {
     "name": "stdout",
     "output_type": "stream",
     "text": [
      "                            OLS Regression Results                            \n",
      "==============================================================================\n",
      "Dep. Variable:                 guclms   R-squared:                       0.623\n",
      "Model:                            OLS   Adj. R-squared:                  0.605\n",
      "Method:                 Least Squares   F-statistic:                     34.50\n",
      "Date:                Mon, 12 Oct 2020   Prob (F-statistic):           1.08e-31\n",
      "Time:                        10:36:18   Log-Likelihood:                 24.553\n",
      "No. Observations:                 176   AIC:                            -31.11\n",
      "Df Residuals:                     167   BIC:                            -2.573\n",
      "Df Model:                           8                                         \n",
      "Covariance Type:            nonrobust                                         \n",
      "==============================================================================\n",
      "                 coef    std err          t      P>|t|      [0.025      0.975]\n",
      "------------------------------------------------------------------------------\n",
      "Intercept     -0.3216      0.046     -6.982      0.000      -0.413      -0.231\n",
      "cez           -0.1819      0.078     -2.326      0.021      -0.336      -0.028\n",
      "d82            0.7788      0.065     11.954      0.000       0.650       0.907\n",
      "d83           -0.0331      0.065     -0.508      0.612      -0.162       0.095\n",
      "d84           -0.0171      0.069     -0.250      0.803      -0.152       0.118\n",
      "d85            0.3231      0.067      4.845      0.000       0.191       0.455\n",
      "d86            0.2922      0.065      4.485      0.000       0.164       0.421\n",
      "d87            0.0539      0.065      0.828      0.409      -0.075       0.183\n",
      "d88           -0.0171      0.065     -0.262      0.794      -0.146       0.112\n",
      "==============================================================================\n",
      "Omnibus:                        0.858   Durbin-Watson:                   2.370\n",
      "Prob(Omnibus):                  0.651   Jarque-Bera (JB):                0.871\n",
      "Skew:                           0.166   Prob(JB):                        0.647\n",
      "Kurtosis:                       2.905   Cond. No.                         8.96\n",
      "==============================================================================\n",
      "\n",
      "Warnings:\n",
      "[1] Standard Errors assume that the covariance matrix of the errors is correctly specified.\n"
     ]
    }
   ],
   "source": [
    "regdfej13_8 = smf.ols('guclms ~  cez + d82+ d83+ d84+ d85 + d86 +d87+d88  ', data = dfej13_8).fit()\n",
    "print(regdfej13_8.summary())"
   ]
  },
  {
   "cell_type": "code",
   "execution_count": null,
   "metadata": {},
   "outputs": [],
   "source": [
    "# Comentario : La presencia de la designación de ez provoca que se reduzcan los reclamos \n",
    "# Como está en log la dependiente y es una binaria ez , el valor en unidades nominales es con exponeneciación"
   ]
  },
  {
   "cell_type": "code",
   "execution_count": 104,
   "metadata": {},
   "outputs": [
    {
     "data": {
      "text/plain": [
       "-0.16629657463852832"
      ]
     },
     "execution_count": 104,
     "metadata": {},
     "output_type": "execute_result"
    }
   ],
   "source": [
    "np.exp(regdfej13_8.params[1])-1"
   ]
  },
  {
   "cell_type": "code",
   "execution_count": null,
   "metadata": {},
   "outputs": [],
   "source": [
    "# La reducción en los reclamos se reducen 16% por la designación como ez y es significativo el efecto"
   ]
  },
  {
   "cell_type": "code",
   "execution_count": null,
   "metadata": {},
   "outputs": [],
   "source": [
    "# Test de heterocedasticidad "
   ]
  },
  {
   "cell_type": "code",
   "execution_count": 105,
   "metadata": {},
   "outputs": [
    {
     "name": "stdout",
     "output_type": "stream",
     "text": [
      "     Chi-Sq  Prob>Chi-Sq\n",
      "0  6.913966     0.545943\n"
     ]
    }
   ],
   "source": [
    "bptest = sms.diagnostic.het_breuschpagan(regdfej13_8.resid, regdfej13_8.model.exog)\n",
    "bptest2 = pd.DataFrame({'Chi-Sq':[bptest[0]],\n",
    "                   'Prob>Chi-Sq':[bptest[1]]})\n",
    "print(bptest2)"
   ]
  },
  {
   "cell_type": "code",
   "execution_count": null,
   "metadata": {},
   "outputs": [],
   "source": [
    "# No hay evidencia de heterocedasticidad"
   ]
  },
  {
   "cell_type": "code",
   "execution_count": 106,
   "metadata": {},
   "outputs": [],
   "source": [
    "#Falta lo de autocorrelación"
   ]
  },
  {
   "cell_type": "markdown",
   "metadata": {},
   "source": [
    "## Ejemplo 13.9 Tasas de delincuencia por condado en Carolina del Norte (crime4.dta)"
   ]
  },
  {
   "cell_type": "code",
   "execution_count": 115,
   "metadata": {},
   "outputs": [
    {
     "data": {
      "text/html": [
       "<div>\n",
       "<style scoped>\n",
       "    .dataframe tbody tr th:only-of-type {\n",
       "        vertical-align: middle;\n",
       "    }\n",
       "\n",
       "    .dataframe tbody tr th {\n",
       "        vertical-align: top;\n",
       "    }\n",
       "\n",
       "    .dataframe thead th {\n",
       "        text-align: right;\n",
       "    }\n",
       "</style>\n",
       "<table border=\"1\" class=\"dataframe\">\n",
       "  <thead>\n",
       "    <tr style=\"text-align: right;\">\n",
       "      <th></th>\n",
       "      <th>county</th>\n",
       "      <th>year</th>\n",
       "      <th>crmrte</th>\n",
       "      <th>prbarr</th>\n",
       "      <th>prbconv</th>\n",
       "      <th>prbpris</th>\n",
       "      <th>avgsen</th>\n",
       "      <th>polpc</th>\n",
       "      <th>density</th>\n",
       "      <th>taxpc</th>\n",
       "      <th>...</th>\n",
       "      <th>lpctymle</th>\n",
       "      <th>lpctmin</th>\n",
       "      <th>clcrmrte</th>\n",
       "      <th>clprbarr</th>\n",
       "      <th>clprbcon</th>\n",
       "      <th>clprbpri</th>\n",
       "      <th>clavgsen</th>\n",
       "      <th>clpolpc</th>\n",
       "      <th>cltaxpc</th>\n",
       "      <th>clmix</th>\n",
       "    </tr>\n",
       "  </thead>\n",
       "  <tbody>\n",
       "    <tr>\n",
       "      <th>0</th>\n",
       "      <td>1</td>\n",
       "      <td>81</td>\n",
       "      <td>0.039885</td>\n",
       "      <td>0.289696</td>\n",
       "      <td>0.402062</td>\n",
       "      <td>0.472222</td>\n",
       "      <td>5.61</td>\n",
       "      <td>0.001787</td>\n",
       "      <td>2.307159</td>\n",
       "      <td>25.697630</td>\n",
       "      <td>...</td>\n",
       "      <td>-2.433870</td>\n",
       "      <td>3.006608</td>\n",
       "      <td>NaN</td>\n",
       "      <td>NaN</td>\n",
       "      <td>NaN</td>\n",
       "      <td>NaN</td>\n",
       "      <td>NaN</td>\n",
       "      <td>NaN</td>\n",
       "      <td>NaN</td>\n",
       "      <td>NaN</td>\n",
       "    </tr>\n",
       "    <tr>\n",
       "      <th>1</th>\n",
       "      <td>1</td>\n",
       "      <td>82</td>\n",
       "      <td>0.038345</td>\n",
       "      <td>0.338111</td>\n",
       "      <td>0.433005</td>\n",
       "      <td>0.506993</td>\n",
       "      <td>5.59</td>\n",
       "      <td>0.001767</td>\n",
       "      <td>2.330254</td>\n",
       "      <td>24.874252</td>\n",
       "      <td>...</td>\n",
       "      <td>-2.449038</td>\n",
       "      <td>3.006608</td>\n",
       "      <td>-0.039376</td>\n",
       "      <td>0.154542</td>\n",
       "      <td>0.074143</td>\n",
       "      <td>0.071048</td>\n",
       "      <td>-0.003571</td>\n",
       "      <td>-0.011364</td>\n",
       "      <td>-0.032565</td>\n",
       "      <td>0.030857</td>\n",
       "    </tr>\n",
       "    <tr>\n",
       "      <th>2</th>\n",
       "      <td>1</td>\n",
       "      <td>83</td>\n",
       "      <td>0.030305</td>\n",
       "      <td>0.330449</td>\n",
       "      <td>0.525703</td>\n",
       "      <td>0.479705</td>\n",
       "      <td>5.80</td>\n",
       "      <td>0.001836</td>\n",
       "      <td>2.341801</td>\n",
       "      <td>26.451443</td>\n",
       "      <td>...</td>\n",
       "      <td>-2.464036</td>\n",
       "      <td>3.006608</td>\n",
       "      <td>-0.235316</td>\n",
       "      <td>-0.022922</td>\n",
       "      <td>0.193987</td>\n",
       "      <td>-0.055326</td>\n",
       "      <td>0.036879</td>\n",
       "      <td>0.038413</td>\n",
       "      <td>0.061477</td>\n",
       "      <td>-0.244732</td>\n",
       "    </tr>\n",
       "    <tr>\n",
       "      <th>3</th>\n",
       "      <td>1</td>\n",
       "      <td>84</td>\n",
       "      <td>0.034726</td>\n",
       "      <td>0.362525</td>\n",
       "      <td>0.604706</td>\n",
       "      <td>0.520104</td>\n",
       "      <td>6.89</td>\n",
       "      <td>0.001886</td>\n",
       "      <td>2.346420</td>\n",
       "      <td>26.842348</td>\n",
       "      <td>...</td>\n",
       "      <td>-2.478925</td>\n",
       "      <td>3.006608</td>\n",
       "      <td>0.136180</td>\n",
       "      <td>0.092641</td>\n",
       "      <td>0.140006</td>\n",
       "      <td>0.080857</td>\n",
       "      <td>0.172213</td>\n",
       "      <td>0.026930</td>\n",
       "      <td>0.014670</td>\n",
       "      <td>-0.027331</td>\n",
       "    </tr>\n",
       "    <tr>\n",
       "      <th>4</th>\n",
       "      <td>1</td>\n",
       "      <td>85</td>\n",
       "      <td>0.036573</td>\n",
       "      <td>0.325395</td>\n",
       "      <td>0.578723</td>\n",
       "      <td>0.497059</td>\n",
       "      <td>6.55</td>\n",
       "      <td>0.001924</td>\n",
       "      <td>2.364896</td>\n",
       "      <td>28.140337</td>\n",
       "      <td>...</td>\n",
       "      <td>-2.497306</td>\n",
       "      <td>3.006608</td>\n",
       "      <td>0.051825</td>\n",
       "      <td>-0.108054</td>\n",
       "      <td>-0.043918</td>\n",
       "      <td>-0.045320</td>\n",
       "      <td>-0.050606</td>\n",
       "      <td>0.020199</td>\n",
       "      <td>0.047223</td>\n",
       "      <td>0.172125</td>\n",
       "    </tr>\n",
       "    <tr>\n",
       "      <th>5</th>\n",
       "      <td>1</td>\n",
       "      <td>86</td>\n",
       "      <td>0.034752</td>\n",
       "      <td>0.326062</td>\n",
       "      <td>0.512324</td>\n",
       "      <td>0.439863</td>\n",
       "      <td>6.90</td>\n",
       "      <td>0.001895</td>\n",
       "      <td>2.385681</td>\n",
       "      <td>29.740980</td>\n",
       "      <td>...</td>\n",
       "      <td>-2.524721</td>\n",
       "      <td>3.006608</td>\n",
       "      <td>-0.051062</td>\n",
       "      <td>0.002048</td>\n",
       "      <td>-0.121867</td>\n",
       "      <td>-0.122245</td>\n",
       "      <td>0.052056</td>\n",
       "      <td>-0.015258</td>\n",
       "      <td>0.055322</td>\n",
       "      <td>0.042765</td>\n",
       "    </tr>\n",
       "    <tr>\n",
       "      <th>6</th>\n",
       "      <td>1</td>\n",
       "      <td>87</td>\n",
       "      <td>0.035604</td>\n",
       "      <td>0.298270</td>\n",
       "      <td>0.527596</td>\n",
       "      <td>0.436170</td>\n",
       "      <td>6.71</td>\n",
       "      <td>0.001828</td>\n",
       "      <td>2.422633</td>\n",
       "      <td>30.993681</td>\n",
       "      <td>...</td>\n",
       "      <td>-2.552702</td>\n",
       "      <td>3.006608</td>\n",
       "      <td>0.024198</td>\n",
       "      <td>-0.089089</td>\n",
       "      <td>0.029374</td>\n",
       "      <td>-0.008431</td>\n",
       "      <td>-0.027923</td>\n",
       "      <td>-0.036189</td>\n",
       "      <td>0.041257</td>\n",
       "      <td>-0.193899</td>\n",
       "    </tr>\n",
       "    <tr>\n",
       "      <th>7</th>\n",
       "      <td>3</td>\n",
       "      <td>81</td>\n",
       "      <td>0.016392</td>\n",
       "      <td>0.202899</td>\n",
       "      <td>0.869048</td>\n",
       "      <td>0.465753</td>\n",
       "      <td>8.45</td>\n",
       "      <td>0.000594</td>\n",
       "      <td>0.976834</td>\n",
       "      <td>14.560878</td>\n",
       "      <td>...</td>\n",
       "      <td>-2.441794</td>\n",
       "      <td>2.068926</td>\n",
       "      <td>NaN</td>\n",
       "      <td>NaN</td>\n",
       "      <td>NaN</td>\n",
       "      <td>NaN</td>\n",
       "      <td>NaN</td>\n",
       "      <td>NaN</td>\n",
       "      <td>NaN</td>\n",
       "      <td>NaN</td>\n",
       "    </tr>\n",
       "    <tr>\n",
       "      <th>8</th>\n",
       "      <td>3</td>\n",
       "      <td>82</td>\n",
       "      <td>0.019065</td>\n",
       "      <td>0.162218</td>\n",
       "      <td>0.772152</td>\n",
       "      <td>0.377049</td>\n",
       "      <td>5.71</td>\n",
       "      <td>0.000705</td>\n",
       "      <td>0.992278</td>\n",
       "      <td>35.640728</td>\n",
       "      <td>...</td>\n",
       "      <td>-2.447933</td>\n",
       "      <td>2.068926</td>\n",
       "      <td>0.151060</td>\n",
       "      <td>-0.223767</td>\n",
       "      <td>-0.118217</td>\n",
       "      <td>-0.211280</td>\n",
       "      <td>-0.391948</td>\n",
       "      <td>0.170985</td>\n",
       "      <td>0.895151</td>\n",
       "      <td>-0.170775</td>\n",
       "    </tr>\n",
       "    <tr>\n",
       "      <th>9</th>\n",
       "      <td>3</td>\n",
       "      <td>83</td>\n",
       "      <td>0.015149</td>\n",
       "      <td>0.181586</td>\n",
       "      <td>1.028170</td>\n",
       "      <td>0.438356</td>\n",
       "      <td>8.69</td>\n",
       "      <td>0.000659</td>\n",
       "      <td>1.003861</td>\n",
       "      <td>19.261877</td>\n",
       "      <td>...</td>\n",
       "      <td>-2.454076</td>\n",
       "      <td>2.068926</td>\n",
       "      <td>-0.229912</td>\n",
       "      <td>0.112788</td>\n",
       "      <td>0.286354</td>\n",
       "      <td>0.150656</td>\n",
       "      <td>0.419954</td>\n",
       "      <td>-0.067522</td>\n",
       "      <td>-0.615361</td>\n",
       "      <td>0.231241</td>\n",
       "    </tr>\n",
       "  </tbody>\n",
       "</table>\n",
       "<p>10 rows × 59 columns</p>\n",
       "</div>"
      ],
      "text/plain": [
       "   county  year    crmrte    prbarr   prbconv   prbpris  avgsen     polpc  \\\n",
       "0       1    81  0.039885  0.289696  0.402062  0.472222    5.61  0.001787   \n",
       "1       1    82  0.038345  0.338111  0.433005  0.506993    5.59  0.001767   \n",
       "2       1    83  0.030305  0.330449  0.525703  0.479705    5.80  0.001836   \n",
       "3       1    84  0.034726  0.362525  0.604706  0.520104    6.89  0.001886   \n",
       "4       1    85  0.036573  0.325395  0.578723  0.497059    6.55  0.001924   \n",
       "5       1    86  0.034752  0.326062  0.512324  0.439863    6.90  0.001895   \n",
       "6       1    87  0.035604  0.298270  0.527596  0.436170    6.71  0.001828   \n",
       "7       3    81  0.016392  0.202899  0.869048  0.465753    8.45  0.000594   \n",
       "8       3    82  0.019065  0.162218  0.772152  0.377049    5.71  0.000705   \n",
       "9       3    83  0.015149  0.181586  1.028170  0.438356    8.69  0.000659   \n",
       "\n",
       "    density      taxpc  ...  lpctymle   lpctmin  clcrmrte  clprbarr  clprbcon  \\\n",
       "0  2.307159  25.697630  ... -2.433870  3.006608       NaN       NaN       NaN   \n",
       "1  2.330254  24.874252  ... -2.449038  3.006608 -0.039376  0.154542  0.074143   \n",
       "2  2.341801  26.451443  ... -2.464036  3.006608 -0.235316 -0.022922  0.193987   \n",
       "3  2.346420  26.842348  ... -2.478925  3.006608  0.136180  0.092641  0.140006   \n",
       "4  2.364896  28.140337  ... -2.497306  3.006608  0.051825 -0.108054 -0.043918   \n",
       "5  2.385681  29.740980  ... -2.524721  3.006608 -0.051062  0.002048 -0.121867   \n",
       "6  2.422633  30.993681  ... -2.552702  3.006608  0.024198 -0.089089  0.029374   \n",
       "7  0.976834  14.560878  ... -2.441794  2.068926       NaN       NaN       NaN   \n",
       "8  0.992278  35.640728  ... -2.447933  2.068926  0.151060 -0.223767 -0.118217   \n",
       "9  1.003861  19.261877  ... -2.454076  2.068926 -0.229912  0.112788  0.286354   \n",
       "\n",
       "   clprbpri  clavgsen   clpolpc   cltaxpc     clmix  \n",
       "0       NaN       NaN       NaN       NaN       NaN  \n",
       "1  0.071048 -0.003571 -0.011364 -0.032565  0.030857  \n",
       "2 -0.055326  0.036879  0.038413  0.061477 -0.244732  \n",
       "3  0.080857  0.172213  0.026930  0.014670 -0.027331  \n",
       "4 -0.045320 -0.050606  0.020199  0.047223  0.172125  \n",
       "5 -0.122245  0.052056 -0.015258  0.055322  0.042765  \n",
       "6 -0.008431 -0.027923 -0.036189  0.041257 -0.193899  \n",
       "7       NaN       NaN       NaN       NaN       NaN  \n",
       "8 -0.211280 -0.391948  0.170985  0.895151 -0.170775  \n",
       "9  0.150656  0.419954 -0.067522 -0.615361  0.231241  \n",
       "\n",
       "[10 rows x 59 columns]"
      ]
     },
     "execution_count": 115,
     "metadata": {},
     "output_type": "execute_result"
    }
   ],
   "source": [
    "dfej13_9 = pd.read_stata('crime4.dta')\n",
    "dfej13_9.head(10)"
   ]
  },
  {
   "cell_type": "code",
   "execution_count": null,
   "metadata": {},
   "outputs": [],
   "source": []
  },
  {
   "cell_type": "code",
   "execution_count": null,
   "metadata": {},
   "outputs": [],
   "source": [
    "# Panel de 90 condados de Carolina del Norte, de los años 1981 al 87\n",
    "# Se estima un modelo para explicar las tasas de crimen en log con\n",
    "# prbarr = probabilidad de arresto\n",
    "# prbconv = probabilidad de condena\n",
    "# prbpris = probabilidad de prisión\n",
    "# avgsen = promedio sentencia\n",
    "# polpc = policías per cápita\n",
    "# Se utilizan log para estimar elasticidades\n",
    "# Se incluyen las dummies temporales para controlar las tendencias de todos los condados"
   ]
  },
  {
   "cell_type": "markdown",
   "metadata": {},
   "source": [
    "$ \\Delta log(crmrte_{it}) = \\alpha_{0} +\\alpha_{1} d83_{t} +...+\\alpha_{7} d87_{t} +\\beta_{1} \\Delta log(prbarr)_{it}\n",
    "+ \\beta_{2} \\Delta log(prbconv)_{it}\n",
    "+ \\beta_{3} \\Delta log(prbpris)_{it}\n",
    "+ \\beta_{4} \\Delta log(avgsen)_{it}\n",
    "+ \\beta_{5} \\Delta log(polpc)_{it}\n",
    "+ \\Delta u_{it}$"
   ]
  },
  {
   "cell_type": "code",
   "execution_count": null,
   "metadata": {},
   "outputs": [],
   "source": [
    "# El panel ya está construido con los rezagos de las variables "
   ]
  },
  {
   "cell_type": "code",
   "execution_count": 117,
   "metadata": {},
   "outputs": [
    {
     "data": {
      "text/html": [
       "<div>\n",
       "<style scoped>\n",
       "    .dataframe tbody tr th:only-of-type {\n",
       "        vertical-align: middle;\n",
       "    }\n",
       "\n",
       "    .dataframe tbody tr th {\n",
       "        vertical-align: top;\n",
       "    }\n",
       "\n",
       "    .dataframe thead th {\n",
       "        text-align: right;\n",
       "    }\n",
       "</style>\n",
       "<table border=\"1\" class=\"dataframe\">\n",
       "  <thead>\n",
       "    <tr style=\"text-align: right;\">\n",
       "      <th></th>\n",
       "      <th>county</th>\n",
       "      <th>year</th>\n",
       "      <th>prbarr</th>\n",
       "      <th>lprbarr</th>\n",
       "      <th>clprbarr</th>\n",
       "    </tr>\n",
       "  </thead>\n",
       "  <tbody>\n",
       "    <tr>\n",
       "      <th>0</th>\n",
       "      <td>1</td>\n",
       "      <td>81</td>\n",
       "      <td>0.289696</td>\n",
       "      <td>-1.238923</td>\n",
       "      <td>NaN</td>\n",
       "    </tr>\n",
       "    <tr>\n",
       "      <th>1</th>\n",
       "      <td>1</td>\n",
       "      <td>82</td>\n",
       "      <td>0.338111</td>\n",
       "      <td>-1.084381</td>\n",
       "      <td>0.154542</td>\n",
       "    </tr>\n",
       "    <tr>\n",
       "      <th>2</th>\n",
       "      <td>1</td>\n",
       "      <td>83</td>\n",
       "      <td>0.330449</td>\n",
       "      <td>-1.107303</td>\n",
       "      <td>-0.022922</td>\n",
       "    </tr>\n",
       "    <tr>\n",
       "      <th>3</th>\n",
       "      <td>1</td>\n",
       "      <td>84</td>\n",
       "      <td>0.362525</td>\n",
       "      <td>-1.014662</td>\n",
       "      <td>0.092641</td>\n",
       "    </tr>\n",
       "    <tr>\n",
       "      <th>4</th>\n",
       "      <td>1</td>\n",
       "      <td>85</td>\n",
       "      <td>0.325395</td>\n",
       "      <td>-1.122715</td>\n",
       "      <td>-0.108054</td>\n",
       "    </tr>\n",
       "    <tr>\n",
       "      <th>5</th>\n",
       "      <td>1</td>\n",
       "      <td>86</td>\n",
       "      <td>0.326062</td>\n",
       "      <td>-1.120668</td>\n",
       "      <td>0.002048</td>\n",
       "    </tr>\n",
       "    <tr>\n",
       "      <th>6</th>\n",
       "      <td>1</td>\n",
       "      <td>87</td>\n",
       "      <td>0.298270</td>\n",
       "      <td>-1.209756</td>\n",
       "      <td>-0.089089</td>\n",
       "    </tr>\n",
       "    <tr>\n",
       "      <th>7</th>\n",
       "      <td>3</td>\n",
       "      <td>81</td>\n",
       "      <td>0.202899</td>\n",
       "      <td>-1.595047</td>\n",
       "      <td>NaN</td>\n",
       "    </tr>\n",
       "    <tr>\n",
       "      <th>8</th>\n",
       "      <td>3</td>\n",
       "      <td>82</td>\n",
       "      <td>0.162218</td>\n",
       "      <td>-1.818814</td>\n",
       "      <td>-0.223767</td>\n",
       "    </tr>\n",
       "    <tr>\n",
       "      <th>9</th>\n",
       "      <td>3</td>\n",
       "      <td>83</td>\n",
       "      <td>0.181586</td>\n",
       "      <td>-1.706026</td>\n",
       "      <td>0.112788</td>\n",
       "    </tr>\n",
       "  </tbody>\n",
       "</table>\n",
       "</div>"
      ],
      "text/plain": [
       "   county  year    prbarr   lprbarr  clprbarr\n",
       "0       1    81  0.289696 -1.238923       NaN\n",
       "1       1    82  0.338111 -1.084381  0.154542\n",
       "2       1    83  0.330449 -1.107303 -0.022922\n",
       "3       1    84  0.362525 -1.014662  0.092641\n",
       "4       1    85  0.325395 -1.122715 -0.108054\n",
       "5       1    86  0.326062 -1.120668  0.002048\n",
       "6       1    87  0.298270 -1.209756 -0.089089\n",
       "7       3    81  0.202899 -1.595047       NaN\n",
       "8       3    82  0.162218 -1.818814 -0.223767\n",
       "9       3    83  0.181586 -1.706026  0.112788"
      ]
     },
     "execution_count": 117,
     "metadata": {},
     "output_type": "execute_result"
    }
   ],
   "source": [
    "dfej13_9[['county','year','prbarr','lprbarr','clprbarr']].head(10)"
   ]
  },
  {
   "cell_type": "code",
   "execution_count": 118,
   "metadata": {},
   "outputs": [
    {
     "data": {
      "text/plain": [
       "0.15454199999999996"
      ]
     },
     "execution_count": 118,
     "metadata": {},
     "output_type": "execute_result"
    }
   ],
   "source": [
    "-1.084381+1.238923"
   ]
  },
  {
   "cell_type": "code",
   "execution_count": null,
   "metadata": {},
   "outputs": [],
   "source": [
    "# Obviamente no puede hacerse simplemente haciendo el lag en la columna lprbarr, sino que se hace por grupos de county"
   ]
  },
  {
   "cell_type": "code",
   "execution_count": 120,
   "metadata": {},
   "outputs": [
    {
     "data": {
      "text/plain": [
       "0         NaN\n",
       "1    0.154542\n",
       "2   -0.022922\n",
       "3    0.092641\n",
       "4   -0.108054\n",
       "5    0.002048\n",
       "6   -0.089089\n",
       "7         NaN\n",
       "8   -0.223767\n",
       "9    0.112788\n",
       "Name: lprbarr, dtype: float32"
      ]
     },
     "execution_count": 120,
     "metadata": {},
     "output_type": "execute_result"
    }
   ],
   "source": [
    "dfej13_9.groupby('county')['lprbarr'].diff()[0:10]"
   ]
  },
  {
   "cell_type": "code",
   "execution_count": null,
   "metadata": {},
   "outputs": [],
   "source": []
  },
  {
   "cell_type": "code",
   "execution_count": 94,
   "metadata": {},
   "outputs": [
    {
     "data": {
      "text/plain": [
       "county        int16\n",
       "year           int8\n",
       "crmrte      float32\n",
       "prbarr      float32\n",
       "prbconv     float32\n",
       "prbpris     float32\n",
       "avgsen      float32\n",
       "polpc       float32\n",
       "density     float32\n",
       "taxpc       float32\n",
       "west           int8\n",
       "central        int8\n",
       "urban          int8\n",
       "pctmin80    float32\n",
       "wcon        float32\n",
       "wtuc        float32\n",
       "wtrd        float32\n",
       "wfir        float32\n",
       "wser        float32\n",
       "wmfg        float32\n",
       "wfed        float32\n",
       "wsta        float32\n",
       "wloc        float32\n",
       "mix         float32\n",
       "pctymle     float32\n",
       "d82            int8\n",
       "d83            int8\n",
       "d84            int8\n",
       "d85            int8\n",
       "d86            int8\n",
       "d87            int8\n",
       "lcrmrte     float32\n",
       "lprbarr     float32\n",
       "lprbconv    float32\n",
       "lprbpris    float32\n",
       "lavgsen     float32\n",
       "lpolpc      float32\n",
       "ldensity    float32\n",
       "ltaxpc      float32\n",
       "lwcon       float32\n",
       "lwtuc       float32\n",
       "lwtrd       float32\n",
       "lwfir       float32\n",
       "lwser       float32\n",
       "lwmfg       float32\n",
       "lwfed       float32\n",
       "lwsta       float32\n",
       "lwloc       float32\n",
       "lmix        float32\n",
       "lpctymle    float32\n",
       "lpctmin     float32\n",
       "clcrmrte    float32\n",
       "clprbarr    float32\n",
       "clprbcon    float32\n",
       "clprbpri    float32\n",
       "clavgsen    float32\n",
       "clpolpc     float32\n",
       "cltaxpc     float32\n",
       "clmix       float32\n",
       "dtype: object"
      ]
     },
     "execution_count": 94,
     "metadata": {},
     "output_type": "execute_result"
    }
   ],
   "source": [
    "dfej13_9.dtypes"
   ]
  },
  {
   "cell_type": "code",
   "execution_count": 103,
   "metadata": {},
   "outputs": [
    {
     "name": "stdout",
     "output_type": "stream",
     "text": [
      "                            OLS Regression Results                            \n",
      "==============================================================================\n",
      "Dep. Variable:               clcrmrte   R-squared:                       0.433\n",
      "Model:                            OLS   Adj. R-squared:                  0.422\n",
      "Method:                 Least Squares   F-statistic:                     40.32\n",
      "Date:                Mon, 12 Oct 2020   Prob (F-statistic):           6.30e-59\n",
      "Time:                        10:40:08   Log-Likelihood:                 248.48\n",
      "No. Observations:                 540   AIC:                            -475.0\n",
      "Df Residuals:                     529   BIC:                            -427.7\n",
      "Df Model:                          10                                         \n",
      "Covariance Type:            nonrobust                                         \n",
      "==============================================================================\n",
      "                 coef    std err          t      P>|t|      [0.025      0.975]\n",
      "------------------------------------------------------------------------------\n",
      "Intercept      0.0077      0.017      0.452      0.651      -0.026       0.041\n",
      "d83           -0.0999      0.024     -4.179      0.000      -0.147      -0.053\n",
      "d84           -0.0479      0.024     -2.040      0.042      -0.094      -0.002\n",
      "d85           -0.0046      0.023     -0.196      0.845      -0.051       0.042\n",
      "d86            0.0275      0.024      1.139      0.255      -0.020       0.075\n",
      "d87            0.0408      0.024      1.672      0.095      -0.007       0.089\n",
      "clprbarr      -0.3275      0.030    -10.924      0.000      -0.386      -0.269\n",
      "clprbcon      -0.2381      0.018    -13.058      0.000      -0.274      -0.202\n",
      "clprbpri      -0.1650      0.026     -6.356      0.000      -0.216      -0.114\n",
      "clavgsen      -0.0218      0.022     -0.985      0.325      -0.065       0.022\n",
      "clpolpc        0.3984      0.027     14.821      0.000       0.346       0.451\n",
      "==============================================================================\n",
      "Omnibus:                       60.932   Durbin-Watson:                   2.366\n",
      "Prob(Omnibus):                  0.000   Jarque-Bera (JB):              419.621\n",
      "Skew:                          -0.120   Prob(JB):                     7.59e-92\n",
      "Kurtosis:                       7.312   Cond. No.                         7.44\n",
      "==============================================================================\n",
      "\n",
      "Warnings:\n",
      "[1] Standard Errors assume that the covariance matrix of the errors is correctly specified.\n"
     ]
    }
   ],
   "source": [
    "regdfej13_9 = smf.ols('clcrmrte ~   d83+ d84+ d85 + d86 +d87+ clprbarr + clprbcon + clprbpri + clavgsen + clpolpc  ', data = dfej13_9).fit()\n",
    "print(regdfej13_9.summary())"
   ]
  },
  {
   "cell_type": "code",
   "execution_count": 121,
   "metadata": {},
   "outputs": [
    {
     "name": "stdout",
     "output_type": "stream",
     "text": [
      "                            OLS Regression Results                            \n",
      "==============================================================================\n",
      "Dep. Variable:               clcrmrte   R-squared:                       0.433\n",
      "Model:                            OLS   Adj. R-squared:                  0.422\n",
      "Method:                 Least Squares   F-statistic:                     15.83\n",
      "Date:                Mon, 12 Oct 2020   Prob (F-statistic):           5.38e-25\n",
      "Time:                        14:40:14   Log-Likelihood:                 248.48\n",
      "No. Observations:                 540   AIC:                            -475.0\n",
      "Df Residuals:                     529   BIC:                            -427.7\n",
      "Df Model:                          10                                         \n",
      "Covariance Type:                  HC1                                         \n",
      "==============================================================================\n",
      "                 coef    std err          z      P>|z|      [0.025      0.975]\n",
      "------------------------------------------------------------------------------\n",
      "Intercept      0.0077      0.015      0.527      0.598      -0.021       0.036\n",
      "d83           -0.0999      0.022     -4.623      0.000      -0.142      -0.058\n",
      "d84           -0.0479      0.020     -2.367      0.018      -0.088      -0.008\n",
      "d85           -0.0046      0.024     -0.191      0.848      -0.052       0.043\n",
      "d86            0.0275      0.021      1.281      0.200      -0.015       0.070\n",
      "d87            0.0408      0.024      1.736      0.083      -0.005       0.087\n",
      "clprbarr      -0.3275      0.051     -6.363      0.000      -0.428      -0.227\n",
      "clprbcon      -0.2381      0.031     -7.638      0.000      -0.299      -0.177\n",
      "clprbpri      -0.1650      0.035     -4.699      0.000      -0.234      -0.096\n",
      "clavgsen      -0.0218      0.025     -0.871      0.384      -0.071       0.027\n",
      "clpolpc        0.3984      0.076      5.247      0.000       0.250       0.547\n",
      "==============================================================================\n",
      "Omnibus:                       60.932   Durbin-Watson:                   2.366\n",
      "Prob(Omnibus):                  0.000   Jarque-Bera (JB):              419.621\n",
      "Skew:                          -0.120   Prob(JB):                     7.59e-92\n",
      "Kurtosis:                       7.312   Cond. No.                         7.44\n",
      "==============================================================================\n",
      "\n",
      "Warnings:\n",
      "[1] Standard Errors are heteroscedasticity robust (HC1)\n"
     ]
    }
   ],
   "source": [
    "regdfej13_9a = smf.ols('clcrmrte ~   d83+ d84+ d85 + d86 +d87+ clprbarr + clprbcon + clprbpri + clavgsen + clpolpc  ', data = dfej13_9).fit(cov_type='HC1')\n",
    "print(regdfej13_9a.summary())"
   ]
  },
  {
   "cell_type": "code",
   "execution_count": 122,
   "metadata": {},
   "outputs": [
    {
     "name": "stdout",
     "output_type": "stream",
     "text": [
      "\n",
      "=============================\n",
      "          Hetrosced   Robust \n",
      "            (b/se)    (b/se) \n",
      "-----------------------------\n",
      "Intercept 0.008     0.008    \n",
      "          (0.017)   (0.015)  \n",
      "d83       -0.100*** -0.100***\n",
      "          (0.024)   (0.022)  \n",
      "d84       -0.048**  -0.048** \n",
      "          (0.024)   (0.020)  \n",
      "d85       -0.005    -0.005   \n",
      "          (0.023)   (0.024)  \n",
      "d86       0.028     0.028    \n",
      "          (0.024)   (0.021)  \n",
      "d87       0.041*    0.041*   \n",
      "          (0.024)   (0.024)  \n",
      "clprbarr  -0.327*** -0.327***\n",
      "          (0.030)   (0.051)  \n",
      "clprbcon  -0.238*** -0.238***\n",
      "          (0.018)   (0.031)  \n",
      "clprbpri  -0.165*** -0.165***\n",
      "          (0.026)   (0.035)  \n",
      "clavgsen  -0.022    -0.022   \n",
      "          (0.022)   (0.025)  \n",
      "clpolpc   0.398***  0.398*** \n",
      "          (0.027)   (0.076)  \n",
      "N         540       540      \n",
      "R2        0.433     0.433    \n",
      "Adj.R2    0.422     0.422    \n",
      "=============================\n",
      "Standard errors in\n",
      "parentheses.\n",
      "* p<.1, ** p<.05, ***p<.01\n"
     ]
    }
   ],
   "source": [
    "print(summary_col([regdfej13_9, regdfej13_9a],stars=True,float_format='%0.3f',\n",
    "                  model_names=['Hetrosced\\n(b/se)', 'Robust\\n(b/se)'],\n",
    "                 info_dict={'N':lambda x: \"{0:d}\".format(int(x.nobs)),\n",
    "                             'R2':lambda x: \"{:.3f}\".format(x.rsquared), \n",
    "                           'Adj.R2':lambda x: \"{:.3f}\".format(x.rsquared_adj)}))"
   ]
  },
  {
   "cell_type": "code",
   "execution_count": null,
   "metadata": {},
   "outputs": [],
   "source": [
    "# Comentario : La estiación de la ecuación en diferencias muestra eu los arrestos, condenas y tiempo en prisión  tienen \n",
    "# signos esperados y son significativas\n",
    "# 1% de aumento en probabilidad de arresto  disminuye la delincuencia en 0.33%\n",
    "# La sentencia promedio muestra poco efecto y no significativo\n",
    "# Es notable que el aumento del 1% de policías aumenta la tasa de delincuencia en 0.4% , y es significativo.\n",
    "# El problema puede ser que la tasa de delincuencia se toma de delitos reportados y que cuando hay más policías se reportan más\n",
    "# O bien la endogeneidad de la cantidad de policías puede ser que aumenten cuando esperan más crímenes, por lo tanto no puede\n",
    "# interpretarse la ecuación causalmente (ver Varaibles instrumentales)"
   ]
  },
  {
   "cell_type": "code",
   "execution_count": null,
   "metadata": {},
   "outputs": [],
   "source": [
    "# Heterocedasticiad y autocorrelación"
   ]
  },
  {
   "cell_type": "code",
   "execution_count": 123,
   "metadata": {},
   "outputs": [
    {
     "name": "stdout",
     "output_type": "stream",
     "text": [
      "      Chi-Sq  Prob>Chi-Sq\n",
      "0  10.929708     0.363021\n"
     ]
    }
   ],
   "source": [
    "bptest = sms.diagnostic.het_breuschpagan(regdfej13_9.resid, regdfej13_9.model.exog)\n",
    "bptest2 = pd.DataFrame({'Chi-Sq':[bptest[0]],\n",
    "                   'Prob>Chi-Sq':[bptest[1]]})\n",
    "print(bptest2)"
   ]
  },
  {
   "cell_type": "code",
   "execution_count": null,
   "metadata": {},
   "outputs": [],
   "source": [
    "# FALTA White y autocorrelación"
   ]
  },
  {
   "cell_type": "code",
   "execution_count": 126,
   "metadata": {},
   "outputs": [],
   "source": [
    "from statsmodels.compat import lzip"
   ]
  },
  {
   "cell_type": "code",
   "execution_count": 127,
   "metadata": {},
   "outputs": [
    {
     "name": "stdout",
     "output_type": "stream",
     "text": [
      "              0             1\n",
      "0  LM statistic  2.566499e+02\n",
      "1       p-value  1.461931e-29\n",
      "2       F-value  8.858428e+00\n",
      "3    F: p-value  7.256697e-43\n"
     ]
    }
   ],
   "source": [
    "W_t = sms.diagnostic.het_white(regdfej13_9.resid, regdfej13_9.model.exog)\n",
    "print(pd.DataFrame(lzip(['LM statistic', 'p-value',  'F-value', 'F: p-value'], W_t)))"
   ]
  },
  {
   "cell_type": "code",
   "execution_count": null,
   "metadata": {},
   "outputs": [],
   "source": []
  },
  {
   "cell_type": "code",
   "execution_count": null,
   "metadata": {},
   "outputs": [],
   "source": []
  }
 ],
 "metadata": {
  "kernelspec": {
   "display_name": "Python 3 (ipykernel)",
   "language": "python",
   "name": "python3"
  },
  "language_info": {
   "codemirror_mode": {
    "name": "ipython",
    "version": 3
   },
   "file_extension": ".py",
   "mimetype": "text/x-python",
   "name": "python",
   "nbconvert_exporter": "python",
   "pygments_lexer": "ipython3",
   "version": "3.12.4"
  }
 },
 "nbformat": 4,
 "nbformat_minor": 4
}
