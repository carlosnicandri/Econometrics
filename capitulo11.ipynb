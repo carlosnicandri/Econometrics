{
 "cells": [
  {
   "cell_type": "code",
   "execution_count": 1,
   "metadata": {},
   "outputs": [],
   "source": [
    "import pandas as pd\n",
    "import numpy as np\n",
    "import statsmodels.formula.api as smf"
   ]
  },
  {
   "cell_type": "markdown",
   "metadata": {},
   "source": [
    "## Ejemplo 11.4 Hipótesis de mercados eficientes (nyse.dta)"
   ]
  },
  {
   "cell_type": "code",
   "execution_count": null,
   "metadata": {},
   "outputs": [],
   "source": [
    "# Siendo yt el retorno semanal\n",
    "# HME = La información anterior a la semana t no sirve para predecir el rendimiento en t"
   ]
  },
  {
   "cell_type": "markdown",
   "metadata": {},
   "source": [
    "$$E(y_{t}|y_{t-1},y_{t-2},... ) = E(y_{t}) $$"
   ]
  },
  {
   "cell_type": "code",
   "execution_count": null,
   "metadata": {},
   "outputs": [],
   "source": [
    "# Una forma simple de contrastar la HME es con modelo AR(1)"
   ]
  },
  {
   "cell_type": "markdown",
   "metadata": {},
   "source": [
    "$$ y_{t} = \\beta_{0}+\\beta_{1} y_{t-1} + \\mu_{t}  $$"
   ]
  },
  {
   "cell_type": "code",
   "execution_count": null,
   "metadata": {},
   "outputs": [],
   "source": [
    "# La Ho = beta1 = 0 "
   ]
  },
  {
   "cell_type": "code",
   "execution_count": null,
   "metadata": {},
   "outputs": [],
   "source": [
    "# Bajo la Ho TS2* es verdadero por la expresión de HME\n",
    "# También vimos que la autocorrelación no es problema en un modelo AR(1)"
   ]
  },
  {
   "cell_type": "code",
   "execution_count": null,
   "metadata": {},
   "outputs": [],
   "source": [
    "# Se supone que vale para la homocedasticidad "
   ]
  },
  {
   "cell_type": "markdown",
   "metadata": {},
   "source": [
    "$$ Var(y_{t}|y_{t-1}) = Var(y_{t}) = \\sigma^{2}$$"
   ]
  },
  {
   "cell_type": "code",
   "execution_count": null,
   "metadata": {},
   "outputs": [],
   "source": [
    "# Entonces podemos suponer dependencia débil, tal que podemos usar test t para contrastar la Ho"
   ]
  },
  {
   "cell_type": "code",
   "execution_count": null,
   "metadata": {},
   "outputs": [],
   "source": [
    "# return, rendimientos semanalaes. Para miércoles festivo se usa el primer cierre siguiente laborable"
   ]
  },
  {
   "cell_type": "code",
   "execution_count": null,
   "metadata": {},
   "outputs": [],
   "source": []
  },
  {
   "cell_type": "code",
   "execution_count": 2,
   "metadata": {},
   "outputs": [
    {
     "data": {
      "text/html": [
       "<div>\n",
       "<style scoped>\n",
       "    .dataframe tbody tr th:only-of-type {\n",
       "        vertical-align: middle;\n",
       "    }\n",
       "\n",
       "    .dataframe tbody tr th {\n",
       "        vertical-align: top;\n",
       "    }\n",
       "\n",
       "    .dataframe thead th {\n",
       "        text-align: right;\n",
       "    }\n",
       "</style>\n",
       "<table border=\"1\" class=\"dataframe\">\n",
       "  <thead>\n",
       "    <tr style=\"text-align: right;\">\n",
       "      <th></th>\n",
       "      <th>price</th>\n",
       "      <th>return</th>\n",
       "      <th>return_1</th>\n",
       "      <th>t</th>\n",
       "      <th>price_1</th>\n",
       "      <th>price_2</th>\n",
       "      <th>cprice</th>\n",
       "      <th>cprice_1</th>\n",
       "    </tr>\n",
       "  </thead>\n",
       "  <tbody>\n",
       "    <tr>\n",
       "      <th>0</th>\n",
       "      <td>49.750000</td>\n",
       "      <td>NaN</td>\n",
       "      <td>NaN</td>\n",
       "      <td>1</td>\n",
       "      <td>NaN</td>\n",
       "      <td>NaN</td>\n",
       "      <td>NaN</td>\n",
       "      <td>NaN</td>\n",
       "    </tr>\n",
       "    <tr>\n",
       "      <th>1</th>\n",
       "      <td>51.439999</td>\n",
       "      <td>3.396982</td>\n",
       "      <td>NaN</td>\n",
       "      <td>2</td>\n",
       "      <td>49.750000</td>\n",
       "      <td>NaN</td>\n",
       "      <td>1.689999</td>\n",
       "      <td>NaN</td>\n",
       "    </tr>\n",
       "    <tr>\n",
       "      <th>2</th>\n",
       "      <td>52.049999</td>\n",
       "      <td>1.185849</td>\n",
       "      <td>3.396982</td>\n",
       "      <td>3</td>\n",
       "      <td>51.439999</td>\n",
       "      <td>49.750000</td>\n",
       "      <td>0.610001</td>\n",
       "      <td>1.689999</td>\n",
       "    </tr>\n",
       "    <tr>\n",
       "      <th>3</th>\n",
       "      <td>52.279999</td>\n",
       "      <td>0.441882</td>\n",
       "      <td>1.185849</td>\n",
       "      <td>4</td>\n",
       "      <td>52.049999</td>\n",
       "      <td>51.439999</td>\n",
       "      <td>0.230000</td>\n",
       "      <td>0.610001</td>\n",
       "    </tr>\n",
       "    <tr>\n",
       "      <th>4</th>\n",
       "      <td>54.240002</td>\n",
       "      <td>3.749049</td>\n",
       "      <td>0.441882</td>\n",
       "      <td>5</td>\n",
       "      <td>52.279999</td>\n",
       "      <td>52.049999</td>\n",
       "      <td>1.960003</td>\n",
       "      <td>0.230000</td>\n",
       "    </tr>\n",
       "  </tbody>\n",
       "</table>\n",
       "</div>"
      ],
      "text/plain": [
       "       price    return  return_1  t    price_1    price_2    cprice  cprice_1\n",
       "0  49.750000       NaN       NaN  1        NaN        NaN       NaN       NaN\n",
       "1  51.439999  3.396982       NaN  2  49.750000        NaN  1.689999       NaN\n",
       "2  52.049999  1.185849  3.396982  3  51.439999  49.750000  0.610001  1.689999\n",
       "3  52.279999  0.441882  1.185849  4  52.049999  51.439999  0.230000  0.610001\n",
       "4  54.240002  3.749049  0.441882  5  52.279999  52.049999  1.960003  0.230000"
      ]
     },
     "execution_count": 2,
     "metadata": {},
     "output_type": "execute_result"
    }
   ],
   "source": [
    "dfej11_4 = pd.read_stata('nyse.dta')\n",
    "dfej11_4.head()"
   ]
  },
  {
   "cell_type": "code",
   "execution_count": 4,
   "metadata": {},
   "outputs": [
    {
     "data": {
      "text/plain": [
       "count    690.000000\n",
       "mean       0.195784\n",
       "std        2.114532\n",
       "min      -15.321728\n",
       "25%       -1.099878\n",
       "50%        0.334362\n",
       "75%        1.546531\n",
       "max        8.448762\n",
       "Name: return, dtype: float64"
      ]
     },
     "execution_count": 4,
     "metadata": {},
     "output_type": "execute_result"
    }
   ],
   "source": [
    "dfej11_4['return'].describe()"
   ]
  },
  {
   "cell_type": "code",
   "execution_count": 6,
   "metadata": {},
   "outputs": [],
   "source": [
    "# cambio de nombre pero generando serie\n",
    "retu = dfej11_4['return']"
   ]
  },
  {
   "cell_type": "code",
   "execution_count": null,
   "metadata": {},
   "outputs": [],
   "source": []
  },
  {
   "cell_type": "code",
   "execution_count": 4,
   "metadata": {},
   "outputs": [
    {
     "name": "stderr",
     "output_type": "stream",
     "text": [
      "c:\\python\\lib\\site-packages\\statsmodels\\compat\\pandas.py:49: FutureWarning: The Panel class is removed from pandas. Accessing it from the top-level namespace will also be removed in the next version\n",
      "  data_klasses = (pandas.Series, pandas.DataFrame, pandas.Panel)\n"
     ]
    },
    {
     "name": "stdout",
     "output_type": "stream",
     "text": [
      "                            OLS Regression Results                            \n",
      "==============================================================================\n",
      "Dep. Variable:                   retu   R-squared:                       0.003\n",
      "Model:                            OLS   Adj. R-squared:                  0.002\n",
      "Method:                 Least Squares   F-statistic:                     2.399\n",
      "Date:                Thu, 16 Jul 2020   Prob (F-statistic):              0.122\n",
      "Time:                        13:11:01   Log-Likelihood:                -1491.2\n",
      "No. Observations:                 689   AIC:                             2986.\n",
      "Df Residuals:                     687   BIC:                             2996.\n",
      "Df Model:                           1                                         \n",
      "Covariance Type:            nonrobust                                         \n",
      "=================================================================================\n",
      "                    coef    std err          t      P>|t|      [0.025      0.975]\n",
      "---------------------------------------------------------------------------------\n",
      "Intercept         0.1796      0.081      2.225      0.026       0.021       0.338\n",
      "retu.shift(1)     0.0589      0.038      1.549      0.122      -0.016       0.134\n",
      "==============================================================================\n",
      "Omnibus:                      114.206   Durbin-Watson:                   1.997\n",
      "Prob(Omnibus):                  0.000   Jarque-Bera (JB):              646.991\n",
      "Skew:                          -0.598   Prob(JB):                    3.22e-141\n",
      "Kurtosis:                       7.594   Cond. No.                         2.14\n",
      "==============================================================================\n",
      "\n",
      "Warnings:\n",
      "[1] Standard Errors assume that the covariance matrix of the errors is correctly specified.\n"
     ]
    }
   ],
   "source": [
    "regdfej11_4 = smf.ols('retu ~  retu.shift(1) ', data = dfej11_4).fit()\n",
    "print(regdfej11_4.summary())"
   ]
  },
  {
   "cell_type": "code",
   "execution_count": null,
   "metadata": {},
   "outputs": [],
   "source": [
    "# H0 : beta1 = 0 , no puede rechazarse \n",
    "# El coeficiente de 0.0589 da una ligera correlación en return , pero no basta para rechazar la HME"
   ]
  },
  {
   "cell_type": "code",
   "execution_count": null,
   "metadata": {},
   "outputs": [],
   "source": [
    "# Para ver si return está correlacionado con los rendimientos de dos semanas atrás, es decir un AR(2)"
   ]
  },
  {
   "cell_type": "markdown",
   "metadata": {},
   "source": [
    "$$ y_{t} = \\beta_{0}+\\beta_{1} y_{t-1}+\\beta_{2} y_{t-2} + \\mu_{t}  $$"
   ]
  },
  {
   "cell_type": "markdown",
   "metadata": {},
   "source": [
    "$$E(u_{t}|y_{t-1},y_{t-2},... ) = 0 $$"
   ]
  },
  {
   "cell_type": "code",
   "execution_count": null,
   "metadata": {},
   "outputs": [],
   "source": [
    "# Se necesitarían condiciones de estabilidad de los beta, para qeu AR(2) sea débilmente dependiente, pero para el ejemplo\n",
    "# la H0 es "
   ]
  },
  {
   "cell_type": "markdown",
   "metadata": {},
   "source": [
    "$$ H_{0}: \\beta_{1} = \\beta_{2} = 0  $$"
   ]
  },
  {
   "cell_type": "code",
   "execution_count": 8,
   "metadata": {},
   "outputs": [],
   "source": [
    "# Además se debe suponer igual que antes la homocedasticidad y con ello\n",
    "# se pueden hacer los test usuales, t, y F"
   ]
  },
  {
   "cell_type": "code",
   "execution_count": 7,
   "metadata": {},
   "outputs": [
    {
     "name": "stdout",
     "output_type": "stream",
     "text": [
      "                            OLS Regression Results                            \n",
      "==============================================================================\n",
      "Dep. Variable:                   retu   R-squared:                       0.005\n",
      "Model:                            OLS   Adj. R-squared:                  0.002\n",
      "Method:                 Least Squares   F-statistic:                     1.659\n",
      "Date:                Wed, 05 Aug 2020   Prob (F-statistic):              0.191\n",
      "Time:                        20:33:06   Log-Likelihood:                -1489.0\n",
      "No. Observations:                 688   AIC:                             2984.\n",
      "Df Residuals:                     685   BIC:                             2998.\n",
      "Df Model:                           2                                         \n",
      "Covariance Type:            nonrobust                                         \n",
      "=================================================================================\n",
      "                    coef    std err          t      P>|t|      [0.025      0.975]\n",
      "---------------------------------------------------------------------------------\n",
      "Intercept         0.1857      0.081      2.289      0.022       0.026       0.345\n",
      "retu.shift(1)     0.0603      0.038      1.580      0.115      -0.015       0.135\n",
      "retu.shift(2)    -0.0381      0.038     -0.998      0.319      -0.113       0.037\n",
      "==============================================================================\n",
      "Omnibus:                      117.320   Durbin-Watson:                   1.998\n",
      "Prob(Omnibus):                  0.000   Jarque-Bera (JB):              652.237\n",
      "Skew:                          -0.627   Prob(JB):                    2.34e-142\n",
      "Kurtosis:                       7.602   Cond. No.                         2.22\n",
      "==============================================================================\n",
      "\n",
      "Warnings:\n",
      "[1] Standard Errors assume that the covariance matrix of the errors is correctly specified.\n"
     ]
    }
   ],
   "source": [
    "regdfej11_4a = smf.ols('retu ~  retu.shift(1) + retu.shift(2)', data = dfej11_4).fit()\n",
    "print(regdfej11_4a.summary())"
   ]
  },
  {
   "cell_type": "code",
   "execution_count": null,
   "metadata": {},
   "outputs": [],
   "source": [
    "# Comentario : No son significativos los coeficientes de los rezagos, y el R2 indica que tampoco conjuntamente\n",
    "# El F , test de significatividad conjunta da 1,659, con un p = 0.191, es decir no se rechaza la H0 de significatividad conjunta"
   ]
  },
  {
   "cell_type": "code",
   "execution_count": null,
   "metadata": {},
   "outputs": [],
   "source": []
  },
  {
   "cell_type": "markdown",
   "metadata": {},
   "source": [
    "## Ejemplo 11.5 La curva de Phillips aumentada con expectativas (phillips.dta)"
   ]
  },
  {
   "cell_type": "markdown",
   "metadata": {},
   "source": [
    "$$ inf_{t} - inf_{t}^{e} = \\beta_{1} (unemp_{t} - \\mu_{0}) + e_{t}$$"
   ]
  },
  {
   "cell_type": "code",
   "execution_count": 9,
   "metadata": {},
   "outputs": [],
   "source": [
    "# la inflacion esperada se genera en el período t-1 , mu0 es la tasa natural de desempleo\n",
    "# se modela la inflación no anticipada , en función del desempleo cíclico, más una perturbación de oferta (et), suponiendo \n",
    "# beta1 < 0 \n",
    "# Se completa el modelo con una hipótesis de expectativa simple, adaptativa , con la inflación esperada igual a la inflación \n",
    "# oservada en t-1"
   ]
  },
  {
   "cell_type": "markdown",
   "metadata": {},
   "source": [
    "$$ \\Delta inf_{t}= inf_{t} - inf_{t-1} = \\beta_{0} + \\beta_{1} unemp_{t}  + e_{t}$$"
   ]
  },
  {
   "cell_type": "markdown",
   "metadata": {},
   "source": [
    "$$ \\beta_{0} = - \\beta_{1} \\mu_{0}$$"
   ]
  },
  {
   "cell_type": "code",
   "execution_count": null,
   "metadata": {},
   "outputs": [],
   "source": [
    "# Entonces, queda relacionada la variación de la inflación con el nivel de desempleo y una perturbación de oferta\n",
    "# Se supone habitualmente que et está incorrelacionado con unemt\n",
    "# Entonces las estimaciones son consistentes con MCO\n",
    "# no necesita suponerse que por ejemplo et no afecte unem en periodos futuros"
   ]
  },
  {
   "cell_type": "code",
   "execution_count": 5,
   "metadata": {},
   "outputs": [
    {
     "data": {
      "text/html": [
       "<div>\n",
       "<style scoped>\n",
       "    .dataframe tbody tr th:only-of-type {\n",
       "        vertical-align: middle;\n",
       "    }\n",
       "\n",
       "    .dataframe tbody tr th {\n",
       "        vertical-align: top;\n",
       "    }\n",
       "\n",
       "    .dataframe thead th {\n",
       "        text-align: right;\n",
       "    }\n",
       "</style>\n",
       "<table border=\"1\" class=\"dataframe\">\n",
       "  <thead>\n",
       "    <tr style=\"text-align: right;\">\n",
       "      <th></th>\n",
       "      <th>year</th>\n",
       "      <th>unem</th>\n",
       "      <th>inf</th>\n",
       "      <th>unem_1</th>\n",
       "      <th>inf_1</th>\n",
       "      <th>unem_2</th>\n",
       "      <th>inf_2</th>\n",
       "      <th>cunem</th>\n",
       "      <th>cinf</th>\n",
       "      <th>cunem_1</th>\n",
       "      <th>cinf_1</th>\n",
       "    </tr>\n",
       "  </thead>\n",
       "  <tbody>\n",
       "    <tr>\n",
       "      <th>0</th>\n",
       "      <td>1948</td>\n",
       "      <td>3.8</td>\n",
       "      <td>8.1</td>\n",
       "      <td>NaN</td>\n",
       "      <td>NaN</td>\n",
       "      <td>NaN</td>\n",
       "      <td>NaN</td>\n",
       "      <td>NaN</td>\n",
       "      <td>NaN</td>\n",
       "      <td>NaN</td>\n",
       "      <td>NaN</td>\n",
       "    </tr>\n",
       "    <tr>\n",
       "      <th>1</th>\n",
       "      <td>1949</td>\n",
       "      <td>5.9</td>\n",
       "      <td>-1.2</td>\n",
       "      <td>3.8</td>\n",
       "      <td>8.1</td>\n",
       "      <td>NaN</td>\n",
       "      <td>NaN</td>\n",
       "      <td>2.1</td>\n",
       "      <td>-9.3</td>\n",
       "      <td>NaN</td>\n",
       "      <td>NaN</td>\n",
       "    </tr>\n",
       "    <tr>\n",
       "      <th>2</th>\n",
       "      <td>1950</td>\n",
       "      <td>5.3</td>\n",
       "      <td>1.3</td>\n",
       "      <td>5.9</td>\n",
       "      <td>-1.2</td>\n",
       "      <td>3.8</td>\n",
       "      <td>8.1</td>\n",
       "      <td>-0.6</td>\n",
       "      <td>2.5</td>\n",
       "      <td>2.1</td>\n",
       "      <td>-9.3</td>\n",
       "    </tr>\n",
       "    <tr>\n",
       "      <th>3</th>\n",
       "      <td>1951</td>\n",
       "      <td>3.3</td>\n",
       "      <td>7.9</td>\n",
       "      <td>5.3</td>\n",
       "      <td>1.3</td>\n",
       "      <td>5.9</td>\n",
       "      <td>-1.2</td>\n",
       "      <td>-2.0</td>\n",
       "      <td>6.6</td>\n",
       "      <td>-0.6</td>\n",
       "      <td>2.5</td>\n",
       "    </tr>\n",
       "    <tr>\n",
       "      <th>4</th>\n",
       "      <td>1952</td>\n",
       "      <td>3.0</td>\n",
       "      <td>1.9</td>\n",
       "      <td>3.3</td>\n",
       "      <td>7.9</td>\n",
       "      <td>5.3</td>\n",
       "      <td>1.3</td>\n",
       "      <td>-0.3</td>\n",
       "      <td>-6.0</td>\n",
       "      <td>-2.0</td>\n",
       "      <td>6.6</td>\n",
       "    </tr>\n",
       "  </tbody>\n",
       "</table>\n",
       "</div>"
      ],
      "text/plain": [
       "   year  unem  inf  unem_1  inf_1  unem_2  inf_2  cunem  cinf  cunem_1  cinf_1\n",
       "0  1948   3.8  8.1     NaN    NaN     NaN    NaN    NaN   NaN      NaN     NaN\n",
       "1  1949   5.9 -1.2     3.8    8.1     NaN    NaN    2.1  -9.3      NaN     NaN\n",
       "2  1950   5.3  1.3     5.9   -1.2     3.8    8.1   -0.6   2.5      2.1    -9.3\n",
       "3  1951   3.3  7.9     5.3    1.3     5.9   -1.2   -2.0   6.6     -0.6     2.5\n",
       "4  1952   3.0  1.9     3.3    7.9     5.3    1.3   -0.3  -6.0     -2.0     6.6"
      ]
     },
     "execution_count": 5,
     "metadata": {},
     "output_type": "execute_result"
    }
   ],
   "source": [
    "dfej11_5 = pd.read_stata('phillips.dta')\n",
    "dfej11_5.head()"
   ]
  },
  {
   "cell_type": "code",
   "execution_count": 6,
   "metadata": {},
   "outputs": [],
   "source": [
    "inflation = dfej11_5.inf"
   ]
  },
  {
   "cell_type": "code",
   "execution_count": 7,
   "metadata": {},
   "outputs": [
    {
     "name": "stdout",
     "output_type": "stream",
     "text": [
      "                            OLS Regression Results                            \n",
      "==============================================================================\n",
      "Dep. Variable:       inflation.diff()   R-squared:                       0.108\n",
      "Model:                            OLS   Adj. R-squared:                  0.088\n",
      "Method:                 Least Squares   F-statistic:                     5.558\n",
      "Date:                Thu, 16 Jul 2020   Prob (F-statistic):             0.0227\n",
      "Time:                        13:11:02   Log-Likelihood:                -110.12\n",
      "No. Observations:                  48   AIC:                             224.2\n",
      "Df Residuals:                      46   BIC:                             228.0\n",
      "Df Model:                           1                                         \n",
      "Covariance Type:            nonrobust                                         \n",
      "==============================================================================\n",
      "                 coef    std err          t      P>|t|      [0.025      0.975]\n",
      "------------------------------------------------------------------------------\n",
      "Intercept      3.0306      1.377      2.201      0.033       0.259       5.802\n",
      "unem          -0.5426      0.230     -2.357      0.023      -1.006      -0.079\n",
      "==============================================================================\n",
      "Omnibus:                       22.805   Durbin-Watson:                   1.770\n",
      "Prob(Omnibus):                  0.000   Jarque-Bera (JB):               52.071\n",
      "Skew:                          -1.239   Prob(JB):                     4.93e-12\n",
      "Kurtosis:                       7.460   Cond. No.                         23.9\n",
      "==============================================================================\n",
      "\n",
      "Warnings:\n",
      "[1] Standard Errors assume that the covariance matrix of the errors is correctly specified.\n"
     ]
    }
   ],
   "source": [
    "regdfej11_5 = smf.ols('inflation.diff() ~  unem ', data = dfej11_5).fit()\n",
    "print(regdfej11_5.summary())"
   ]
  },
  {
   "cell_type": "code",
   "execution_count": null,
   "metadata": {},
   "outputs": [],
   "source": [
    "# Comentarios\n",
    "\n",
    "\n",
    "\n"
   ]
  },
  {
   "cell_type": "markdown",
   "metadata": {},
   "source": [
    "## Ejemplo 11.6 Ecuación de fertilidad (fertil3.dta)"
   ]
  },
  {
   "cell_type": "code",
   "execution_count": 2,
   "metadata": {},
   "outputs": [
    {
     "data": {
      "text/html": [
       "<div>\n",
       "<style scoped>\n",
       "    .dataframe tbody tr th:only-of-type {\n",
       "        vertical-align: middle;\n",
       "    }\n",
       "\n",
       "    .dataframe tbody tr th {\n",
       "        vertical-align: top;\n",
       "    }\n",
       "\n",
       "    .dataframe thead th {\n",
       "        text-align: right;\n",
       "    }\n",
       "</style>\n",
       "<table border=\"1\" class=\"dataframe\">\n",
       "  <thead>\n",
       "    <tr style=\"text-align: right;\">\n",
       "      <th></th>\n",
       "      <th>gfr</th>\n",
       "      <th>pe</th>\n",
       "      <th>year</th>\n",
       "      <th>t</th>\n",
       "      <th>tsq</th>\n",
       "      <th>pe_1</th>\n",
       "      <th>pe_2</th>\n",
       "      <th>pe_3</th>\n",
       "      <th>pe_4</th>\n",
       "      <th>pill</th>\n",
       "      <th>...</th>\n",
       "      <th>cpe_1</th>\n",
       "      <th>cpe_2</th>\n",
       "      <th>cpe_3</th>\n",
       "      <th>cpe_4</th>\n",
       "      <th>gfr_1</th>\n",
       "      <th>cgfr_1</th>\n",
       "      <th>cgfr_2</th>\n",
       "      <th>cgfr_3</th>\n",
       "      <th>cgfr_4</th>\n",
       "      <th>gfr_2</th>\n",
       "    </tr>\n",
       "  </thead>\n",
       "  <tbody>\n",
       "    <tr>\n",
       "      <th>0</th>\n",
       "      <td>124.699997</td>\n",
       "      <td>0.00</td>\n",
       "      <td>1913</td>\n",
       "      <td>1</td>\n",
       "      <td>1</td>\n",
       "      <td>NaN</td>\n",
       "      <td>NaN</td>\n",
       "      <td>NaN</td>\n",
       "      <td>NaN</td>\n",
       "      <td>0</td>\n",
       "      <td>...</td>\n",
       "      <td>NaN</td>\n",
       "      <td>NaN</td>\n",
       "      <td>NaN</td>\n",
       "      <td>NaN</td>\n",
       "      <td>NaN</td>\n",
       "      <td>NaN</td>\n",
       "      <td>NaN</td>\n",
       "      <td>NaN</td>\n",
       "      <td>NaN</td>\n",
       "      <td>NaN</td>\n",
       "    </tr>\n",
       "    <tr>\n",
       "      <th>1</th>\n",
       "      <td>126.599998</td>\n",
       "      <td>0.00</td>\n",
       "      <td>1914</td>\n",
       "      <td>2</td>\n",
       "      <td>4</td>\n",
       "      <td>0.0</td>\n",
       "      <td>NaN</td>\n",
       "      <td>NaN</td>\n",
       "      <td>NaN</td>\n",
       "      <td>0</td>\n",
       "      <td>...</td>\n",
       "      <td>NaN</td>\n",
       "      <td>NaN</td>\n",
       "      <td>NaN</td>\n",
       "      <td>NaN</td>\n",
       "      <td>124.699997</td>\n",
       "      <td>NaN</td>\n",
       "      <td>NaN</td>\n",
       "      <td>NaN</td>\n",
       "      <td>NaN</td>\n",
       "      <td>NaN</td>\n",
       "    </tr>\n",
       "    <tr>\n",
       "      <th>2</th>\n",
       "      <td>125.000000</td>\n",
       "      <td>0.00</td>\n",
       "      <td>1915</td>\n",
       "      <td>3</td>\n",
       "      <td>9</td>\n",
       "      <td>0.0</td>\n",
       "      <td>0.0</td>\n",
       "      <td>NaN</td>\n",
       "      <td>NaN</td>\n",
       "      <td>0</td>\n",
       "      <td>...</td>\n",
       "      <td>0.0</td>\n",
       "      <td>NaN</td>\n",
       "      <td>NaN</td>\n",
       "      <td>NaN</td>\n",
       "      <td>126.599998</td>\n",
       "      <td>1.900002</td>\n",
       "      <td>NaN</td>\n",
       "      <td>NaN</td>\n",
       "      <td>NaN</td>\n",
       "      <td>124.699997</td>\n",
       "    </tr>\n",
       "    <tr>\n",
       "      <th>3</th>\n",
       "      <td>123.400002</td>\n",
       "      <td>0.00</td>\n",
       "      <td>1916</td>\n",
       "      <td>4</td>\n",
       "      <td>16</td>\n",
       "      <td>0.0</td>\n",
       "      <td>0.0</td>\n",
       "      <td>0.0</td>\n",
       "      <td>NaN</td>\n",
       "      <td>0</td>\n",
       "      <td>...</td>\n",
       "      <td>0.0</td>\n",
       "      <td>0.0</td>\n",
       "      <td>NaN</td>\n",
       "      <td>NaN</td>\n",
       "      <td>125.000000</td>\n",
       "      <td>-1.599998</td>\n",
       "      <td>1.900002</td>\n",
       "      <td>NaN</td>\n",
       "      <td>NaN</td>\n",
       "      <td>126.599998</td>\n",
       "    </tr>\n",
       "    <tr>\n",
       "      <th>4</th>\n",
       "      <td>121.000000</td>\n",
       "      <td>19.27</td>\n",
       "      <td>1917</td>\n",
       "      <td>5</td>\n",
       "      <td>25</td>\n",
       "      <td>0.0</td>\n",
       "      <td>0.0</td>\n",
       "      <td>0.0</td>\n",
       "      <td>0.0</td>\n",
       "      <td>0</td>\n",
       "      <td>...</td>\n",
       "      <td>0.0</td>\n",
       "      <td>0.0</td>\n",
       "      <td>0.0</td>\n",
       "      <td>NaN</td>\n",
       "      <td>123.400002</td>\n",
       "      <td>-1.599998</td>\n",
       "      <td>-1.599998</td>\n",
       "      <td>1.900002</td>\n",
       "      <td>NaN</td>\n",
       "      <td>125.000000</td>\n",
       "    </tr>\n",
       "  </tbody>\n",
       "</table>\n",
       "<p>5 rows × 24 columns</p>\n",
       "</div>"
      ],
      "text/plain": [
       "          gfr     pe  year  t  tsq  pe_1  pe_2  pe_3  pe_4  pill  ...  cpe_1  \\\n",
       "0  124.699997   0.00  1913  1    1   NaN   NaN   NaN   NaN     0  ...    NaN   \n",
       "1  126.599998   0.00  1914  2    4   0.0   NaN   NaN   NaN     0  ...    NaN   \n",
       "2  125.000000   0.00  1915  3    9   0.0   0.0   NaN   NaN     0  ...    0.0   \n",
       "3  123.400002   0.00  1916  4   16   0.0   0.0   0.0   NaN     0  ...    0.0   \n",
       "4  121.000000  19.27  1917  5   25   0.0   0.0   0.0   0.0     0  ...    0.0   \n",
       "\n",
       "   cpe_2  cpe_3  cpe_4       gfr_1    cgfr_1    cgfr_2    cgfr_3  cgfr_4  \\\n",
       "0    NaN    NaN    NaN         NaN       NaN       NaN       NaN     NaN   \n",
       "1    NaN    NaN    NaN  124.699997       NaN       NaN       NaN     NaN   \n",
       "2    NaN    NaN    NaN  126.599998  1.900002       NaN       NaN     NaN   \n",
       "3    0.0    NaN    NaN  125.000000 -1.599998  1.900002       NaN     NaN   \n",
       "4    0.0    0.0    NaN  123.400002 -1.599998 -1.599998  1.900002     NaN   \n",
       "\n",
       "        gfr_2  \n",
       "0         NaN  \n",
       "1         NaN  \n",
       "2  124.699997  \n",
       "3  126.599998  \n",
       "4  125.000000  \n",
       "\n",
       "[5 rows x 24 columns]"
      ]
     },
     "execution_count": 2,
     "metadata": {},
     "output_type": "execute_result"
    }
   ],
   "source": [
    "dfej11_6 = pd.read_stata('fertil3.dta')\n",
    "dfej11_6.head()"
   ]
  },
  {
   "cell_type": "code",
   "execution_count": 4,
   "metadata": {},
   "outputs": [
    {
     "data": {
      "text/plain": [
       "0.9764517033176181"
      ]
     },
     "execution_count": 4,
     "metadata": {},
     "output_type": "execute_result"
    }
   ],
   "source": [
    "dfej11_6.gfr.autocorr()"
   ]
  },
  {
   "cell_type": "code",
   "execution_count": 5,
   "metadata": {},
   "outputs": [
    {
     "data": {
      "text/plain": [
       "0.963580000367962"
      ]
     },
     "execution_count": 5,
     "metadata": {},
     "output_type": "execute_result"
    }
   ],
   "source": [
    "dfej11_6.pe.autocorr()"
   ]
  },
  {
   "cell_type": "code",
   "execution_count": 17,
   "metadata": {},
   "outputs": [
    {
     "name": "stdout",
     "output_type": "stream",
     "text": [
      "                            OLS Regression Results                            \n",
      "==============================================================================\n",
      "Dep. Variable:             gfr.diff()   R-squared:                       0.032\n",
      "Model:                            OLS   Adj. R-squared:                  0.018\n",
      "Method:                 Least Squares   F-statistic:                     2.263\n",
      "Date:                Wed, 15 Jul 2020   Prob (F-statistic):              0.137\n",
      "Time:                        22:57:18   Log-Likelihood:                -201.97\n",
      "No. Observations:                  71   AIC:                             407.9\n",
      "Df Residuals:                      69   BIC:                             412.5\n",
      "Df Model:                           1                                         \n",
      "Covariance Type:            nonrobust                                         \n",
      "==============================================================================\n",
      "                 coef    std err          t      P>|t|      [0.025      0.975]\n",
      "------------------------------------------------------------------------------\n",
      "Intercept     -0.7848      0.502     -1.563      0.123      -1.786       0.217\n",
      "pe.diff()     -0.0427      0.028     -1.504      0.137      -0.099       0.014\n",
      "==============================================================================\n",
      "Omnibus:                       13.747   Durbin-Watson:                   1.355\n",
      "Prob(Omnibus):                  0.001   Jarque-Bera (JB):               17.832\n",
      "Skew:                           0.816   Prob(JB):                     0.000134\n",
      "Kurtosis:                       4.834   Cond. No.                         17.7\n",
      "==============================================================================\n",
      "\n",
      "Warnings:\n",
      "[1] Standard Errors assume that the covariance matrix of the errors is correctly specified.\n"
     ]
    }
   ],
   "source": [
    "regdfej11_6 = smf.ols('gfr.diff() ~  pe.diff() ', data = dfej11_6).fit()\n",
    "print(regdfej11_6.summary())"
   ]
  },
  {
   "cell_type": "markdown",
   "metadata": {},
   "source": [
    "## Ejemplo 11.7 Salarios y productividad (earns.dta)"
   ]
  },
  {
   "cell_type": "code",
   "execution_count": 18,
   "metadata": {
    "scrolled": true
   },
   "outputs": [
    {
     "data": {
      "text/html": [
       "<div>\n",
       "<style scoped>\n",
       "    .dataframe tbody tr th:only-of-type {\n",
       "        vertical-align: middle;\n",
       "    }\n",
       "\n",
       "    .dataframe tbody tr th {\n",
       "        vertical-align: top;\n",
       "    }\n",
       "\n",
       "    .dataframe thead th {\n",
       "        text-align: right;\n",
       "    }\n",
       "</style>\n",
       "<table border=\"1\" class=\"dataframe\">\n",
       "  <thead>\n",
       "    <tr style=\"text-align: right;\">\n",
       "      <th></th>\n",
       "      <th>year</th>\n",
       "      <th>wkearns</th>\n",
       "      <th>wkhours</th>\n",
       "      <th>outphr</th>\n",
       "      <th>hrwage</th>\n",
       "      <th>lhrwage</th>\n",
       "      <th>loutphr</th>\n",
       "      <th>t</th>\n",
       "      <th>ghrwage</th>\n",
       "      <th>goutphr</th>\n",
       "      <th>ghrwge_1</th>\n",
       "      <th>goutph_1</th>\n",
       "      <th>goutph_2</th>\n",
       "      <th>lwkhours</th>\n",
       "    </tr>\n",
       "  </thead>\n",
       "  <tbody>\n",
       "    <tr>\n",
       "      <th>0</th>\n",
       "      <td>1947</td>\n",
       "      <td>123.519997</td>\n",
       "      <td>40.299999</td>\n",
       "      <td>51.400002</td>\n",
       "      <td>3.065012</td>\n",
       "      <td>1.120052</td>\n",
       "      <td>3.939638</td>\n",
       "      <td>1</td>\n",
       "      <td>NaN</td>\n",
       "      <td>NaN</td>\n",
       "      <td>NaN</td>\n",
       "      <td>NaN</td>\n",
       "      <td>NaN</td>\n",
       "      <td>3.696352</td>\n",
       "    </tr>\n",
       "    <tr>\n",
       "      <th>1</th>\n",
       "      <td>1948</td>\n",
       "      <td>123.430000</td>\n",
       "      <td>40.000000</td>\n",
       "      <td>53.299999</td>\n",
       "      <td>3.085750</td>\n",
       "      <td>1.126795</td>\n",
       "      <td>3.975936</td>\n",
       "      <td>2</td>\n",
       "      <td>0.006743</td>\n",
       "      <td>0.036298</td>\n",
       "      <td>NaN</td>\n",
       "      <td>NaN</td>\n",
       "      <td>NaN</td>\n",
       "      <td>3.688879</td>\n",
       "    </tr>\n",
       "    <tr>\n",
       "      <th>2</th>\n",
       "      <td>1949</td>\n",
       "      <td>127.839996</td>\n",
       "      <td>39.400002</td>\n",
       "      <td>54.200001</td>\n",
       "      <td>3.244670</td>\n",
       "      <td>1.177014</td>\n",
       "      <td>3.992681</td>\n",
       "      <td>3</td>\n",
       "      <td>0.050219</td>\n",
       "      <td>0.016745</td>\n",
       "      <td>0.006743</td>\n",
       "      <td>0.036298</td>\n",
       "      <td>NaN</td>\n",
       "      <td>3.673766</td>\n",
       "    </tr>\n",
       "    <tr>\n",
       "      <th>3</th>\n",
       "      <td>1950</td>\n",
       "      <td>133.830002</td>\n",
       "      <td>39.799999</td>\n",
       "      <td>57.700001</td>\n",
       "      <td>3.362563</td>\n",
       "      <td>1.212703</td>\n",
       "      <td>4.055257</td>\n",
       "      <td>4</td>\n",
       "      <td>0.035690</td>\n",
       "      <td>0.062576</td>\n",
       "      <td>0.050219</td>\n",
       "      <td>0.016745</td>\n",
       "      <td>0.036298</td>\n",
       "      <td>3.683867</td>\n",
       "    </tr>\n",
       "    <tr>\n",
       "      <th>4</th>\n",
       "      <td>1951</td>\n",
       "      <td>134.869995</td>\n",
       "      <td>39.900002</td>\n",
       "      <td>59.400002</td>\n",
       "      <td>3.380200</td>\n",
       "      <td>1.217935</td>\n",
       "      <td>4.084294</td>\n",
       "      <td>5</td>\n",
       "      <td>0.005231</td>\n",
       "      <td>0.029037</td>\n",
       "      <td>0.035690</td>\n",
       "      <td>0.062576</td>\n",
       "      <td>0.016745</td>\n",
       "      <td>3.686376</td>\n",
       "    </tr>\n",
       "  </tbody>\n",
       "</table>\n",
       "</div>"
      ],
      "text/plain": [
       "   year     wkearns    wkhours     outphr    hrwage   lhrwage   loutphr  t  \\\n",
       "0  1947  123.519997  40.299999  51.400002  3.065012  1.120052  3.939638  1   \n",
       "1  1948  123.430000  40.000000  53.299999  3.085750  1.126795  3.975936  2   \n",
       "2  1949  127.839996  39.400002  54.200001  3.244670  1.177014  3.992681  3   \n",
       "3  1950  133.830002  39.799999  57.700001  3.362563  1.212703  4.055257  4   \n",
       "4  1951  134.869995  39.900002  59.400002  3.380200  1.217935  4.084294  5   \n",
       "\n",
       "    ghrwage   goutphr  ghrwge_1  goutph_1  goutph_2  lwkhours  \n",
       "0       NaN       NaN       NaN       NaN       NaN  3.696352  \n",
       "1  0.006743  0.036298       NaN       NaN       NaN  3.688879  \n",
       "2  0.050219  0.016745  0.006743  0.036298       NaN  3.673766  \n",
       "3  0.035690  0.062576  0.050219  0.016745  0.036298  3.683867  \n",
       "4  0.005231  0.029037  0.035690  0.062576  0.016745  3.686376  "
      ]
     },
     "execution_count": 18,
     "metadata": {},
     "output_type": "execute_result"
    }
   ],
   "source": [
    "dfej11_7 = pd.read_stata('earns.dta')\n",
    "dfej11_7.head()"
   ]
  },
  {
   "cell_type": "code",
   "execution_count": null,
   "metadata": {},
   "outputs": [],
   "source": []
  },
  {
   "cell_type": "code",
   "execution_count": 21,
   "metadata": {},
   "outputs": [
    {
     "name": "stdout",
     "output_type": "stream",
     "text": [
      "                            OLS Regression Results                            \n",
      "==============================================================================\n",
      "Dep. Variable:         np.log(hrwage)   R-squared:                       0.971\n",
      "Model:                            OLS   Adj. R-squared:                  0.970\n",
      "Method:                 Least Squares   F-statistic:                     641.2\n",
      "Date:                Wed, 15 Jul 2020   Prob (F-statistic):           5.27e-30\n",
      "Time:                        23:01:09   Log-Likelihood:                 89.196\n",
      "No. Observations:                  41   AIC:                            -172.4\n",
      "Df Residuals:                      38   BIC:                            -167.3\n",
      "Df Model:                           2                                         \n",
      "Covariance Type:            nonrobust                                         \n",
      "==================================================================================\n",
      "                     coef    std err          t      P>|t|      [0.025      0.975]\n",
      "----------------------------------------------------------------------------------\n",
      "Intercept         -5.3285      0.374    -14.230      0.000      -6.086      -4.570\n",
      "np.log(outphr)     1.6396      0.093     17.565      0.000       1.451       1.829\n",
      "t                 -0.0182      0.002    -10.428      0.000      -0.022      -0.015\n",
      "==============================================================================\n",
      "Omnibus:                        1.119   Durbin-Watson:                   0.567\n",
      "Prob(Omnibus):                  0.572   Jarque-Bera (JB):                0.913\n",
      "Skew:                          -0.055   Prob(JB):                        0.633\n",
      "Kurtosis:                       2.277   Cond. No.                     2.12e+03\n",
      "==============================================================================\n",
      "\n",
      "Warnings:\n",
      "[1] Standard Errors assume that the covariance matrix of the errors is correctly specified.\n",
      "[2] The condition number is large, 2.12e+03. This might indicate that there are\n",
      "strong multicollinearity or other numerical problems.\n"
     ]
    }
   ],
   "source": [
    "regdfej11_7 = smf.ols('np.log(hrwage) ~  np.log(outphr) + t ', data = dfej11_7).fit()\n",
    "print(regdfej11_7.summary())"
   ]
  },
  {
   "cell_type": "markdown",
   "metadata": {},
   "source": [
    "## Ejemplo 11.8 Ecuación de fertilidad* (fertil3.dta)"
   ]
  },
  {
   "cell_type": "code",
   "execution_count": null,
   "metadata": {},
   "outputs": [],
   "source": []
  },
  {
   "cell_type": "code",
   "execution_count": null,
   "metadata": {},
   "outputs": [],
   "source": []
  },
  {
   "cell_type": "code",
   "execution_count": null,
   "metadata": {},
   "outputs": [],
   "source": []
  },
  {
   "cell_type": "code",
   "execution_count": null,
   "metadata": {},
   "outputs": [],
   "source": []
  },
  {
   "cell_type": "code",
   "execution_count": null,
   "metadata": {},
   "outputs": [],
   "source": []
  },
  {
   "cell_type": "code",
   "execution_count": null,
   "metadata": {},
   "outputs": [],
   "source": []
  },
  {
   "cell_type": "code",
   "execution_count": null,
   "metadata": {},
   "outputs": [],
   "source": []
  }
 ],
 "metadata": {
  "kernelspec": {
   "display_name": "Python 3 (ipykernel)",
   "language": "python",
   "name": "python3"
  },
  "language_info": {
   "codemirror_mode": {
    "name": "ipython",
    "version": 3
   },
   "file_extension": ".py",
   "mimetype": "text/x-python",
   "name": "python",
   "nbconvert_exporter": "python",
   "pygments_lexer": "ipython3",
   "version": "3.7.0"
  }
 },
 "nbformat": 4,
 "nbformat_minor": 2
}
