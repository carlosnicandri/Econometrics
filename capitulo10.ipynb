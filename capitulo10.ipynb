{
 "cells": [
  {
   "cell_type": "code",
   "execution_count": 1,
   "metadata": {},
   "outputs": [],
   "source": [
    "import pandas as pd\n",
    "import numpy as np\n",
    "import statsmodels.formula.api as smf\n",
    "import matplotlib.pyplot as plt\n",
    "%matplotlib inline"
   ]
  },
  {
   "cell_type": "markdown",
   "metadata": {},
   "source": [
    "## Ejemplo 10.1 Curva de Phillips estática (phillips.dta)"
   ]
  },
  {
   "cell_type": "code",
   "execution_count": 2,
   "metadata": {},
   "outputs": [
    {
     "data": {
      "text/html": [
       "<div>\n",
       "<style scoped>\n",
       "    .dataframe tbody tr th:only-of-type {\n",
       "        vertical-align: middle;\n",
       "    }\n",
       "\n",
       "    .dataframe tbody tr th {\n",
       "        vertical-align: top;\n",
       "    }\n",
       "\n",
       "    .dataframe thead th {\n",
       "        text-align: right;\n",
       "    }\n",
       "</style>\n",
       "<table border=\"1\" class=\"dataframe\">\n",
       "  <thead>\n",
       "    <tr style=\"text-align: right;\">\n",
       "      <th></th>\n",
       "      <th>year</th>\n",
       "      <th>unem</th>\n",
       "      <th>inf</th>\n",
       "      <th>unem_1</th>\n",
       "      <th>inf_1</th>\n",
       "      <th>unem_2</th>\n",
       "      <th>inf_2</th>\n",
       "      <th>cunem</th>\n",
       "      <th>cinf</th>\n",
       "      <th>cunem_1</th>\n",
       "      <th>cinf_1</th>\n",
       "    </tr>\n",
       "  </thead>\n",
       "  <tbody>\n",
       "    <tr>\n",
       "      <th>0</th>\n",
       "      <td>1948</td>\n",
       "      <td>3.8</td>\n",
       "      <td>8.1</td>\n",
       "      <td>NaN</td>\n",
       "      <td>NaN</td>\n",
       "      <td>NaN</td>\n",
       "      <td>NaN</td>\n",
       "      <td>NaN</td>\n",
       "      <td>NaN</td>\n",
       "      <td>NaN</td>\n",
       "      <td>NaN</td>\n",
       "    </tr>\n",
       "    <tr>\n",
       "      <th>1</th>\n",
       "      <td>1949</td>\n",
       "      <td>5.9</td>\n",
       "      <td>-1.2</td>\n",
       "      <td>3.8</td>\n",
       "      <td>8.1</td>\n",
       "      <td>NaN</td>\n",
       "      <td>NaN</td>\n",
       "      <td>2.1</td>\n",
       "      <td>-9.3</td>\n",
       "      <td>NaN</td>\n",
       "      <td>NaN</td>\n",
       "    </tr>\n",
       "    <tr>\n",
       "      <th>2</th>\n",
       "      <td>1950</td>\n",
       "      <td>5.3</td>\n",
       "      <td>1.3</td>\n",
       "      <td>5.9</td>\n",
       "      <td>-1.2</td>\n",
       "      <td>3.8</td>\n",
       "      <td>8.1</td>\n",
       "      <td>-0.6</td>\n",
       "      <td>2.5</td>\n",
       "      <td>2.1</td>\n",
       "      <td>-9.3</td>\n",
       "    </tr>\n",
       "    <tr>\n",
       "      <th>3</th>\n",
       "      <td>1951</td>\n",
       "      <td>3.3</td>\n",
       "      <td>7.9</td>\n",
       "      <td>5.3</td>\n",
       "      <td>1.3</td>\n",
       "      <td>5.9</td>\n",
       "      <td>-1.2</td>\n",
       "      <td>-2.0</td>\n",
       "      <td>6.6</td>\n",
       "      <td>-0.6</td>\n",
       "      <td>2.5</td>\n",
       "    </tr>\n",
       "    <tr>\n",
       "      <th>4</th>\n",
       "      <td>1952</td>\n",
       "      <td>3.0</td>\n",
       "      <td>1.9</td>\n",
       "      <td>3.3</td>\n",
       "      <td>7.9</td>\n",
       "      <td>5.3</td>\n",
       "      <td>1.3</td>\n",
       "      <td>-0.3</td>\n",
       "      <td>-6.0</td>\n",
       "      <td>-2.0</td>\n",
       "      <td>6.6</td>\n",
       "    </tr>\n",
       "  </tbody>\n",
       "</table>\n",
       "</div>"
      ],
      "text/plain": [
       "   year  unem  inf  unem_1  inf_1  unem_2  inf_2  cunem  cinf  cunem_1  cinf_1\n",
       "0  1948   3.8  8.1     NaN    NaN     NaN    NaN    NaN   NaN      NaN     NaN\n",
       "1  1949   5.9 -1.2     3.8    8.1     NaN    NaN    2.1  -9.3      NaN     NaN\n",
       "2  1950   5.3  1.3     5.9   -1.2     3.8    8.1   -0.6   2.5      2.1    -9.3\n",
       "3  1951   3.3  7.9     5.3    1.3     5.9   -1.2   -2.0   6.6     -0.6     2.5\n",
       "4  1952   3.0  1.9     3.3    7.9     5.3    1.3   -0.3  -6.0     -2.0     6.6"
      ]
     },
     "execution_count": 2,
     "metadata": {},
     "output_type": "execute_result"
    }
   ],
   "source": [
    "dfej10_1 = pd.read_stata('phillips.dta')\n",
    "dfej10_1.head()"
   ]
  },
  {
   "cell_type": "code",
   "execution_count": 12,
   "metadata": {},
   "outputs": [],
   "source": [
    "# Creo la serie, para no cambiar el nombre a la base, y porque la regresión no permite el nombre \"inf\", por ser un código \n",
    "# en patsy\n",
    "inflation = dfej10_1.inf"
   ]
  },
  {
   "cell_type": "code",
   "execution_count": null,
   "metadata": {},
   "outputs": [],
   "source": []
  },
  {
   "cell_type": "code",
   "execution_count": 11,
   "metadata": {},
   "outputs": [
    {
     "name": "stdout",
     "output_type": "stream",
     "text": [
      "                            OLS Regression Results                            \n",
      "==============================================================================\n",
      "Dep. Variable:              inflation   R-squared:                       0.053\n",
      "Model:                            OLS   Adj. R-squared:                  0.033\n",
      "Method:                 Least Squares   F-statistic:                     2.616\n",
      "Date:                Wed, 15 Jul 2020   Prob (F-statistic):              0.112\n",
      "Time:                        18:57:19   Log-Likelihood:                -124.43\n",
      "No. Observations:                  49   AIC:                             252.9\n",
      "Df Residuals:                      47   BIC:                             256.6\n",
      "Df Model:                           1                                         \n",
      "Covariance Type:            nonrobust                                         \n",
      "==============================================================================\n",
      "                 coef    std err          t      P>|t|      [0.025      0.975]\n",
      "------------------------------------------------------------------------------\n",
      "Intercept      1.4236      1.719      0.828      0.412      -2.035       4.882\n",
      "unem           0.4676      0.289      1.617      0.112      -0.114       1.049\n",
      "==============================================================================\n",
      "Omnibus:                        8.905   Durbin-Watson:                   0.803\n",
      "Prob(Omnibus):                  0.012   Jarque-Bera (JB):                8.336\n",
      "Skew:                           0.979   Prob(JB):                       0.0155\n",
      "Kurtosis:                       3.502   Cond. No.                         23.5\n",
      "==============================================================================\n",
      "\n",
      "Warnings:\n",
      "[1] Standard Errors assume that the covariance matrix of the errors is correctly specified.\n"
     ]
    }
   ],
   "source": [
    "regdfej10_1 = smf.ols('inflation ~  unem ', data = dfej10_1).fit()\n",
    "print(regdfej10_1.summary())"
   ]
  },
  {
   "cell_type": "code",
   "execution_count": null,
   "metadata": {},
   "outputs": [],
   "source": [
    "# Comentarios : No sugiere el trade oof pues el signo de unem es positivo. Igualmente el p-value no es bueno\n",
    "# El problema es que no se cumplen los supuestos del MCO. Veremos en Ejemplo 12.1 que hay autocorrelación, que invalidan los \n",
    "# los errores estándar y los t\n",
    "# Además desde la teoría el modelo se critica con el modelo aumentado con expectativas"
   ]
  },
  {
   "cell_type": "markdown",
   "metadata": {},
   "source": [
    "## Ejemplo 10.2 Efectos de la inflación y los déficits sobre los tipos de intcrés (intdef.dta)"
   ]
  },
  {
   "cell_type": "code",
   "execution_count": 13,
   "metadata": {},
   "outputs": [
    {
     "data": {
      "text/html": [
       "<div>\n",
       "<style scoped>\n",
       "    .dataframe tbody tr th:only-of-type {\n",
       "        vertical-align: middle;\n",
       "    }\n",
       "\n",
       "    .dataframe tbody tr th {\n",
       "        vertical-align: top;\n",
       "    }\n",
       "\n",
       "    .dataframe thead th {\n",
       "        text-align: right;\n",
       "    }\n",
       "</style>\n",
       "<table border=\"1\" class=\"dataframe\">\n",
       "  <thead>\n",
       "    <tr style=\"text-align: right;\">\n",
       "      <th></th>\n",
       "      <th>year</th>\n",
       "      <th>i3</th>\n",
       "      <th>inf</th>\n",
       "      <th>rec</th>\n",
       "      <th>out</th>\n",
       "      <th>def</th>\n",
       "      <th>i3_1</th>\n",
       "      <th>inf_1</th>\n",
       "      <th>def_1</th>\n",
       "      <th>ci3</th>\n",
       "      <th>cinf</th>\n",
       "      <th>cdef</th>\n",
       "      <th>y77</th>\n",
       "    </tr>\n",
       "  </thead>\n",
       "  <tbody>\n",
       "    <tr>\n",
       "      <th>0</th>\n",
       "      <td>1948</td>\n",
       "      <td>1.04</td>\n",
       "      <td>8.1</td>\n",
       "      <td>16.4</td>\n",
       "      <td>11.7</td>\n",
       "      <td>-4.700000</td>\n",
       "      <td>NaN</td>\n",
       "      <td>NaN</td>\n",
       "      <td>NaN</td>\n",
       "      <td>NaN</td>\n",
       "      <td>NaN</td>\n",
       "      <td>NaN</td>\n",
       "      <td>0</td>\n",
       "    </tr>\n",
       "    <tr>\n",
       "      <th>1</th>\n",
       "      <td>1949</td>\n",
       "      <td>1.10</td>\n",
       "      <td>-1.2</td>\n",
       "      <td>14.6</td>\n",
       "      <td>14.4</td>\n",
       "      <td>-0.200001</td>\n",
       "      <td>1.04</td>\n",
       "      <td>8.1</td>\n",
       "      <td>-4.700000</td>\n",
       "      <td>0.06</td>\n",
       "      <td>-9.3</td>\n",
       "      <td>4.499999</td>\n",
       "      <td>0</td>\n",
       "    </tr>\n",
       "    <tr>\n",
       "      <th>2</th>\n",
       "      <td>1950</td>\n",
       "      <td>1.22</td>\n",
       "      <td>1.3</td>\n",
       "      <td>14.5</td>\n",
       "      <td>15.6</td>\n",
       "      <td>1.100000</td>\n",
       "      <td>1.10</td>\n",
       "      <td>-1.2</td>\n",
       "      <td>-0.200001</td>\n",
       "      <td>0.12</td>\n",
       "      <td>2.5</td>\n",
       "      <td>1.300001</td>\n",
       "      <td>0</td>\n",
       "    </tr>\n",
       "    <tr>\n",
       "      <th>3</th>\n",
       "      <td>1951</td>\n",
       "      <td>1.55</td>\n",
       "      <td>7.9</td>\n",
       "      <td>16.1</td>\n",
       "      <td>14.2</td>\n",
       "      <td>-1.900001</td>\n",
       "      <td>1.22</td>\n",
       "      <td>1.3</td>\n",
       "      <td>1.100000</td>\n",
       "      <td>0.33</td>\n",
       "      <td>6.6</td>\n",
       "      <td>-3.000001</td>\n",
       "      <td>0</td>\n",
       "    </tr>\n",
       "    <tr>\n",
       "      <th>4</th>\n",
       "      <td>1952</td>\n",
       "      <td>1.77</td>\n",
       "      <td>1.9</td>\n",
       "      <td>18.9</td>\n",
       "      <td>19.4</td>\n",
       "      <td>0.500000</td>\n",
       "      <td>1.55</td>\n",
       "      <td>7.9</td>\n",
       "      <td>-1.900001</td>\n",
       "      <td>0.22</td>\n",
       "      <td>-6.0</td>\n",
       "      <td>2.400001</td>\n",
       "      <td>0</td>\n",
       "    </tr>\n",
       "  </tbody>\n",
       "</table>\n",
       "</div>"
      ],
      "text/plain": [
       "   year    i3  inf   rec   out       def  i3_1  inf_1     def_1   ci3  cinf  \\\n",
       "0  1948  1.04  8.1  16.4  11.7 -4.700000   NaN    NaN       NaN   NaN   NaN   \n",
       "1  1949  1.10 -1.2  14.6  14.4 -0.200001  1.04    8.1 -4.700000  0.06  -9.3   \n",
       "2  1950  1.22  1.3  14.5  15.6  1.100000  1.10   -1.2 -0.200001  0.12   2.5   \n",
       "3  1951  1.55  7.9  16.1  14.2 -1.900001  1.22    1.3  1.100000  0.33   6.6   \n",
       "4  1952  1.77  1.9  18.9  19.4  0.500000  1.55    7.9 -1.900001  0.22  -6.0   \n",
       "\n",
       "       cdef  y77  \n",
       "0       NaN    0  \n",
       "1  4.499999    0  \n",
       "2  1.300001    0  \n",
       "3 -3.000001    0  \n",
       "4  2.400001    0  "
      ]
     },
     "execution_count": 13,
     "metadata": {},
     "output_type": "execute_result"
    }
   ],
   "source": [
    "dfej10_2 = pd.read_stata('intdef.dta')\n",
    "dfej10_2.head()"
   ]
  },
  {
   "cell_type": "code",
   "execution_count": 16,
   "metadata": {},
   "outputs": [],
   "source": [
    "# Cambiamos el nombre pues patsy no admite\n",
    "inflation = dfej10_2.inf"
   ]
  },
  {
   "cell_type": "code",
   "execution_count": 21,
   "metadata": {},
   "outputs": [],
   "source": [
    "# Cambiamos el nombre pues patsy no admite , pero aún aca no puede usarse con .def\n",
    "deficit = dfej10_2['def']"
   ]
  },
  {
   "cell_type": "code",
   "execution_count": 22,
   "metadata": {},
   "outputs": [
    {
     "name": "stdout",
     "output_type": "stream",
     "text": [
      "                            OLS Regression Results                            \n",
      "==============================================================================\n",
      "Dep. Variable:                     i3   R-squared:                       0.696\n",
      "Model:                            OLS   Adj. R-squared:                  0.683\n",
      "Method:                 Least Squares   F-statistic:                     52.78\n",
      "Date:                Wed, 15 Jul 2020   Prob (F-statistic):           1.23e-12\n",
      "Time:                        20:15:34   Log-Likelihood:                -93.079\n",
      "No. Observations:                  49   AIC:                             192.2\n",
      "Df Residuals:                      46   BIC:                             197.8\n",
      "Df Model:                           2                                         \n",
      "Covariance Type:            nonrobust                                         \n",
      "==============================================================================\n",
      "                 coef    std err          t      P>|t|      [0.025      0.975]\n",
      "------------------------------------------------------------------------------\n",
      "Intercept      1.2520      0.442      2.835      0.007       0.363       2.141\n",
      "inflation      0.6132      0.076      8.092      0.000       0.461       0.766\n",
      "deficit        0.7004      0.118      5.932      0.000       0.463       0.938\n",
      "==============================================================================\n",
      "Omnibus:                        1.042   Durbin-Watson:                   0.914\n",
      "Prob(Omnibus):                  0.594   Jarque-Bera (JB):                0.357\n",
      "Skew:                           0.020   Prob(JB):                        0.836\n",
      "Kurtosis:                       3.416   Cond. No.                         10.3\n",
      "==============================================================================\n",
      "\n",
      "Warnings:\n",
      "[1] Standard Errors assume that the covariance matrix of the errors is correctly specified.\n"
     ]
    }
   ],
   "source": [
    "regdfej10_2 = smf.ols('i3 ~  inflation + deficit ', data = dfej10_2).fit()\n",
    "print(regdfej10_2.summary())"
   ]
  },
  {
   "cell_type": "code",
   "execution_count": null,
   "metadata": {},
   "outputs": [],
   "source": [
    "# Comentarios: Tanto inflación com odéficit, generan efecto positivo en el tipo de interés. Los coeficientes son significtivos\n",
    "# suponiendo que se cumplen los supuestos MCO"
   ]
  },
  {
   "cell_type": "markdown",
   "metadata": {},
   "source": [
    "## Ejemplo 10.3 Empleo y salario mínimo en Puerto Rico (prminwge.dta)"
   ]
  },
  {
   "cell_type": "code",
   "execution_count": 16,
   "metadata": {},
   "outputs": [
    {
     "data": {
      "text/html": [
       "<div>\n",
       "<style scoped>\n",
       "    .dataframe tbody tr th:only-of-type {\n",
       "        vertical-align: middle;\n",
       "    }\n",
       "\n",
       "    .dataframe tbody tr th {\n",
       "        vertical-align: top;\n",
       "    }\n",
       "\n",
       "    .dataframe thead th {\n",
       "        text-align: right;\n",
       "    }\n",
       "</style>\n",
       "<table border=\"1\" class=\"dataframe\">\n",
       "  <thead>\n",
       "    <tr style=\"text-align: right;\">\n",
       "      <th></th>\n",
       "      <th>year</th>\n",
       "      <th>avgmin</th>\n",
       "      <th>avgwage</th>\n",
       "      <th>kaitz</th>\n",
       "      <th>avgcov</th>\n",
       "      <th>covt</th>\n",
       "      <th>mfgwage</th>\n",
       "      <th>prdef</th>\n",
       "      <th>prepop</th>\n",
       "      <th>prepopf</th>\n",
       "      <th>...</th>\n",
       "      <th>lprunemp</th>\n",
       "      <th>lprgnp</th>\n",
       "      <th>lusgnp</th>\n",
       "      <th>lkaitz</th>\n",
       "      <th>lprun_1</th>\n",
       "      <th>lprepop</th>\n",
       "      <th>lprep_1</th>\n",
       "      <th>mincov</th>\n",
       "      <th>lmincov</th>\n",
       "      <th>lavgmin</th>\n",
       "    </tr>\n",
       "  </thead>\n",
       "  <tbody>\n",
       "    <tr>\n",
       "      <th>0</th>\n",
       "      <td>1950</td>\n",
       "      <td>0.198</td>\n",
       "      <td>0.398</td>\n",
       "      <td>0.155</td>\n",
       "      <td>0.201</td>\n",
       "      <td>0.29</td>\n",
       "      <td>0.43</td>\n",
       "      <td>0.859</td>\n",
       "      <td>0.470</td>\n",
       "      <td>0.470</td>\n",
       "      <td>...</td>\n",
       "      <td>2.734367</td>\n",
       "      <td>6.778443</td>\n",
       "      <td>7.093155</td>\n",
       "      <td>-1.864330</td>\n",
       "      <td>NaN</td>\n",
       "      <td>-0.755023</td>\n",
       "      <td>NaN</td>\n",
       "      <td>0.099995</td>\n",
       "      <td>-2.302635</td>\n",
       "      <td>-1.619488</td>\n",
       "    </tr>\n",
       "    <tr>\n",
       "      <th>1</th>\n",
       "      <td>1951</td>\n",
       "      <td>0.209</td>\n",
       "      <td>0.410</td>\n",
       "      <td>0.164</td>\n",
       "      <td>0.207</td>\n",
       "      <td>0.29</td>\n",
       "      <td>0.45</td>\n",
       "      <td>0.881</td>\n",
       "      <td>0.449</td>\n",
       "      <td>0.449</td>\n",
       "      <td>...</td>\n",
       "      <td>2.772589</td>\n",
       "      <td>6.829794</td>\n",
       "      <td>7.191580</td>\n",
       "      <td>-1.807889</td>\n",
       "      <td>-1.870803</td>\n",
       "      <td>-0.800732</td>\n",
       "      <td>-0.755023</td>\n",
       "      <td>0.105520</td>\n",
       "      <td>-2.248859</td>\n",
       "      <td>-1.565421</td>\n",
       "    </tr>\n",
       "    <tr>\n",
       "      <th>2</th>\n",
       "      <td>1952</td>\n",
       "      <td>0.225</td>\n",
       "      <td>0.421</td>\n",
       "      <td>0.180</td>\n",
       "      <td>0.226</td>\n",
       "      <td>0.29</td>\n",
       "      <td>0.48</td>\n",
       "      <td>0.953</td>\n",
       "      <td>0.434</td>\n",
       "      <td>0.434</td>\n",
       "      <td>...</td>\n",
       "      <td>2.694627</td>\n",
       "      <td>6.923530</td>\n",
       "      <td>7.229839</td>\n",
       "      <td>-1.714798</td>\n",
       "      <td>-1.832582</td>\n",
       "      <td>-0.834711</td>\n",
       "      <td>-0.800732</td>\n",
       "      <td>0.120784</td>\n",
       "      <td>-2.113753</td>\n",
       "      <td>-1.491655</td>\n",
       "    </tr>\n",
       "    <tr>\n",
       "      <th>3</th>\n",
       "      <td>1953</td>\n",
       "      <td>0.311</td>\n",
       "      <td>0.480</td>\n",
       "      <td>0.229</td>\n",
       "      <td>0.231</td>\n",
       "      <td>0.29</td>\n",
       "      <td>0.50</td>\n",
       "      <td>0.970</td>\n",
       "      <td>0.428</td>\n",
       "      <td>0.428</td>\n",
       "      <td>...</td>\n",
       "      <td>2.674149</td>\n",
       "      <td>6.985919</td>\n",
       "      <td>7.269129</td>\n",
       "      <td>-1.474033</td>\n",
       "      <td>-1.910543</td>\n",
       "      <td>-0.848632</td>\n",
       "      <td>-0.834711</td>\n",
       "      <td>0.149669</td>\n",
       "      <td>-1.899331</td>\n",
       "      <td>-1.167962</td>\n",
       "    </tr>\n",
       "    <tr>\n",
       "      <th>4</th>\n",
       "      <td>1954</td>\n",
       "      <td>0.313</td>\n",
       "      <td>0.508</td>\n",
       "      <td>0.211</td>\n",
       "      <td>0.224</td>\n",
       "      <td>0.29</td>\n",
       "      <td>0.52</td>\n",
       "      <td>1.000</td>\n",
       "      <td>0.415</td>\n",
       "      <td>0.415</td>\n",
       "      <td>...</td>\n",
       "      <td>2.727853</td>\n",
       "      <td>7.007058</td>\n",
       "      <td>7.255733</td>\n",
       "      <td>-1.555897</td>\n",
       "      <td>-1.931022</td>\n",
       "      <td>-0.879477</td>\n",
       "      <td>-0.848632</td>\n",
       "      <td>0.138016</td>\n",
       "      <td>-1.980387</td>\n",
       "      <td>-1.161552</td>\n",
       "    </tr>\n",
       "  </tbody>\n",
       "</table>\n",
       "<p>5 rows × 25 columns</p>\n",
       "</div>"
      ],
      "text/plain": [
       "   year  avgmin  avgwage  kaitz  avgcov  covt  mfgwage  prdef  prepop  \\\n",
       "0  1950   0.198    0.398  0.155   0.201  0.29     0.43  0.859   0.470   \n",
       "1  1951   0.209    0.410  0.164   0.207  0.29     0.45  0.881   0.449   \n",
       "2  1952   0.225    0.421  0.180   0.226  0.29     0.48  0.953   0.434   \n",
       "3  1953   0.311    0.480  0.229   0.231  0.29     0.50  0.970   0.428   \n",
       "4  1954   0.313    0.508  0.211   0.224  0.29     0.52  1.000   0.415   \n",
       "\n",
       "   prepopf  ...  lprunemp    lprgnp    lusgnp    lkaitz   lprun_1   lprepop  \\\n",
       "0    0.470  ...  2.734367  6.778443  7.093155 -1.864330       NaN -0.755023   \n",
       "1    0.449  ...  2.772589  6.829794  7.191580 -1.807889 -1.870803 -0.800732   \n",
       "2    0.434  ...  2.694627  6.923530  7.229839 -1.714798 -1.832582 -0.834711   \n",
       "3    0.428  ...  2.674149  6.985919  7.269129 -1.474033 -1.910543 -0.848632   \n",
       "4    0.415  ...  2.727853  7.007058  7.255733 -1.555897 -1.931022 -0.879477   \n",
       "\n",
       "    lprep_1    mincov   lmincov   lavgmin  \n",
       "0       NaN  0.099995 -2.302635 -1.619488  \n",
       "1 -0.755023  0.105520 -2.248859 -1.565421  \n",
       "2 -0.800732  0.120784 -2.113753 -1.491655  \n",
       "3 -0.834711  0.149669 -1.899331 -1.167962  \n",
       "4 -0.848632  0.138016 -1.980387 -1.161552  \n",
       "\n",
       "[5 rows x 25 columns]"
      ]
     },
     "execution_count": 16,
     "metadata": {},
     "output_type": "execute_result"
    }
   ],
   "source": [
    "dfej10_3 = pd.read_stata('prminwge.dta')\n",
    "dfej10_3.head()"
   ]
  },
  {
   "cell_type": "code",
   "execution_count": 28,
   "metadata": {},
   "outputs": [
    {
     "name": "stdout",
     "output_type": "stream",
     "text": [
      "                            OLS Regression Results                            \n",
      "==============================================================================\n",
      "Dep. Variable:         np.log(prepop)   R-squared:                       0.660\n",
      "Model:                            OLS   Adj. R-squared:                  0.641\n",
      "Method:                 Least Squares   F-statistic:                     34.04\n",
      "Date:                Thu, 23 Jul 2020   Prob (F-statistic):           6.17e-09\n",
      "Time:                        13:45:44   Log-Likelihood:                 57.376\n",
      "No. Observations:                  38   AIC:                            -108.8\n",
      "Df Residuals:                      35   BIC:                            -103.8\n",
      "Df Model:                           2                                         \n",
      "Covariance Type:            nonrobust                                         \n",
      "==================================================================================\n",
      "                     coef    std err          t      P>|t|      [0.025      0.975]\n",
      "----------------------------------------------------------------------------------\n",
      "Intercept         -1.0544      0.765     -1.378      0.177      -2.608       0.499\n",
      "np.log(mincov)    -0.1544      0.065     -2.380      0.023      -0.286      -0.023\n",
      "np.log(usgnp)     -0.0122      0.089     -0.138      0.891      -0.192       0.168\n",
      "==============================================================================\n",
      "Omnibus:                        0.079   Durbin-Watson:                   0.340\n",
      "Prob(Omnibus):                  0.961   Jarque-Bera (JB):                0.084\n",
      "Skew:                           0.073   Prob(JB):                        0.959\n",
      "Kurtosis:                       2.822   Cond. No.                         676.\n",
      "==============================================================================\n",
      "\n",
      "Warnings:\n",
      "[1] Standard Errors assume that the covariance matrix of the errors is correctly specified.\n"
     ]
    }
   ],
   "source": [
    "regdfej10_3 = smf.ols('np.log(prepop) ~  np.log(mincov) + np.log(usgnp) ', data = dfej10_3).fit()\n",
    "print(regdfej10_3.summary())"
   ]
  },
  {
   "cell_type": "code",
   "execution_count": null,
   "metadata": {},
   "outputs": [],
   "source": [
    "# Comentario: El logaritmo es muy usado para series de tiempo pues la pendiente muestra el crecimiento\n",
    "# En una regresión, log-log, el coeficiente es la elasticidad\n",
    "# La elasticidad de la tasa de empleo (prepop) respecto al índice relativo de salario mínimo (mincov) es 2.154 y significativa\n",
    "# El producto no es significtivo, pero esto cambiará al incorporar luego la tendencia"
   ]
  },
  {
   "cell_type": "markdown",
   "metadata": {},
   "source": [
    "## Ejemplo 10.4 Efectos de las exenclones fiscales sobre las tasas de fertilidad (fertil3.dta)"
   ]
  },
  {
   "cell_type": "code",
   "execution_count": 2,
   "metadata": {},
   "outputs": [
    {
     "data": {
      "text/html": [
       "<div>\n",
       "<style scoped>\n",
       "    .dataframe tbody tr th:only-of-type {\n",
       "        vertical-align: middle;\n",
       "    }\n",
       "\n",
       "    .dataframe tbody tr th {\n",
       "        vertical-align: top;\n",
       "    }\n",
       "\n",
       "    .dataframe thead th {\n",
       "        text-align: right;\n",
       "    }\n",
       "</style>\n",
       "<table border=\"1\" class=\"dataframe\">\n",
       "  <thead>\n",
       "    <tr style=\"text-align: right;\">\n",
       "      <th></th>\n",
       "      <th>gfr</th>\n",
       "      <th>pe</th>\n",
       "      <th>year</th>\n",
       "      <th>t</th>\n",
       "      <th>tsq</th>\n",
       "      <th>pe_1</th>\n",
       "      <th>pe_2</th>\n",
       "      <th>pe_3</th>\n",
       "      <th>pe_4</th>\n",
       "      <th>pill</th>\n",
       "      <th>...</th>\n",
       "      <th>cpe_1</th>\n",
       "      <th>cpe_2</th>\n",
       "      <th>cpe_3</th>\n",
       "      <th>cpe_4</th>\n",
       "      <th>gfr_1</th>\n",
       "      <th>cgfr_1</th>\n",
       "      <th>cgfr_2</th>\n",
       "      <th>cgfr_3</th>\n",
       "      <th>cgfr_4</th>\n",
       "      <th>gfr_2</th>\n",
       "    </tr>\n",
       "  </thead>\n",
       "  <tbody>\n",
       "    <tr>\n",
       "      <th>0</th>\n",
       "      <td>124.699997</td>\n",
       "      <td>0.00</td>\n",
       "      <td>1913</td>\n",
       "      <td>1</td>\n",
       "      <td>1</td>\n",
       "      <td>NaN</td>\n",
       "      <td>NaN</td>\n",
       "      <td>NaN</td>\n",
       "      <td>NaN</td>\n",
       "      <td>0</td>\n",
       "      <td>...</td>\n",
       "      <td>NaN</td>\n",
       "      <td>NaN</td>\n",
       "      <td>NaN</td>\n",
       "      <td>NaN</td>\n",
       "      <td>NaN</td>\n",
       "      <td>NaN</td>\n",
       "      <td>NaN</td>\n",
       "      <td>NaN</td>\n",
       "      <td>NaN</td>\n",
       "      <td>NaN</td>\n",
       "    </tr>\n",
       "    <tr>\n",
       "      <th>1</th>\n",
       "      <td>126.599998</td>\n",
       "      <td>0.00</td>\n",
       "      <td>1914</td>\n",
       "      <td>2</td>\n",
       "      <td>4</td>\n",
       "      <td>0.0</td>\n",
       "      <td>NaN</td>\n",
       "      <td>NaN</td>\n",
       "      <td>NaN</td>\n",
       "      <td>0</td>\n",
       "      <td>...</td>\n",
       "      <td>NaN</td>\n",
       "      <td>NaN</td>\n",
       "      <td>NaN</td>\n",
       "      <td>NaN</td>\n",
       "      <td>124.699997</td>\n",
       "      <td>NaN</td>\n",
       "      <td>NaN</td>\n",
       "      <td>NaN</td>\n",
       "      <td>NaN</td>\n",
       "      <td>NaN</td>\n",
       "    </tr>\n",
       "    <tr>\n",
       "      <th>2</th>\n",
       "      <td>125.000000</td>\n",
       "      <td>0.00</td>\n",
       "      <td>1915</td>\n",
       "      <td>3</td>\n",
       "      <td>9</td>\n",
       "      <td>0.0</td>\n",
       "      <td>0.0</td>\n",
       "      <td>NaN</td>\n",
       "      <td>NaN</td>\n",
       "      <td>0</td>\n",
       "      <td>...</td>\n",
       "      <td>0.0</td>\n",
       "      <td>NaN</td>\n",
       "      <td>NaN</td>\n",
       "      <td>NaN</td>\n",
       "      <td>126.599998</td>\n",
       "      <td>1.900002</td>\n",
       "      <td>NaN</td>\n",
       "      <td>NaN</td>\n",
       "      <td>NaN</td>\n",
       "      <td>124.699997</td>\n",
       "    </tr>\n",
       "    <tr>\n",
       "      <th>3</th>\n",
       "      <td>123.400002</td>\n",
       "      <td>0.00</td>\n",
       "      <td>1916</td>\n",
       "      <td>4</td>\n",
       "      <td>16</td>\n",
       "      <td>0.0</td>\n",
       "      <td>0.0</td>\n",
       "      <td>0.0</td>\n",
       "      <td>NaN</td>\n",
       "      <td>0</td>\n",
       "      <td>...</td>\n",
       "      <td>0.0</td>\n",
       "      <td>0.0</td>\n",
       "      <td>NaN</td>\n",
       "      <td>NaN</td>\n",
       "      <td>125.000000</td>\n",
       "      <td>-1.599998</td>\n",
       "      <td>1.900002</td>\n",
       "      <td>NaN</td>\n",
       "      <td>NaN</td>\n",
       "      <td>126.599998</td>\n",
       "    </tr>\n",
       "    <tr>\n",
       "      <th>4</th>\n",
       "      <td>121.000000</td>\n",
       "      <td>19.27</td>\n",
       "      <td>1917</td>\n",
       "      <td>5</td>\n",
       "      <td>25</td>\n",
       "      <td>0.0</td>\n",
       "      <td>0.0</td>\n",
       "      <td>0.0</td>\n",
       "      <td>0.0</td>\n",
       "      <td>0</td>\n",
       "      <td>...</td>\n",
       "      <td>0.0</td>\n",
       "      <td>0.0</td>\n",
       "      <td>0.0</td>\n",
       "      <td>NaN</td>\n",
       "      <td>123.400002</td>\n",
       "      <td>-1.599998</td>\n",
       "      <td>-1.599998</td>\n",
       "      <td>1.900002</td>\n",
       "      <td>NaN</td>\n",
       "      <td>125.000000</td>\n",
       "    </tr>\n",
       "  </tbody>\n",
       "</table>\n",
       "<p>5 rows × 24 columns</p>\n",
       "</div>"
      ],
      "text/plain": [
       "          gfr     pe  year  t  tsq  pe_1  pe_2  pe_3  pe_4  pill  ...  cpe_1  \\\n",
       "0  124.699997   0.00  1913  1    1   NaN   NaN   NaN   NaN     0  ...    NaN   \n",
       "1  126.599998   0.00  1914  2    4   0.0   NaN   NaN   NaN     0  ...    NaN   \n",
       "2  125.000000   0.00  1915  3    9   0.0   0.0   NaN   NaN     0  ...    0.0   \n",
       "3  123.400002   0.00  1916  4   16   0.0   0.0   0.0   NaN     0  ...    0.0   \n",
       "4  121.000000  19.27  1917  5   25   0.0   0.0   0.0   0.0     0  ...    0.0   \n",
       "\n",
       "   cpe_2  cpe_3  cpe_4       gfr_1    cgfr_1    cgfr_2    cgfr_3  cgfr_4  \\\n",
       "0    NaN    NaN    NaN         NaN       NaN       NaN       NaN     NaN   \n",
       "1    NaN    NaN    NaN  124.699997       NaN       NaN       NaN     NaN   \n",
       "2    NaN    NaN    NaN  126.599998  1.900002       NaN       NaN     NaN   \n",
       "3    0.0    NaN    NaN  125.000000 -1.599998  1.900002       NaN     NaN   \n",
       "4    0.0    0.0    NaN  123.400002 -1.599998 -1.599998  1.900002     NaN   \n",
       "\n",
       "        gfr_2  \n",
       "0         NaN  \n",
       "1         NaN  \n",
       "2  124.699997  \n",
       "3  126.599998  \n",
       "4  125.000000  \n",
       "\n",
       "[5 rows x 24 columns]"
      ]
     },
     "execution_count": 2,
     "metadata": {},
     "output_type": "execute_result"
    }
   ],
   "source": [
    "dfej10_4 = pd.read_stata('fertil3.dta')\n",
    "dfej10_4.head()"
   ]
  },
  {
   "cell_type": "code",
   "execution_count": 3,
   "metadata": {},
   "outputs": [
    {
     "name": "stderr",
     "output_type": "stream",
     "text": [
      "c:\\python\\lib\\site-packages\\statsmodels\\compat\\pandas.py:49: FutureWarning: The Panel class is removed from pandas. Accessing it from the top-level namespace will also be removed in the next version\n",
      "  data_klasses = (pandas.Series, pandas.DataFrame, pandas.Panel)\n"
     ]
    },
    {
     "name": "stdout",
     "output_type": "stream",
     "text": [
      "                            OLS Regression Results                            \n",
      "==============================================================================\n",
      "Dep. Variable:                    gfr   R-squared:                       0.473\n",
      "Model:                            OLS   Adj. R-squared:                  0.450\n",
      "Method:                 Least Squares   F-statistic:                     20.38\n",
      "Date:                Thu, 23 Jul 2020   Prob (F-statistic):           1.57e-09\n",
      "Time:                        11:29:24   Log-Likelihood:                -293.56\n",
      "No. Observations:                  72   AIC:                             595.1\n",
      "Df Residuals:                      68   BIC:                             604.2\n",
      "Df Model:                           3                                         \n",
      "Covariance Type:            nonrobust                                         \n",
      "==============================================================================\n",
      "                 coef    std err          t      P>|t|      [0.025      0.975]\n",
      "------------------------------------------------------------------------------\n",
      "Intercept     98.6818      3.208     30.760      0.000      92.280     105.083\n",
      "pe             0.0825      0.030      2.784      0.007       0.023       0.142\n",
      "ww2          -24.2384      7.458     -3.250      0.002     -39.121      -9.356\n",
      "pill         -31.5940      4.081     -7.742      0.000     -39.738     -23.450\n",
      "==============================================================================\n",
      "Omnibus:                        1.899   Durbin-Watson:                   0.177\n",
      "Prob(Omnibus):                  0.387   Jarque-Bera (JB):                1.349\n",
      "Skew:                           0.073   Prob(JB):                        0.509\n",
      "Kurtosis:                       2.345   Cond. No.                         525.\n",
      "==============================================================================\n",
      "\n",
      "Warnings:\n",
      "[1] Standard Errors assume that the covariance matrix of the errors is correctly specified.\n"
     ]
    }
   ],
   "source": [
    "regdfej10_4 = smf.ols('gfr ~  pe + ww2 + pill ', data = dfej10_4).fit()\n",
    "print(regdfej10_4.summary())"
   ]
  },
  {
   "cell_type": "code",
   "execution_count": 5,
   "metadata": {},
   "outputs": [
    {
     "data": {
      "text/html": [
       "<div>\n",
       "<style scoped>\n",
       "    .dataframe tbody tr th:only-of-type {\n",
       "        vertical-align: middle;\n",
       "    }\n",
       "\n",
       "    .dataframe tbody tr th {\n",
       "        vertical-align: top;\n",
       "    }\n",
       "\n",
       "    .dataframe thead th {\n",
       "        text-align: right;\n",
       "    }\n",
       "</style>\n",
       "<table border=\"1\" class=\"dataframe\">\n",
       "  <thead>\n",
       "    <tr style=\"text-align: right;\">\n",
       "      <th></th>\n",
       "      <th>gfr</th>\n",
       "      <th>pe</th>\n",
       "    </tr>\n",
       "  </thead>\n",
       "  <tbody>\n",
       "    <tr>\n",
       "      <th>count</th>\n",
       "      <td>72.000000</td>\n",
       "      <td>72.000000</td>\n",
       "    </tr>\n",
       "    <tr>\n",
       "      <th>mean</th>\n",
       "      <td>95.631943</td>\n",
       "      <td>100.401527</td>\n",
       "    </tr>\n",
       "    <tr>\n",
       "      <th>std</th>\n",
       "      <td>19.804644</td>\n",
       "      <td>65.875633</td>\n",
       "    </tr>\n",
       "    <tr>\n",
       "      <th>min</th>\n",
       "      <td>65.400002</td>\n",
       "      <td>0.000000</td>\n",
       "    </tr>\n",
       "    <tr>\n",
       "      <th>25%</th>\n",
       "      <td>78.275000</td>\n",
       "      <td>31.957500</td>\n",
       "    </tr>\n",
       "    <tr>\n",
       "      <th>50%</th>\n",
       "      <td>94.050003</td>\n",
       "      <td>121.220001</td>\n",
       "    </tr>\n",
       "    <tr>\n",
       "      <th>75%</th>\n",
       "      <td>113.450003</td>\n",
       "      <td>151.912495</td>\n",
       "    </tr>\n",
       "    <tr>\n",
       "      <th>max</th>\n",
       "      <td>126.599998</td>\n",
       "      <td>243.830002</td>\n",
       "    </tr>\n",
       "  </tbody>\n",
       "</table>\n",
       "</div>"
      ],
      "text/plain": [
       "              gfr          pe\n",
       "count   72.000000   72.000000\n",
       "mean    95.631943  100.401527\n",
       "std     19.804644   65.875633\n",
       "min     65.400002    0.000000\n",
       "25%     78.275000   31.957500\n",
       "50%     94.050003  121.220001\n",
       "75%    113.450003  151.912495\n",
       "max    126.599998  243.830002"
      ]
     },
     "execution_count": 5,
     "metadata": {},
     "output_type": "execute_result"
    }
   ],
   "source": [
    "dfej10_4[['gfr', 'pe']].describe()"
   ]
  },
  {
   "cell_type": "code",
   "execution_count": null,
   "metadata": {},
   "outputs": [],
   "source": [
    "# Comentarios : gfr es el número de nacimientos cada 1000 mujeres y pe es el monto de excensión impuesto personal\n",
    "# Se puede agregar dummies para aislar períodos específicos. En este caso ww2 es el período de la Segunda Guerra\n",
    "# El otro caso es pill que señala el momento de la disponibilidad de la pildora antocinceptiva hasta el presente\n",
    "# TOdas son significativas \n",
    "# La tasa de fertilidad fue menor durante la segunda guerra, ceteris paribus. 24 nacimientos menos cada 1000 mujeres\n",
    "# La tasa de fertilidad fue menor con la introducción de la píldora. 31 nacimientos menos cada 1000 mujeres\n",
    "# Si se aumenta en 1.2 $ la excensión de impuestos (pe), se aumenta en 1 hijo cada 1000 mujeres"
   ]
  },
  {
   "cell_type": "code",
   "execution_count": null,
   "metadata": {},
   "outputs": [],
   "source": [
    "# Es posible que la fertilidad reaccione con retardo al cambio en las excensiones impositivas? "
   ]
  },
  {
   "cell_type": "code",
   "execution_count": 11,
   "metadata": {
    "scrolled": false
   },
   "outputs": [
    {
     "name": "stdout",
     "output_type": "stream",
     "text": [
      "                            OLS Regression Results                            \n",
      "==============================================================================\n",
      "Dep. Variable:                    gfr   R-squared:                       0.499\n",
      "Model:                            OLS   Adj. R-squared:                  0.459\n",
      "Method:                 Least Squares   F-statistic:                     12.73\n",
      "Date:                Tue, 21 Jul 2020   Prob (F-statistic):           1.35e-08\n",
      "Time:                        18:29:36   Log-Likelihood:                -282.26\n",
      "No. Observations:                  70   AIC:                             576.5\n",
      "Df Residuals:                      64   BIC:                             590.0\n",
      "Df Model:                           5                                         \n",
      "Covariance Type:            nonrobust                                         \n",
      "===============================================================================\n",
      "                  coef    std err          t      P>|t|      [0.025      0.975]\n",
      "-------------------------------------------------------------------------------\n",
      "Intercept      95.8705      3.282     29.211      0.000      89.314     102.427\n",
      "pe              0.0727      0.126      0.579      0.565      -0.178       0.323\n",
      "pe.shift(1)    -0.0058      0.156     -0.037      0.970      -0.317       0.305\n",
      "pe.shift(2)     0.0338      0.126      0.268      0.790      -0.218       0.286\n",
      "ww2           -22.1265     10.732     -2.062      0.043     -43.566      -0.687\n",
      "pill          -31.3050      3.982     -7.862      0.000     -39.259     -23.351\n",
      "==============================================================================\n",
      "Omnibus:                        2.226   Durbin-Watson:                   0.189\n",
      "Prob(Omnibus):                  0.329   Jarque-Bera (JB):                1.705\n",
      "Skew:                           0.206   Prob(JB):                        0.426\n",
      "Kurtosis:                       2.356   Cond. No.                     1.31e+03\n",
      "==============================================================================\n",
      "\n",
      "Warnings:\n",
      "[1] Standard Errors assume that the covariance matrix of the errors is correctly specified.\n",
      "[2] The condition number is large, 1.31e+03. This might indicate that there are\n",
      "strong multicollinearity or other numerical problems.\n"
     ]
    }
   ],
   "source": [
    "regdfej10_4a = smf.ols('gfr ~  pe +pe.shift(1) + pe.shift(2)+ ww2 + pill ', data = dfej10_4).fit()\n",
    "print(regdfej10_4a.summary())"
   ]
  },
  {
   "cell_type": "code",
   "execution_count": null,
   "metadata": {},
   "outputs": [],
   "source": [
    "# Comentarios : El uso de los rezagos distribuidos, hace que se pierda significatividad en los coeficientes de (pe). La alta \n",
    "# correlación entre pe y sus rezagos, genera multicolinealidad ( ello hace que aumente mucho sus errores estándar, llegando \n",
    "# a ser más grandes que el coeficiente) y ello hace que se vuelvan no significativos individualmente"
   ]
  },
  {
   "cell_type": "code",
   "execution_count": null,
   "metadata": {},
   "outputs": [],
   "source": [
    "# Pero si testeamos la significatividad conjunta de pe y sus rezagos"
   ]
  },
  {
   "cell_type": "code",
   "execution_count": 16,
   "metadata": {},
   "outputs": [
    {
     "name": "stdout",
     "output_type": "stream",
     "text": [
      "fstat: 3.972964046978444\n",
      "\n",
      "fpval: 0.011652005303127788\n",
      "\n"
     ]
    }
   ],
   "source": [
    "# Test F :  H0: todos los pe tienen coeficientes = 0 :\n",
    "hipot = ['pe = 0', 'pe.shift(1)= 0', 'pe.shift(2) = 0']\n",
    "ftest = regdfej10_4a.f_test(hipot)\n",
    "fstat = ftest.statistic[0][0]\n",
    "fpval = ftest.pvalue\n",
    "print(f'fstat: {fstat}\\n')\n",
    "print(f'fpval: {fpval}\\n')"
   ]
  },
  {
   "cell_type": "code",
   "execution_count": null,
   "metadata": {},
   "outputs": [],
   "source": [
    "# Comentario : Es decir, pe tiene efecto en gfr pero no sabemos si es contemporáneo o rezagado, pues no hay estimación individual\n",
    "# adecuada "
   ]
  },
  {
   "cell_type": "code",
   "execution_count": null,
   "metadata": {},
   "outputs": [],
   "source": [
    "# Podemos ver si el efecto está en los rezagos"
   ]
  },
  {
   "cell_type": "code",
   "execution_count": 17,
   "metadata": {},
   "outputs": [
    {
     "name": "stdout",
     "output_type": "stream",
     "text": [
      "fstat1: 0.05343034560693407\n",
      "\n",
      "fpval1: 0.9480142085486636\n",
      "\n"
     ]
    }
   ],
   "source": [
    "# Test F :  H0: todos los pe rezagados tienen coeficientes = 0 :\n",
    "hipot1 = ['pe.shift(1)= 0', 'pe.shift(2) = 0']\n",
    "ftest1 = regdfej10_4a.f_test(hipot1)\n",
    "fstat1 = ftest1.statistic[0][0]\n",
    "fpval1 = ftest1.pvalue\n",
    "print(f'fstat1: {fstat1}\\n')\n",
    "print(f'fpval1: {fpval1}\\n')"
   ]
  },
  {
   "cell_type": "code",
   "execution_count": null,
   "metadata": {},
   "outputs": [],
   "source": [
    "# Comentario : Se acepta la H0 por lo que son conjuntamente no significativos los rezagos, quedando justificado el modelo \n",
    "# estático"
   ]
  },
  {
   "cell_type": "code",
   "execution_count": null,
   "metadata": {},
   "outputs": [],
   "source": [
    "# Pero podemos estimar el Efecto de Largo Plazo "
   ]
  },
  {
   "cell_type": "code",
   "execution_count": null,
   "metadata": {},
   "outputs": [],
   "source": [
    "# La propensión a largo plazo de la regresión con rezagos distribuidos es "
   ]
  },
  {
   "cell_type": "code",
   "execution_count": 18,
   "metadata": {},
   "outputs": [
    {
     "data": {
      "text/plain": [
       "0.10071909027975462"
      ]
     },
     "execution_count": 18,
     "metadata": {},
     "output_type": "execute_result"
    }
   ],
   "source": [
    "regdfej10_4a.params[1]+regdfej10_4a.params[2]+regdfej10_4a.params[3]"
   ]
  },
  {
   "cell_type": "code",
   "execution_count": null,
   "metadata": {},
   "outputs": [],
   "source": [
    "# Pero con esa regresión no tenemos error estándar"
   ]
  },
  {
   "cell_type": "markdown",
   "metadata": {},
   "source": [
    "$$Sea~la ~propensión~a ~ largo  ~~~~    \\theta_{0} = \\delta_{0}+ \\delta_{1}+ \\delta_{2}$$"
   ]
  },
  {
   "cell_type": "markdown",
   "metadata": {},
   "source": [
    "$$ Despejamos~ \\delta_{0}= \\theta_{0}-\\delta_{1}- \\delta_{2}  $$"
   ]
  },
  {
   "cell_type": "markdown",
   "metadata": {},
   "source": [
    "$$Sustituimos~~~ gfr_{t}=\\alpha_{0}+(\\theta_{0}-\\delta_{1}-\\delta_{2})~pe_{t}+\\delta_{1}) ~pe_{t-1} +\\delta_{2}) ~pe_{t-2}+... $$"
   ]
  },
  {
   "cell_type": "markdown",
   "metadata": {},
   "source": [
    "$$gfr_{t}=\\alpha_{0}+\\theta_{0}~pe_{t}+\\delta_{1}) ~(pe_{t-1}-pe_{t-}) +\\delta_{2}) ~(pe_{t-2}-pe_{t-1})+... $$"
   ]
  },
  {
   "cell_type": "code",
   "execution_count": null,
   "metadata": {},
   "outputs": [],
   "source": [
    "# Entonces el coeficiente de pe será la propensión a largo plazo y el error estándar correspondiente"
   ]
  },
  {
   "cell_type": "code",
   "execution_count": 19,
   "metadata": {},
   "outputs": [
    {
     "name": "stdout",
     "output_type": "stream",
     "text": [
      "                            OLS Regression Results                            \n",
      "==============================================================================\n",
      "Dep. Variable:                    gfr   R-squared:                       0.499\n",
      "Model:                            OLS   Adj. R-squared:                  0.459\n",
      "Method:                 Least Squares   F-statistic:                     12.73\n",
      "Date:                Tue, 21 Jul 2020   Prob (F-statistic):           1.35e-08\n",
      "Time:                        19:53:54   Log-Likelihood:                -282.26\n",
      "No. Observations:                  70   AIC:                             576.5\n",
      "Df Residuals:                      64   BIC:                             590.0\n",
      "Df Model:                           5                                         \n",
      "Covariance Type:            nonrobust                                         \n",
      "==============================================================================\n",
      "                 coef    std err          t      P>|t|      [0.025      0.975]\n",
      "------------------------------------------------------------------------------\n",
      "Intercept     95.8705      3.282     29.211      0.000      89.314     102.427\n",
      "pe             0.1007      0.030      3.380      0.001       0.041       0.160\n",
      "pe.diff(1)     0.0058      0.156      0.037      0.970      -0.305       0.317\n",
      "pe.diff(2)    -0.0338      0.126     -0.268      0.790      -0.286       0.218\n",
      "ww2          -22.1265     10.732     -2.062      0.043     -43.566      -0.687\n",
      "pill         -31.3050      3.982     -7.862      0.000     -39.259     -23.351\n",
      "==============================================================================\n",
      "Omnibus:                        2.226   Durbin-Watson:                   0.189\n",
      "Prob(Omnibus):                  0.329   Jarque-Bera (JB):                1.705\n",
      "Skew:                           0.206   Prob(JB):                        0.426\n",
      "Kurtosis:                       2.356   Cond. No.                         767.\n",
      "==============================================================================\n",
      "\n",
      "Warnings:\n",
      "[1] Standard Errors assume that the covariance matrix of the errors is correctly specified.\n"
     ]
    }
   ],
   "source": [
    "regdfej10_4b = smf.ols('gfr ~  pe +pe.diff(1) + pe.diff(2)+ ww2 + pill ', data = dfej10_4).fit()\n",
    "print(regdfej10_4b.summary())"
   ]
  },
  {
   "cell_type": "code",
   "execution_count": null,
   "metadata": {},
   "outputs": [],
   "source": [
    "# Como ya vimos, la propensión a largo es 0.101 , con error estándar de 0.030 y t de 3.38, muy significativo\n",
    "# Entonces a pesar de la no significatividad individual de pe y sus rezagos, la propensión a largo si lo es\n",
    "# El intervalo de confianza de esa propensión a largo es [0.041, 0.160]"
   ]
  },
  {
   "cell_type": "code",
   "execution_count": null,
   "metadata": {},
   "outputs": [],
   "source": []
  },
  {
   "cell_type": "code",
   "execution_count": null,
   "metadata": {},
   "outputs": [],
   "source": [
    "# Un Estudio de Acontecimiento con índices"
   ]
  },
  {
   "cell_type": "code",
   "execution_count": null,
   "metadata": {},
   "outputs": [],
   "source": [
    "# ¿Eran las importaciones anormalmente elevadas previo a la demanda por dumping contra China?\n",
    "# ¿cambiaron las importaciones de manera notable tras la demanda antidumping? \n",
    "# ¿cuál fue la reducción en las importaciones después de la decisión a favor de la industria americana?"
   ]
  },
  {
   "cell_type": "markdown",
   "metadata": {},
   "source": [
    "## Ejemplo 10.5 Demandas antidumping e importaciones químicas (barium.dta)"
   ]
  },
  {
   "cell_type": "code",
   "execution_count": 60,
   "metadata": {},
   "outputs": [
    {
     "data": {
      "text/html": [
       "<div>\n",
       "<style scoped>\n",
       "    .dataframe tbody tr th:only-of-type {\n",
       "        vertical-align: middle;\n",
       "    }\n",
       "\n",
       "    .dataframe tbody tr th {\n",
       "        vertical-align: top;\n",
       "    }\n",
       "\n",
       "    .dataframe thead th {\n",
       "        text-align: right;\n",
       "    }\n",
       "</style>\n",
       "<table border=\"1\" class=\"dataframe\">\n",
       "  <thead>\n",
       "    <tr style=\"text-align: right;\">\n",
       "      <th></th>\n",
       "      <th>chnimp</th>\n",
       "      <th>bchlimp</th>\n",
       "      <th>befile6</th>\n",
       "      <th>affile6</th>\n",
       "      <th>afdec6</th>\n",
       "      <th>befile12</th>\n",
       "      <th>affile12</th>\n",
       "      <th>afdec12</th>\n",
       "      <th>chempi</th>\n",
       "      <th>gas</th>\n",
       "      <th>...</th>\n",
       "      <th>apr</th>\n",
       "      <th>may</th>\n",
       "      <th>jun</th>\n",
       "      <th>jul</th>\n",
       "      <th>aug</th>\n",
       "      <th>sep</th>\n",
       "      <th>oct</th>\n",
       "      <th>nov</th>\n",
       "      <th>dec</th>\n",
       "      <th>percchn</th>\n",
       "    </tr>\n",
       "  </thead>\n",
       "  <tbody>\n",
       "    <tr>\n",
       "      <th>0</th>\n",
       "      <td>220.462006</td>\n",
       "      <td>9578.375977</td>\n",
       "      <td>0</td>\n",
       "      <td>0</td>\n",
       "      <td>0</td>\n",
       "      <td>0</td>\n",
       "      <td>0</td>\n",
       "      <td>0</td>\n",
       "      <td>100.099998</td>\n",
       "      <td>7.830000e+09</td>\n",
       "      <td>...</td>\n",
       "      <td>0</td>\n",
       "      <td>0</td>\n",
       "      <td>0</td>\n",
       "      <td>0</td>\n",
       "      <td>0</td>\n",
       "      <td>0</td>\n",
       "      <td>0</td>\n",
       "      <td>0</td>\n",
       "      <td>0</td>\n",
       "      <td>2.301664</td>\n",
       "    </tr>\n",
       "    <tr>\n",
       "      <th>1</th>\n",
       "      <td>94.797997</td>\n",
       "      <td>11219.480469</td>\n",
       "      <td>0</td>\n",
       "      <td>0</td>\n",
       "      <td>0</td>\n",
       "      <td>0</td>\n",
       "      <td>0</td>\n",
       "      <td>0</td>\n",
       "      <td>100.900002</td>\n",
       "      <td>8.820000e+09</td>\n",
       "      <td>...</td>\n",
       "      <td>0</td>\n",
       "      <td>0</td>\n",
       "      <td>0</td>\n",
       "      <td>0</td>\n",
       "      <td>0</td>\n",
       "      <td>0</td>\n",
       "      <td>0</td>\n",
       "      <td>0</td>\n",
       "      <td>0</td>\n",
       "      <td>0.844941</td>\n",
       "    </tr>\n",
       "    <tr>\n",
       "      <th>2</th>\n",
       "      <td>219.357498</td>\n",
       "      <td>9719.900391</td>\n",
       "      <td>0</td>\n",
       "      <td>0</td>\n",
       "      <td>0</td>\n",
       "      <td>0</td>\n",
       "      <td>0</td>\n",
       "      <td>0</td>\n",
       "      <td>101.099998</td>\n",
       "      <td>8.450000e+09</td>\n",
       "      <td>...</td>\n",
       "      <td>1</td>\n",
       "      <td>0</td>\n",
       "      <td>0</td>\n",
       "      <td>0</td>\n",
       "      <td>0</td>\n",
       "      <td>0</td>\n",
       "      <td>0</td>\n",
       "      <td>0</td>\n",
       "      <td>0</td>\n",
       "      <td>2.256788</td>\n",
       "    </tr>\n",
       "    <tr>\n",
       "      <th>3</th>\n",
       "      <td>317.421509</td>\n",
       "      <td>12920.950195</td>\n",
       "      <td>0</td>\n",
       "      <td>0</td>\n",
       "      <td>0</td>\n",
       "      <td>0</td>\n",
       "      <td>0</td>\n",
       "      <td>0</td>\n",
       "      <td>102.500000</td>\n",
       "      <td>9.240001e+09</td>\n",
       "      <td>...</td>\n",
       "      <td>0</td>\n",
       "      <td>1</td>\n",
       "      <td>0</td>\n",
       "      <td>0</td>\n",
       "      <td>0</td>\n",
       "      <td>0</td>\n",
       "      <td>0</td>\n",
       "      <td>0</td>\n",
       "      <td>0</td>\n",
       "      <td>2.456642</td>\n",
       "    </tr>\n",
       "    <tr>\n",
       "      <th>4</th>\n",
       "      <td>114.639000</td>\n",
       "      <td>9790.446289</td>\n",
       "      <td>0</td>\n",
       "      <td>0</td>\n",
       "      <td>0</td>\n",
       "      <td>0</td>\n",
       "      <td>0</td>\n",
       "      <td>0</td>\n",
       "      <td>104.099998</td>\n",
       "      <td>9.150000e+09</td>\n",
       "      <td>...</td>\n",
       "      <td>0</td>\n",
       "      <td>0</td>\n",
       "      <td>1</td>\n",
       "      <td>0</td>\n",
       "      <td>0</td>\n",
       "      <td>0</td>\n",
       "      <td>0</td>\n",
       "      <td>0</td>\n",
       "      <td>0</td>\n",
       "      <td>1.170927</td>\n",
       "    </tr>\n",
       "  </tbody>\n",
       "</table>\n",
       "<p>5 rows × 31 columns</p>\n",
       "</div>"
      ],
      "text/plain": [
       "       chnimp       bchlimp  befile6  affile6  afdec6  befile12  affile12  \\\n",
       "0  220.462006   9578.375977        0        0       0         0         0   \n",
       "1   94.797997  11219.480469        0        0       0         0         0   \n",
       "2  219.357498   9719.900391        0        0       0         0         0   \n",
       "3  317.421509  12920.950195        0        0       0         0         0   \n",
       "4  114.639000   9790.446289        0        0       0         0         0   \n",
       "\n",
       "   afdec12      chempi           gas  ...  apr  may  jun  jul  aug  sep  oct  \\\n",
       "0        0  100.099998  7.830000e+09  ...    0    0    0    0    0    0    0   \n",
       "1        0  100.900002  8.820000e+09  ...    0    0    0    0    0    0    0   \n",
       "2        0  101.099998  8.450000e+09  ...    1    0    0    0    0    0    0   \n",
       "3        0  102.500000  9.240001e+09  ...    0    1    0    0    0    0    0   \n",
       "4        0  104.099998  9.150000e+09  ...    0    0    1    0    0    0    0   \n",
       "\n",
       "   nov  dec   percchn  \n",
       "0    0    0  2.301664  \n",
       "1    0    0  0.844941  \n",
       "2    0    0  2.256788  \n",
       "3    0    0  2.456642  \n",
       "4    0    0  1.170927  \n",
       "\n",
       "[5 rows x 31 columns]"
      ]
     },
     "execution_count": 60,
     "metadata": {},
     "output_type": "execute_result"
    }
   ],
   "source": [
    "dfej10_5 = pd.read_stata('barium.dta')\n",
    "dfej10_5.head()"
   ]
  },
  {
   "cell_type": "code",
   "execution_count": null,
   "metadata": {},
   "outputs": [],
   "source": [
    "# Se explican las importaciones chinas (chinimp), agregando 3 dummies\n",
    "# befile6 = 1 para los 6 meses antes de la demanda \n",
    "# affile6 = 1 para los 6 meses luego de la demanda\n",
    "# afdec6 =  1 para los 6 meses luego de la resolución positiva"
   ]
  },
  {
   "cell_type": "code",
   "execution_count": null,
   "metadata": {},
   "outputs": [],
   "source": [
    "# chempi = índice de producción de industria química, base 100 junio 1977\n",
    "# gas = volúmen producción gasolina\n",
    "# rtwex = índice de tipo de cambio"
   ]
  },
  {
   "cell_type": "code",
   "execution_count": 23,
   "metadata": {},
   "outputs": [
    {
     "name": "stdout",
     "output_type": "stream",
     "text": [
      "                            OLS Regression Results                            \n",
      "==============================================================================\n",
      "Dep. Variable:         np.log(chnimp)   R-squared:                       0.305\n",
      "Model:                            OLS   Adj. R-squared:                  0.271\n",
      "Method:                 Least Squares   F-statistic:                     9.064\n",
      "Date:                Tue, 21 Jul 2020   Prob (F-statistic):           3.25e-08\n",
      "Time:                        23:21:01   Log-Likelihood:                -114.79\n",
      "No. Observations:                 131   AIC:                             243.6\n",
      "Df Residuals:                     124   BIC:                             263.7\n",
      "Df Model:                           6                                         \n",
      "Covariance Type:            nonrobust                                         \n",
      "==================================================================================\n",
      "                     coef    std err          t      P>|t|      [0.025      0.975]\n",
      "----------------------------------------------------------------------------------\n",
      "Intercept        -17.8030     21.045     -0.846      0.399     -59.458      23.852\n",
      "np.log(chempi)     3.1172      0.479      6.505      0.000       2.169       4.066\n",
      "np.log(gas)        0.1964      0.907      0.217      0.829      -1.598       1.991\n",
      "np.log(rtwex)      0.9830      0.400      2.457      0.015       0.191       1.775\n",
      "befile6            0.0596      0.261      0.228      0.820      -0.457       0.576\n",
      "affile6           -0.0324      0.264     -0.123      0.903      -0.556       0.491\n",
      "afdec6            -0.5652      0.286     -1.978      0.050      -1.131       0.001\n",
      "==============================================================================\n",
      "Omnibus:                        9.160   Durbin-Watson:                   1.458\n",
      "Prob(Omnibus):                  0.010   Jarque-Bera (JB):                9.978\n",
      "Skew:                          -0.491   Prob(JB):                      0.00681\n",
      "Kurtosis:                       3.930   Cond. No.                     9.62e+03\n",
      "==============================================================================\n",
      "\n",
      "Warnings:\n",
      "[1] Standard Errors assume that the covariance matrix of the errors is correctly specified.\n",
      "[2] The condition number is large, 9.62e+03. This might indicate that there are\n",
      "strong multicollinearity or other numerical problems.\n"
     ]
    }
   ],
   "source": [
    "regdfej10_5 = smf.ols('np.log(chnimp) ~  np.log(chempi) + np.log(gas) + np.log(rtwex) + befile6 + affile6 + afdec6 ', data = dfej10_5).fit()\n",
    "print(regdfej10_5.summary())"
   ]
  },
  {
   "cell_type": "code",
   "execution_count": null,
   "metadata": {},
   "outputs": [],
   "source": [
    "# Comentarios : befile6 no significativa implica que las importaciones Chinas no eran altas previo a la demanda\n",
    "# affile6 es significativa, negativa, pero de bajo valor el coeficiente, indicando una bajada de 3.2% de las importaciones\n",
    "# pero coeficiente no significativo\n",
    "# afdec6 indica gran reducción de importaciones luego de resolución positiva, y el coeficiente es significativo "
   ]
  },
  {
   "cell_type": "code",
   "execution_count": null,
   "metadata": {},
   "outputs": [],
   "source": [
    "# Como la dependiente está en log, se obtiene el valor en %"
   ]
  },
  {
   "cell_type": "code",
   "execution_count": 25,
   "metadata": {},
   "outputs": [
    {
     "data": {
      "text/plain": [
       "-0.43177908332605097"
      ]
     },
     "execution_count": 25,
     "metadata": {},
     "output_type": "execute_result"
    }
   ],
   "source": [
    "np.exp(regdfej10_5.params[6])-1"
   ]
  },
  {
   "cell_type": "code",
   "execution_count": null,
   "metadata": {},
   "outputs": [],
   "source": [
    "# Los signos de las variablesc ontrol son los esperados:\n",
    "# un aumento # en la producción del sector químico (chempi) aumenta la demanda (3.12). \n",
    "# La producción de gasolina no afecta las importaciones chinas de manera significativa. p-value 0.829\n",
    "# Un incremento en el valor del dólar respecto a otras monedas aumenta la demanda de importaciones chinas como predice \n",
    "# la teorías, siendo la elasticidad estadísticamente cerca de uno. ¿Por qué?)"
   ]
  },
  {
   "cell_type": "code",
   "execution_count": null,
   "metadata": {},
   "outputs": [],
   "source": [
    "# Inclusión de dummies de interacción"
   ]
  },
  {
   "cell_type": "markdown",
   "metadata": {},
   "source": [
    "## Ejemplo 10.6 Resultados de las elecciones y resultados económicos (fair.dta)"
   ]
  },
  {
   "cell_type": "code",
   "execution_count": 2,
   "metadata": {},
   "outputs": [
    {
     "data": {
      "text/html": [
       "<div>\n",
       "<style scoped>\n",
       "    .dataframe tbody tr th:only-of-type {\n",
       "        vertical-align: middle;\n",
       "    }\n",
       "\n",
       "    .dataframe tbody tr th {\n",
       "        vertical-align: top;\n",
       "    }\n",
       "\n",
       "    .dataframe thead th {\n",
       "        text-align: right;\n",
       "    }\n",
       "</style>\n",
       "<table border=\"1\" class=\"dataframe\">\n",
       "  <thead>\n",
       "    <tr style=\"text-align: right;\">\n",
       "      <th></th>\n",
       "      <th>year</th>\n",
       "      <th>V</th>\n",
       "      <th>I</th>\n",
       "      <th>DPER</th>\n",
       "      <th>DUR</th>\n",
       "      <th>g3</th>\n",
       "      <th>p15</th>\n",
       "      <th>n</th>\n",
       "      <th>g2</th>\n",
       "      <th>gYR</th>\n",
       "      <th>...</th>\n",
       "      <th>Ig3</th>\n",
       "      <th>Ip151md</th>\n",
       "      <th>In1md</th>\n",
       "      <th>demvote</th>\n",
       "      <th>incum</th>\n",
       "      <th>gnews</th>\n",
       "      <th>inf</th>\n",
       "      <th>partyWH</th>\n",
       "      <th>pWHgnews</th>\n",
       "      <th>pWHinf</th>\n",
       "    </tr>\n",
       "  </thead>\n",
       "  <tbody>\n",
       "    <tr>\n",
       "      <th>0</th>\n",
       "      <td>1916</td>\n",
       "      <td>0.5168</td>\n",
       "      <td>1</td>\n",
       "      <td>1</td>\n",
       "      <td>0.00</td>\n",
       "      <td>2.229</td>\n",
       "      <td>4.252</td>\n",
       "      <td>3</td>\n",
       "      <td>-1.213000</td>\n",
       "      <td>6.035</td>\n",
       "      <td>...</td>\n",
       "      <td>2.229</td>\n",
       "      <td>4.252</td>\n",
       "      <td>3</td>\n",
       "      <td>0.5168</td>\n",
       "      <td>1</td>\n",
       "      <td>3</td>\n",
       "      <td>4.252</td>\n",
       "      <td>1</td>\n",
       "      <td>3</td>\n",
       "      <td>4.252</td>\n",
       "    </tr>\n",
       "    <tr>\n",
       "      <th>1</th>\n",
       "      <td>1920</td>\n",
       "      <td>0.3612</td>\n",
       "      <td>1</td>\n",
       "      <td>0</td>\n",
       "      <td>1.00</td>\n",
       "      <td>-11.463</td>\n",
       "      <td>16.535</td>\n",
       "      <td>5</td>\n",
       "      <td>-14.496000</td>\n",
       "      <td>-8.147</td>\n",
       "      <td>...</td>\n",
       "      <td>-11.463</td>\n",
       "      <td>0.000</td>\n",
       "      <td>0</td>\n",
       "      <td>0.3612</td>\n",
       "      <td>0</td>\n",
       "      <td>5</td>\n",
       "      <td>16.535</td>\n",
       "      <td>1</td>\n",
       "      <td>5</td>\n",
       "      <td>16.535</td>\n",
       "    </tr>\n",
       "    <tr>\n",
       "      <th>2</th>\n",
       "      <td>1924</td>\n",
       "      <td>0.4176</td>\n",
       "      <td>-1</td>\n",
       "      <td>-1</td>\n",
       "      <td>0.00</td>\n",
       "      <td>-3.872</td>\n",
       "      <td>5.161</td>\n",
       "      <td>10</td>\n",
       "      <td>-9.777000</td>\n",
       "      <td>-1.009</td>\n",
       "      <td>...</td>\n",
       "      <td>3.872</td>\n",
       "      <td>-5.161</td>\n",
       "      <td>-10</td>\n",
       "      <td>0.4176</td>\n",
       "      <td>-1</td>\n",
       "      <td>10</td>\n",
       "      <td>5.161</td>\n",
       "      <td>-1</td>\n",
       "      <td>-10</td>\n",
       "      <td>-5.161</td>\n",
       "    </tr>\n",
       "    <tr>\n",
       "      <th>3</th>\n",
       "      <td>1928</td>\n",
       "      <td>0.4118</td>\n",
       "      <td>-1</td>\n",
       "      <td>0</td>\n",
       "      <td>-1.00</td>\n",
       "      <td>4.623</td>\n",
       "      <td>0.183</td>\n",
       "      <td>7</td>\n",
       "      <td>6.043000</td>\n",
       "      <td>-0.225</td>\n",
       "      <td>...</td>\n",
       "      <td>-4.623</td>\n",
       "      <td>-0.183</td>\n",
       "      <td>-7</td>\n",
       "      <td>0.4118</td>\n",
       "      <td>0</td>\n",
       "      <td>7</td>\n",
       "      <td>0.183</td>\n",
       "      <td>-1</td>\n",
       "      <td>-7</td>\n",
       "      <td>-0.183</td>\n",
       "    </tr>\n",
       "    <tr>\n",
       "      <th>4</th>\n",
       "      <td>1932</td>\n",
       "      <td>0.5916</td>\n",
       "      <td>-1</td>\n",
       "      <td>-1</td>\n",
       "      <td>-1.25</td>\n",
       "      <td>-15.574</td>\n",
       "      <td>6.657</td>\n",
       "      <td>3</td>\n",
       "      <td>-16.249001</td>\n",
       "      <td>-14.369</td>\n",
       "      <td>...</td>\n",
       "      <td>15.574</td>\n",
       "      <td>-6.657</td>\n",
       "      <td>-3</td>\n",
       "      <td>0.5916</td>\n",
       "      <td>-1</td>\n",
       "      <td>3</td>\n",
       "      <td>6.657</td>\n",
       "      <td>-1</td>\n",
       "      <td>-3</td>\n",
       "      <td>-6.657</td>\n",
       "    </tr>\n",
       "  </tbody>\n",
       "</table>\n",
       "<p>5 rows × 28 columns</p>\n",
       "</div>"
      ],
      "text/plain": [
       "   year       V  I  DPER   DUR      g3     p15   n         g2     gYR  ...  \\\n",
       "0  1916  0.5168  1     1  0.00   2.229   4.252   3  -1.213000   6.035  ...   \n",
       "1  1920  0.3612  1     0  1.00 -11.463  16.535   5 -14.496000  -8.147  ...   \n",
       "2  1924  0.4176 -1    -1  0.00  -3.872   5.161  10  -9.777000  -1.009  ...   \n",
       "3  1928  0.4118 -1     0 -1.00   4.623   0.183   7   6.043000  -0.225  ...   \n",
       "4  1932  0.5916 -1    -1 -1.25 -15.574   6.657   3 -16.249001 -14.369  ...   \n",
       "\n",
       "      Ig3  Ip151md  In1md  demvote  incum  gnews     inf  partyWH  pWHgnews  \\\n",
       "0   2.229    4.252      3   0.5168      1      3   4.252        1         3   \n",
       "1 -11.463    0.000      0   0.3612      0      5  16.535        1         5   \n",
       "2   3.872   -5.161    -10   0.4176     -1     10   5.161       -1       -10   \n",
       "3  -4.623   -0.183     -7   0.4118      0      7   0.183       -1        -7   \n",
       "4  15.574   -6.657     -3   0.5916     -1      3   6.657       -1        -3   \n",
       "\n",
       "   pWHinf  \n",
       "0   4.252  \n",
       "1  16.535  \n",
       "2  -5.161  \n",
       "3  -0.183  \n",
       "4  -6.657  \n",
       "\n",
       "[5 rows x 28 columns]"
      ]
     },
     "execution_count": 2,
     "metadata": {},
     "output_type": "execute_result"
    }
   ],
   "source": [
    "dfej10_6 = pd.read_stata('fair.dta')\n",
    "dfej10_6.head()"
   ]
  },
  {
   "cell_type": "code",
   "execution_count": 42,
   "metadata": {},
   "outputs": [
    {
     "data": {
      "text/plain": [
       "21"
      ]
     },
     "execution_count": 42,
     "metadata": {},
     "output_type": "execute_result"
    }
   ],
   "source": [
    "len(dfej10_6)"
   ]
  },
  {
   "cell_type": "code",
   "execution_count": null,
   "metadata": {},
   "outputs": [],
   "source": []
  },
  {
   "cell_type": "code",
   "execution_count": 36,
   "metadata": {},
   "outputs": [],
   "source": [
    "dfej10_6['partyWH'] = dfej10_6['partyWH'].astype(float)"
   ]
  },
  {
   "cell_type": "code",
   "execution_count": 37,
   "metadata": {},
   "outputs": [],
   "source": [
    "dfej10_6['incum'] = dfej10_6['incum'].astype(float)"
   ]
  },
  {
   "cell_type": "code",
   "execution_count": 38,
   "metadata": {},
   "outputs": [],
   "source": [
    "dfej10_6['gnews'] = dfej10_6['gnews'].astype(float)"
   ]
  },
  {
   "cell_type": "code",
   "execution_count": 39,
   "metadata": {},
   "outputs": [],
   "source": [
    "pargne = dfej10_6['partyWH']*dfej10_6['gnews']"
   ]
  },
  {
   "cell_type": "code",
   "execution_count": 40,
   "metadata": {},
   "outputs": [],
   "source": [
    "parinf = dfej10_6['partyWH']*dfej10_6['inf']"
   ]
  },
  {
   "cell_type": "code",
   "execution_count": null,
   "metadata": {},
   "outputs": [],
   "source": [
    "# La proporción de votos al demócrata ( demvote) en función de si un demócrata está en la casa blanca, con la dummy de \n",
    "# 1 y -1 en caso que esté un republicano (partyWH). Con (incum), otra dummy 1 si es elegido el demócrata y -1 si es elegido \n",
    "# el republicano \n",
    "# La variable gnews es el número de los primeros 15 trimestres del gobierno que el pbi crece más que 2.9%\n",
    "# La variable inf es la tasas de inflación de los primeros 15 trimestres"
   ]
  },
  {
   "cell_type": "code",
   "execution_count": null,
   "metadata": {},
   "outputs": [],
   "source": [
    "# Las dos variables de interacción\n",
    "# pargne = partyWH * gnews , sería las buenas noticias del gobierno en ejercicio\n",
    "# parinf = partyWH * inf , sería las malas noticias del gobierno en ejercicio ( se espera signo negativo)\n",
    "# "
   ]
  },
  {
   "cell_type": "code",
   "execution_count": 41,
   "metadata": {},
   "outputs": [
    {
     "name": "stdout",
     "output_type": "stream",
     "text": [
      "                            OLS Regression Results                            \n",
      "==============================================================================\n",
      "Dep. Variable:                demvote   R-squared:                       0.659\n",
      "Model:                            OLS   Adj. R-squared:                  0.574\n",
      "Method:                 Least Squares   F-statistic:                     7.725\n",
      "Date:                Wed, 15 Jul 2020   Prob (F-statistic):            0.00115\n",
      "Time:                        20:46:29   Log-Likelihood:                 36.393\n",
      "No. Observations:                  21   AIC:                            -62.79\n",
      "Df Residuals:                      16   BIC:                            -57.56\n",
      "Df Model:                           4                                         \n",
      "Covariance Type:            nonrobust                                         \n",
      "==============================================================================\n",
      "                 coef    std err          t      P>|t|      [0.025      0.975]\n",
      "------------------------------------------------------------------------------\n",
      "Intercept      0.4842      0.011     42.210      0.000       0.460       0.509\n",
      "partyWH       -0.0324      0.038     -0.862      0.401      -0.112       0.047\n",
      "incum          0.0564      0.023      2.449      0.026       0.008       0.105\n",
      "pargne         0.0097      0.004      2.539      0.022       0.002       0.018\n",
      "parinf        -0.0083      0.003     -2.672      0.017      -0.015      -0.002\n",
      "==============================================================================\n",
      "Omnibus:                        2.520   Durbin-Watson:                   2.056\n",
      "Prob(Omnibus):                  0.284   Jarque-Bera (JB):                1.770\n",
      "Skew:                           0.706   Prob(JB):                        0.413\n",
      "Kurtosis:                       2.832   Cond. No.                         31.6\n",
      "==============================================================================\n",
      "\n",
      "Warnings:\n",
      "[1] Standard Errors assume that the covariance matrix of the errors is correctly specified.\n"
     ]
    }
   ],
   "source": [
    "regdfej10_6 = smf.ols('demvote ~  partyWH + incum + pargne + parinf ', data = dfej10_6).fit()\n",
    "print(regdfej10_6.summary())"
   ]
  },
  {
   "cell_type": "code",
   "execution_count": null,
   "metadata": {},
   "outputs": [],
   "source": [
    "# Comentarios : Todas , salvo partyWH son significativas\n",
    "# La variable incum, implica que 5.4% del voto (demvote), es porque el partido está en el gobierno\n",
    "# pargne indica que un trimestre adicional de buenas noticias, da 1.1 % adicional a (demvote)\n",
    "# La inflación tiene efecto negativo. Si por ejeplo la inflación es 2% mayor, se pierde casi 1.5% en (demvote)"
   ]
  },
  {
   "cell_type": "code",
   "execution_count": null,
   "metadata": {},
   "outputs": [],
   "source": [
    "# Modelos de regresión  con tendencia temporal"
   ]
  },
  {
   "cell_type": "code",
   "execution_count": null,
   "metadata": {},
   "outputs": [],
   "source": [
    "# Regresión espuria por omisión de t"
   ]
  },
  {
   "cell_type": "markdown",
   "metadata": {},
   "source": [
    "## Ejemplo 10.7 Inversión y precios de la vivienda (hseinv.dta)"
   ]
  },
  {
   "cell_type": "code",
   "execution_count": 2,
   "metadata": {},
   "outputs": [
    {
     "data": {
      "text/html": [
       "<div>\n",
       "<style scoped>\n",
       "    .dataframe tbody tr th:only-of-type {\n",
       "        vertical-align: middle;\n",
       "    }\n",
       "\n",
       "    .dataframe tbody tr th {\n",
       "        vertical-align: top;\n",
       "    }\n",
       "\n",
       "    .dataframe thead th {\n",
       "        text-align: right;\n",
       "    }\n",
       "</style>\n",
       "<table border=\"1\" class=\"dataframe\">\n",
       "  <thead>\n",
       "    <tr style=\"text-align: right;\">\n",
       "      <th></th>\n",
       "      <th>year</th>\n",
       "      <th>inv</th>\n",
       "      <th>pop</th>\n",
       "      <th>price</th>\n",
       "      <th>linv</th>\n",
       "      <th>lpop</th>\n",
       "      <th>lprice</th>\n",
       "      <th>t</th>\n",
       "      <th>invpc</th>\n",
       "      <th>linvpc</th>\n",
       "      <th>lprice_1</th>\n",
       "      <th>linvpc_1</th>\n",
       "      <th>gprice</th>\n",
       "      <th>ginvpc</th>\n",
       "    </tr>\n",
       "  </thead>\n",
       "  <tbody>\n",
       "    <tr>\n",
       "      <th>0</th>\n",
       "      <td>1947</td>\n",
       "      <td>54864.0</td>\n",
       "      <td>144126.0</td>\n",
       "      <td>0.8190</td>\n",
       "      <td>10.912613</td>\n",
       "      <td>11.878443</td>\n",
       "      <td>-0.199671</td>\n",
       "      <td>1</td>\n",
       "      <td>0.380667</td>\n",
       "      <td>-0.965831</td>\n",
       "      <td>NaN</td>\n",
       "      <td>NaN</td>\n",
       "      <td>NaN</td>\n",
       "      <td>NaN</td>\n",
       "    </tr>\n",
       "    <tr>\n",
       "      <th>1</th>\n",
       "      <td>1948</td>\n",
       "      <td>64717.0</td>\n",
       "      <td>146631.0</td>\n",
       "      <td>0.8649</td>\n",
       "      <td>11.077779</td>\n",
       "      <td>11.895675</td>\n",
       "      <td>-0.145141</td>\n",
       "      <td>2</td>\n",
       "      <td>0.441360</td>\n",
       "      <td>-0.817895</td>\n",
       "      <td>-0.199671</td>\n",
       "      <td>-0.965831</td>\n",
       "      <td>0.054530</td>\n",
       "      <td>0.147935</td>\n",
       "    </tr>\n",
       "    <tr>\n",
       "      <th>2</th>\n",
       "      <td>1949</td>\n",
       "      <td>63150.0</td>\n",
       "      <td>149188.0</td>\n",
       "      <td>0.8456</td>\n",
       "      <td>11.053268</td>\n",
       "      <td>11.912963</td>\n",
       "      <td>-0.167709</td>\n",
       "      <td>3</td>\n",
       "      <td>0.423291</td>\n",
       "      <td>-0.859694</td>\n",
       "      <td>-0.145141</td>\n",
       "      <td>-0.817895</td>\n",
       "      <td>-0.022567</td>\n",
       "      <td>-0.041799</td>\n",
       "    </tr>\n",
       "    <tr>\n",
       "      <th>3</th>\n",
       "      <td>1950</td>\n",
       "      <td>86014.0</td>\n",
       "      <td>151684.0</td>\n",
       "      <td>0.8765</td>\n",
       "      <td>11.362266</td>\n",
       "      <td>11.929555</td>\n",
       "      <td>-0.131819</td>\n",
       "      <td>4</td>\n",
       "      <td>0.567060</td>\n",
       "      <td>-0.567289</td>\n",
       "      <td>-0.167709</td>\n",
       "      <td>-0.859694</td>\n",
       "      <td>0.035890</td>\n",
       "      <td>0.292405</td>\n",
       "    </tr>\n",
       "    <tr>\n",
       "      <th>4</th>\n",
       "      <td>1951</td>\n",
       "      <td>70610.0</td>\n",
       "      <td>154287.0</td>\n",
       "      <td>0.8819</td>\n",
       "      <td>11.164927</td>\n",
       "      <td>11.946569</td>\n",
       "      <td>-0.125677</td>\n",
       "      <td>5</td>\n",
       "      <td>0.457654</td>\n",
       "      <td>-0.781643</td>\n",
       "      <td>-0.131819</td>\n",
       "      <td>-0.567289</td>\n",
       "      <td>0.006142</td>\n",
       "      <td>-0.214353</td>\n",
       "    </tr>\n",
       "  </tbody>\n",
       "</table>\n",
       "</div>"
      ],
      "text/plain": [
       "   year      inv       pop   price       linv       lpop    lprice  t  \\\n",
       "0  1947  54864.0  144126.0  0.8190  10.912613  11.878443 -0.199671  1   \n",
       "1  1948  64717.0  146631.0  0.8649  11.077779  11.895675 -0.145141  2   \n",
       "2  1949  63150.0  149188.0  0.8456  11.053268  11.912963 -0.167709  3   \n",
       "3  1950  86014.0  151684.0  0.8765  11.362266  11.929555 -0.131819  4   \n",
       "4  1951  70610.0  154287.0  0.8819  11.164927  11.946569 -0.125677  5   \n",
       "\n",
       "      invpc    linvpc  lprice_1  linvpc_1    gprice    ginvpc  \n",
       "0  0.380667 -0.965831       NaN       NaN       NaN       NaN  \n",
       "1  0.441360 -0.817895 -0.199671 -0.965831  0.054530  0.147935  \n",
       "2  0.423291 -0.859694 -0.145141 -0.817895 -0.022567 -0.041799  \n",
       "3  0.567060 -0.567289 -0.167709 -0.859694  0.035890  0.292405  \n",
       "4  0.457654 -0.781643 -0.131819 -0.567289  0.006142 -0.214353  "
      ]
     },
     "execution_count": 2,
     "metadata": {},
     "output_type": "execute_result"
    }
   ],
   "source": [
    "dfej10_7 = pd.read_stata('hseinv.dta')\n",
    "dfej10_7.head()"
   ]
  },
  {
   "cell_type": "code",
   "execution_count": 5,
   "metadata": {},
   "outputs": [
    {
     "name": "stdout",
     "output_type": "stream",
     "text": [
      "                            OLS Regression Results                            \n",
      "==============================================================================\n",
      "Dep. Variable:          np.log(invpc)   R-squared:                       0.208\n",
      "Model:                            OLS   Adj. R-squared:                  0.189\n",
      "Method:                 Least Squares   F-statistic:                     10.53\n",
      "Date:                Wed, 22 Jul 2020   Prob (F-statistic):            0.00238\n",
      "Time:                        23:57:57   Log-Likelihood:                 19.617\n",
      "No. Observations:                  42   AIC:                            -35.23\n",
      "Df Residuals:                      40   BIC:                            -31.76\n",
      "Df Model:                           1                                         \n",
      "Covariance Type:            nonrobust                                         \n",
      "=================================================================================\n",
      "                    coef    std err          t      P>|t|      [0.025      0.975]\n",
      "---------------------------------------------------------------------------------\n",
      "Intercept        -0.5502      0.043    -12.788      0.000      -0.637      -0.463\n",
      "np.log(price)     1.2409      0.382      3.245      0.002       0.468       2.014\n",
      "==============================================================================\n",
      "Omnibus:                        2.837   Durbin-Watson:                   0.814\n",
      "Prob(Omnibus):                  0.242   Jarque-Bera (JB):                1.838\n",
      "Skew:                          -0.250   Prob(JB):                        0.399\n",
      "Kurtosis:                       3.895   Cond. No.                         16.1\n",
      "==============================================================================\n",
      "\n",
      "Warnings:\n",
      "[1] Standard Errors assume that the covariance matrix of the errors is correctly specified.\n"
     ]
    }
   ],
   "source": [
    "regdfej10_7 = smf.ols('np.log(invpc) ~  np.log(price)  ', data = dfej10_7).fit()\n",
    "print(regdfej10_7.summary())"
   ]
  },
  {
   "cell_type": "code",
   "execution_count": null,
   "metadata": {},
   "outputs": [],
   "source": [
    "# Comentario : Interpretable como una curva de oferta, la elasticiadad precio está alrededor de 1, (1.2409) y significativa\n",
    "# Pero las dos series tienen tendencia"
   ]
  },
  {
   "cell_type": "code",
   "execution_count": 4,
   "metadata": {},
   "outputs": [
    {
     "data": {
      "text/plain": [
       "<matplotlib.axes._subplots.AxesSubplot at 0xe820a10>"
      ]
     },
     "execution_count": 4,
     "metadata": {},
     "output_type": "execute_result"
    },
    {
     "data": {
      "image/png": "[encoded data removed]",
      "text/plain": [
       "<Figure size 432x288 with 1 Axes>"
      ]
     },
     "metadata": {},
     "output_type": "display_data"
    }
   ],
   "source": [
    "#dfej10_7.invpc.plot()\n",
    "dfej10_7.price.plot()"
   ]
  },
  {
   "cell_type": "code",
   "execution_count": 38,
   "metadata": {},
   "outputs": [
    {
     "name": "stdout",
     "output_type": "stream",
     "text": [
      "                            OLS Regression Results                            \n",
      "==============================================================================\n",
      "Dep. Variable:          np.log(invpc)   R-squared:                       0.335\n",
      "Model:                            OLS   Adj. R-squared:                  0.319\n",
      "Method:                 Least Squares   F-statistic:                     20.19\n",
      "Date:                Thu, 23 Jul 2020   Prob (F-statistic):           5.85e-05\n",
      "Time:                        16:04:58   Log-Likelihood:                 23.290\n",
      "No. Observations:                  42   AIC:                            -42.58\n",
      "Df Residuals:                      40   BIC:                            -39.11\n",
      "Df Model:                           1                                         \n",
      "Covariance Type:            nonrobust                                         \n",
      "==============================================================================\n",
      "                 coef    std err          t      P>|t|      [0.025      0.975]\n",
      "------------------------------------------------------------------------------\n",
      "Intercept     -0.8413      0.045    -18.802      0.000      -0.932      -0.751\n",
      "t              0.0081      0.002      4.493      0.000       0.004       0.012\n",
      "==============================================================================\n",
      "Omnibus:                        6.231   Durbin-Watson:                   1.014\n",
      "Prob(Omnibus):                  0.044   Jarque-Bera (JB):                5.766\n",
      "Skew:                          -0.523   Prob(JB):                       0.0560\n",
      "Kurtosis:                       4.483   Cond. No.                         50.3\n",
      "==============================================================================\n",
      "\n",
      "Warnings:\n",
      "[1] Standard Errors assume that the covariance matrix of the errors is correctly specified.\n"
     ]
    }
   ],
   "source": [
    "regdfej10_7a = smf.ols('np.log(invpc) ~  t  ', data = dfej10_7).fit()\n",
    "print(regdfej10_7a.summary())"
   ]
  },
  {
   "cell_type": "code",
   "execution_count": 10,
   "metadata": {},
   "outputs": [
    {
     "name": "stdout",
     "output_type": "stream",
     "text": [
      "                            OLS Regression Results                            \n",
      "==============================================================================\n",
      "Dep. Variable:          np.log(price)   R-squared:                       0.729\n",
      "Model:                            OLS   Adj. R-squared:                  0.722\n",
      "Method:                 Least Squares   F-statistic:                     107.6\n",
      "Date:                Thu, 23 Jul 2020   Prob (F-statistic):           6.68e-13\n",
      "Time:                        00:01:33   Log-Likelihood:                 84.124\n",
      "No. Observations:                  42   AIC:                            -164.2\n",
      "Df Residuals:                      40   BIC:                            -160.8\n",
      "Df Model:                           1                                         \n",
      "Covariance Type:            nonrobust                                         \n",
      "==============================================================================\n",
      "                 coef    std err          t      P>|t|      [0.025      0.975]\n",
      "------------------------------------------------------------------------------\n",
      "Intercept     -0.1884      0.011    -17.921      0.000      -0.210      -0.167\n",
      "t              0.0044      0.000     10.371      0.000       0.004       0.005\n",
      "==============================================================================\n",
      "Omnibus:                        4.417   Durbin-Watson:                   0.355\n",
      "Prob(Omnibus):                  0.110   Jarque-Bera (JB):                4.053\n",
      "Skew:                           0.755   Prob(JB):                        0.132\n",
      "Kurtosis:                       2.813   Cond. No.                         50.3\n",
      "==============================================================================\n",
      "\n",
      "Warnings:\n",
      "[1] Standard Errors assume that the covariance matrix of the errors is correctly specified.\n"
     ]
    }
   ],
   "source": [
    "regdfej10_7b = smf.ols('np.log(price) ~  t  ', data = dfej10_7).fit()\n",
    "print(regdfej10_7b.summary())"
   ]
  },
  {
   "cell_type": "code",
   "execution_count": null,
   "metadata": {},
   "outputs": [],
   "source": [
    "# Comentarios : En ambos casos , la pendiente es positiva, y aún cuando los errores estándar no son muy confiables en estas\n",
    "# regrsiones por la autocorrelación, son significtivos los coeficientes. Entonces para tener en cuenta la stendencias\n",
    "# pondremos t en la regresión original"
   ]
  },
  {
   "cell_type": "code",
   "execution_count": 36,
   "metadata": {},
   "outputs": [
    {
     "name": "stdout",
     "output_type": "stream",
     "text": [
      "                            OLS Regression Results                            \n",
      "==============================================================================\n",
      "Dep. Variable:          np.log(invpc)   R-squared:                       0.341\n",
      "Model:                            OLS   Adj. R-squared:                  0.307\n",
      "Method:                 Least Squares   F-statistic:                     10.08\n",
      "Date:                Thu, 23 Jul 2020   Prob (F-statistic):           0.000296\n",
      "Time:                        16:03:01   Log-Likelihood:                 23.459\n",
      "No. Observations:                  42   AIC:                            -40.92\n",
      "Df Residuals:                      39   BIC:                            -35.71\n",
      "Df Model:                           2                                         \n",
      "Covariance Type:            nonrobust                                         \n",
      "=================================================================================\n",
      "                    coef    std err          t      P>|t|      [0.025      0.975]\n",
      "---------------------------------------------------------------------------------\n",
      "Intercept        -0.9131      0.136     -6.733      0.000      -1.187      -0.639\n",
      "np.log(price)    -0.3810      0.679     -0.561      0.578      -1.754       0.992\n",
      "t                 0.0098      0.004      2.798      0.008       0.003       0.017\n",
      "==============================================================================\n",
      "Omnibus:                        4.879   Durbin-Watson:                   1.049\n",
      "Prob(Omnibus):                  0.087   Jarque-Bera (JB):                3.978\n",
      "Skew:                          -0.446   Prob(JB):                        0.137\n",
      "Kurtosis:                       4.216   Cond. No.                         770.\n",
      "==============================================================================\n",
      "\n",
      "Warnings:\n",
      "[1] Standard Errors assume that the covariance matrix of the errors is correctly specified.\n"
     ]
    }
   ],
   "source": [
    "regdfej10_7c = smf.ols('np.log(invpc) ~  np.log(price) + t  ', data = dfej10_7).fit()\n",
    "print(regdfej10_7c.summary())"
   ]
  },
  {
   "cell_type": "code",
   "execution_count": null,
   "metadata": {},
   "outputs": [],
   "source": [
    "# Comentarios : Ahora la elasticidad es negativa y no significativa\n",
    "# La tendencia si es significativa, con 1% de crecimiento promedio en (invpc)\n",
    "# Con esto no podemos decir que la inversión está influcida por el precio . Hay otros factores captados por la tendencia\n",
    "# La regresión anterior , era espuria por tener la dependiente y la xt , tendencias ambas crecientes"
   ]
  },
  {
   "cell_type": "markdown",
   "metadata": {},
   "source": [
    "## Ejemplo 10.8 Ecuación de fertilidad* (fertil3.dta)"
   ]
  },
  {
   "cell_type": "code",
   "execution_count": null,
   "metadata": {},
   "outputs": [],
   "source": [
    "# Se agrega una tendencia en la regresión del Ejemplo 10.4 donde la dependiente tiene tendencia que baja y la independiente sube"
   ]
  },
  {
   "cell_type": "code",
   "execution_count": 5,
   "metadata": {},
   "outputs": [
    {
     "data": {
      "text/plain": [
       "<matplotlib.axes._subplots.AxesSubplot at 0xe30ba70>"
      ]
     },
     "execution_count": 5,
     "metadata": {},
     "output_type": "execute_result"
    },
    {
     "data": {
      "image/png": "[encoded data removed]",
      "text/plain": [
       "<Figure size 432x288 with 1 Axes>"
      ]
     },
     "metadata": {},
     "output_type": "display_data"
    }
   ],
   "source": [
    "dfej10_4.gfr.plot()\n",
    "dfej10_4.pe.plot()"
   ]
  },
  {
   "cell_type": "code",
   "execution_count": 4,
   "metadata": {},
   "outputs": [
    {
     "name": "stdout",
     "output_type": "stream",
     "text": [
      "                            OLS Regression Results                            \n",
      "==============================================================================\n",
      "Dep. Variable:                    gfr   R-squared:                       0.662\n",
      "Model:                            OLS   Adj. R-squared:                  0.642\n",
      "Method:                 Least Squares   F-statistic:                     32.84\n",
      "Date:                Thu, 23 Jul 2020   Prob (F-statistic):           3.76e-15\n",
      "Time:                        11:29:44   Log-Likelihood:                -277.57\n",
      "No. Observations:                  72   AIC:                             565.1\n",
      "Df Residuals:                      67   BIC:                             576.5\n",
      "Df Model:                           4                                         \n",
      "Covariance Type:            nonrobust                                         \n",
      "==============================================================================\n",
      "                 coef    std err          t      P>|t|      [0.025      0.975]\n",
      "------------------------------------------------------------------------------\n",
      "Intercept    111.7694      3.358     33.287      0.000     105.067     118.472\n",
      "pe             0.2789      0.040      6.968      0.000       0.199       0.359\n",
      "ww2          -35.5923      6.297     -5.652      0.000     -48.162     -23.023\n",
      "pill           0.9974      6.262      0.159      0.874     -11.501      13.496\n",
      "t             -1.1499      0.188     -6.119      0.000      -1.525      -0.775\n",
      "==============================================================================\n",
      "Omnibus:                        8.416   Durbin-Watson:                   0.350\n",
      "Prob(Omnibus):                  0.015   Jarque-Bera (JB):                3.370\n",
      "Skew:                          -0.217   Prob(JB):                        0.185\n",
      "Kurtosis:                       2.033   Cond. No.                         614.\n",
      "==============================================================================\n",
      "\n",
      "Warnings:\n",
      "[1] Standard Errors assume that the covariance matrix of the errors is correctly specified.\n"
     ]
    }
   ],
   "source": [
    "regdfej10_8 = smf.ols('gfr ~  pe + ww2 + pill + t', data = dfej10_4).fit()\n",
    "print(regdfej10_8.summary())"
   ]
  },
  {
   "cell_type": "code",
   "execution_count": null,
   "metadata": {},
   "outputs": [],
   "source": [
    "# Conparando los dos coeficientes de pe"
   ]
  },
  {
   "cell_type": "code",
   "execution_count": 6,
   "metadata": {},
   "outputs": [
    {
     "data": {
      "text/plain": [
       "0.08254001502481081"
      ]
     },
     "execution_count": 6,
     "metadata": {},
     "output_type": "execute_result"
    }
   ],
   "source": [
    "regdfej10_4.params[1]"
   ]
  },
  {
   "cell_type": "code",
   "execution_count": 8,
   "metadata": {},
   "outputs": [
    {
     "data": {
      "text/plain": [
       "0.02964623036027761"
      ]
     },
     "execution_count": 8,
     "metadata": {},
     "output_type": "execute_result"
    }
   ],
   "source": [
    "regdfej10_4.bse[1]"
   ]
  },
  {
   "cell_type": "code",
   "execution_count": 7,
   "metadata": {},
   "outputs": [
    {
     "data": {
      "text/plain": [
       "0.2788778035352557"
      ]
     },
     "execution_count": 7,
     "metadata": {},
     "output_type": "execute_result"
    }
   ],
   "source": [
    "regdfej10_8.params[1]"
   ]
  },
  {
   "cell_type": "code",
   "execution_count": 9,
   "metadata": {},
   "outputs": [
    {
     "data": {
      "text/plain": [
       "0.04001986409849263"
      ]
     },
     "execution_count": 9,
     "metadata": {},
     "output_type": "execute_result"
    }
   ],
   "source": [
    "regdfej10_8.bse[1]"
   ]
  },
  {
   "cell_type": "code",
   "execution_count": null,
   "metadata": {},
   "outputs": [],
   "source": [
    "# Se a triplicado el valor del coeficiente de pe y es más significativo\n",
    "# Pero pill pierde significatividad"
   ]
  },
  {
   "cell_type": "code",
   "execution_count": null,
   "metadata": {},
   "outputs": [],
   "source": [
    "# Como gfr tiene ascensos y descensos podemos analizar la robustez del efecto de pe en la estimación \n",
    "# probando tendencia cuadrática"
   ]
  },
  {
   "cell_type": "code",
   "execution_count": 12,
   "metadata": {},
   "outputs": [
    {
     "name": "stdout",
     "output_type": "stream",
     "text": [
      "                            OLS Regression Results                            \n",
      "==============================================================================\n",
      "Dep. Variable:                    gfr   R-squared:                       0.727\n",
      "Model:                            OLS   Adj. R-squared:                  0.706\n",
      "Method:                 Least Squares   F-statistic:                     35.09\n",
      "Date:                Thu, 23 Jul 2020   Prob (F-statistic):           2.44e-17\n",
      "Time:                        11:48:55   Log-Likelihood:                -269.95\n",
      "No. Observations:                  72   AIC:                             551.9\n",
      "Df Residuals:                      66   BIC:                             565.6\n",
      "Df Model:                           5                                         \n",
      "Covariance Type:            nonrobust                                         \n",
      "==============================================================================\n",
      "                 coef    std err          t      P>|t|      [0.025      0.975]\n",
      "------------------------------------------------------------------------------\n",
      "Intercept    124.0919      4.361     28.457      0.000     115.385     132.798\n",
      "pe             0.3478      0.040      8.639      0.000       0.267       0.428\n",
      "ww2          -35.8803      5.708     -6.286      0.000     -47.277     -24.484\n",
      "pill         -10.1197      6.336     -1.597      0.115     -22.770       2.531\n",
      "t             -2.5314      0.389     -6.501      0.000      -3.309      -1.754\n",
      "tsq            0.0196      0.005      3.945      0.000       0.010       0.030\n",
      "==============================================================================\n",
      "Omnibus:                        0.655   Durbin-Watson:                   0.514\n",
      "Prob(Omnibus):                  0.721   Jarque-Bera (JB):                0.786\n",
      "Skew:                          -0.170   Prob(JB):                        0.675\n",
      "Kurtosis:                       2.617   Cond. No.                     1.20e+04\n",
      "==============================================================================\n",
      "\n",
      "Warnings:\n",
      "[1] Standard Errors assume that the covariance matrix of the errors is correctly specified.\n",
      "[2] The condition number is large, 1.2e+04. This might indicate that there are\n",
      "strong multicollinearity or other numerical problems.\n"
     ]
    }
   ],
   "source": [
    "regdfej10_8a = smf.ols('gfr ~  pe + ww2 + pill + t + tsq', data = dfej10_4).fit()\n",
    "print(regdfej10_8a.summary())"
   ]
  },
  {
   "cell_type": "code",
   "execution_count": null,
   "metadata": {},
   "outputs": [],
   "source": [
    "# Para poder usar la fórmula del cuadrado, debemos cambiar el tipo int que tiene (t)"
   ]
  },
  {
   "cell_type": "code",
   "execution_count": 14,
   "metadata": {},
   "outputs": [],
   "source": [
    "dfej10_4['t'] = dfej10_4['t'].astype(float)"
   ]
  },
  {
   "cell_type": "code",
   "execution_count": 15,
   "metadata": {},
   "outputs": [
    {
     "name": "stdout",
     "output_type": "stream",
     "text": [
      "                            OLS Regression Results                            \n",
      "==============================================================================\n",
      "Dep. Variable:                    gfr   R-squared:                       0.727\n",
      "Model:                            OLS   Adj. R-squared:                  0.706\n",
      "Method:                 Least Squares   F-statistic:                     35.09\n",
      "Date:                Thu, 23 Jul 2020   Prob (F-statistic):           2.44e-17\n",
      "Time:                        11:59:34   Log-Likelihood:                -269.95\n",
      "No. Observations:                  72   AIC:                             551.9\n",
      "Df Residuals:                      66   BIC:                             565.6\n",
      "Df Model:                           5                                         \n",
      "Covariance Type:            nonrobust                                         \n",
      "================================================================================\n",
      "                   coef    std err          t      P>|t|      [0.025      0.975]\n",
      "--------------------------------------------------------------------------------\n",
      "Intercept      124.0919      4.361     28.457      0.000     115.385     132.798\n",
      "pe               0.3478      0.040      8.639      0.000       0.267       0.428\n",
      "ww2            -35.8803      5.708     -6.286      0.000     -47.277     -24.484\n",
      "pill           -10.1197      6.336     -1.597      0.115     -22.770       2.531\n",
      "t               -2.5314      0.389     -6.501      0.000      -3.309      -1.754\n",
      "np.square(t)     0.0196      0.005      3.945      0.000       0.010       0.030\n",
      "==============================================================================\n",
      "Omnibus:                        0.655   Durbin-Watson:                   0.514\n",
      "Prob(Omnibus):                  0.721   Jarque-Bera (JB):                0.786\n",
      "Skew:                          -0.170   Prob(JB):                        0.675\n",
      "Kurtosis:                       2.617   Cond. No.                     1.20e+04\n",
      "==============================================================================\n",
      "\n",
      "Warnings:\n",
      "[1] Standard Errors assume that the covariance matrix of the errors is correctly specified.\n",
      "[2] The condition number is large, 1.2e+04. This might indicate that there are\n",
      "strong multicollinearity or other numerical problems.\n"
     ]
    }
   ],
   "source": [
    "regdfej10_8b = smf.ols('gfr ~  pe + ww2 + pill + t + np.square(t)', data = dfej10_4).fit()\n",
    "print(regdfej10_8b.summary())"
   ]
  },
  {
   "cell_type": "code",
   "execution_count": null,
   "metadata": {},
   "outputs": [],
   "source": [
    "# Con la tendencia cuadrática mejora la significatividad y el coeficiente de (pe) y ahora (pill) es significativa\n",
    "# LA tendencia cuadrática es más flexible para representar la tendencia de gfr"
   ]
  },
  {
   "cell_type": "code",
   "execution_count": null,
   "metadata": {},
   "outputs": [],
   "source": [
    "# Problema: podemos incluir tantos términos polinómicos como arbitrariamente mejoren la explicación de la tendencia de gfr\n",
    "# pero esto está reemplazando a la inclusión de otras variables explicativas que afectan a gfr\n",
    "# Al mismo tiempo genera multicolinealidad con los términos t"
   ]
  },
  {
   "cell_type": "code",
   "execution_count": null,
   "metadata": {},
   "outputs": [],
   "source": []
  },
  {
   "cell_type": "markdown",
   "metadata": {},
   "source": [
    "## Ejemplo 10.9 Empleo en Puerto Rico* (prminwge.dta)"
   ]
  },
  {
   "cell_type": "code",
   "execution_count": 19,
   "metadata": {},
   "outputs": [
    {
     "data": {
      "text/plain": [
       "<matplotlib.axes._subplots.AxesSubplot at 0x5401890>"
      ]
     },
     "execution_count": 19,
     "metadata": {},
     "output_type": "execute_result"
    },
    {
     "data": {
      "image/png": "[encoded data removed]",
      "text/plain": [
       "<Figure size 432x288 with 1 Axes>"
      ]
     },
     "metadata": {},
     "output_type": "display_data"
    }
   ],
   "source": [
    "dfej10_3.prepop.plot()\n"
   ]
  },
  {
   "cell_type": "code",
   "execution_count": 21,
   "metadata": {},
   "outputs": [
    {
     "data": {
      "text/plain": [
       "<matplotlib.axes._subplots.AxesSubplot at 0x547e150>"
      ]
     },
     "execution_count": 21,
     "metadata": {},
     "output_type": "execute_result"
    },
    {
     "data": {
      "image/png": "[encoded data removed]",
      "text/plain": [
       "<Figure size 432x288 with 1 Axes>"
      ]
     },
     "metadata": {},
     "output_type": "display_data"
    }
   ],
   "source": [
    "dfej10_3.mincov.plot()"
   ]
  },
  {
   "cell_type": "code",
   "execution_count": 20,
   "metadata": {},
   "outputs": [
    {
     "data": {
      "text/plain": [
       "<matplotlib.axes._subplots.AxesSubplot at 0x543d990>"
      ]
     },
     "execution_count": 20,
     "metadata": {},
     "output_type": "execute_result"
    },
    {
     "data": {
      "image/png": "[encoded data removed]",
      "text/plain": [
       "<Figure size 432x288 with 1 Axes>"
      ]
     },
     "metadata": {},
     "output_type": "display_data"
    }
   ],
   "source": [
    "dfej10_3.usgnp.plot()"
   ]
  },
  {
   "cell_type": "code",
   "execution_count": null,
   "metadata": {},
   "outputs": [],
   "source": [
    "# Comentario : la Variable usgnp es la que parece tener una tendencia lineal creciente"
   ]
  },
  {
   "cell_type": "code",
   "execution_count": null,
   "metadata": {},
   "outputs": [],
   "source": [
    "# Entonces agregamos un tendencia a la regresión del Ejemplo 10.3"
   ]
  },
  {
   "cell_type": "code",
   "execution_count": 24,
   "metadata": {},
   "outputs": [
    {
     "name": "stdout",
     "output_type": "stream",
     "text": [
      "                            OLS Regression Results                            \n",
      "==============================================================================\n",
      "Dep. Variable:         np.log(prepop)   R-squared:                       0.847\n",
      "Model:                            OLS   Adj. R-squared:                  0.834\n",
      "Method:                 Least Squares   F-statistic:                     62.78\n",
      "Date:                Thu, 23 Jul 2020   Prob (F-statistic):           6.01e-14\n",
      "Time:                        13:45:25   Log-Likelihood:                 72.532\n",
      "No. Observations:                  38   AIC:                            -137.1\n",
      "Df Residuals:                      34   BIC:                            -130.5\n",
      "Df Model:                           3                                         \n",
      "Covariance Type:            nonrobust                                         \n",
      "==================================================================================\n",
      "                     coef    std err          t      P>|t|      [0.025      0.975]\n",
      "----------------------------------------------------------------------------------\n",
      "Intercept         -8.6963      1.296     -6.711      0.000     -11.330      -6.063\n",
      "np.log(mincov)    -0.1687      0.044     -3.813      0.001      -0.259      -0.079\n",
      "np.log(usgnp)      1.0574      0.177      5.986      0.000       0.698       1.416\n",
      "t                 -0.0324      0.005     -6.442      0.000      -0.043      -0.022\n",
      "==============================================================================\n",
      "Omnibus:                        6.093   Durbin-Watson:                   0.908\n",
      "Prob(Omnibus):                  0.048   Jarque-Bera (JB):                5.533\n",
      "Skew:                           0.935   Prob(JB):                       0.0629\n",
      "Kurtosis:                       3.006   Cond. No.                     4.99e+03\n",
      "==============================================================================\n",
      "\n",
      "Warnings:\n",
      "[1] Standard Errors assume that the covariance matrix of the errors is correctly specified.\n",
      "[2] The condition number is large, 4.99e+03. This might indicate that there are\n",
      "strong multicollinearity or other numerical problems.\n"
     ]
    }
   ],
   "source": [
    "regdfej10_10 = smf.ols('np.log(prepop) ~  np.log(mincov) + np.log(usgnp) + t ', data = dfej10_3).fit()\n",
    "print(regdfej10_10.summary())"
   ]
  },
  {
   "cell_type": "code",
   "execution_count": 25,
   "metadata": {},
   "outputs": [
    {
     "data": {
      "text/plain": [
       "Intercept        -8.696298\n",
       "np.log(mincov)   -0.168695\n",
       "np.log(usgnp)     1.057351\n",
       "t                -0.032354\n",
       "dtype: float64"
      ]
     },
     "execution_count": 25,
     "metadata": {},
     "output_type": "execute_result"
    }
   ],
   "source": [
    "regdfej10_10.params"
   ]
  },
  {
   "cell_type": "code",
   "execution_count": 32,
   "metadata": {},
   "outputs": [
    {
     "data": {
      "text/plain": [
       "Intercept         1.042313e-07\n",
       "np.log(mincov)    5.521031e-04\n",
       "np.log(usgnp)     8.979790e-07\n",
       "t                 2.313236e-07\n",
       "dtype: float64"
      ]
     },
     "execution_count": 32,
     "metadata": {},
     "output_type": "execute_result"
    }
   ],
   "source": [
    "regdfej10_10.pvalues"
   ]
  },
  {
   "cell_type": "code",
   "execution_count": 29,
   "metadata": {},
   "outputs": [
    {
     "data": {
      "text/plain": [
       "Intercept        -1.054423\n",
       "np.log(mincov)   -0.154444\n",
       "np.log(usgnp)    -0.012189\n",
       "dtype: float64"
      ]
     },
     "execution_count": 29,
     "metadata": {},
     "output_type": "execute_result"
    }
   ],
   "source": [
    "regdfej10_3.params"
   ]
  },
  {
   "cell_type": "code",
   "execution_count": 31,
   "metadata": {},
   "outputs": [
    {
     "data": {
      "text/plain": [
       "Intercept         0.177073\n",
       "np.log(mincov)    0.022910\n",
       "np.log(usgnp)     0.891262\n",
       "dtype: float64"
      ]
     },
     "execution_count": 31,
     "metadata": {},
     "output_type": "execute_result"
    }
   ],
   "source": [
    "regdfej10_3.pvalues"
   ]
  },
  {
   "cell_type": "code",
   "execution_count": null,
   "metadata": {},
   "outputs": [],
   "source": [
    "# El coeficiente de usgnp pasa de -0.012 y no significativo a 0.17  y muy significativo\n",
    "# El coeficiente del salario mínimo (mincov) no cambia tanto pero si se ha vuelto más significativo"
   ]
  },
  {
   "cell_type": "code",
   "execution_count": null,
   "metadata": {},
   "outputs": [],
   "source": [
    "# Para interpretar el efecto de la tendencia vemos que usgnp tiene efectivamente una tendencia lineal, que elimina (t)"
   ]
  },
  {
   "cell_type": "code",
   "execution_count": 22,
   "metadata": {},
   "outputs": [
    {
     "name": "stdout",
     "output_type": "stream",
     "text": [
      "                            OLS Regression Results                            \n",
      "==============================================================================\n",
      "Dep. Variable:          np.log(usgnp)   R-squared:                       0.987\n",
      "Model:                            OLS   Adj. R-squared:                  0.987\n",
      "Method:                 Least Squares   F-statistic:                     2842.\n",
      "Date:                Thu, 23 Jul 2020   Prob (F-statistic):           7.48e-36\n",
      "Time:                        13:22:23   Log-Likelihood:                 70.830\n",
      "No. Observations:                  38   AIC:                            -137.7\n",
      "Df Residuals:                      36   BIC:                            -134.4\n",
      "Df Model:                           1                                         \n",
      "Covariance Type:            nonrobust                                         \n",
      "==============================================================================\n",
      "                 coef    std err          t      P>|t|      [0.025      0.975]\n",
      "------------------------------------------------------------------------------\n",
      "Intercept      7.1245      0.013    558.458      0.000       7.099       7.150\n",
      "t              0.0304      0.001     53.307      0.000       0.029       0.032\n",
      "==============================================================================\n",
      "Omnibus:                        2.668   Durbin-Watson:                   0.446\n",
      "Prob(Omnibus):                  0.263   Jarque-Bera (JB):                1.388\n",
      "Skew:                           0.046   Prob(JB):                        0.500\n",
      "Kurtosis:                       2.068   Cond. No.                         45.7\n",
      "==============================================================================\n",
      "\n",
      "Warnings:\n",
      "[1] Standard Errors assume that the covariance matrix of the errors is correctly specified.\n"
     ]
    }
   ],
   "source": [
    "regdfej10_10a = smf.ols('np.log(usgnp) ~   + t ', data = dfej10_3).fit()\n",
    "print(regdfej10_10a.summary())"
   ]
  },
  {
   "cell_type": "code",
   "execution_count": null,
   "metadata": {},
   "outputs": [],
   "source": [
    "# Comentario : usgnp está creciendo al 3% anual"
   ]
  },
  {
   "cell_type": "code",
   "execution_count": null,
   "metadata": {},
   "outputs": [],
   "source": [
    "# Comentario : En la regresión de prepop contra usgnp en logaritmos y con tendencia, que elimina la tendencia de usgnp, \n",
    "# el coeficiente de 1.0574 de log(usdnp) significa que cuando usgnp aumenta 1% arriba de su tendencia, prepop aumenta 1.0574%"
   ]
  },
  {
   "cell_type": "markdown",
   "metadata": {},
   "source": [
    "## Ejemplo 10.10 Inversión en vivienda* (hseinv.dta)"
   ]
  },
  {
   "cell_type": "code",
   "execution_count": null,
   "metadata": {},
   "outputs": [],
   "source": [
    "# Calculamos el R2 con la dependiente con tendencia"
   ]
  },
  {
   "cell_type": "code",
   "execution_count": 48,
   "metadata": {},
   "outputs": [],
   "source": [
    "# En la relación entre invpc y el precio, en logaritmos, incluimos t para evitar regresión espuria\n",
    "# El R2 en esa regresión es"
   ]
  },
  {
   "cell_type": "code",
   "execution_count": 37,
   "metadata": {},
   "outputs": [
    {
     "data": {
      "text/plain": [
       "0.3407654273036357"
      ]
     },
     "execution_count": 37,
     "metadata": {},
     "output_type": "execute_result"
    }
   ],
   "source": [
    "regdfej10_7c.rsquared"
   ]
  },
  {
   "cell_type": "code",
   "execution_count": null,
   "metadata": {},
   "outputs": [],
   "source": [
    "# Pero eso es engañoso. Para obtener un R2 adecuado primero sacamos la tendencia de log(invpc) y luego hacemos la regresión\n",
    "# Esa regresión ya estaba en el Ejemplo 10.7\n",
    "# Obtenemos los residuos y hacemos la regresión"
   ]
  },
  {
   "cell_type": "code",
   "execution_count": 39,
   "metadata": {},
   "outputs": [],
   "source": [
    "resyt = regdfej10_7a.resid"
   ]
  },
  {
   "cell_type": "code",
   "execution_count": 40,
   "metadata": {},
   "outputs": [
    {
     "name": "stdout",
     "output_type": "stream",
     "text": [
      "                            OLS Regression Results                            \n",
      "==============================================================================\n",
      "Dep. Variable:                  resyt   R-squared:                       0.008\n",
      "Model:                            OLS   Adj. R-squared:                 -0.043\n",
      "Method:                 Least Squares   F-statistic:                    0.1575\n",
      "Date:                Thu, 23 Jul 2020   Prob (F-statistic):              0.855\n",
      "Time:                        16:07:56   Log-Likelihood:                 23.459\n",
      "No. Observations:                  42   AIC:                            -40.92\n",
      "Df Residuals:                      39   BIC:                            -35.71\n",
      "Df Model:                           2                                         \n",
      "Covariance Type:            nonrobust                                         \n",
      "=================================================================================\n",
      "                    coef    std err          t      P>|t|      [0.025      0.975]\n",
      "---------------------------------------------------------------------------------\n",
      "Intercept        -0.0718      0.136     -0.529      0.600      -0.346       0.203\n",
      "np.log(price)    -0.3810      0.679     -0.561      0.578      -1.754       0.992\n",
      "t                 0.0017      0.004      0.479      0.635      -0.005       0.009\n",
      "==============================================================================\n",
      "Omnibus:                        4.879   Durbin-Watson:                   1.049\n",
      "Prob(Omnibus):                  0.087   Jarque-Bera (JB):                3.978\n",
      "Skew:                          -0.446   Prob(JB):                        0.137\n",
      "Kurtosis:                       4.216   Cond. No.                         770.\n",
      "==============================================================================\n",
      "\n",
      "Warnings:\n",
      "[1] Standard Errors assume that the covariance matrix of the errors is correctly specified.\n"
     ]
    }
   ],
   "source": [
    "regdfej10_10 = smf.ols('resyt ~  np.log(price) + t  ', data = dfej10_7).fit()\n",
    "print(regdfej10_10.summary())"
   ]
  },
  {
   "cell_type": "code",
   "execution_count": null,
   "metadata": {},
   "outputs": [],
   "source": [
    "# El R2 queda en 0.008 y el ajustado es negativo\n",
    "# Es decir, los movimientos de log(price) alrededor de su tendencia (por la presencia de t, es lo que queda) no explican nada\n",
    "# del movimiento de log(invpc) alrtededor de su tendencia\n",
    "# Eso es coherente con el p-value de log(price ) en la regresión original "
   ]
  },
  {
   "cell_type": "code",
   "execution_count": 46,
   "metadata": {},
   "outputs": [
    {
     "data": {
      "text/plain": [
       "Intercept        0.0000\n",
       "np.log(price)    0.5779\n",
       "t                0.0079\n",
       "dtype: float64"
      ]
     },
     "execution_count": 46,
     "metadata": {},
     "output_type": "execute_result"
    }
   ],
   "source": [
    "np.round(regdfej10_7c.pvalues, 4)"
   ]
  },
  {
   "cell_type": "code",
   "execution_count": null,
   "metadata": {},
   "outputs": [],
   "source": [
    "# Verificamos que la suma de cuadrados residuales de las dos regresiones son iguales"
   ]
  },
  {
   "cell_type": "code",
   "execution_count": 49,
   "metadata": {},
   "outputs": [
    {
     "data": {
      "text/plain": [
       "0.804674926886195"
      ]
     },
     "execution_count": 49,
     "metadata": {},
     "output_type": "execute_result"
    }
   ],
   "source": [
    "regdfej10_7c.ssr"
   ]
  },
  {
   "cell_type": "code",
   "execution_count": 50,
   "metadata": {},
   "outputs": [
    {
     "data": {
      "text/plain": [
       "0.8046749268861949"
      ]
     },
     "execution_count": 50,
     "metadata": {},
     "output_type": "execute_result"
    }
   ],
   "source": [
    "regdfej10_10.ssr"
   ]
  },
  {
   "cell_type": "code",
   "execution_count": null,
   "metadata": {},
   "outputs": [],
   "source": [
    "# Comprobamos el r2 de esa regresión por la fórmula de 1-SCE/suma(resyt^2)"
   ]
  },
  {
   "cell_type": "code",
   "execution_count": 58,
   "metadata": {},
   "outputs": [
    {
     "data": {
      "text/plain": [
       "0.00801078688097101"
      ]
     },
     "execution_count": 58,
     "metadata": {},
     "output_type": "execute_result"
    }
   ],
   "source": [
    "1- (regdfej10_10.ssr) / (regdfej10_7a.ssr)"
   ]
  },
  {
   "cell_type": "code",
   "execution_count": null,
   "metadata": {},
   "outputs": [],
   "source": [
    "# También podemos calcular el R2 ajustado ( que es aporximado??)"
   ]
  },
  {
   "cell_type": "code",
   "execution_count": 55,
   "metadata": {},
   "outputs": [
    {
     "data": {
      "text/plain": [
       "-0.044199171704240925"
      ]
     },
     "execution_count": 55,
     "metadata": {},
     "output_type": "execute_result"
    }
   ],
   "source": [
    "1- (regdfej10_10.ssr/(regdfej10_10.nobs-4)) / (regdfej10_7a.ssr/(regdfej10_7a.nobs-2))"
   ]
  },
  {
   "cell_type": "code",
   "execution_count": 53,
   "metadata": {},
   "outputs": [
    {
     "data": {
      "text/plain": [
       "-0.04286045481744072"
      ]
     },
     "execution_count": 53,
     "metadata": {},
     "output_type": "execute_result"
    }
   ],
   "source": [
    "regdfej10_10.rsquared_adj"
   ]
  },
  {
   "cell_type": "code",
   "execution_count": null,
   "metadata": {},
   "outputs": [],
   "source": []
  },
  {
   "cell_type": "code",
   "execution_count": null,
   "metadata": {},
   "outputs": [],
   "source": []
  },
  {
   "cell_type": "code",
   "execution_count": null,
   "metadata": {},
   "outputs": [],
   "source": [
    "# Estacionalidad"
   ]
  },
  {
   "cell_type": "markdown",
   "metadata": {},
   "source": [
    "## Ejemplo 10.11 Efectos de las demandas antidumping* (barium.dta)"
   ]
  },
  {
   "cell_type": "code",
   "execution_count": 61,
   "metadata": {},
   "outputs": [
    {
     "name": "stdout",
     "output_type": "stream",
     "text": [
      "                            OLS Regression Results                            \n",
      "==============================================================================\n",
      "Dep. Variable:         np.log(chnimp)   R-squared:                       0.358\n",
      "Model:                            OLS   Adj. R-squared:                  0.262\n",
      "Method:                 Least Squares   F-statistic:                     3.712\n",
      "Date:                Thu, 23 Jul 2020   Prob (F-statistic):           1.28e-05\n",
      "Time:                        18:09:13   Log-Likelihood:                -109.54\n",
      "No. Observations:                 131   AIC:                             255.1\n",
      "Df Residuals:                     113   BIC:                             306.8\n",
      "Df Model:                          17                                         \n",
      "Covariance Type:            nonrobust                                         \n",
      "==================================================================================\n",
      "                     coef    std err          t      P>|t|      [0.025      0.975]\n",
      "----------------------------------------------------------------------------------\n",
      "Intercept         16.7788     32.429      0.517      0.606     -47.468      81.026\n",
      "np.log(chempi)     3.2651      0.493      6.624      0.000       2.288       4.242\n",
      "np.log(gas)       -1.2781      1.389     -0.920      0.359      -4.030       1.474\n",
      "np.log(rtwex)      0.6630      0.471      1.407      0.162      -0.271       1.597\n",
      "befile6            0.1397      0.267      0.524      0.602      -0.389       0.668\n",
      "affile6            0.0126      0.279      0.045      0.964      -0.539       0.565\n",
      "afdec6            -0.5213      0.302     -1.726      0.087      -1.120       0.077\n",
      "feb               -0.4177      0.304     -1.372      0.173      -1.021       0.185\n",
      "mar                0.0591      0.265      0.223      0.824      -0.465       0.584\n",
      "apr               -0.4515      0.268     -1.682      0.095      -0.983       0.080\n",
      "may                0.0333      0.269      0.124      0.902      -0.500       0.567\n",
      "jun               -0.2063      0.269     -0.766      0.445      -0.740       0.327\n",
      "jul                0.0038      0.279      0.014      0.989      -0.548       0.556\n",
      "aug               -0.1571      0.278     -0.565      0.573      -0.708       0.394\n",
      "sep               -0.1342      0.268     -0.501      0.617      -0.664       0.396\n",
      "oct                0.0517      0.267      0.194      0.847      -0.477       0.580\n",
      "nov               -0.2463      0.263     -0.937      0.351      -0.767       0.274\n",
      "dec                0.1328      0.271      0.489      0.626      -0.405       0.671\n",
      "==============================================================================\n",
      "Omnibus:                        9.169   Durbin-Watson:                   1.325\n",
      "Prob(Omnibus):                  0.010   Jarque-Bera (JB):                9.324\n",
      "Skew:                          -0.540   Prob(JB):                      0.00945\n",
      "Kurtosis:                       3.736   Cond. No.                     1.47e+04\n",
      "==============================================================================\n",
      "\n",
      "Warnings:\n",
      "[1] Standard Errors assume that the covariance matrix of the errors is correctly specified.\n",
      "[2] The condition number is large, 1.47e+04. This might indicate that there are\n",
      "strong multicollinearity or other numerical problems.\n"
     ]
    }
   ],
   "source": [
    "regdfej10_11 = smf.ols('np.log(chnimp) ~ np.log(chempi) + np.log(gas) + np.log(rtwex) + befile6 + affile6 + afdec6 + feb + mar+ apr+ may+ jun+jul+aug+sep+oct+nov+dec', data = dfej10_5).fit()\n",
    "print(regdfej10_11.summary())"
   ]
  },
  {
   "cell_type": "code",
   "execution_count": null,
   "metadata": {},
   "outputs": [],
   "source": [
    "regdfej10_11."
   ]
  },
  {
   "cell_type": "code",
   "execution_count": 62,
   "metadata": {},
   "outputs": [
    {
     "name": "stdout",
     "output_type": "stream",
     "text": [
      "<F test: F=array([[0.85594329]]), p=0.5852008492913365, df_denom=113, df_num=11>\n"
     ]
    }
   ],
   "source": [
    "hypotheses = '(feb = mar = apr = may = jun = jul = aug = sep = oct = nov = dec= 0)'\n",
    "f_test = regdfej10_11.f_test(hypotheses)\n",
    "print(f_test)"
   ]
  },
  {
   "cell_type": "code",
   "execution_count": null,
   "metadata": {},
   "outputs": [],
   "source": [
    "# Comentario : La estacionalidad conjunta no es significativa en este modelo"
   ]
  }
 ],
 "metadata": {
  "kernelspec": {
   "display_name": "Python 3 (ipykernel)",
   "language": "python",
   "name": "python3"
  },
  "language_info": {
   "codemirror_mode": {
    "name": "ipython",
    "version": 3
   },
   "file_extension": ".py",
   "mimetype": "text/x-python",
   "name": "python",
   "nbconvert_exporter": "python",
   "pygments_lexer": "ipython3",
   "version": "3.7.0"
  }
 },
 "nbformat": 4,
 "nbformat_minor": 2
}
