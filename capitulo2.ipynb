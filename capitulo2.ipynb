{
 "cells": [
  {
   "cell_type": "markdown",
   "metadata": {},
   "source": [
    "# Capítulo 2 "
   ]
  },
  {
   "cell_type": "code",
   "execution_count": 12,
   "metadata": {},
   "outputs": [],
   "source": [
    "import pandas as pd    \n",
    "import numpy as np\n",
    "import statsmodels.formula.api as smf"
   ]
  },
  {
   "cell_type": "markdown",
   "metadata": {},
   "source": [
    "## Ejemplo 2.3 Salario del director general y rendimiento de las acciones (ceosal1.dta)"
   ]
  },
  {
   "cell_type": "code",
   "execution_count": 10,
   "metadata": {},
   "outputs": [
    {
     "data": {
      "text/html": [
       "<div>\n",
       "<style scoped>\n",
       "    .dataframe tbody tr th:only-of-type {\n",
       "        vertical-align: middle;\n",
       "    }\n",
       "\n",
       "    .dataframe tbody tr th {\n",
       "        vertical-align: top;\n",
       "    }\n",
       "\n",
       "    .dataframe thead th {\n",
       "        text-align: right;\n",
       "    }\n",
       "</style>\n",
       "<table border=\"1\" class=\"dataframe\">\n",
       "  <thead>\n",
       "    <tr style=\"text-align: right;\">\n",
       "      <th></th>\n",
       "      <th>salary</th>\n",
       "      <th>pcsalary</th>\n",
       "      <th>sales</th>\n",
       "      <th>roe</th>\n",
       "      <th>pcroe</th>\n",
       "      <th>ros</th>\n",
       "      <th>indus</th>\n",
       "      <th>finance</th>\n",
       "      <th>consprod</th>\n",
       "      <th>utility</th>\n",
       "      <th>lsalary</th>\n",
       "      <th>lsales</th>\n",
       "    </tr>\n",
       "  </thead>\n",
       "  <tbody>\n",
       "    <tr>\n",
       "      <th>0</th>\n",
       "      <td>1095</td>\n",
       "      <td>20</td>\n",
       "      <td>27595.000000</td>\n",
       "      <td>14.1</td>\n",
       "      <td>106.400002</td>\n",
       "      <td>191</td>\n",
       "      <td>1</td>\n",
       "      <td>0</td>\n",
       "      <td>0</td>\n",
       "      <td>0</td>\n",
       "      <td>6.998509</td>\n",
       "      <td>10.225389</td>\n",
       "    </tr>\n",
       "    <tr>\n",
       "      <th>1</th>\n",
       "      <td>1001</td>\n",
       "      <td>32</td>\n",
       "      <td>9958.000000</td>\n",
       "      <td>10.9</td>\n",
       "      <td>-30.600000</td>\n",
       "      <td>13</td>\n",
       "      <td>1</td>\n",
       "      <td>0</td>\n",
       "      <td>0</td>\n",
       "      <td>0</td>\n",
       "      <td>6.908755</td>\n",
       "      <td>9.206132</td>\n",
       "    </tr>\n",
       "    <tr>\n",
       "      <th>2</th>\n",
       "      <td>1122</td>\n",
       "      <td>9</td>\n",
       "      <td>6125.899902</td>\n",
       "      <td>23.5</td>\n",
       "      <td>-16.299999</td>\n",
       "      <td>14</td>\n",
       "      <td>1</td>\n",
       "      <td>0</td>\n",
       "      <td>0</td>\n",
       "      <td>0</td>\n",
       "      <td>7.022868</td>\n",
       "      <td>8.720281</td>\n",
       "    </tr>\n",
       "    <tr>\n",
       "      <th>3</th>\n",
       "      <td>578</td>\n",
       "      <td>-9</td>\n",
       "      <td>16246.000000</td>\n",
       "      <td>5.9</td>\n",
       "      <td>-25.700001</td>\n",
       "      <td>-21</td>\n",
       "      <td>1</td>\n",
       "      <td>0</td>\n",
       "      <td>0</td>\n",
       "      <td>0</td>\n",
       "      <td>6.359574</td>\n",
       "      <td>9.695602</td>\n",
       "    </tr>\n",
       "    <tr>\n",
       "      <th>4</th>\n",
       "      <td>1368</td>\n",
       "      <td>7</td>\n",
       "      <td>21783.199219</td>\n",
       "      <td>13.8</td>\n",
       "      <td>-3.000000</td>\n",
       "      <td>56</td>\n",
       "      <td>1</td>\n",
       "      <td>0</td>\n",
       "      <td>0</td>\n",
       "      <td>0</td>\n",
       "      <td>7.221105</td>\n",
       "      <td>9.988894</td>\n",
       "    </tr>\n",
       "  </tbody>\n",
       "</table>\n",
       "</div>"
      ],
      "text/plain": [
       "   salary  pcsalary         sales   roe       pcroe  ros  indus  finance  \\\n",
       "0    1095        20  27595.000000  14.1  106.400002  191      1        0   \n",
       "1    1001        32   9958.000000  10.9  -30.600000   13      1        0   \n",
       "2    1122         9   6125.899902  23.5  -16.299999   14      1        0   \n",
       "3     578        -9  16246.000000   5.9  -25.700001  -21      1        0   \n",
       "4    1368         7  21783.199219  13.8   -3.000000   56      1        0   \n",
       "\n",
       "   consprod  utility   lsalary     lsales  \n",
       "0         0        0  6.998509  10.225389  \n",
       "1         0        0  6.908755   9.206132  \n",
       "2         0        0  7.022868   8.720281  \n",
       "3         0        0  6.359574   9.695602  \n",
       "4         0        0  7.221105   9.988894  "
      ]
     },
     "execution_count": 10,
     "metadata": {},
     "output_type": "execute_result"
    }
   ],
   "source": [
    "dfej2_3 = pd.read_stata('ceosal1.dta')\n",
    "dfej2_3.head()"
   ]
  },
  {
   "cell_type": "code",
   "execution_count": 3,
   "metadata": {},
   "outputs": [
    {
     "data": {
      "text/html": [
       "<div>\n",
       "<style scoped>\n",
       "    .dataframe tbody tr th:only-of-type {\n",
       "        vertical-align: middle;\n",
       "    }\n",
       "\n",
       "    .dataframe tbody tr th {\n",
       "        vertical-align: top;\n",
       "    }\n",
       "\n",
       "    .dataframe thead th {\n",
       "        text-align: right;\n",
       "    }\n",
       "</style>\n",
       "<table border=\"1\" class=\"dataframe\">\n",
       "  <thead>\n",
       "    <tr style=\"text-align: right;\">\n",
       "      <th></th>\n",
       "      <th>salary</th>\n",
       "      <th>roe</th>\n",
       "    </tr>\n",
       "  </thead>\n",
       "  <tbody>\n",
       "    <tr>\n",
       "      <th>count</th>\n",
       "      <td>209.000000</td>\n",
       "      <td>209.000000</td>\n",
       "    </tr>\n",
       "    <tr>\n",
       "      <th>mean</th>\n",
       "      <td>1281.119617</td>\n",
       "      <td>17.184210</td>\n",
       "    </tr>\n",
       "    <tr>\n",
       "      <th>std</th>\n",
       "      <td>1372.345308</td>\n",
       "      <td>8.518509</td>\n",
       "    </tr>\n",
       "    <tr>\n",
       "      <th>min</th>\n",
       "      <td>223.000000</td>\n",
       "      <td>0.500000</td>\n",
       "    </tr>\n",
       "    <tr>\n",
       "      <th>25%</th>\n",
       "      <td>736.000000</td>\n",
       "      <td>12.400000</td>\n",
       "    </tr>\n",
       "    <tr>\n",
       "      <th>50%</th>\n",
       "      <td>1039.000000</td>\n",
       "      <td>15.500000</td>\n",
       "    </tr>\n",
       "    <tr>\n",
       "      <th>75%</th>\n",
       "      <td>1407.000000</td>\n",
       "      <td>20.000000</td>\n",
       "    </tr>\n",
       "    <tr>\n",
       "      <th>max</th>\n",
       "      <td>14822.000000</td>\n",
       "      <td>56.299999</td>\n",
       "    </tr>\n",
       "  </tbody>\n",
       "</table>\n",
       "</div>"
      ],
      "text/plain": [
       "             salary         roe\n",
       "count    209.000000  209.000000\n",
       "mean    1281.119617   17.184210\n",
       "std     1372.345308    8.518509\n",
       "min      223.000000    0.500000\n",
       "25%      736.000000   12.400000\n",
       "50%     1039.000000   15.500000\n",
       "75%     1407.000000   20.000000\n",
       "max    14822.000000   56.299999"
      ]
     },
     "execution_count": 3,
     "metadata": {},
     "output_type": "execute_result"
    }
   ],
   "source": [
    "df1[['salary','roe']].describe()"
   ]
  },
  {
   "cell_type": "code",
   "execution_count": 14,
   "metadata": {},
   "outputs": [
    {
     "name": "stdout",
     "output_type": "stream",
     "text": [
      "                            OLS Regression Results                            \n",
      "==============================================================================\n",
      "Dep. Variable:                 salary   R-squared:                       0.013\n",
      "Model:                            OLS   Adj. R-squared:                  0.008\n",
      "Method:                 Least Squares   F-statistic:                     2.767\n",
      "Date:                Sat, 11 Jul 2020   Prob (F-statistic):             0.0978\n",
      "Time:                        11:47:17   Log-Likelihood:                -1804.5\n",
      "No. Observations:                 209   AIC:                             3613.\n",
      "Df Residuals:                     207   BIC:                             3620.\n",
      "Df Model:                           1                                         \n",
      "Covariance Type:            nonrobust                                         \n",
      "==============================================================================\n",
      "                 coef    std err          t      P>|t|      [0.025      0.975]\n",
      "------------------------------------------------------------------------------\n",
      "Intercept    963.1913    213.240      4.517      0.000     542.790    1383.592\n",
      "roe           18.5012     11.123      1.663      0.098      -3.428      40.431\n",
      "==============================================================================\n",
      "Omnibus:                      311.096   Durbin-Watson:                   2.105\n",
      "Prob(Omnibus):                  0.000   Jarque-Bera (JB):            31120.902\n",
      "Skew:                           6.915   Prob(JB):                         0.00\n",
      "Kurtosis:                      61.158   Cond. No.                         43.3\n",
      "==============================================================================\n",
      "\n",
      "Warnings:\n",
      "[1] Standard Errors assume that the covariance matrix of the errors is correctly specified.\n"
     ]
    }
   ],
   "source": [
    "regdfej2_3 = smf.ols('salary ~ roe', data = dfej2_3).fit()\n",
    "print(regdfej2_3.summary())"
   ]
  },
  {
   "cell_type": "code",
   "execution_count": 7,
   "metadata": {},
   "outputs": [
    {
     "data": {
      "text/plain": [
       "['HC0_se',\n",
       " 'HC1_se',\n",
       " 'HC2_se',\n",
       " 'HC3_se',\n",
       " '_HCCM',\n",
       " '__class__',\n",
       " '__delattr__',\n",
       " '__dict__',\n",
       " '__dir__',\n",
       " '__doc__',\n",
       " '__eq__',\n",
       " '__format__',\n",
       " '__ge__',\n",
       " '__getattribute__',\n",
       " '__gt__',\n",
       " '__hash__',\n",
       " '__init__',\n",
       " '__init_subclass__',\n",
       " '__le__',\n",
       " '__lt__',\n",
       " '__module__',\n",
       " '__ne__',\n",
       " '__new__',\n",
       " '__reduce__',\n",
       " '__reduce_ex__',\n",
       " '__repr__',\n",
       " '__setattr__',\n",
       " '__sizeof__',\n",
       " '__str__',\n",
       " '__subclasshook__',\n",
       " '__weakref__',\n",
       " '_cache',\n",
       " '_data_attr',\n",
       " '_get_robustcov_results',\n",
       " '_is_nested',\n",
       " '_wexog_singular_values',\n",
       " 'aic',\n",
       " 'bic',\n",
       " 'bse',\n",
       " 'centered_tss',\n",
       " 'compare_f_test',\n",
       " 'compare_lm_test',\n",
       " 'compare_lr_test',\n",
       " 'condition_number',\n",
       " 'conf_int',\n",
       " 'conf_int_el',\n",
       " 'cov_HC0',\n",
       " 'cov_HC1',\n",
       " 'cov_HC2',\n",
       " 'cov_HC3',\n",
       " 'cov_kwds',\n",
       " 'cov_params',\n",
       " 'cov_type',\n",
       " 'df_model',\n",
       " 'df_resid',\n",
       " 'diagn',\n",
       " 'eigenvals',\n",
       " 'el_test',\n",
       " 'ess',\n",
       " 'f_pvalue',\n",
       " 'f_test',\n",
       " 'fittedvalues',\n",
       " 'fvalue',\n",
       " 'get_influence',\n",
       " 'get_prediction',\n",
       " 'get_robustcov_results',\n",
       " 'initialize',\n",
       " 'k_constant',\n",
       " 'llf',\n",
       " 'load',\n",
       " 'model',\n",
       " 'mse_model',\n",
       " 'mse_resid',\n",
       " 'mse_total',\n",
       " 'nobs',\n",
       " 'normalized_cov_params',\n",
       " 'outlier_test',\n",
       " 'params',\n",
       " 'predict',\n",
       " 'pvalues',\n",
       " 'remove_data',\n",
       " 'resid',\n",
       " 'resid_pearson',\n",
       " 'rsquared',\n",
       " 'rsquared_adj',\n",
       " 'save',\n",
       " 'scale',\n",
       " 'ssr',\n",
       " 'summary',\n",
       " 'summary2',\n",
       " 't_test',\n",
       " 't_test_pairwise',\n",
       " 'tvalues',\n",
       " 'uncentered_tss',\n",
       " 'use_t',\n",
       " 'wald_test',\n",
       " 'wald_test_terms',\n",
       " 'wresid']"
      ]
     },
     "execution_count": 7,
     "metadata": {},
     "output_type": "execute_result"
    }
   ],
   "source": [
    "dir(reg)"
   ]
  },
  {
   "cell_type": "code",
   "execution_count": 39,
   "metadata": {},
   "outputs": [
    {
     "data": {
      "text/plain": [
       "Intercept    963.191336\n",
       "roe           18.501186\n",
       "dtype: float64"
      ]
     },
     "execution_count": 39,
     "metadata": {},
     "output_type": "execute_result"
    }
   ],
   "source": [
    "reg.params"
   ]
  },
  {
   "cell_type": "code",
   "execution_count": 38,
   "metadata": {},
   "outputs": [
    {
     "data": {
      "text/plain": [
       "18.50118634521494"
      ]
     },
     "execution_count": 38,
     "metadata": {},
     "output_type": "execute_result"
    }
   ],
   "source": [
    "reg.params.roe"
   ]
  },
  {
   "cell_type": "code",
   "execution_count": 40,
   "metadata": {},
   "outputs": [
    {
     "data": {
      "text/plain": [
       "963.1913364725582"
      ]
     },
     "execution_count": 40,
     "metadata": {},
     "output_type": "execute_result"
    }
   ],
   "source": [
    "reg.params.Intercept"
   ]
  },
  {
   "cell_type": "code",
   "execution_count": 11,
   "metadata": {},
   "outputs": [
    {
     "data": {
      "text/plain": [
       "(3613.0867060994974, 3619.771374603427, Intercept    213.240257\n",
       " roe           11.123251\n",
       " dtype: float64)"
      ]
     },
     "execution_count": 11,
     "metadata": {},
     "output_type": "execute_result"
    }
   ],
   "source": [
    "reg.aic , reg.bic"
   ]
  },
  {
   "cell_type": "code",
   "execution_count": 12,
   "metadata": {},
   "outputs": [
    {
     "data": {
      "text/plain": [
       "Intercept    213.240257\n",
       "roe           11.123251\n",
       "dtype: float64"
      ]
     },
     "execution_count": 12,
     "metadata": {},
     "output_type": "execute_result"
    }
   ],
   "source": [
    "# Error estándar de los coeficientes\n",
    "reg.bse"
   ]
  },
  {
   "cell_type": "code",
   "execution_count": 13,
   "metadata": {},
   "outputs": [
    {
     "data": {
      "text/plain": [
       "391732982.00956935"
      ]
     },
     "execution_count": 13,
     "metadata": {},
     "output_type": "execute_result"
    }
   ],
   "source": [
    "# suma de cuadrados centrada\n",
    "reg.centered_tss"
   ]
  },
  {
   "cell_type": "code",
   "execution_count": 17,
   "metadata": {},
   "outputs": [
    {
     "data": {
      "text/plain": [
       "array([[14526.36806907,  -562.08178671],\n",
       "       [ -562.08178671,    46.19503661]])"
      ]
     },
     "execution_count": 17,
     "metadata": {},
     "output_type": "execute_result"
    }
   ],
   "source": [
    "reg.cov_HC0"
   ]
  },
  {
   "cell_type": "code",
   "execution_count": 19,
   "metadata": {},
   "outputs": [
    {
     "data": {
      "text/plain": [
       "207.0"
      ]
     },
     "execution_count": 19,
     "metadata": {},
     "output_type": "execute_result"
    }
   ],
   "source": [
    "reg.df_resid"
   ]
  },
  {
   "cell_type": "code",
   "execution_count": 20,
   "metadata": {},
   "outputs": [
    {
     "data": {
      "text/plain": [
       "array([7.69786303e+04, 4.09794929e+01])"
      ]
     },
     "execution_count": 20,
     "metadata": {},
     "output_type": "execute_result"
    }
   ],
   "source": [
    "reg.eigenvals"
   ]
  },
  {
   "cell_type": "code",
   "execution_count": 21,
   "metadata": {},
   "outputs": [
    {
     "data": {
      "text/plain": [
       "5166419.039866626"
      ]
     },
     "execution_count": 21,
     "metadata": {},
     "output_type": "execute_result"
    }
   ],
   "source": [
    "reg.ess"
   ]
  },
  {
   "cell_type": "code",
   "execution_count": 23,
   "metadata": {},
   "outputs": [
    {
     "data": {
      "text/plain": [
       "Intercept    0.000011\n",
       "roe          0.097768\n",
       "dtype: float64"
      ]
     },
     "execution_count": 23,
     "metadata": {},
     "output_type": "execute_result"
    }
   ],
   "source": [
    "reg.pvalues"
   ]
  },
  {
   "cell_type": "code",
   "execution_count": 41,
   "metadata": {},
   "outputs": [
    {
     "data": {
      "text/plain": [
       "Intercept    4.516930\n",
       "roe          1.663289\n",
       "dtype: float64"
      ]
     },
     "execution_count": 41,
     "metadata": {},
     "output_type": "execute_result"
    }
   ],
   "source": [
    "reg.params/reg.bse"
   ]
  },
  {
   "cell_type": "code",
   "execution_count": 26,
   "metadata": {},
   "outputs": [
    {
     "data": {
      "text/plain": [
       "Intercept    4.516930\n",
       "roe          1.663289\n",
       "dtype: float64"
      ]
     },
     "execution_count": 26,
     "metadata": {},
     "output_type": "execute_result"
    }
   ],
   "source": [
    "reg.tvalues"
   ]
  },
  {
   "cell_type": "code",
   "execution_count": 28,
   "metadata": {},
   "outputs": [
    {
     "data": {
      "text/plain": [
       "0.09776774891928805"
      ]
     },
     "execution_count": 28,
     "metadata": {},
     "output_type": "execute_result"
    }
   ],
   "source": [
    "reg.f_pvalue"
   ]
  },
  {
   "cell_type": "code",
   "execution_count": 42,
   "metadata": {},
   "outputs": [
    {
     "data": {
      "text/plain": [
       "0.013188624081033901"
      ]
     },
     "execution_count": 42,
     "metadata": {},
     "output_type": "execute_result"
    }
   ],
   "source": [
    "reg.ess/(reg.ess+reg.ssr)"
   ]
  },
  {
   "cell_type": "code",
   "execution_count": 43,
   "metadata": {},
   "outputs": [
    {
     "data": {
      "text/plain": [
       "0.01318862408103394"
      ]
     },
     "execution_count": 43,
     "metadata": {},
     "output_type": "execute_result"
    }
   ],
   "source": [
    "reg.rsquared"
   ]
  },
  {
   "cell_type": "code",
   "execution_count": 44,
   "metadata": {},
   "outputs": [
    {
     "data": {
      "text/plain": [
       "1867471.318694216"
      ]
     },
     "execution_count": 44,
     "metadata": {},
     "output_type": "execute_result"
    }
   ],
   "source": [
    "# S**2 estimación de la . REvisar por que le falta el menos uno como en la fórmula matricial abajo\n",
    "reg.ssr/(reg.nobs-2)"
   ]
  },
  {
   "cell_type": "code",
   "execution_count": 46,
   "metadata": {},
   "outputs": [
    {
     "data": {
      "text/plain": [
       "72.21779"
      ]
     },
     "execution_count": 46,
     "metadata": {},
     "output_type": "execute_result"
    }
   ],
   "source": [
    "import numpy as np\n",
    "np.var(df1.roe)"
   ]
  },
  {
   "cell_type": "code",
   "execution_count": 47,
   "metadata": {},
   "outputs": [
    {
     "data": {
      "text/plain": [
       "1342.538397960971"
      ]
     },
     "execution_count": 47,
     "metadata": {},
     "output_type": "execute_result"
    }
   ],
   "source": [
    "df1.salary.cov(df1.roe)"
   ]
  },
  {
   "cell_type": "code",
   "execution_count": 48,
   "metadata": {},
   "outputs": [
    {
     "data": {
      "text/plain": [
       "72.56498977473412"
      ]
     },
     "execution_count": 48,
     "metadata": {},
     "output_type": "execute_result"
    }
   ],
   "source": [
    "df1.roe.cov(df1.roe)"
   ]
  },
  {
   "cell_type": "code",
   "execution_count": 49,
   "metadata": {},
   "outputs": [
    {
     "data": {
      "text/plain": [
       "18.50118634521492"
      ]
     },
     "execution_count": 49,
     "metadata": {},
     "output_type": "execute_result"
    }
   ],
   "source": [
    "df1.salary.cov(df1.roe)/df1.roe.cov(df1.roe)"
   ]
  },
  {
   "cell_type": "code",
   "execution_count": 51,
   "metadata": {},
   "outputs": [
    {
     "data": {
      "text/html": [
       "<div>\n",
       "<style scoped>\n",
       "    .dataframe tbody tr th:only-of-type {\n",
       "        vertical-align: middle;\n",
       "    }\n",
       "\n",
       "    .dataframe tbody tr th {\n",
       "        vertical-align: top;\n",
       "    }\n",
       "\n",
       "    .dataframe thead th {\n",
       "        text-align: right;\n",
       "    }\n",
       "</style>\n",
       "<table border=\"1\" class=\"dataframe\">\n",
       "  <thead>\n",
       "    <tr style=\"text-align: right;\">\n",
       "      <th></th>\n",
       "      <th>salary</th>\n",
       "      <th>pcsalary</th>\n",
       "      <th>sales</th>\n",
       "      <th>roe</th>\n",
       "      <th>pcroe</th>\n",
       "      <th>ros</th>\n",
       "      <th>indus</th>\n",
       "      <th>finance</th>\n",
       "      <th>consprod</th>\n",
       "      <th>utility</th>\n",
       "      <th>lsalary</th>\n",
       "      <th>lsales</th>\n",
       "    </tr>\n",
       "  </thead>\n",
       "  <tbody>\n",
       "    <tr>\n",
       "      <th>salary</th>\n",
       "      <td>1.883332e+06</td>\n",
       "      <td>388.384339</td>\n",
       "      <td>1.749198e+06</td>\n",
       "      <td>1342.538398</td>\n",
       "      <td>3830.506742</td>\n",
       "      <td>-3151.361037</td>\n",
       "      <td>-45.668338</td>\n",
       "      <td>14.108162</td>\n",
       "      <td>127.297226</td>\n",
       "      <td>-95.737049</td>\n",
       "      <td>617.306903</td>\n",
       "      <td>269.866846</td>\n",
       "    </tr>\n",
       "    <tr>\n",
       "      <th>pcsalary</th>\n",
       "      <td>3.883843e+02</td>\n",
       "      <td>1064.972810</td>\n",
       "      <td>5.902668e+03</td>\n",
       "      <td>24.278515</td>\n",
       "      <td>659.791671</td>\n",
       "      <td>306.541222</td>\n",
       "      <td>0.067722</td>\n",
       "      <td>-1.230700</td>\n",
       "      <td>0.769530</td>\n",
       "      <td>0.393449</td>\n",
       "      <td>0.810346</td>\n",
       "      <td>-2.156540</td>\n",
       "    </tr>\n",
       "    <tr>\n",
       "      <th>sales</th>\n",
       "      <td>1.749198e+06</td>\n",
       "      <td>5902.668085</td>\n",
       "      <td>1.130665e+08</td>\n",
       "      <td>-5016.816344</td>\n",
       "      <td>5782.899362</td>\n",
       "      <td>-98656.050446</td>\n",
       "      <td>465.648318</td>\n",
       "      <td>-238.789868</td>\n",
       "      <td>333.563947</td>\n",
       "      <td>-560.422397</td>\n",
       "      <td>1694.018012</td>\n",
       "      <td>8003.649550</td>\n",
       "    </tr>\n",
       "    <tr>\n",
       "      <th>roe</th>\n",
       "      <td>1.342538e+03</td>\n",
       "      <td>24.278515</td>\n",
       "      <td>-5.016816e+03</td>\n",
       "      <td>72.564990</td>\n",
       "      <td>3.470921</td>\n",
       "      <td>159.663717</td>\n",
       "      <td>0.053644</td>\n",
       "      <td>-0.631604</td>\n",
       "      <td>1.578112</td>\n",
       "      <td>-1.000152</td>\n",
       "      <td>1.005938</td>\n",
       "      <td>-1.057709</td>\n",
       "    </tr>\n",
       "    <tr>\n",
       "      <th>pcroe</th>\n",
       "      <td>3.830507e+03</td>\n",
       "      <td>659.791671</td>\n",
       "      <td>5.782899e+03</td>\n",
       "      <td>3.470921</td>\n",
       "      <td>9451.611614</td>\n",
       "      <td>854.628470</td>\n",
       "      <td>-1.346308</td>\n",
       "      <td>3.703260</td>\n",
       "      <td>-0.691484</td>\n",
       "      <td>-1.665467</td>\n",
       "      <td>5.929907</td>\n",
       "      <td>2.293869</td>\n",
       "    </tr>\n",
       "    <tr>\n",
       "      <th>ros</th>\n",
       "      <td>-3.151361e+03</td>\n",
       "      <td>306.541222</td>\n",
       "      <td>-9.865605e+04</td>\n",
       "      <td>159.663717</td>\n",
       "      <td>854.628470</td>\n",
       "      <td>4648.110370</td>\n",
       "      <td>-6.682002</td>\n",
       "      <td>-3.057577</td>\n",
       "      <td>10.753704</td>\n",
       "      <td>-1.014124</td>\n",
       "      <td>-2.879214</td>\n",
       "      <td>-24.198776</td>\n",
       "    </tr>\n",
       "    <tr>\n",
       "      <th>indus</th>\n",
       "      <td>-4.566834e+01</td>\n",
       "      <td>0.067722</td>\n",
       "      <td>4.656483e+02</td>\n",
       "      <td>0.053644</td>\n",
       "      <td>-1.346308</td>\n",
       "      <td>-6.682002</td>\n",
       "      <td>0.218854</td>\n",
       "      <td>-0.070896</td>\n",
       "      <td>-0.092473</td>\n",
       "      <td>-0.055484</td>\n",
       "      <td>-0.004278</td>\n",
       "      <td>0.028570</td>\n",
       "    </tr>\n",
       "    <tr>\n",
       "      <th>finance</th>\n",
       "      <td>1.410816e+01</td>\n",
       "      <td>-1.230700</td>\n",
       "      <td>-2.387899e+02</td>\n",
       "      <td>-0.631604</td>\n",
       "      <td>3.703260</td>\n",
       "      <td>-3.057577</td>\n",
       "      <td>-0.070896</td>\n",
       "      <td>0.172479</td>\n",
       "      <td>-0.063489</td>\n",
       "      <td>-0.038093</td>\n",
       "      <td>0.023720</td>\n",
       "      <td>0.016421</td>\n",
       "    </tr>\n",
       "    <tr>\n",
       "      <th>consprod</th>\n",
       "      <td>1.272972e+02</td>\n",
       "      <td>0.769530</td>\n",
       "      <td>3.335639e+02</td>\n",
       "      <td>1.578112</td>\n",
       "      <td>-0.691484</td>\n",
       "      <td>10.753704</td>\n",
       "      <td>-0.092473</td>\n",
       "      <td>-0.063489</td>\n",
       "      <td>0.205650</td>\n",
       "      <td>-0.049687</td>\n",
       "      <td>0.056578</td>\n",
       "      <td>-0.008762</td>\n",
       "    </tr>\n",
       "    <tr>\n",
       "      <th>utility</th>\n",
       "      <td>-9.573705e+01</td>\n",
       "      <td>0.393449</td>\n",
       "      <td>-5.604224e+02</td>\n",
       "      <td>-1.000152</td>\n",
       "      <td>-1.665467</td>\n",
       "      <td>-1.014124</td>\n",
       "      <td>-0.055484</td>\n",
       "      <td>-0.038093</td>\n",
       "      <td>-0.049687</td>\n",
       "      <td>0.143265</td>\n",
       "      <td>-0.076020</td>\n",
       "      <td>-0.036229</td>\n",
       "    </tr>\n",
       "    <tr>\n",
       "      <th>lsalary</th>\n",
       "      <td>6.173069e+02</td>\n",
       "      <td>0.810346</td>\n",
       "      <td>1.694018e+03</td>\n",
       "      <td>1.005938</td>\n",
       "      <td>5.929907</td>\n",
       "      <td>-2.879214</td>\n",
       "      <td>-0.004278</td>\n",
       "      <td>0.023720</td>\n",
       "      <td>0.056578</td>\n",
       "      <td>-0.076020</td>\n",
       "      <td>0.320780</td>\n",
       "      <td>0.263472</td>\n",
       "    </tr>\n",
       "    <tr>\n",
       "      <th>lsales</th>\n",
       "      <td>2.698668e+02</td>\n",
       "      <td>-2.156540</td>\n",
       "      <td>8.003650e+03</td>\n",
       "      <td>-1.057709</td>\n",
       "      <td>2.293869</td>\n",
       "      <td>-24.198776</td>\n",
       "      <td>0.028570</td>\n",
       "      <td>0.016421</td>\n",
       "      <td>-0.008762</td>\n",
       "      <td>-0.036229</td>\n",
       "      <td>0.263472</td>\n",
       "      <td>1.026494</td>\n",
       "    </tr>\n",
       "  </tbody>\n",
       "</table>\n",
       "</div>"
      ],
      "text/plain": [
       "                salary     pcsalary         sales          roe        pcroe  \\\n",
       "salary    1.883332e+06   388.384339  1.749198e+06  1342.538398  3830.506742   \n",
       "pcsalary  3.883843e+02  1064.972810  5.902668e+03    24.278515   659.791671   \n",
       "sales     1.749198e+06  5902.668085  1.130665e+08 -5016.816344  5782.899362   \n",
       "roe       1.342538e+03    24.278515 -5.016816e+03    72.564990     3.470921   \n",
       "pcroe     3.830507e+03   659.791671  5.782899e+03     3.470921  9451.611614   \n",
       "ros      -3.151361e+03   306.541222 -9.865605e+04   159.663717   854.628470   \n",
       "indus    -4.566834e+01     0.067722  4.656483e+02     0.053644    -1.346308   \n",
       "finance   1.410816e+01    -1.230700 -2.387899e+02    -0.631604     3.703260   \n",
       "consprod  1.272972e+02     0.769530  3.335639e+02     1.578112    -0.691484   \n",
       "utility  -9.573705e+01     0.393449 -5.604224e+02    -1.000152    -1.665467   \n",
       "lsalary   6.173069e+02     0.810346  1.694018e+03     1.005938     5.929907   \n",
       "lsales    2.698668e+02    -2.156540  8.003650e+03    -1.057709     2.293869   \n",
       "\n",
       "                   ros       indus     finance    consprod     utility  \\\n",
       "salary    -3151.361037  -45.668338   14.108162  127.297226  -95.737049   \n",
       "pcsalary    306.541222    0.067722   -1.230700    0.769530    0.393449   \n",
       "sales    -98656.050446  465.648318 -238.789868  333.563947 -560.422397   \n",
       "roe         159.663717    0.053644   -0.631604    1.578112   -1.000152   \n",
       "pcroe       854.628470   -1.346308    3.703260   -0.691484   -1.665467   \n",
       "ros        4648.110370   -6.682002   -3.057577   10.753704   -1.014124   \n",
       "indus        -6.682002    0.218854   -0.070896   -0.092473   -0.055484   \n",
       "finance      -3.057577   -0.070896    0.172479   -0.063489   -0.038093   \n",
       "consprod     10.753704   -0.092473   -0.063489    0.205650   -0.049687   \n",
       "utility      -1.014124   -0.055484   -0.038093   -0.049687    0.143265   \n",
       "lsalary      -2.879214   -0.004278    0.023720    0.056578   -0.076020   \n",
       "lsales      -24.198776    0.028570    0.016421   -0.008762   -0.036229   \n",
       "\n",
       "              lsalary       lsales  \n",
       "salary     617.306903   269.866846  \n",
       "pcsalary     0.810346    -2.156540  \n",
       "sales     1694.018012  8003.649550  \n",
       "roe          1.005938    -1.057709  \n",
       "pcroe        5.929907     2.293869  \n",
       "ros         -2.879214   -24.198776  \n",
       "indus       -0.004278     0.028570  \n",
       "finance      0.023720     0.016421  \n",
       "consprod     0.056578    -0.008762  \n",
       "utility     -0.076020    -0.036229  \n",
       "lsalary      0.320780     0.263472  \n",
       "lsales       0.263472     1.026494  "
      ]
     },
     "execution_count": 51,
     "metadata": {},
     "output_type": "execute_result"
    }
   ],
   "source": [
    "df1.cov()\n"
   ]
  },
  {
   "cell_type": "code",
   "execution_count": null,
   "metadata": {},
   "outputs": [],
   "source": []
  },
  {
   "cell_type": "code",
   "execution_count": 52,
   "metadata": {},
   "outputs": [
    {
     "data": {
      "text/plain": [
       "15021.300048828125"
      ]
     },
     "execution_count": 52,
     "metadata": {},
     "output_type": "execute_result"
    }
   ],
   "source": [
    "(reg.nobs-1)*np.var(df1.roe)"
   ]
  },
  {
   "cell_type": "code",
   "execution_count": 53,
   "metadata": {},
   "outputs": [
    {
     "data": {
      "text/plain": [
       "11.123250916412918"
      ]
     },
     "execution_count": 53,
     "metadata": {},
     "output_type": "execute_result"
    }
   ],
   "source": [
    "np.sqrt((reg.ssr/(reg.nobs-2))/((reg.nobs)*np.var(df1.roe)))"
   ]
  },
  {
   "cell_type": "code",
   "execution_count": 54,
   "metadata": {},
   "outputs": [
    {
     "data": {
      "text/plain": [
       "11.123250903287639"
      ]
     },
     "execution_count": 54,
     "metadata": {},
     "output_type": "execute_result"
    }
   ],
   "source": [
    "reg.bse.roe"
   ]
  },
  {
   "cell_type": "code",
   "execution_count": 55,
   "metadata": {},
   "outputs": [
    {
     "data": {
      "text/plain": [
       "2.7665319344658634"
      ]
     },
     "execution_count": 55,
     "metadata": {},
     "output_type": "execute_result"
    }
   ],
   "source": [
    "reg.ess/(reg.ssr/(reg.nobs-2))"
   ]
  },
  {
   "cell_type": "code",
   "execution_count": 56,
   "metadata": {},
   "outputs": [
    {
     "data": {
      "text/plain": [
       "2.7665319344658634"
      ]
     },
     "execution_count": 56,
     "metadata": {},
     "output_type": "execute_result"
    }
   ],
   "source": [
    "reg.fvalue"
   ]
  },
  {
   "cell_type": "code",
   "execution_count": 64,
   "metadata": {},
   "outputs": [
    {
     "data": {
      "text/plain": [
       "0   -129.058071\n",
       "1   -163.854261\n",
       "2   -275.969216\n",
       "3   -494.348338\n",
       "4    149.492288\n",
       "dtype: float64"
      ]
     },
     "execution_count": 64,
     "metadata": {},
     "output_type": "execute_result"
    }
   ],
   "source": [
    "reg.resid.head()"
   ]
  },
  {
   "cell_type": "code",
   "execution_count": 62,
   "metadata": {},
   "outputs": [
    {
     "data": {
      "text/plain": [
       "386566562.9697028"
      ]
     },
     "execution_count": 62,
     "metadata": {},
     "output_type": "execute_result"
    }
   ],
   "source": [
    "sum(reg.resid**2)"
   ]
  },
  {
   "cell_type": "code",
   "execution_count": 63,
   "metadata": {},
   "outputs": [
    {
     "data": {
      "text/plain": [
       "386566562.9697027"
      ]
     },
     "execution_count": 63,
     "metadata": {},
     "output_type": "execute_result"
    }
   ],
   "source": [
    "reg.ssr"
   ]
  },
  {
   "cell_type": "code",
   "execution_count": 65,
   "metadata": {},
   "outputs": [
    {
     "data": {
      "text/plain": [
       "0    1224.058071\n",
       "1    1164.854261\n",
       "2    1397.969216\n",
       "3    1072.348338\n",
       "4    1218.507712\n",
       "dtype: float64"
      ]
     },
     "execution_count": 65,
     "metadata": {},
     "output_type": "execute_result"
    }
   ],
   "source": [
    "reg.fittedvalues.head()"
   ]
  },
  {
   "cell_type": "code",
   "execution_count": 66,
   "metadata": {},
   "outputs": [
    {
     "data": {
      "text/plain": [
       "1281.119617224881"
      ]
     },
     "execution_count": 66,
     "metadata": {},
     "output_type": "execute_result"
    }
   ],
   "source": [
    "np.mean(reg.fittedvalues)"
   ]
  },
  {
   "cell_type": "code",
   "execution_count": 67,
   "metadata": {},
   "outputs": [
    {
     "data": {
      "text/plain": [
       "1281.1196172248804"
      ]
     },
     "execution_count": 67,
     "metadata": {},
     "output_type": "execute_result"
    }
   ],
   "source": [
    "np.mean(df1.salary)"
   ]
  },
  {
   "cell_type": "code",
   "execution_count": 68,
   "metadata": {},
   "outputs": [
    {
     "data": {
      "text/plain": [
       "0"
      ]
     },
     "execution_count": 68,
     "metadata": {},
     "output_type": "execute_result"
    }
   ],
   "source": [
    "np.int(sum(reg.resid))"
   ]
  },
  {
   "cell_type": "code",
   "execution_count": 69,
   "metadata": {},
   "outputs": [
    {
     "data": {
      "text/plain": [
       "<class 'statsmodels.stats.contrast.ContrastResults'>\n",
       "                             Test for Constraints                             \n",
       "==============================================================================\n",
       "                 coef    std err          t      P>|t|      [0.025      0.975]\n",
       "------------------------------------------------------------------------------\n",
       "c0           963.1913    213.240      4.517      0.000     542.790    1383.592\n",
       "=============================================================================="
      ]
     },
     "execution_count": 69,
     "metadata": {},
     "output_type": "execute_result"
    }
   ],
   "source": [
    "reg.t_test([1,0])"
   ]
  },
  {
   "cell_type": "code",
   "execution_count": 70,
   "metadata": {},
   "outputs": [
    {
     "data": {
      "text/plain": [
       "<class 'statsmodels.stats.contrast.ContrastResults'>\n",
       "<F test: F=array([[2.76653193]]), p=0.09776774891928652, df_denom=207, df_num=1>"
      ]
     },
     "execution_count": 70,
     "metadata": {},
     "output_type": "execute_result"
    }
   ],
   "source": [
    "reg.f_test([0, 1])"
   ]
  },
  {
   "cell_type": "code",
   "execution_count": 74,
   "metadata": {},
   "outputs": [
    {
     "name": "stdout",
     "output_type": "stream",
     "text": [
      "[[0 1]\n",
      " [1 0]]\n",
      "<F test: F=array([[93.22534637]]), p=1.3545131497032778e-29, df_denom=207, df_num=2>\n"
     ]
    }
   ],
   "source": [
    "R = [[0, 1], [1, 0]]\n",
    "print(np.array(R))\n",
    "print(reg.f_test(R))"
   ]
  },
  {
   "cell_type": "code",
   "execution_count": 76,
   "metadata": {},
   "outputs": [
    {
     "data": {
      "text/plain": [
       "array([[ 1.        , 14.10000038],\n",
       "       [ 1.        , 10.89999962],\n",
       "       [ 1.        , 23.5       ],\n",
       "       [ 1.        ,  5.9000001 ],\n",
       "       [ 1.        , 13.80000019],\n",
       "       [ 1.        , 20.        ],\n",
       "       [ 1.        , 16.39999962],\n",
       "       [ 1.        , 16.29999924],\n",
       "       [ 1.        , 10.5       ],\n",
       "       [ 1.        , 26.29999924]])"
      ]
     },
     "execution_count": 76,
     "metadata": {},
     "output_type": "execute_result"
    }
   ],
   "source": [
    "reg.model.exog[:10]"
   ]
  },
  {
   "cell_type": "code",
   "execution_count": 77,
   "metadata": {},
   "outputs": [
    {
     "name": "stdout",
     "output_type": "stream",
     "text": [
      "   Intercept        roe\n",
      "0        1.0  14.100000\n",
      "1        1.0  10.900000\n",
      "2        1.0  23.500000\n",
      "3        1.0   5.900000\n",
      "4        1.0  13.800000\n",
      "5        1.0  20.000000\n",
      "6        1.0  16.400000\n",
      "7        1.0  16.299999\n",
      "8        1.0  10.500000\n",
      "9        1.0  26.299999\n"
     ]
    }
   ],
   "source": [
    "print(reg.model.data.orig_exog.head(10))"
   ]
  },
  {
   "cell_type": "code",
   "execution_count": 78,
   "metadata": {},
   "outputs": [
    {
     "data": {
      "text/plain": [
       "0    1185.205573\n",
       "dtype: float64"
      ]
     },
     "execution_count": 78,
     "metadata": {},
     "output_type": "execute_result"
    }
   ],
   "source": [
    "reg.predict(pd.DataFrame({'roe' : [12]}))"
   ]
  },
  {
   "cell_type": "code",
   "execution_count": null,
   "metadata": {},
   "outputs": [],
   "source": []
  },
  {
   "cell_type": "code",
   "execution_count": null,
   "metadata": {},
   "outputs": [],
   "source": []
  },
  {
   "cell_type": "code",
   "execution_count": 79,
   "metadata": {},
   "outputs": [
    {
     "data": {
      "image/png": "[encoded data removed]",
      "text/plain": [
       "<Figure size 576x432 with 1 Axes>"
      ]
     },
     "metadata": {},
     "output_type": "display_data"
    }
   ],
   "source": [
    "# Gráfica como serie de Actual Fitted Residual\n",
    "fig, ax = plt.subplots(figsize=(8,6))\n",
    "ax.plot(reg.resid,'g', label=\"resid\")\n",
    "ax.plot(reg.fittedvalues,'r', label=\"fitted\" )\n",
    "ax.plot(df1.salary,'b', label=\"actual\")\n",
    "ax.legend(loc='best')\n",
    "ax.set_xlabel('roe')\n",
    "ax.set_ylabel('salary');"
   ]
  },
  {
   "cell_type": "code",
   "execution_count": null,
   "metadata": {},
   "outputs": [],
   "source": []
  },
  {
   "cell_type": "code",
   "execution_count": 37,
   "metadata": {},
   "outputs": [
    {
     "data": {
      "image/png": "[encoded data removed]",
      "text/plain": [
       "<Figure size 576x432 with 1 Axes>"
      ]
     },
     "metadata": {},
     "output_type": "display_data"
    }
   ],
   "source": [
    "# Gráfica como Scatter de los datos y la recta de regresión e intervalos\n",
    "import matplotlib.pyplot as plt\n",
    "from statsmodels.sandbox.regression.predstd import wls_prediction_std\n",
    "prstd, iv_l, iv_u = wls_prediction_std(reg)\n",
    "\n",
    "fig, ax = plt.subplots(figsize=(8,6))\n",
    "x = df1.roe\n",
    "y = df1.salary\n",
    "ax.plot(x, y, 'o', label=\"data\")\n",
    "ax.plot(x, reg.fittedvalues, 'y--.', label=\"OLS\")\n",
    "ax.plot(x, iv_u, 'r--')\n",
    "ax.plot(x, iv_l, 'r--')\n",
    "ax.legend(loc='best');"
   ]
  },
  {
   "cell_type": "code",
   "execution_count": 107,
   "metadata": {},
   "outputs": [],
   "source": [
    "df2 = df1[['salary','roe']]"
   ]
  },
  {
   "cell_type": "code",
   "execution_count": 108,
   "metadata": {},
   "outputs": [
    {
     "data": {
      "text/plain": [
       "pandas.core.series.Series"
      ]
     },
     "execution_count": 108,
     "metadata": {},
     "output_type": "execute_result"
    }
   ],
   "source": [
    "type(reg.fittedvalues)"
   ]
  },
  {
   "cell_type": "code",
   "execution_count": null,
   "metadata": {},
   "outputs": [],
   "source": [
    " "
   ]
  },
  {
   "cell_type": "code",
   "execution_count": 109,
   "metadata": {},
   "outputs": [
    {
     "data": {
      "text/html": [
       "<div>\n",
       "<style scoped>\n",
       "    .dataframe tbody tr th:only-of-type {\n",
       "        vertical-align: middle;\n",
       "    }\n",
       "\n",
       "    .dataframe tbody tr th {\n",
       "        vertical-align: top;\n",
       "    }\n",
       "\n",
       "    .dataframe thead th {\n",
       "        text-align: right;\n",
       "    }\n",
       "</style>\n",
       "<table border=\"1\" class=\"dataframe\">\n",
       "  <thead>\n",
       "    <tr style=\"text-align: right;\">\n",
       "      <th></th>\n",
       "      <th>salaryhat</th>\n",
       "    </tr>\n",
       "  </thead>\n",
       "  <tbody>\n",
       "    <tr>\n",
       "      <th>0</th>\n",
       "      <td>1224.058071</td>\n",
       "    </tr>\n",
       "    <tr>\n",
       "      <th>1</th>\n",
       "      <td>1164.854261</td>\n",
       "    </tr>\n",
       "    <tr>\n",
       "      <th>2</th>\n",
       "      <td>1397.969216</td>\n",
       "    </tr>\n",
       "    <tr>\n",
       "      <th>3</th>\n",
       "      <td>1072.348338</td>\n",
       "    </tr>\n",
       "    <tr>\n",
       "      <th>4</th>\n",
       "      <td>1218.507712</td>\n",
       "    </tr>\n",
       "    <tr>\n",
       "      <th>...</th>\n",
       "      <td>...</td>\n",
       "    </tr>\n",
       "    <tr>\n",
       "      <th>204</th>\n",
       "      <td>1129.702014</td>\n",
       "    </tr>\n",
       "    <tr>\n",
       "      <th>205</th>\n",
       "      <td>1249.959725</td>\n",
       "    </tr>\n",
       "    <tr>\n",
       "      <th>206</th>\n",
       "      <td>1187.055698</td>\n",
       "    </tr>\n",
       "    <tr>\n",
       "      <th>207</th>\n",
       "      <td>1216.657586</td>\n",
       "    </tr>\n",
       "    <tr>\n",
       "      <th>208</th>\n",
       "      <td>1229.608413</td>\n",
       "    </tr>\n",
       "  </tbody>\n",
       "</table>\n",
       "<p>209 rows × 1 columns</p>\n",
       "</div>"
      ],
      "text/plain": [
       "       salaryhat\n",
       "0    1224.058071\n",
       "1    1164.854261\n",
       "2    1397.969216\n",
       "3    1072.348338\n",
       "4    1218.507712\n",
       "..           ...\n",
       "204  1129.702014\n",
       "205  1249.959725\n",
       "206  1187.055698\n",
       "207  1216.657586\n",
       "208  1229.608413\n",
       "\n",
       "[209 rows x 1 columns]"
      ]
     },
     "execution_count": 109,
     "metadata": {},
     "output_type": "execute_result"
    }
   ],
   "source": [
    "# igual con reg.fittedvalues.to_frame() \n",
    "a = pd.DataFrame({'salaryhat':reg.fittedvalues})\n",
    "a"
   ]
  },
  {
   "cell_type": "code",
   "execution_count": null,
   "metadata": {},
   "outputs": [],
   "source": [
    "# df2['salaryhat']= reg.fittedvalues, lo hará pero da un aviso de error"
   ]
  },
  {
   "cell_type": "code",
   "execution_count": 110,
   "metadata": {},
   "outputs": [],
   "source": [
    "df2 = pd.concat([df2, a], axis=1)"
   ]
  },
  {
   "cell_type": "code",
   "execution_count": 111,
   "metadata": {},
   "outputs": [
    {
     "data": {
      "text/html": [
       "<div>\n",
       "<style scoped>\n",
       "    .dataframe tbody tr th:only-of-type {\n",
       "        vertical-align: middle;\n",
       "    }\n",
       "\n",
       "    .dataframe tbody tr th {\n",
       "        vertical-align: top;\n",
       "    }\n",
       "\n",
       "    .dataframe thead th {\n",
       "        text-align: right;\n",
       "    }\n",
       "</style>\n",
       "<table border=\"1\" class=\"dataframe\">\n",
       "  <thead>\n",
       "    <tr style=\"text-align: right;\">\n",
       "      <th></th>\n",
       "      <th>salary</th>\n",
       "      <th>roe</th>\n",
       "      <th>salaryhat</th>\n",
       "    </tr>\n",
       "  </thead>\n",
       "  <tbody>\n",
       "    <tr>\n",
       "      <th>0</th>\n",
       "      <td>1095</td>\n",
       "      <td>14.1</td>\n",
       "      <td>1224.058071</td>\n",
       "    </tr>\n",
       "    <tr>\n",
       "      <th>1</th>\n",
       "      <td>1001</td>\n",
       "      <td>10.9</td>\n",
       "      <td>1164.854261</td>\n",
       "    </tr>\n",
       "    <tr>\n",
       "      <th>2</th>\n",
       "      <td>1122</td>\n",
       "      <td>23.5</td>\n",
       "      <td>1397.969216</td>\n",
       "    </tr>\n",
       "    <tr>\n",
       "      <th>3</th>\n",
       "      <td>578</td>\n",
       "      <td>5.9</td>\n",
       "      <td>1072.348338</td>\n",
       "    </tr>\n",
       "    <tr>\n",
       "      <th>4</th>\n",
       "      <td>1368</td>\n",
       "      <td>13.8</td>\n",
       "      <td>1218.507712</td>\n",
       "    </tr>\n",
       "  </tbody>\n",
       "</table>\n",
       "</div>"
      ],
      "text/plain": [
       "   salary   roe    salaryhat\n",
       "0    1095  14.1  1224.058071\n",
       "1    1001  10.9  1164.854261\n",
       "2    1122  23.5  1397.969216\n",
       "3     578   5.9  1072.348338\n",
       "4    1368  13.8  1218.507712"
      ]
     },
     "execution_count": 111,
     "metadata": {},
     "output_type": "execute_result"
    }
   ],
   "source": [
    "df2.head()"
   ]
  },
  {
   "cell_type": "code",
   "execution_count": 112,
   "metadata": {},
   "outputs": [],
   "source": [
    "b = pd.DataFrame({'residOLS':reg.resid})"
   ]
  },
  {
   "cell_type": "code",
   "execution_count": 113,
   "metadata": {},
   "outputs": [],
   "source": [
    "df2 = pd.concat([df2, b], axis=1)"
   ]
  },
  {
   "cell_type": "code",
   "execution_count": 114,
   "metadata": {},
   "outputs": [
    {
     "data": {
      "text/html": [
       "<div>\n",
       "<style scoped>\n",
       "    .dataframe tbody tr th:only-of-type {\n",
       "        vertical-align: middle;\n",
       "    }\n",
       "\n",
       "    .dataframe tbody tr th {\n",
       "        vertical-align: top;\n",
       "    }\n",
       "\n",
       "    .dataframe thead th {\n",
       "        text-align: right;\n",
       "    }\n",
       "</style>\n",
       "<table border=\"1\" class=\"dataframe\">\n",
       "  <thead>\n",
       "    <tr style=\"text-align: right;\">\n",
       "      <th></th>\n",
       "      <th>salary</th>\n",
       "      <th>roe</th>\n",
       "      <th>salaryhat</th>\n",
       "      <th>residOLS</th>\n",
       "    </tr>\n",
       "  </thead>\n",
       "  <tbody>\n",
       "    <tr>\n",
       "      <th>0</th>\n",
       "      <td>1095</td>\n",
       "      <td>14.1</td>\n",
       "      <td>1224.058071</td>\n",
       "      <td>-129.058071</td>\n",
       "    </tr>\n",
       "    <tr>\n",
       "      <th>1</th>\n",
       "      <td>1001</td>\n",
       "      <td>10.9</td>\n",
       "      <td>1164.854261</td>\n",
       "      <td>-163.854261</td>\n",
       "    </tr>\n",
       "    <tr>\n",
       "      <th>2</th>\n",
       "      <td>1122</td>\n",
       "      <td>23.5</td>\n",
       "      <td>1397.969216</td>\n",
       "      <td>-275.969216</td>\n",
       "    </tr>\n",
       "    <tr>\n",
       "      <th>3</th>\n",
       "      <td>578</td>\n",
       "      <td>5.9</td>\n",
       "      <td>1072.348338</td>\n",
       "      <td>-494.348338</td>\n",
       "    </tr>\n",
       "    <tr>\n",
       "      <th>4</th>\n",
       "      <td>1368</td>\n",
       "      <td>13.8</td>\n",
       "      <td>1218.507712</td>\n",
       "      <td>149.492288</td>\n",
       "    </tr>\n",
       "  </tbody>\n",
       "</table>\n",
       "</div>"
      ],
      "text/plain": [
       "   salary   roe    salaryhat    residOLS\n",
       "0    1095  14.1  1224.058071 -129.058071\n",
       "1    1001  10.9  1164.854261 -163.854261\n",
       "2    1122  23.5  1397.969216 -275.969216\n",
       "3     578   5.9  1072.348338 -494.348338\n",
       "4    1368  13.8  1218.507712  149.492288"
      ]
     },
     "execution_count": 114,
     "metadata": {},
     "output_type": "execute_result"
    }
   ],
   "source": [
    "df2.head()"
   ]
  },
  {
   "cell_type": "code",
   "execution_count": null,
   "metadata": {},
   "outputs": [],
   "source": [
    "# HAcer fórmulas "
   ]
  },
  {
   "cell_type": "code",
   "execution_count": null,
   "metadata": {},
   "outputs": [],
   "source": [
    "# Formulas matriciales"
   ]
  },
  {
   "cell_type": "code",
   "execution_count": null,
   "metadata": {},
   "outputs": [],
   "source": [
    "# b = (X´X)^-1 * X´y"
   ]
  },
  {
   "cell_type": "code",
   "execution_count": 115,
   "metadata": {},
   "outputs": [],
   "source": [
    "x = df2['roe']\n",
    "y = df2['salary']\n",
    "m = len(x)  "
   ]
  },
  {
   "cell_type": "code",
   "execution_count": 116,
   "metadata": {},
   "outputs": [],
   "source": [
    "X = np.column_stack( (np.ones((m,1)) , x ) )     # Construct the augmented matrix X\n",
    "b = np.dot(np.linalg.inv(np.dot(X.T, X)), np.dot(X.T, y))"
   ]
  },
  {
   "cell_type": "code",
   "execution_count": 131,
   "metadata": {},
   "outputs": [
    {
     "data": {
      "text/plain": [
       "209"
      ]
     },
     "execution_count": 131,
     "metadata": {},
     "output_type": "execute_result"
    }
   ],
   "source": [
    "len(X)"
   ]
  },
  {
   "cell_type": "code",
   "execution_count": 117,
   "metadata": {},
   "outputs": [
    {
     "data": {
      "text/plain": [
       "array([963.19133647,  18.50118635])"
      ]
     },
     "execution_count": 117,
     "metadata": {},
     "output_type": "execute_result"
    }
   ],
   "source": [
    "b"
   ]
  },
  {
   "cell_type": "code",
   "execution_count": 132,
   "metadata": {},
   "outputs": [
    {
     "data": {
      "text/plain": [
       "2"
      ]
     },
     "execution_count": 132,
     "metadata": {},
     "output_type": "execute_result"
    }
   ],
   "source": [
    "len(b)"
   ]
  },
  {
   "cell_type": "code",
   "execution_count": 127,
   "metadata": {},
   "outputs": [
    {
     "data": {
      "text/plain": [
       "(2,)"
      ]
     },
     "execution_count": 127,
     "metadata": {},
     "output_type": "execute_result"
    }
   ],
   "source": [
    "b.shape"
   ]
  },
  {
   "cell_type": "code",
   "execution_count": 126,
   "metadata": {},
   "outputs": [
    {
     "data": {
      "text/plain": [
       "(209,)"
      ]
     },
     "execution_count": 126,
     "metadata": {},
     "output_type": "execute_result"
    }
   ],
   "source": [
    "y.shape"
   ]
  },
  {
   "cell_type": "code",
   "execution_count": 128,
   "metadata": {},
   "outputs": [
    {
     "data": {
      "text/plain": [
       "(209,)"
      ]
     },
     "execution_count": 128,
     "metadata": {},
     "output_type": "execute_result"
    }
   ],
   "source": [
    "z = np.dot(X,b)\n",
    "z.shape"
   ]
  },
  {
   "cell_type": "code",
   "execution_count": 149,
   "metadata": {},
   "outputs": [
    {
     "data": {
      "text/plain": [
       "1867471.3186942164"
      ]
     },
     "execution_count": 149,
     "metadata": {},
     "output_type": "execute_result"
    }
   ],
   "source": [
    "# le saque el -1 de /(n-k-1)\n",
    "G2 = np.dot((y-np.dot(X,b)).T, (y-np.dot(X,b)))/(len(X)-len(b))\n",
    "G2"
   ]
  },
  {
   "cell_type": "code",
   "execution_count": 138,
   "metadata": {},
   "outputs": [
    {
     "data": {
      "text/plain": [
       "array([1.42563295e-10, 1.42972567e-09])"
      ]
     },
     "execution_count": 138,
     "metadata": {},
     "output_type": "execute_result"
    }
   ],
   "source": [
    "# Propiedad X'e = 0\n",
    "\n",
    "np.dot(X.T,(y-np.dot(X,b)))"
   ]
  },
  {
   "cell_type": "code",
   "execution_count": 139,
   "metadata": {},
   "outputs": [
    {
     "data": {
      "text/plain": [
       "1.418811734765768e-10"
      ]
     },
     "execution_count": 139,
     "metadata": {},
     "output_type": "execute_result"
    }
   ],
   "source": [
    "np.sum(y-np.dot(X,b))"
   ]
  },
  {
   "cell_type": "code",
   "execution_count": null,
   "metadata": {},
   "outputs": [],
   "source": [
    "# Matriz de varianas y covarianzas\n",
    "# G2 (X'X)^-1"
   ]
  },
  {
   "cell_type": "code",
   "execution_count": 150,
   "metadata": {},
   "outputs": [
    {
     "data": {
      "text/plain": [
       "array([[45471.40716492, -2126.14584106],\n",
       "       [-2126.14584106,   123.72671066]])"
      ]
     },
     "execution_count": 150,
     "metadata": {},
     "output_type": "execute_result"
    }
   ],
   "source": [
    "MVC = np.dot(G2, np.linalg.inv(np.dot(X.T, X)))\n",
    "MVC"
   ]
  },
  {
   "cell_type": "code",
   "execution_count": 148,
   "metadata": {
    "scrolled": true
   },
   "outputs": [
    {
     "data": {
      "text/html": [
       "<div>\n",
       "<style scoped>\n",
       "    .dataframe tbody tr th:only-of-type {\n",
       "        vertical-align: middle;\n",
       "    }\n",
       "\n",
       "    .dataframe tbody tr th {\n",
       "        vertical-align: top;\n",
       "    }\n",
       "\n",
       "    .dataframe thead th {\n",
       "        text-align: right;\n",
       "    }\n",
       "</style>\n",
       "<table border=\"1\" class=\"dataframe\">\n",
       "  <thead>\n",
       "    <tr style=\"text-align: right;\">\n",
       "      <th></th>\n",
       "      <th>Intercept</th>\n",
       "      <th>roe</th>\n",
       "    </tr>\n",
       "  </thead>\n",
       "  <tbody>\n",
       "    <tr>\n",
       "      <th>Intercept</th>\n",
       "      <td>45471.407165</td>\n",
       "      <td>-2126.145841</td>\n",
       "    </tr>\n",
       "    <tr>\n",
       "      <th>roe</th>\n",
       "      <td>-2126.145841</td>\n",
       "      <td>123.726711</td>\n",
       "    </tr>\n",
       "  </tbody>\n",
       "</table>\n",
       "</div>"
      ],
      "text/plain": [
       "              Intercept          roe\n",
       "Intercept  45471.407165 -2126.145841\n",
       "roe        -2126.145841   123.726711"
      ]
     },
     "execution_count": 148,
     "metadata": {},
     "output_type": "execute_result"
    }
   ],
   "source": [
    "reg.cov_params()"
   ]
  },
  {
   "cell_type": "code",
   "execution_count": null,
   "metadata": {},
   "outputs": [],
   "source": [
    "#ANOVA\n",
    "\n",
    "sm.stats.anova_lm(reg)"
   ]
  },
  {
   "cell_type": "code",
   "execution_count": null,
   "metadata": {},
   "outputs": [],
   "source": [
    "Hacer fórmulas matriciales , gráfica en 3D"
   ]
  },
  {
   "cell_type": "code",
   "execution_count": null,
   "metadata": {},
   "outputs": [],
   "source": [
    "comprobación de supuestos fórmulas demostraciones\n",
    "propiedades\n"
   ]
  },
  {
   "cell_type": "markdown",
   "metadata": {},
   "source": [
    "**Pruebas de Hipótesis en el Modelo de Regresión Clásico**  \n",
    "\n",
    "#### La Distribución Normal y las Distribuciones de Muestreo  \n",
    "\n",
    "Es frecuente asumir que los elementos del vector de perturbaciones $ \\epsilon $ dentro de las ecuaciones de regresión $ y = X\\beta + \\epsilon $ están distribuidos de forma independiente e idéntica según una ley normal. Bajo esta suposición, se pueden derivar las distribuciones de muestreo de las estimaciones y probar diversas hipótesis sobre los parámetros subyacentes.  \n",
    "\n",
    "Para denotar que $ x $ es una variable aleatoria con distribución normal, media $ E(x) = \\mu $ y matriz de dispersión $ D(x) = \\Sigma $, escribimos $ x \\sim N(\\mu, \\Sigma) $. Un vector $ z \\sim N(0, I) $ con media cero y matriz de dispersión $ D(z) = I $ se describe como un vector normal estándar. Cualquier vector normal $ x \\sim N(\\mu, \\Sigma) $ se puede estandarizar de la siguiente manera:  \n",
    "\n",
    "1. Si $ T $ es una transformación tal que $ T\\Sigma T^{\\top} = I $ y $ T^{\\top} T = \\Sigma^{-1} $, entonces:\n",
    "   $\n",
    "   T(x - \\mu) \\sim N(0, I).\n",
    "   $\n",
    "\n",
    "Asociadas con la distribución normal hay varias distribuciones de muestreo, que ocurren frecuentemente en problemas de inferencia estadística. Entre ellas están la distribución ji-cuadrado, la distribución $ F $ y la distribución $ t $.  \n",
    "\n",
    "Si $ z \\sim N(0, I) $ es un vector normal estándar de $ n $ elementos, entonces la suma de los cuadrados de sus elementos tiene una distribución chi-cuadrado con $ n $ grados de libertad; esto se denota como $ z^{\\top} z \\sim \\chi^2(n) $. Con la ayuda de la transformación de estandarización, se puede demostrar que:\n",
    "\n",
    "2. Si $ x \\sim N(\\mu, \\Sigma) $ es un vector de orden $ n $, entonces:\n",
    "   $\n",
    "   (x - \\mu)^{\\top} \\Sigma^{-1} (x - \\mu) \\sim \\chi^2(n).\n",
    "   $\n",
    "\n",
    "La suma de dos variables chi-cuadrado independientes es también una variable ji-cuadrado cuya cantidad de grados de libertad es la suma de los grados de libertad de sus componentes. Así,  \n",
    "\n",
    "3. Si $ u \\sim \\chi^2(m) $ y $ v \\sim \\chi^2(n) $ son variables ji-cuadrado independientes con $ m $ y $ n $ grados de libertad, respectivamente, entonces $ (u + v) \\sim \\chi^2(m + n) $ es una variable ji-cuadrado con $ m + n $ grados de libertad.\n",
    "\n",
    "La razón de dos variables chi-cuadrado independientes divididas por sus respectivos grados de libertad tiene una distribución $ F $, caracterizada completamente por esos grados de libertad. Así,  \n",
    "\n",
    "4. Si $ u \\sim \\chi^2(m) $ y $ v \\sim \\chi^2(n) $ son variables ji-cuadrado independientes, entonces la variable $ F = \\frac{(u/m)}{(v/n)} $ tiene una distribución $ F $ con $ m $ y $ n $ grados de libertad, lo cual se denota escribiendo $ F \\sim F(m, n) $.\n",
    "\n",
    "La distribución de muestreo que se usa con más frecuencia es la distribución $ t $. Una variable $ t $ es la razón de una variable normal estándar y la raíz de una variable ji-cuadrado independiente dividida por sus grados de libertad. Así,  \n",
    "\n",
    "5. Si $ z \\sim N(0, 1) $ y $ v \\sim \\chi^2(n) $ son variables independientes, entonces\n",
    "   $\n",
    "   t = \\frac{z}{\\sqrt{(v/n)}}\n",
    "   $\n",
    "   tiene una distribución $ t $ con $ n $ grados de libertad; esto se denota escribiendo $ t \\sim t(n) $.\n",
    "\n",
    "Es claro que $ t^2 \\sim F(1, n) $.  \n",
    "\n",
    "### Hipótesis sobre los Coeficientes  \n",
    "\n",
    "Una función lineal de un vector con distribución normal es también normalmente distribuida. La estimación de mínimos cuadrados ordinarios $ \\hat{\\beta} = (X^{\\top}X)^{-1}X^{\\top}y $ del vector de parámetros $ \\beta $ en el modelo de regresión $ (y; X\\beta, \\sigma^2 I) $ es una función lineal de $ y $, que tiene un valor esperado $ E(\\hat{\\beta}) = \\beta $ y una matriz de dispersión de $ D(\\hat{\\beta}) = \\sigma^2 (X^{\\top}X)^{-1} $. Así, se deduce que si $ y \\sim N(X\\beta, \\sigma^2 I) $ es normalmente distribuido, entonces  \n",
    "\n",
    "6. $\n",
    "   \\hat{\\beta} \\sim N_k\\left(\\beta, \\sigma^2 (X^{\\top}X)^{-1}\\right).\n",
    "   $\n",
    "\n",
    "Del mismo modo, las distribuciones marginales de $ \\hat{\\beta}_1 $ y $ \\hat{\\beta}_2 $ dentro de $ \\hat{\\beta}^{\\top} = \\left[\\hat{\\beta}_1^{\\top}, \\hat{\\beta}_2^{\\top}\\right] $ se dan por:  \n",
    "\n",
    "7. $\n",
    "   \\hat{\\beta}_1 \\sim N_{k_1}\\left(\\beta_1, \\sigma^2 \\{X_1^{\\top}(I - P_2)X_1\\}^{-1}\\right),\n",
    "   $\n",
    "\n",
    "8. $\n",
    "   \\hat{\\beta}_2 \\sim N_{k_2}\\left(\\beta_2, \\sigma^2 \\{X_2^{\\top}(I - P_1)X_2\\}^{-1}\\right).\n",
    "   $\n",
    "\n",
    "A partir de los resultados en (2) a (6), se deduce que:  \n",
    "\n",
    "9. $\n",
    "   \\sigma^{-2}(\\hat{\\beta} - \\beta)^{\\top} X^{\\top}X (\\hat{\\beta} - \\beta) \\sim \\chi^2(k).\n",
    "   $\n",
    "\n",
    "Similarmente, se deduce de (7) y (8) que:  \n",
    "\n",
    "10. $\n",
    "   \\sigma^{-2}(\\hat{\\beta}_1 - \\beta_1)^{\\top} X_1^{\\top}(I - P_2)X_1 (\\hat{\\beta}_1 - \\beta_1) \\sim \\chi^2(k_1),\n",
    "   $\n",
    "\n",
    "11. $\n",
    "   \\sigma^{-2}(\\hat{\\beta}_2 - \\beta_2)^{\\top} X_2^{\\top}(I - P_1)X_2 (\\hat{\\beta}_2 - \\beta_2) \\sim \\chi^2(k_2).\n",
    "   $\n",
    "\n",
    "La distribución del vector de residuos $ e = y - X\\hat{\\beta} $ es degenerada en el sentido de que la transformación $ e = (I - P)\\epsilon $ del vector de perturbaciones $ \\epsilon $ al residual\n",
    "\n",
    "FALTA"
   ]
  },
  {
   "cell_type": "markdown",
   "metadata": {},
   "source": [
    "## Ejemplo 2.4  Salario y educación (wage1.dta)"
   ]
  },
  {
   "cell_type": "code",
   "execution_count": 4,
   "metadata": {},
   "outputs": [
    {
     "data": {
      "text/html": [
       "<div>\n",
       "<style scoped>\n",
       "    .dataframe tbody tr th:only-of-type {\n",
       "        vertical-align: middle;\n",
       "    }\n",
       "\n",
       "    .dataframe tbody tr th {\n",
       "        vertical-align: top;\n",
       "    }\n",
       "\n",
       "    .dataframe thead th {\n",
       "        text-align: right;\n",
       "    }\n",
       "</style>\n",
       "<table border=\"1\" class=\"dataframe\">\n",
       "  <thead>\n",
       "    <tr style=\"text-align: right;\">\n",
       "      <th></th>\n",
       "      <th>wage</th>\n",
       "      <th>educ</th>\n",
       "      <th>exper</th>\n",
       "      <th>tenure</th>\n",
       "      <th>nonwhite</th>\n",
       "      <th>female</th>\n",
       "      <th>married</th>\n",
       "      <th>numdep</th>\n",
       "      <th>smsa</th>\n",
       "      <th>northcen</th>\n",
       "      <th>...</th>\n",
       "      <th>trcommpu</th>\n",
       "      <th>trade</th>\n",
       "      <th>services</th>\n",
       "      <th>profserv</th>\n",
       "      <th>profocc</th>\n",
       "      <th>clerocc</th>\n",
       "      <th>servocc</th>\n",
       "      <th>lwage</th>\n",
       "      <th>expersq</th>\n",
       "      <th>tenursq</th>\n",
       "    </tr>\n",
       "  </thead>\n",
       "  <tbody>\n",
       "    <tr>\n",
       "      <th>0</th>\n",
       "      <td>3.10</td>\n",
       "      <td>11</td>\n",
       "      <td>2</td>\n",
       "      <td>0</td>\n",
       "      <td>0</td>\n",
       "      <td>1</td>\n",
       "      <td>0</td>\n",
       "      <td>2</td>\n",
       "      <td>1</td>\n",
       "      <td>0</td>\n",
       "      <td>...</td>\n",
       "      <td>0</td>\n",
       "      <td>0</td>\n",
       "      <td>0</td>\n",
       "      <td>0</td>\n",
       "      <td>0</td>\n",
       "      <td>0</td>\n",
       "      <td>0</td>\n",
       "      <td>1.131402</td>\n",
       "      <td>4</td>\n",
       "      <td>0</td>\n",
       "    </tr>\n",
       "    <tr>\n",
       "      <th>1</th>\n",
       "      <td>3.24</td>\n",
       "      <td>12</td>\n",
       "      <td>22</td>\n",
       "      <td>2</td>\n",
       "      <td>0</td>\n",
       "      <td>1</td>\n",
       "      <td>1</td>\n",
       "      <td>3</td>\n",
       "      <td>1</td>\n",
       "      <td>0</td>\n",
       "      <td>...</td>\n",
       "      <td>0</td>\n",
       "      <td>0</td>\n",
       "      <td>1</td>\n",
       "      <td>0</td>\n",
       "      <td>0</td>\n",
       "      <td>0</td>\n",
       "      <td>1</td>\n",
       "      <td>1.175573</td>\n",
       "      <td>484</td>\n",
       "      <td>4</td>\n",
       "    </tr>\n",
       "    <tr>\n",
       "      <th>2</th>\n",
       "      <td>3.00</td>\n",
       "      <td>11</td>\n",
       "      <td>2</td>\n",
       "      <td>0</td>\n",
       "      <td>0</td>\n",
       "      <td>0</td>\n",
       "      <td>0</td>\n",
       "      <td>2</td>\n",
       "      <td>0</td>\n",
       "      <td>0</td>\n",
       "      <td>...</td>\n",
       "      <td>0</td>\n",
       "      <td>1</td>\n",
       "      <td>0</td>\n",
       "      <td>0</td>\n",
       "      <td>0</td>\n",
       "      <td>0</td>\n",
       "      <td>0</td>\n",
       "      <td>1.098612</td>\n",
       "      <td>4</td>\n",
       "      <td>0</td>\n",
       "    </tr>\n",
       "    <tr>\n",
       "      <th>3</th>\n",
       "      <td>6.00</td>\n",
       "      <td>8</td>\n",
       "      <td>44</td>\n",
       "      <td>28</td>\n",
       "      <td>0</td>\n",
       "      <td>0</td>\n",
       "      <td>1</td>\n",
       "      <td>0</td>\n",
       "      <td>1</td>\n",
       "      <td>0</td>\n",
       "      <td>...</td>\n",
       "      <td>0</td>\n",
       "      <td>0</td>\n",
       "      <td>0</td>\n",
       "      <td>0</td>\n",
       "      <td>0</td>\n",
       "      <td>1</td>\n",
       "      <td>0</td>\n",
       "      <td>1.791759</td>\n",
       "      <td>1936</td>\n",
       "      <td>784</td>\n",
       "    </tr>\n",
       "    <tr>\n",
       "      <th>4</th>\n",
       "      <td>5.30</td>\n",
       "      <td>12</td>\n",
       "      <td>7</td>\n",
       "      <td>2</td>\n",
       "      <td>0</td>\n",
       "      <td>0</td>\n",
       "      <td>1</td>\n",
       "      <td>1</td>\n",
       "      <td>0</td>\n",
       "      <td>0</td>\n",
       "      <td>...</td>\n",
       "      <td>0</td>\n",
       "      <td>0</td>\n",
       "      <td>0</td>\n",
       "      <td>0</td>\n",
       "      <td>0</td>\n",
       "      <td>0</td>\n",
       "      <td>0</td>\n",
       "      <td>1.667707</td>\n",
       "      <td>49</td>\n",
       "      <td>4</td>\n",
       "    </tr>\n",
       "  </tbody>\n",
       "</table>\n",
       "<p>5 rows × 24 columns</p>\n",
       "</div>"
      ],
      "text/plain": [
       "   wage  educ  exper  tenure  nonwhite  female  married  numdep  smsa  \\\n",
       "0  3.10    11      2       0         0       1        0       2     1   \n",
       "1  3.24    12     22       2         0       1        1       3     1   \n",
       "2  3.00    11      2       0         0       0        0       2     0   \n",
       "3  6.00     8     44      28         0       0        1       0     1   \n",
       "4  5.30    12      7       2         0       0        1       1     0   \n",
       "\n",
       "   northcen  ...  trcommpu  trade  services  profserv  profocc  clerocc  \\\n",
       "0         0  ...         0      0         0         0        0        0   \n",
       "1         0  ...         0      0         1         0        0        0   \n",
       "2         0  ...         0      1         0         0        0        0   \n",
       "3         0  ...         0      0         0         0        0        1   \n",
       "4         0  ...         0      0         0         0        0        0   \n",
       "\n",
       "   servocc     lwage  expersq  tenursq  \n",
       "0        0  1.131402        4        0  \n",
       "1        1  1.175573      484        4  \n",
       "2        0  1.098612        4        0  \n",
       "3        0  1.791759     1936      784  \n",
       "4        0  1.667707       49        4  \n",
       "\n",
       "[5 rows x 24 columns]"
      ]
     },
     "execution_count": 4,
     "metadata": {},
     "output_type": "execute_result"
    }
   ],
   "source": [
    "dfej2_4= pd.read_stata('wage1.dta')\n",
    "dfej2_4.head()"
   ]
  },
  {
   "cell_type": "code",
   "execution_count": 6,
   "metadata": {},
   "outputs": [
    {
     "name": "stdout",
     "output_type": "stream",
     "text": [
      "                            OLS Regression Results                            \n",
      "==============================================================================\n",
      "Dep. Variable:                   wage   R-squared:                       0.165\n",
      "Model:                            OLS   Adj. R-squared:                  0.163\n",
      "Method:                 Least Squares   F-statistic:                     103.4\n",
      "Date:                Sat, 11 Jul 2020   Prob (F-statistic):           2.78e-22\n",
      "Time:                        11:38:35   Log-Likelihood:                -1385.7\n",
      "No. Observations:                 526   AIC:                             2775.\n",
      "Df Residuals:                     524   BIC:                             2784.\n",
      "Df Model:                           1                                         \n",
      "Covariance Type:            nonrobust                                         \n",
      "==============================================================================\n",
      "                 coef    std err          t      P>|t|      [0.025      0.975]\n",
      "------------------------------------------------------------------------------\n",
      "Intercept     -0.9049      0.685     -1.321      0.187      -2.250       0.441\n",
      "educ           0.5414      0.053     10.167      0.000       0.437       0.646\n",
      "==============================================================================\n",
      "Omnibus:                      212.554   Durbin-Watson:                   1.824\n",
      "Prob(Omnibus):                  0.000   Jarque-Bera (JB):              807.843\n",
      "Skew:                           1.861   Prob(JB):                    3.79e-176\n",
      "Kurtosis:                       7.797   Cond. No.                         60.2\n",
      "==============================================================================\n",
      "\n",
      "Warnings:\n",
      "[1] Standard Errors assume that the covariance matrix of the errors is correctly specified.\n"
     ]
    }
   ],
   "source": [
    "regdfej2_4 = smf.ols('wage ~ educ', data = dfej2_4).fit()\n",
    "print(regdfej2_4.summary())"
   ]
  },
  {
   "cell_type": "markdown",
   "metadata": {},
   "source": [
    "## Ejemplo 2.5 Resultados electorales y gastos de campaña (vote1.dta)"
   ]
  },
  {
   "cell_type": "code",
   "execution_count": 7,
   "metadata": {},
   "outputs": [
    {
     "data": {
      "text/html": [
       "<div>\n",
       "<style scoped>\n",
       "    .dataframe tbody tr th:only-of-type {\n",
       "        vertical-align: middle;\n",
       "    }\n",
       "\n",
       "    .dataframe tbody tr th {\n",
       "        vertical-align: top;\n",
       "    }\n",
       "\n",
       "    .dataframe thead th {\n",
       "        text-align: right;\n",
       "    }\n",
       "</style>\n",
       "<table border=\"1\" class=\"dataframe\">\n",
       "  <thead>\n",
       "    <tr style=\"text-align: right;\">\n",
       "      <th></th>\n",
       "      <th>state</th>\n",
       "      <th>district</th>\n",
       "      <th>democA</th>\n",
       "      <th>voteA</th>\n",
       "      <th>expendA</th>\n",
       "      <th>expendB</th>\n",
       "      <th>prtystrA</th>\n",
       "      <th>lexpendA</th>\n",
       "      <th>lexpendB</th>\n",
       "      <th>shareA</th>\n",
       "    </tr>\n",
       "  </thead>\n",
       "  <tbody>\n",
       "    <tr>\n",
       "      <th>0</th>\n",
       "      <td>AL</td>\n",
       "      <td>7</td>\n",
       "      <td>1</td>\n",
       "      <td>68</td>\n",
       "      <td>328.295990</td>\n",
       "      <td>8.737000</td>\n",
       "      <td>41</td>\n",
       "      <td>5.793916</td>\n",
       "      <td>2.167567</td>\n",
       "      <td>97.407669</td>\n",
       "    </tr>\n",
       "    <tr>\n",
       "      <th>1</th>\n",
       "      <td>AK</td>\n",
       "      <td>1</td>\n",
       "      <td>0</td>\n",
       "      <td>62</td>\n",
       "      <td>626.377014</td>\n",
       "      <td>402.476990</td>\n",
       "      <td>60</td>\n",
       "      <td>6.439952</td>\n",
       "      <td>5.997638</td>\n",
       "      <td>60.881039</td>\n",
       "    </tr>\n",
       "    <tr>\n",
       "      <th>2</th>\n",
       "      <td>AZ</td>\n",
       "      <td>2</td>\n",
       "      <td>1</td>\n",
       "      <td>73</td>\n",
       "      <td>99.607002</td>\n",
       "      <td>3.065000</td>\n",
       "      <td>55</td>\n",
       "      <td>4.601233</td>\n",
       "      <td>1.120048</td>\n",
       "      <td>97.014763</td>\n",
       "    </tr>\n",
       "    <tr>\n",
       "      <th>3</th>\n",
       "      <td>AZ</td>\n",
       "      <td>3</td>\n",
       "      <td>0</td>\n",
       "      <td>69</td>\n",
       "      <td>319.690002</td>\n",
       "      <td>26.281000</td>\n",
       "      <td>64</td>\n",
       "      <td>5.767352</td>\n",
       "      <td>3.268846</td>\n",
       "      <td>92.403702</td>\n",
       "    </tr>\n",
       "    <tr>\n",
       "      <th>4</th>\n",
       "      <td>AR</td>\n",
       "      <td>3</td>\n",
       "      <td>0</td>\n",
       "      <td>75</td>\n",
       "      <td>159.220993</td>\n",
       "      <td>60.054001</td>\n",
       "      <td>66</td>\n",
       "      <td>5.070293</td>\n",
       "      <td>4.095244</td>\n",
       "      <td>72.612473</td>\n",
       "    </tr>\n",
       "  </tbody>\n",
       "</table>\n",
       "</div>"
      ],
      "text/plain": [
       "  state  district  democA  voteA     expendA     expendB  prtystrA  lexpendA  \\\n",
       "0    AL         7       1     68  328.295990    8.737000        41  5.793916   \n",
       "1    AK         1       0     62  626.377014  402.476990        60  6.439952   \n",
       "2    AZ         2       1     73   99.607002    3.065000        55  4.601233   \n",
       "3    AZ         3       0     69  319.690002   26.281000        64  5.767352   \n",
       "4    AR         3       0     75  159.220993   60.054001        66  5.070293   \n",
       "\n",
       "   lexpendB     shareA  \n",
       "0  2.167567  97.407669  \n",
       "1  5.997638  60.881039  \n",
       "2  1.120048  97.014763  \n",
       "3  3.268846  92.403702  \n",
       "4  4.095244  72.612473  "
      ]
     },
     "execution_count": 7,
     "metadata": {},
     "output_type": "execute_result"
    }
   ],
   "source": [
    "dfej2_5= pd.read_stata('vote1.dta')\n",
    "dfej2_5.head()"
   ]
  },
  {
   "cell_type": "code",
   "execution_count": 9,
   "metadata": {},
   "outputs": [
    {
     "name": "stdout",
     "output_type": "stream",
     "text": [
      "                            OLS Regression Results                            \n",
      "==============================================================================\n",
      "Dep. Variable:                  voteA   R-squared:                       0.856\n",
      "Model:                            OLS   Adj. R-squared:                  0.855\n",
      "Method:                 Least Squares   F-statistic:                     1018.\n",
      "Date:                Sat, 11 Jul 2020   Prob (F-statistic):           6.63e-74\n",
      "Time:                        11:40:01   Log-Likelihood:                -565.20\n",
      "No. Observations:                 173   AIC:                             1134.\n",
      "Df Residuals:                     171   BIC:                             1141.\n",
      "Df Model:                           1                                         \n",
      "Covariance Type:            nonrobust                                         \n",
      "==============================================================================\n",
      "                 coef    std err          t      P>|t|      [0.025      0.975]\n",
      "------------------------------------------------------------------------------\n",
      "Intercept     26.8122      0.887     30.221      0.000      25.061      28.564\n",
      "shareA         0.4638      0.015     31.901      0.000       0.435       0.493\n",
      "==============================================================================\n",
      "Omnibus:                       20.747   Durbin-Watson:                   1.826\n",
      "Prob(Omnibus):                  0.000   Jarque-Bera (JB):               44.613\n",
      "Skew:                           0.525   Prob(JB):                     2.05e-10\n",
      "Kurtosis:                       5.255   Cond. No.                         112.\n",
      "==============================================================================\n",
      "\n",
      "Warnings:\n",
      "[1] Standard Errors assume that the covariance matrix of the errors is correctly specified.\n"
     ]
    }
   ],
   "source": [
    "regdfej2_5 = smf.ols('voteA ~ shareA', data = dfej2_5).fit()\n",
    "print(regdfej2_5.summary())"
   ]
  },
  {
   "cell_type": "markdown",
   "metadata": {},
   "source": [
    "## Ejemplo 2.6 Salario de director general y rendimiento de las acciones* (ceosal1.dta)"
   ]
  },
  {
   "cell_type": "code",
   "execution_count": null,
   "metadata": {},
   "outputs": [],
   "source": [
    "dfej2_3"
   ]
  },
  {
   "cell_type": "code",
   "execution_count": null,
   "metadata": {},
   "outputs": [],
   "source": []
  },
  {
   "cell_type": "code",
   "execution_count": null,
   "metadata": {},
   "outputs": [],
   "source": []
  },
  {
   "cell_type": "markdown",
   "metadata": {},
   "source": [
    "## Ejemplo 2.7 Salario y educación* (wage1.dta)"
   ]
  },
  {
   "cell_type": "code",
   "execution_count": null,
   "metadata": {},
   "outputs": [],
   "source": []
  },
  {
   "cell_type": "code",
   "execution_count": null,
   "metadata": {},
   "outputs": [],
   "source": []
  },
  {
   "cell_type": "markdown",
   "metadata": {},
   "source": [
    "## Ejemplo 2.8 Salario de director general y rendimiento de las acciones* (ceosal1.dta)"
   ]
  },
  {
   "cell_type": "code",
   "execution_count": null,
   "metadata": {},
   "outputs": [],
   "source": []
  },
  {
   "cell_type": "markdown",
   "metadata": {},
   "source": [
    "## Ejemplo 2.9 Resultados electorales y gastos de campaña*(vote1.dta)"
   ]
  },
  {
   "cell_type": "code",
   "execution_count": null,
   "metadata": {},
   "outputs": [],
   "source": []
  },
  {
   "cell_type": "markdown",
   "metadata": {},
   "source": [
    "## Ejemplo 2.10 Una ecuación logarítmica del salario*(wage1.dta)"
   ]
  },
  {
   "cell_type": "code",
   "execution_count": 13,
   "metadata": {},
   "outputs": [
    {
     "name": "stdout",
     "output_type": "stream",
     "text": [
      "                            OLS Regression Results                            \n",
      "==============================================================================\n",
      "Dep. Variable:           np.log(wage)   R-squared:                       0.186\n",
      "Model:                            OLS   Adj. R-squared:                  0.184\n",
      "Method:                 Least Squares   F-statistic:                     119.6\n",
      "Date:                Sat, 11 Jul 2020   Prob (F-statistic):           3.27e-25\n",
      "Time:                        11:45:51   Log-Likelihood:                -359.38\n",
      "No. Observations:                 526   AIC:                             722.8\n",
      "Df Residuals:                     524   BIC:                             731.3\n",
      "Df Model:                           1                                         \n",
      "Covariance Type:            nonrobust                                         \n",
      "==============================================================================\n",
      "                 coef    std err          t      P>|t|      [0.025      0.975]\n",
      "------------------------------------------------------------------------------\n",
      "Intercept      0.5838      0.097      5.998      0.000       0.393       0.775\n",
      "educ           0.0827      0.008     10.935      0.000       0.068       0.098\n",
      "==============================================================================\n",
      "Omnibus:                       11.804   Durbin-Watson:                   1.801\n",
      "Prob(Omnibus):                  0.003   Jarque-Bera (JB):               13.811\n",
      "Skew:                           0.268   Prob(JB):                      0.00100\n",
      "Kurtosis:                       3.586   Cond. No.                         60.2\n",
      "==============================================================================\n",
      "\n",
      "Warnings:\n",
      "[1] Standard Errors assume that the covariance matrix of the errors is correctly specified.\n"
     ]
    }
   ],
   "source": [
    "regdfej2_10 = smf.ols('np.log(wage) ~ educ', data = dfej2_4).fit()\n",
    "print(regdfej2_10.summary())"
   ]
  },
  {
   "cell_type": "markdown",
   "metadata": {},
   "source": [
    "## Ejemplo 2.11 Salario de director general y ventas de la compañía*(ceosal1.dta)"
   ]
  },
  {
   "cell_type": "code",
   "execution_count": 15,
   "metadata": {},
   "outputs": [
    {
     "name": "stdout",
     "output_type": "stream",
     "text": [
      "                            OLS Regression Results                            \n",
      "==============================================================================\n",
      "Dep. Variable:         np.log(salary)   R-squared:                       0.211\n",
      "Model:                            OLS   Adj. R-squared:                  0.207\n",
      "Method:                 Least Squares   F-statistic:                     55.30\n",
      "Date:                Sat, 11 Jul 2020   Prob (F-statistic):           2.70e-12\n",
      "Time:                        11:48:14   Log-Likelihood:                -152.50\n",
      "No. Observations:                 209   AIC:                             309.0\n",
      "Df Residuals:                     207   BIC:                             315.7\n",
      "Df Model:                           1                                         \n",
      "Covariance Type:            nonrobust                                         \n",
      "=================================================================================\n",
      "                    coef    std err          t      P>|t|      [0.025      0.975]\n",
      "---------------------------------------------------------------------------------\n",
      "Intercept         4.8220      0.288     16.723      0.000       4.254       5.390\n",
      "np.log(sales)     0.2567      0.035      7.436      0.000       0.189       0.325\n",
      "==============================================================================\n",
      "Omnibus:                       84.151   Durbin-Watson:                   1.860\n",
      "Prob(Omnibus):                  0.000   Jarque-Bera (JB):              403.831\n",
      "Skew:                           1.507   Prob(JB):                     2.04e-88\n",
      "Kurtosis:                       9.106   Cond. No.                         70.0\n",
      "==============================================================================\n",
      "\n",
      "Warnings:\n",
      "[1] Standard Errors assume that the covariance matrix of the errors is correctly specified.\n"
     ]
    }
   ],
   "source": [
    "\n",
    "regdfej2_11 = smf.ols('np.log(salary) ~ np.log(sales)', data = dfej2_3).fit()\n",
    "print(regdfej2_11.summary())"
   ]
  },
  {
   "cell_type": "markdown",
   "metadata": {},
   "source": [
    "## Ejemplo 2.12 Rendimiento de los alumnos en matemátlcas y ptograma de almuerzos en los colegios (meap93.dta)"
   ]
  },
  {
   "cell_type": "code",
   "execution_count": 17,
   "metadata": {},
   "outputs": [
    {
     "data": {
      "text/html": [
       "<div>\n",
       "<style scoped>\n",
       "    .dataframe tbody tr th:only-of-type {\n",
       "        vertical-align: middle;\n",
       "    }\n",
       "\n",
       "    .dataframe tbody tr th {\n",
       "        vertical-align: top;\n",
       "    }\n",
       "\n",
       "    .dataframe thead th {\n",
       "        text-align: right;\n",
       "    }\n",
       "</style>\n",
       "<table border=\"1\" class=\"dataframe\">\n",
       "  <thead>\n",
       "    <tr style=\"text-align: right;\">\n",
       "      <th></th>\n",
       "      <th>lnchprg</th>\n",
       "      <th>enroll</th>\n",
       "      <th>staff</th>\n",
       "      <th>expend</th>\n",
       "      <th>salary</th>\n",
       "      <th>benefits</th>\n",
       "      <th>droprate</th>\n",
       "      <th>gradrate</th>\n",
       "      <th>math10</th>\n",
       "      <th>sci11</th>\n",
       "      <th>totcomp</th>\n",
       "      <th>ltotcomp</th>\n",
       "      <th>lexpend</th>\n",
       "      <th>lenroll</th>\n",
       "      <th>lstaff</th>\n",
       "      <th>bensal</th>\n",
       "      <th>lsalary</th>\n",
       "    </tr>\n",
       "  </thead>\n",
       "  <tbody>\n",
       "    <tr>\n",
       "      <th>0</th>\n",
       "      <td>1.4</td>\n",
       "      <td>1862</td>\n",
       "      <td>112.599998</td>\n",
       "      <td>5765</td>\n",
       "      <td>37498.0</td>\n",
       "      <td>7420</td>\n",
       "      <td>2.9</td>\n",
       "      <td>89.199997</td>\n",
       "      <td>56.400002</td>\n",
       "      <td>67.900002</td>\n",
       "      <td>44918.0</td>\n",
       "      <td>10.712594</td>\n",
       "      <td>8.659560</td>\n",
       "      <td>7.529407</td>\n",
       "      <td>4.723842</td>\n",
       "      <td>0.197877</td>\n",
       "      <td>10.532043</td>\n",
       "    </tr>\n",
       "    <tr>\n",
       "      <th>1</th>\n",
       "      <td>2.3</td>\n",
       "      <td>11355</td>\n",
       "      <td>101.199997</td>\n",
       "      <td>6601</td>\n",
       "      <td>48722.0</td>\n",
       "      <td>10370</td>\n",
       "      <td>1.3</td>\n",
       "      <td>91.400002</td>\n",
       "      <td>42.700001</td>\n",
       "      <td>65.300003</td>\n",
       "      <td>59092.0</td>\n",
       "      <td>10.986851</td>\n",
       "      <td>8.794976</td>\n",
       "      <td>9.337414</td>\n",
       "      <td>4.617099</td>\n",
       "      <td>0.212840</td>\n",
       "      <td>10.793886</td>\n",
       "    </tr>\n",
       "    <tr>\n",
       "      <th>2</th>\n",
       "      <td>2.7</td>\n",
       "      <td>7685</td>\n",
       "      <td>114.000000</td>\n",
       "      <td>6834</td>\n",
       "      <td>44541.0</td>\n",
       "      <td>7313</td>\n",
       "      <td>3.5</td>\n",
       "      <td>91.400002</td>\n",
       "      <td>43.799999</td>\n",
       "      <td>54.299999</td>\n",
       "      <td>51854.0</td>\n",
       "      <td>10.856188</td>\n",
       "      <td>8.829665</td>\n",
       "      <td>8.947025</td>\n",
       "      <td>4.736198</td>\n",
       "      <td>0.164186</td>\n",
       "      <td>10.704165</td>\n",
       "    </tr>\n",
       "    <tr>\n",
       "      <th>3</th>\n",
       "      <td>3.4</td>\n",
       "      <td>1148</td>\n",
       "      <td>85.400002</td>\n",
       "      <td>3586</td>\n",
       "      <td>31566.0</td>\n",
       "      <td>5989</td>\n",
       "      <td>3.6</td>\n",
       "      <td>86.599998</td>\n",
       "      <td>25.299999</td>\n",
       "      <td>60.000000</td>\n",
       "      <td>37555.0</td>\n",
       "      <td>10.533562</td>\n",
       "      <td>8.184793</td>\n",
       "      <td>7.045776</td>\n",
       "      <td>4.447346</td>\n",
       "      <td>0.189729</td>\n",
       "      <td>10.359836</td>\n",
       "    </tr>\n",
       "    <tr>\n",
       "      <th>4</th>\n",
       "      <td>3.4</td>\n",
       "      <td>1572</td>\n",
       "      <td>96.099998</td>\n",
       "      <td>3847</td>\n",
       "      <td>29781.0</td>\n",
       "      <td>5545</td>\n",
       "      <td>0.0</td>\n",
       "      <td>100.000000</td>\n",
       "      <td>15.300000</td>\n",
       "      <td>65.800003</td>\n",
       "      <td>35326.0</td>\n",
       "      <td>10.472375</td>\n",
       "      <td>8.255049</td>\n",
       "      <td>7.360104</td>\n",
       "      <td>4.565389</td>\n",
       "      <td>0.186193</td>\n",
       "      <td>10.301626</td>\n",
       "    </tr>\n",
       "  </tbody>\n",
       "</table>\n",
       "</div>"
      ],
      "text/plain": [
       "   lnchprg  enroll       staff  expend   salary  benefits  droprate  \\\n",
       "0      1.4    1862  112.599998    5765  37498.0      7420       2.9   \n",
       "1      2.3   11355  101.199997    6601  48722.0     10370       1.3   \n",
       "2      2.7    7685  114.000000    6834  44541.0      7313       3.5   \n",
       "3      3.4    1148   85.400002    3586  31566.0      5989       3.6   \n",
       "4      3.4    1572   96.099998    3847  29781.0      5545       0.0   \n",
       "\n",
       "     gradrate     math10      sci11  totcomp   ltotcomp   lexpend   lenroll  \\\n",
       "0   89.199997  56.400002  67.900002  44918.0  10.712594  8.659560  7.529407   \n",
       "1   91.400002  42.700001  65.300003  59092.0  10.986851  8.794976  9.337414   \n",
       "2   91.400002  43.799999  54.299999  51854.0  10.856188  8.829665  8.947025   \n",
       "3   86.599998  25.299999  60.000000  37555.0  10.533562  8.184793  7.045776   \n",
       "4  100.000000  15.300000  65.800003  35326.0  10.472375  8.255049  7.360104   \n",
       "\n",
       "     lstaff    bensal    lsalary  \n",
       "0  4.723842  0.197877  10.532043  \n",
       "1  4.617099  0.212840  10.793886  \n",
       "2  4.736198  0.164186  10.704165  \n",
       "3  4.447346  0.189729  10.359836  \n",
       "4  4.565389  0.186193  10.301626  "
      ]
     },
     "execution_count": 17,
     "metadata": {},
     "output_type": "execute_result"
    }
   ],
   "source": [
    "dfej2_12= pd.read_stata('meap93.dta')\n",
    "dfej2_12.head()"
   ]
  },
  {
   "cell_type": "code",
   "execution_count": 18,
   "metadata": {},
   "outputs": [
    {
     "name": "stdout",
     "output_type": "stream",
     "text": [
      "                            OLS Regression Results                            \n",
      "==============================================================================\n",
      "Dep. Variable:                 math10   R-squared:                       0.171\n",
      "Model:                            OLS   Adj. R-squared:                  0.169\n",
      "Method:                 Least Squares   F-statistic:                     83.77\n",
      "Date:                Sat, 11 Jul 2020   Prob (F-statistic):           2.75e-18\n",
      "Time:                        11:50:35   Log-Likelihood:                -1499.3\n",
      "No. Observations:                 408   AIC:                             3003.\n",
      "Df Residuals:                     406   BIC:                             3011.\n",
      "Df Model:                           1                                         \n",
      "Covariance Type:            nonrobust                                         \n",
      "==============================================================================\n",
      "                 coef    std err          t      P>|t|      [0.025      0.975]\n",
      "------------------------------------------------------------------------------\n",
      "Intercept     32.1427      0.998     32.221      0.000      30.182      34.104\n",
      "lnchprg       -0.3189      0.035     -9.152      0.000      -0.387      -0.250\n",
      "==============================================================================\n",
      "Omnibus:                       61.162   Durbin-Watson:                   1.908\n",
      "Prob(Omnibus):                  0.000   Jarque-Bera (JB):              105.062\n",
      "Skew:                           0.886   Prob(JB):                     1.53e-23\n",
      "Kurtosis:                       4.743   Cond. No.                         60.4\n",
      "==============================================================================\n",
      "\n",
      "Warnings:\n",
      "[1] Standard Errors assume that the covariance matrix of the errors is correctly specified.\n"
     ]
    }
   ],
   "source": [
    "regdfej2_12 = smf.ols('math10 ~ lnchprg', data = dfej2_12).fit()\n",
    "print(regdfej2_12.summary())"
   ]
  },
  {
   "cell_type": "code",
   "execution_count": null,
   "metadata": {},
   "outputs": [],
   "source": []
  },
  {
   "cell_type": "code",
   "execution_count": null,
   "metadata": {},
   "outputs": [],
   "source": [
    "# Supuestos"
   ]
  },
  {
   "cell_type": "code",
   "execution_count": null,
   "metadata": {},
   "outputs": [],
   "source": [
    "# TEst de los supuestos"
   ]
  },
  {
   "cell_type": "code",
   "execution_count": null,
   "metadata": {},
   "outputs": [],
   "source": [
    "#  TEst t, F, Wald, Hausman ( o cualquiera de endogeneidad), Hetero , Autocorr, TEst normalidad, Gauss Markov"
   ]
  },
  {
   "cell_type": "code",
   "execution_count": null,
   "metadata": {},
   "outputs": [],
   "source": [
    "# Demostraciones"
   ]
  },
  {
   "cell_type": "code",
   "execution_count": null,
   "metadata": {},
   "outputs": [],
   "source": [
    "# Presentacón"
   ]
  },
  {
   "cell_type": "code",
   "execution_count": null,
   "metadata": {},
   "outputs": [],
   "source": []
  },
  {
   "cell_type": "code",
   "execution_count": null,
   "metadata": {},
   "outputs": [],
   "source": []
  },
  {
   "cell_type": "code",
   "execution_count": null,
   "metadata": {},
   "outputs": [],
   "source": []
  }
 ],
 "metadata": {
  "kernelspec": {
   "display_name": "Python 3 (ipykernel)",
   "language": "python",
   "name": "python3"
  },
  "language_info": {
   "codemirror_mode": {
    "name": "ipython",
    "version": 3
   },
   "file_extension": ".py",
   "mimetype": "text/x-python",
   "name": "python",
   "nbconvert_exporter": "python",
   "pygments_lexer": "ipython3",
   "version": "3.12.4"
  }
 },
 "nbformat": 4,
 "nbformat_minor": 4
}
