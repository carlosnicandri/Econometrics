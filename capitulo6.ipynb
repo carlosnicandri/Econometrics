{
 "cells": [
  {
   "cell_type": "code",
   "execution_count": 1,
   "metadata": {},
   "outputs": [
    {
     "name": "stderr",
     "output_type": "stream",
     "text": [
      "c:\\python\\lib\\site-packages\\statsmodels\\compat\\pandas.py:49: FutureWarning: The Panel class is removed from pandas. Accessing it from the top-level namespace will also be removed in the next version\n",
      "  data_klasses = (pandas.Series, pandas.DataFrame, pandas.Panel)\n"
     ]
    }
   ],
   "source": [
    "import pandas as pd\n",
    "import numpy as np\n",
    "import statsmodels.api as sm\n",
    "import statsmodels.formula.api as smf"
   ]
  },
  {
   "cell_type": "markdown",
   "metadata": {},
   "source": [
    "## Ejemplo 6.1 Efectos de la contamlnación en los precios de la vlvienda (hprice2.dta)"
   ]
  },
  {
   "cell_type": "code",
   "execution_count": 2,
   "metadata": {},
   "outputs": [
    {
     "data": {
      "text/html": [
       "<div>\n",
       "<style scoped>\n",
       "    .dataframe tbody tr th:only-of-type {\n",
       "        vertical-align: middle;\n",
       "    }\n",
       "\n",
       "    .dataframe tbody tr th {\n",
       "        vertical-align: top;\n",
       "    }\n",
       "\n",
       "    .dataframe thead th {\n",
       "        text-align: right;\n",
       "    }\n",
       "</style>\n",
       "<table border=\"1\" class=\"dataframe\">\n",
       "  <thead>\n",
       "    <tr style=\"text-align: right;\">\n",
       "      <th></th>\n",
       "      <th>price</th>\n",
       "      <th>crime</th>\n",
       "      <th>nox</th>\n",
       "      <th>rooms</th>\n",
       "      <th>dist</th>\n",
       "      <th>radial</th>\n",
       "      <th>proptax</th>\n",
       "      <th>stratio</th>\n",
       "      <th>lowstat</th>\n",
       "      <th>lprice</th>\n",
       "      <th>lnox</th>\n",
       "      <th>lproptax</th>\n",
       "    </tr>\n",
       "  </thead>\n",
       "  <tbody>\n",
       "    <tr>\n",
       "      <th>0</th>\n",
       "      <td>24000.0</td>\n",
       "      <td>0.006</td>\n",
       "      <td>5.38</td>\n",
       "      <td>6.57</td>\n",
       "      <td>4.09</td>\n",
       "      <td>1</td>\n",
       "      <td>29.600000</td>\n",
       "      <td>15.300000</td>\n",
       "      <td>4.98</td>\n",
       "      <td>10.085809</td>\n",
       "      <td>1.682688</td>\n",
       "      <td>5.690360</td>\n",
       "    </tr>\n",
       "    <tr>\n",
       "      <th>1</th>\n",
       "      <td>21599.0</td>\n",
       "      <td>0.027</td>\n",
       "      <td>4.69</td>\n",
       "      <td>6.42</td>\n",
       "      <td>4.97</td>\n",
       "      <td>2</td>\n",
       "      <td>24.200001</td>\n",
       "      <td>17.799999</td>\n",
       "      <td>9.14</td>\n",
       "      <td>9.980402</td>\n",
       "      <td>1.545433</td>\n",
       "      <td>5.488938</td>\n",
       "    </tr>\n",
       "    <tr>\n",
       "      <th>2</th>\n",
       "      <td>34700.0</td>\n",
       "      <td>0.027</td>\n",
       "      <td>4.69</td>\n",
       "      <td>7.18</td>\n",
       "      <td>4.97</td>\n",
       "      <td>2</td>\n",
       "      <td>24.200001</td>\n",
       "      <td>17.799999</td>\n",
       "      <td>4.03</td>\n",
       "      <td>10.454495</td>\n",
       "      <td>1.545433</td>\n",
       "      <td>5.488938</td>\n",
       "    </tr>\n",
       "    <tr>\n",
       "      <th>3</th>\n",
       "      <td>33400.0</td>\n",
       "      <td>0.032</td>\n",
       "      <td>4.58</td>\n",
       "      <td>7.00</td>\n",
       "      <td>6.06</td>\n",
       "      <td>3</td>\n",
       "      <td>22.200001</td>\n",
       "      <td>18.700001</td>\n",
       "      <td>2.94</td>\n",
       "      <td>10.416311</td>\n",
       "      <td>1.521699</td>\n",
       "      <td>5.402678</td>\n",
       "    </tr>\n",
       "    <tr>\n",
       "      <th>4</th>\n",
       "      <td>36199.0</td>\n",
       "      <td>0.069</td>\n",
       "      <td>4.58</td>\n",
       "      <td>7.15</td>\n",
       "      <td>6.06</td>\n",
       "      <td>3</td>\n",
       "      <td>22.200001</td>\n",
       "      <td>18.700001</td>\n",
       "      <td>5.33</td>\n",
       "      <td>10.496787</td>\n",
       "      <td>1.521699</td>\n",
       "      <td>5.402678</td>\n",
       "    </tr>\n",
       "  </tbody>\n",
       "</table>\n",
       "</div>"
      ],
      "text/plain": [
       "     price  crime   nox  rooms  dist  radial    proptax    stratio  lowstat  \\\n",
       "0  24000.0  0.006  5.38   6.57  4.09       1  29.600000  15.300000     4.98   \n",
       "1  21599.0  0.027  4.69   6.42  4.97       2  24.200001  17.799999     9.14   \n",
       "2  34700.0  0.027  4.69   7.18  4.97       2  24.200001  17.799999     4.03   \n",
       "3  33400.0  0.032  4.58   7.00  6.06       3  22.200001  18.700001     2.94   \n",
       "4  36199.0  0.069  4.58   7.15  6.06       3  22.200001  18.700001     5.33   \n",
       "\n",
       "      lprice      lnox  lproptax  \n",
       "0  10.085809  1.682688  5.690360  \n",
       "1   9.980402  1.545433  5.488938  \n",
       "2  10.454495  1.545433  5.488938  \n",
       "3  10.416311  1.521699  5.402678  \n",
       "4  10.496787  1.521699  5.402678  "
      ]
     },
     "execution_count": 2,
     "metadata": {},
     "output_type": "execute_result"
    }
   ],
   "source": [
    "dfej6_1= pd.read_stata('hprice2.dta')\n",
    "dfej6_1.head()"
   ]
  },
  {
   "cell_type": "code",
   "execution_count": 7,
   "metadata": {},
   "outputs": [
    {
     "name": "stdout",
     "output_type": "stream",
     "text": [
      "                            OLS Regression Results                            \n",
      "==============================================================================\n",
      "Dep. Variable:                  price   R-squared:                       0.636\n",
      "Model:                            OLS   Adj. R-squared:                  0.632\n",
      "Method:                 Least Squares   F-statistic:                     174.5\n",
      "Date:                Sat, 11 Jul 2020   Prob (F-statistic):          3.61e-107\n",
      "Time:                        18:26:20   Log-Likelihood:                -5080.8\n",
      "No. Observations:                 506   AIC:                         1.017e+04\n",
      "Df Residuals:                     500   BIC:                         1.020e+04\n",
      "Df Model:                           5                                         \n",
      "Covariance Type:            nonrobust                                         \n",
      "==============================================================================\n",
      "                 coef    std err          t      P>|t|      [0.025      0.975]\n",
      "------------------------------------------------------------------------------\n",
      "Intercept   2.087e+04   5054.599      4.129      0.000    1.09e+04    3.08e+04\n",
      "nox        -2706.4326    354.087     -7.643      0.000   -3402.114   -2010.751\n",
      "crime       -153.6010     32.929     -4.665      0.000    -218.297     -88.905\n",
      "rooms       6735.4983    393.604     17.112      0.000    5962.177    7508.819\n",
      "dist       -1026.8063    188.108     -5.459      0.000   -1396.386    -657.227\n",
      "stratio    -1149.2038    127.429     -9.018      0.000   -1399.566    -898.842\n",
      "==============================================================================\n",
      "Omnibus:                      272.145   Durbin-Watson:                   0.865\n",
      "Prob(Omnibus):                  0.000   Jarque-Bera (JB):             2647.578\n",
      "Skew:                           2.150   Prob(JB):                         0.00\n",
      "Kurtosis:                      13.348   Cond. No.                         432.\n",
      "==============================================================================\n",
      "\n",
      "Warnings:\n",
      "[1] Standard Errors assume that the covariance matrix of the errors is correctly specified.\n"
     ]
    }
   ],
   "source": [
    "regdfej6_1 = smf.ols('price ~ nox + crime + rooms + dist + stratio', data = dfej6_1).fit() \n",
    "print(regdfej6_1.summary())"
   ]
  },
  {
   "cell_type": "code",
   "execution_count": 9,
   "metadata": {},
   "outputs": [],
   "source": [
    "from scipy.stats import zscore"
   ]
  },
  {
   "cell_type": "code",
   "execution_count": 11,
   "metadata": {},
   "outputs": [],
   "source": [
    "# convierte todos los valores del dataframe en tipificados, es decir, z scores\n",
    "df61 = dfej6_1.apply(zscore)"
   ]
  },
  {
   "cell_type": "code",
   "execution_count": 12,
   "metadata": {},
   "outputs": [
    {
     "name": "stdout",
     "output_type": "stream",
     "text": [
      "                            OLS Regression Results                            \n",
      "==============================================================================\n",
      "Dep. Variable:                  price   R-squared:                       0.636\n",
      "Model:                            OLS   Adj. R-squared:                  0.632\n",
      "Method:                 Least Squares   F-statistic:                     174.5\n",
      "Date:                Sat, 11 Jul 2020   Prob (F-statistic):          3.61e-107\n",
      "Time:                        18:53:57   Log-Likelihood:                -462.53\n",
      "No. Observations:                 506   AIC:                             937.1\n",
      "Df Residuals:                     500   BIC:                             962.4\n",
      "Df Model:                           5                                         \n",
      "Covariance Type:            nonrobust                                         \n",
      "==============================================================================\n",
      "                 coef    std err          t      P>|t|      [0.025      0.975]\n",
      "------------------------------------------------------------------------------\n",
      "Intercept   1.556e-07      0.027   5.77e-06      1.000      -0.053       0.053\n",
      "nox           -0.3404      0.045     -7.643      0.000      -0.428      -0.253\n",
      "crime         -0.1433      0.031     -4.665      0.000      -0.204      -0.083\n",
      "rooms          0.5139      0.030     17.112      0.000       0.455       0.573\n",
      "dist          -0.2348      0.043     -5.459      0.000      -0.319      -0.150\n",
      "stratio       -0.2703      0.030     -9.018      0.000      -0.329      -0.211\n",
      "==============================================================================\n",
      "Omnibus:                      272.145   Durbin-Watson:                   0.865\n",
      "Prob(Omnibus):                  0.000   Jarque-Bera (JB):             2647.578\n",
      "Skew:                           2.150   Prob(JB):                         0.00\n",
      "Kurtosis:                      13.348   Cond. No.                         3.33\n",
      "==============================================================================\n",
      "\n",
      "Warnings:\n",
      "[1] Standard Errors assume that the covariance matrix of the errors is correctly specified.\n"
     ]
    }
   ],
   "source": [
    "regdfej6_1z = smf.ols('price ~ nox + crime + rooms + dist + stratio', data = df61).fit() \n",
    "print(regdfej6_1z.summary())"
   ]
  },
  {
   "cell_type": "markdown",
   "metadata": {},
   "source": [
    "## Ejemplo 6.2 Efectos de la contamlnaclón sobre los precios de la vlvlenda* (hprice2.dta)"
   ]
  },
  {
   "cell_type": "code",
   "execution_count": 3,
   "metadata": {},
   "outputs": [
    {
     "name": "stdout",
     "output_type": "stream",
     "text": [
      "                            OLS Regression Results                            \n",
      "==============================================================================\n",
      "Dep. Variable:          np.log(price)   R-squared:                       0.603\n",
      "Model:                            OLS   Adj. R-squared:                  0.599\n",
      "Method:                 Least Squares   F-statistic:                     151.8\n",
      "Date:                Wed, 06 Oct 2021   Prob (F-statistic):           7.89e-98\n",
      "Time:                        14:29:47   Log-Likelihood:                -31.806\n",
      "No. Observations:                 506   AIC:                             75.61\n",
      "Df Residuals:                     500   BIC:                             101.0\n",
      "Df Model:                           5                                         \n",
      "Covariance Type:            nonrobust                                         \n",
      "====================================================================================\n",
      "                       coef    std err          t      P>|t|      [0.025      0.975]\n",
      "------------------------------------------------------------------------------------\n",
      "Intercept           13.3855      0.566     23.629      0.000      12.273      14.498\n",
      "np.log(nox)         -0.9017      0.115     -7.862      0.000      -1.127      -0.676\n",
      "np.log(dist)        -0.0868      0.043     -2.005      0.045      -0.172      -0.002\n",
      "rooms               -0.5451      0.165     -3.295      0.001      -0.870      -0.220\n",
      "np.square(rooms)     0.0623      0.013      4.862      0.000       0.037       0.087\n",
      "stratio             -0.0476      0.006     -8.129      0.000      -0.059      -0.036\n",
      "==============================================================================\n",
      "Omnibus:                       56.649   Durbin-Watson:                   0.691\n",
      "Prob(Omnibus):                  0.000   Jarque-Bera (JB):              384.168\n",
      "Skew:                          -0.100   Prob(JB):                     3.79e-84\n",
      "Kurtosis:                       7.264   Cond. No.                     2.30e+03\n",
      "==============================================================================\n",
      "\n",
      "Warnings:\n",
      "[1] Standard Errors assume that the covariance matrix of the errors is correctly specified.\n",
      "[2] The condition number is large, 2.3e+03. This might indicate that there are\n",
      "strong multicollinearity or other numerical problems.\n"
     ]
    }
   ],
   "source": [
    "regdfej6_2 = smf.ols('np.log(price) ~ np.log(nox) + np.log(dist)+ rooms + np.square(rooms) + stratio', data = dfej6_1).fit() \n",
    "print(regdfej6_2.summary())"
   ]
  },
  {
   "cell_type": "code",
   "execution_count": 9,
   "metadata": {},
   "outputs": [
    {
     "data": {
      "text/plain": [
       "Intercept           13.385477\n",
       "np.log(nox)         -0.901682\n",
       "np.log(dist)        -0.086781\n",
       "rooms               -0.545113\n",
       "np.square(rooms)     0.062261\n",
       "stratio             -0.047590\n",
       "dtype: float64"
      ]
     },
     "execution_count": 9,
     "metadata": {},
     "output_type": "execute_result"
    }
   ],
   "source": [
    "regdfej6_2.params"
   ]
  },
  {
   "cell_type": "code",
   "execution_count": 4,
   "metadata": {},
   "outputs": [
    {
     "data": {
      "text/plain": [
       "-0.5451127871831934"
      ]
     },
     "execution_count": 4,
     "metadata": {},
     "output_type": "execute_result"
    }
   ],
   "source": [
    "regdfej6_2.params[3]"
   ]
  },
  {
   "cell_type": "code",
   "execution_count": 5,
   "metadata": {},
   "outputs": [
    {
     "data": {
      "text/plain": [
       "0.062261185880781424"
      ]
     },
     "execution_count": 5,
     "metadata": {},
     "output_type": "execute_result"
    }
   ],
   "source": [
    "regdfej6_2.params[4]"
   ]
  },
  {
   "cell_type": "markdown",
   "metadata": {},
   "source": [
    "$dlog(price)/d (rooms) = \\hat \\beta_{3} + 2 \\hat \\beta_{4} (roons)$"
   ]
  },
  {
   "cell_type": "code",
   "execution_count": null,
   "metadata": {},
   "outputs": [],
   "source": [
    "# para rooms = 5"
   ]
  },
  {
   "cell_type": "code",
   "execution_count": 10,
   "metadata": {},
   "outputs": [
    {
     "data": {
      "text/plain": [
       "0.07749907162462077"
      ]
     },
     "execution_count": 10,
     "metadata": {},
     "output_type": "execute_result"
    }
   ],
   "source": [
    "regdfej6_2.params[3]+2*regdfej6_2.params[4]*5"
   ]
  },
  {
   "cell_type": "code",
   "execution_count": null,
   "metadata": {},
   "outputs": [],
   "source": [
    "# El punto de inflexión"
   ]
  },
  {
   "cell_type": "code",
   "execution_count": 8,
   "metadata": {},
   "outputs": [
    {
     "data": {
      "text/plain": [
       "4.377629332558674"
      ]
     },
     "execution_count": 8,
     "metadata": {},
     "output_type": "execute_result"
    }
   ],
   "source": [
    "np.absolute(regdfej6_2.params[3]/(2*regdfej6_2.params[4]))"
   ]
  },
  {
   "cell_type": "code",
   "execution_count": null,
   "metadata": {},
   "outputs": [],
   "source": []
  },
  {
   "cell_type": "code",
   "execution_count": null,
   "metadata": {},
   "outputs": [],
   "source": []
  },
  {
   "cell_type": "code",
   "execution_count": null,
   "metadata": {},
   "outputs": [],
   "source": []
  },
  {
   "cell_type": "code",
   "execution_count": null,
   "metadata": {},
   "outputs": [],
   "source": []
  },
  {
   "cell_type": "markdown",
   "metadata": {},
   "source": [
    "## Ejemplo 6.3 Efectos de la asistencia en la calificación del examen final (attend.dta)"
   ]
  },
  {
   "cell_type": "code",
   "execution_count": 2,
   "metadata": {},
   "outputs": [
    {
     "data": {
      "text/html": [
       "<div>\n",
       "<style scoped>\n",
       "    .dataframe tbody tr th:only-of-type {\n",
       "        vertical-align: middle;\n",
       "    }\n",
       "\n",
       "    .dataframe tbody tr th {\n",
       "        vertical-align: top;\n",
       "    }\n",
       "\n",
       "    .dataframe thead th {\n",
       "        text-align: right;\n",
       "    }\n",
       "</style>\n",
       "<table border=\"1\" class=\"dataframe\">\n",
       "  <thead>\n",
       "    <tr style=\"text-align: right;\">\n",
       "      <th></th>\n",
       "      <th>attend</th>\n",
       "      <th>termgpa</th>\n",
       "      <th>priGPA</th>\n",
       "      <th>ACT</th>\n",
       "      <th>final</th>\n",
       "      <th>atndrte</th>\n",
       "      <th>hwrte</th>\n",
       "      <th>frosh</th>\n",
       "      <th>soph</th>\n",
       "      <th>skipped</th>\n",
       "      <th>stndfnl</th>\n",
       "    </tr>\n",
       "  </thead>\n",
       "  <tbody>\n",
       "    <tr>\n",
       "      <th>0</th>\n",
       "      <td>27</td>\n",
       "      <td>3.19</td>\n",
       "      <td>2.64</td>\n",
       "      <td>23</td>\n",
       "      <td>28</td>\n",
       "      <td>84.375</td>\n",
       "      <td>100.0</td>\n",
       "      <td>0</td>\n",
       "      <td>1</td>\n",
       "      <td>5</td>\n",
       "      <td>0.472689</td>\n",
       "    </tr>\n",
       "    <tr>\n",
       "      <th>1</th>\n",
       "      <td>22</td>\n",
       "      <td>2.73</td>\n",
       "      <td>3.52</td>\n",
       "      <td>25</td>\n",
       "      <td>26</td>\n",
       "      <td>68.750</td>\n",
       "      <td>87.5</td>\n",
       "      <td>0</td>\n",
       "      <td>0</td>\n",
       "      <td>10</td>\n",
       "      <td>0.052521</td>\n",
       "    </tr>\n",
       "    <tr>\n",
       "      <th>2</th>\n",
       "      <td>30</td>\n",
       "      <td>3.00</td>\n",
       "      <td>2.46</td>\n",
       "      <td>24</td>\n",
       "      <td>30</td>\n",
       "      <td>93.750</td>\n",
       "      <td>87.5</td>\n",
       "      <td>0</td>\n",
       "      <td>0</td>\n",
       "      <td>2</td>\n",
       "      <td>0.892857</td>\n",
       "    </tr>\n",
       "    <tr>\n",
       "      <th>3</th>\n",
       "      <td>31</td>\n",
       "      <td>2.04</td>\n",
       "      <td>2.61</td>\n",
       "      <td>20</td>\n",
       "      <td>27</td>\n",
       "      <td>96.875</td>\n",
       "      <td>100.0</td>\n",
       "      <td>0</td>\n",
       "      <td>1</td>\n",
       "      <td>1</td>\n",
       "      <td>0.262605</td>\n",
       "    </tr>\n",
       "    <tr>\n",
       "      <th>4</th>\n",
       "      <td>32</td>\n",
       "      <td>3.68</td>\n",
       "      <td>3.32</td>\n",
       "      <td>23</td>\n",
       "      <td>34</td>\n",
       "      <td>100.000</td>\n",
       "      <td>100.0</td>\n",
       "      <td>0</td>\n",
       "      <td>1</td>\n",
       "      <td>0</td>\n",
       "      <td>1.733193</td>\n",
       "    </tr>\n",
       "  </tbody>\n",
       "</table>\n",
       "</div>"
      ],
      "text/plain": [
       "   attend  termgpa  priGPA  ACT  final  atndrte  hwrte  frosh  soph  skipped  \\\n",
       "0      27     3.19    2.64   23     28   84.375  100.0      0     1        5   \n",
       "1      22     2.73    3.52   25     26   68.750   87.5      0     0       10   \n",
       "2      30     3.00    2.46   24     30   93.750   87.5      0     0        2   \n",
       "3      31     2.04    2.61   20     27   96.875  100.0      0     1        1   \n",
       "4      32     3.68    3.32   23     34  100.000  100.0      0     1        0   \n",
       "\n",
       "    stndfnl  \n",
       "0  0.472689  \n",
       "1  0.052521  \n",
       "2  0.892857  \n",
       "3  0.262605  \n",
       "4  1.733193  "
      ]
     },
     "execution_count": 2,
     "metadata": {},
     "output_type": "execute_result"
    }
   ],
   "source": [
    "dfej6_3= pd.read_stata('attend.dta')\n",
    " dfej6_3.ACT.head()"
   ]
  },
  {
   "cell_type": "code",
   "execution_count": 45,
   "metadata": {},
   "outputs": [
    {
     "data": {
      "text/plain": [
       "attend        int8\n",
       "termgpa    float32\n",
       "priGPA     float32\n",
       "ACT        float64\n",
       "final         int8\n",
       "atndrte    float32\n",
       "hwrte      float32\n",
       "frosh         int8\n",
       "soph          int8\n",
       "skipped       int8\n",
       "stndfnl    float32\n",
       "ACTs          int8\n",
       "dtype: object"
      ]
     },
     "execution_count": 45,
     "metadata": {},
     "output_type": "execute_result"
    }
   ],
   "source": [
    "dfej6_3.dtypes"
   ]
  },
  {
   "cell_type": "code",
   "execution_count": 44,
   "metadata": {},
   "outputs": [],
   "source": [
    "dfej6_3['ACT'] = dfej6_3['ACT'].astype(float)"
   ]
  },
  {
   "cell_type": "code",
   "execution_count": 47,
   "metadata": {},
   "outputs": [],
   "source": [
    "dfej6_3['attend'] = dfej6_3['attend'].astype(float)"
   ]
  },
  {
   "cell_type": "code",
   "execution_count": 48,
   "metadata": {},
   "outputs": [],
   "source": [
    "dfej6_3['final'] = dfej6_3['final'].astype(float)"
   ]
  },
  {
   "cell_type": "code",
   "execution_count": null,
   "metadata": {},
   "outputs": [],
   "source": [
    "#Ojo con el error. Si es entero, en este caso, quizás por el trabajo acumulado del kernel, a los enteros no les salía \n",
    "# el cuadrado . Por ejemplo en ACT(23 *23 = 17)"
   ]
  },
  {
   "cell_type": "code",
   "execution_count": null,
   "metadata": {},
   "outputs": [],
   "source": []
  },
  {
   "cell_type": "code",
   "execution_count": null,
   "metadata": {},
   "outputs": [],
   "source": []
  },
  {
   "cell_type": "code",
   "execution_count": 25,
   "metadata": {},
   "outputs": [],
   "source": []
  },
  {
   "cell_type": "code",
   "execution_count": null,
   "metadata": {},
   "outputs": [],
   "source": []
  },
  {
   "cell_type": "code",
   "execution_count": null,
   "metadata": {},
   "outputs": [],
   "source": []
  },
  {
   "cell_type": "code",
   "execution_count": null,
   "metadata": {},
   "outputs": [],
   "source": []
  },
  {
   "cell_type": "code",
   "execution_count": null,
   "metadata": {},
   "outputs": [],
   "source": []
  },
  {
   "cell_type": "code",
   "execution_count": null,
   "metadata": {},
   "outputs": [],
   "source": []
  },
  {
   "cell_type": "code",
   "execution_count": 49,
   "metadata": {},
   "outputs": [
    {
     "name": "stdout",
     "output_type": "stream",
     "text": [
      "                            OLS Regression Results                            \n",
      "==============================================================================\n",
      "Dep. Variable:                stndfnl   R-squared:                       0.229\n",
      "Model:                            OLS   Adj. R-squared:                  0.222\n",
      "Method:                 Least Squares   F-statistic:                     33.25\n",
      "Date:                Sat, 11 Jul 2020   Prob (F-statistic):           3.49e-35\n",
      "Time:                        21:35:40   Log-Likelihood:                -868.90\n",
      "No. Observations:                 680   AIC:                             1752.\n",
      "Df Residuals:                     673   BIC:                             1783.\n",
      "Df Model:                           6                                         \n",
      "Covariance Type:            nonrobust                                         \n",
      "=======================================================================================\n",
      "                          coef    std err          t      P>|t|      [0.025      0.975]\n",
      "---------------------------------------------------------------------------------------\n",
      "Intercept               2.0503      1.360      1.507      0.132      -0.621       4.721\n",
      "atndrte                -0.0067      0.010     -0.656      0.512      -0.027       0.013\n",
      "priGPA                 -1.6285      0.481     -3.386      0.001      -2.573      -0.684\n",
      "ACT                    -0.1280      0.098     -1.300      0.194      -0.321       0.065\n",
      "np.power(priGPA, 2)     0.2959      0.101      2.928      0.004       0.097       0.494\n",
      "np.power(ACT, 2)        0.0045      0.002      2.083      0.038       0.000       0.009\n",
      "priGPA:atndrte          0.0056      0.004      1.294      0.196      -0.003       0.014\n",
      "==============================================================================\n",
      "Omnibus:                        2.581   Durbin-Watson:                   2.279\n",
      "Prob(Omnibus):                  0.275   Jarque-Bera (JB):                2.474\n",
      "Skew:                          -0.095   Prob(JB):                        0.290\n",
      "Kurtosis:                       3.226   Cond. No.                     2.43e+04\n",
      "==============================================================================\n",
      "\n",
      "Warnings:\n",
      "[1] Standard Errors assume that the covariance matrix of the errors is correctly specified.\n",
      "[2] The condition number is large, 2.43e+04. This might indicate that there are\n",
      "strong multicollinearity or other numerical problems.\n"
     ]
    }
   ],
   "source": [
    "regdfej6_3 = smf.ols('stndfnl ~ atndrte + priGPA + ACT + np.power(priGPA,2) + np.power(ACT,2) + priGPA*atndrte ', data = dfej6_3).fit() \n",
    "print(regdfej6_3.summary())"
   ]
  },
  {
   "cell_type": "code",
   "execution_count": null,
   "metadata": {},
   "outputs": [],
   "source": []
  },
  {
   "cell_type": "code",
   "execution_count": null,
   "metadata": {},
   "outputs": [],
   "source": []
  },
  {
   "cell_type": "code",
   "execution_count": null,
   "metadata": {},
   "outputs": [],
   "source": []
  },
  {
   "cell_type": "markdown",
   "metadata": {},
   "source": [
    "## Ejemplo 6.4 Salarios de los directores eiecutivos y resultados de la empresa (ceosal1.dta)"
   ]
  },
  {
   "cell_type": "code",
   "execution_count": 6,
   "metadata": {},
   "outputs": [
    {
     "data": {
      "text/html": [
       "<div>\n",
       "<style scoped>\n",
       "    .dataframe tbody tr th:only-of-type {\n",
       "        vertical-align: middle;\n",
       "    }\n",
       "\n",
       "    .dataframe tbody tr th {\n",
       "        vertical-align: top;\n",
       "    }\n",
       "\n",
       "    .dataframe thead th {\n",
       "        text-align: right;\n",
       "    }\n",
       "</style>\n",
       "<table border=\"1\" class=\"dataframe\">\n",
       "  <thead>\n",
       "    <tr style=\"text-align: right;\">\n",
       "      <th></th>\n",
       "      <th>salary</th>\n",
       "      <th>pcsalary</th>\n",
       "      <th>sales</th>\n",
       "      <th>roe</th>\n",
       "      <th>pcroe</th>\n",
       "      <th>ros</th>\n",
       "      <th>indus</th>\n",
       "      <th>finance</th>\n",
       "      <th>consprod</th>\n",
       "      <th>utility</th>\n",
       "      <th>lsalary</th>\n",
       "      <th>lsales</th>\n",
       "    </tr>\n",
       "  </thead>\n",
       "  <tbody>\n",
       "    <tr>\n",
       "      <th>0</th>\n",
       "      <td>1095</td>\n",
       "      <td>20</td>\n",
       "      <td>27595.000000</td>\n",
       "      <td>14.1</td>\n",
       "      <td>106.400002</td>\n",
       "      <td>191</td>\n",
       "      <td>1</td>\n",
       "      <td>0</td>\n",
       "      <td>0</td>\n",
       "      <td>0</td>\n",
       "      <td>6.998509</td>\n",
       "      <td>10.225389</td>\n",
       "    </tr>\n",
       "    <tr>\n",
       "      <th>1</th>\n",
       "      <td>1001</td>\n",
       "      <td>32</td>\n",
       "      <td>9958.000000</td>\n",
       "      <td>10.9</td>\n",
       "      <td>-30.600000</td>\n",
       "      <td>13</td>\n",
       "      <td>1</td>\n",
       "      <td>0</td>\n",
       "      <td>0</td>\n",
       "      <td>0</td>\n",
       "      <td>6.908755</td>\n",
       "      <td>9.206132</td>\n",
       "    </tr>\n",
       "    <tr>\n",
       "      <th>2</th>\n",
       "      <td>1122</td>\n",
       "      <td>9</td>\n",
       "      <td>6125.899902</td>\n",
       "      <td>23.5</td>\n",
       "      <td>-16.299999</td>\n",
       "      <td>14</td>\n",
       "      <td>1</td>\n",
       "      <td>0</td>\n",
       "      <td>0</td>\n",
       "      <td>0</td>\n",
       "      <td>7.022868</td>\n",
       "      <td>8.720281</td>\n",
       "    </tr>\n",
       "    <tr>\n",
       "      <th>3</th>\n",
       "      <td>578</td>\n",
       "      <td>-9</td>\n",
       "      <td>16246.000000</td>\n",
       "      <td>5.9</td>\n",
       "      <td>-25.700001</td>\n",
       "      <td>-21</td>\n",
       "      <td>1</td>\n",
       "      <td>0</td>\n",
       "      <td>0</td>\n",
       "      <td>0</td>\n",
       "      <td>6.359574</td>\n",
       "      <td>9.695602</td>\n",
       "    </tr>\n",
       "    <tr>\n",
       "      <th>4</th>\n",
       "      <td>1368</td>\n",
       "      <td>7</td>\n",
       "      <td>21783.199219</td>\n",
       "      <td>13.8</td>\n",
       "      <td>-3.000000</td>\n",
       "      <td>56</td>\n",
       "      <td>1</td>\n",
       "      <td>0</td>\n",
       "      <td>0</td>\n",
       "      <td>0</td>\n",
       "      <td>7.221105</td>\n",
       "      <td>9.988894</td>\n",
       "    </tr>\n",
       "  </tbody>\n",
       "</table>\n",
       "</div>"
      ],
      "text/plain": [
       "   salary  pcsalary         sales   roe       pcroe  ros  indus  finance  \\\n",
       "0    1095        20  27595.000000  14.1  106.400002  191      1        0   \n",
       "1    1001        32   9958.000000  10.9  -30.600000   13      1        0   \n",
       "2    1122         9   6125.899902  23.5  -16.299999   14      1        0   \n",
       "3     578        -9  16246.000000   5.9  -25.700001  -21      1        0   \n",
       "4    1368         7  21783.199219  13.8   -3.000000   56      1        0   \n",
       "\n",
       "   consprod  utility   lsalary     lsales  \n",
       "0         0        0  6.998509  10.225389  \n",
       "1         0        0  6.908755   9.206132  \n",
       "2         0        0  7.022868   8.720281  \n",
       "3         0        0  6.359574   9.695602  \n",
       "4         0        0  7.221105   9.988894  "
      ]
     },
     "execution_count": 6,
     "metadata": {},
     "output_type": "execute_result"
    }
   ],
   "source": [
    "dfej6_4= pd.read_stata('ceosal1.dta')\n",
    "dfej6_4.head()"
   ]
  },
  {
   "cell_type": "code",
   "execution_count": 7,
   "metadata": {},
   "outputs": [
    {
     "name": "stdout",
     "output_type": "stream",
     "text": [
      "                            OLS Regression Results                            \n",
      "==============================================================================\n",
      "Dep. Variable:                 salary   R-squared:                       0.029\n",
      "Model:                            OLS   Adj. R-squared:                  0.020\n",
      "Method:                 Least Squares   F-statistic:                     3.095\n",
      "Date:                Mon, 13 Jul 2020   Prob (F-statistic):             0.0474\n",
      "Time:                        16:45:12   Log-Likelihood:                -1802.8\n",
      "No. Observations:                 209   AIC:                             3612.\n",
      "Df Residuals:                     206   BIC:                             3622.\n",
      "Df Model:                           2                                         \n",
      "Covariance Type:            nonrobust                                         \n",
      "==============================================================================\n",
      "                 coef    std err          t      P>|t|      [0.025      0.975]\n",
      "------------------------------------------------------------------------------\n",
      "Intercept    830.6313    223.905      3.710      0.000     389.192    1272.070\n",
      "sales          0.0163      0.009      1.842      0.067      -0.001       0.034\n",
      "roe           19.6310     11.077      1.772      0.078      -2.207      41.469\n",
      "==============================================================================\n",
      "Omnibus:                      317.716   Durbin-Watson:                   2.122\n",
      "Prob(Omnibus):                  0.000   Jarque-Bera (JB):            34478.352\n",
      "Skew:                           7.159   Prob(JB):                         0.00\n",
      "Kurtosis:                      64.272   Cond. No.                     3.02e+04\n",
      "==============================================================================\n",
      "\n",
      "Warnings:\n",
      "[1] Standard Errors assume that the covariance matrix of the errors is correctly specified.\n",
      "[2] The condition number is large, 3.02e+04. This might indicate that there are\n",
      "strong multicollinearity or other numerical problems.\n"
     ]
    }
   ],
   "source": [
    "regdfej6_4 = smf.ols('salary ~ sales + roe  ', data = dfej6_4).fit() \n",
    "print(regdfej6_4.summary())"
   ]
  },
  {
   "cell_type": "code",
   "execution_count": null,
   "metadata": {},
   "outputs": [],
   "source": [
    "# HAcer la otra reg y competar todo lo del ejercicio"
   ]
  },
  {
   "cell_type": "markdown",
   "metadata": {},
   "source": [
    "## Ejemplo 6.5 (lntervalo de confianza para las predicciones de las calificaciones universitarias (gpa2.dta)"
   ]
  },
  {
   "cell_type": "code",
   "execution_count": 3,
   "metadata": {},
   "outputs": [
    {
     "data": {
      "text/html": [
       "<div>\n",
       "<style scoped>\n",
       "    .dataframe tbody tr th:only-of-type {\n",
       "        vertical-align: middle;\n",
       "    }\n",
       "\n",
       "    .dataframe tbody tr th {\n",
       "        vertical-align: top;\n",
       "    }\n",
       "\n",
       "    .dataframe thead th {\n",
       "        text-align: right;\n",
       "    }\n",
       "</style>\n",
       "<table border=\"1\" class=\"dataframe\">\n",
       "  <thead>\n",
       "    <tr style=\"text-align: right;\">\n",
       "      <th></th>\n",
       "      <th>sat</th>\n",
       "      <th>tothrs</th>\n",
       "      <th>colgpa</th>\n",
       "      <th>athlete</th>\n",
       "      <th>verbmath</th>\n",
       "      <th>hsize</th>\n",
       "      <th>hsrank</th>\n",
       "      <th>hsperc</th>\n",
       "      <th>female</th>\n",
       "      <th>white</th>\n",
       "      <th>black</th>\n",
       "      <th>hsizesq</th>\n",
       "    </tr>\n",
       "  </thead>\n",
       "  <tbody>\n",
       "    <tr>\n",
       "      <th>0</th>\n",
       "      <td>920</td>\n",
       "      <td>43</td>\n",
       "      <td>2.04</td>\n",
       "      <td>1</td>\n",
       "      <td>0.48387</td>\n",
       "      <td>0.10</td>\n",
       "      <td>4</td>\n",
       "      <td>40.000000</td>\n",
       "      <td>1</td>\n",
       "      <td>0</td>\n",
       "      <td>0</td>\n",
       "      <td>0.010000</td>\n",
       "    </tr>\n",
       "    <tr>\n",
       "      <th>1</th>\n",
       "      <td>1170</td>\n",
       "      <td>18</td>\n",
       "      <td>4.00</td>\n",
       "      <td>0</td>\n",
       "      <td>0.82813</td>\n",
       "      <td>9.40</td>\n",
       "      <td>191</td>\n",
       "      <td>20.319149</td>\n",
       "      <td>0</td>\n",
       "      <td>1</td>\n",
       "      <td>0</td>\n",
       "      <td>88.360001</td>\n",
       "    </tr>\n",
       "    <tr>\n",
       "      <th>2</th>\n",
       "      <td>810</td>\n",
       "      <td>14</td>\n",
       "      <td>1.78</td>\n",
       "      <td>1</td>\n",
       "      <td>0.88372</td>\n",
       "      <td>1.19</td>\n",
       "      <td>42</td>\n",
       "      <td>35.294117</td>\n",
       "      <td>0</td>\n",
       "      <td>1</td>\n",
       "      <td>0</td>\n",
       "      <td>1.416100</td>\n",
       "    </tr>\n",
       "    <tr>\n",
       "      <th>3</th>\n",
       "      <td>940</td>\n",
       "      <td>40</td>\n",
       "      <td>2.42</td>\n",
       "      <td>0</td>\n",
       "      <td>0.80769</td>\n",
       "      <td>5.71</td>\n",
       "      <td>252</td>\n",
       "      <td>44.133099</td>\n",
       "      <td>0</td>\n",
       "      <td>1</td>\n",
       "      <td>0</td>\n",
       "      <td>32.604099</td>\n",
       "    </tr>\n",
       "    <tr>\n",
       "      <th>4</th>\n",
       "      <td>1180</td>\n",
       "      <td>18</td>\n",
       "      <td>2.61</td>\n",
       "      <td>0</td>\n",
       "      <td>0.73529</td>\n",
       "      <td>2.14</td>\n",
       "      <td>86</td>\n",
       "      <td>40.186916</td>\n",
       "      <td>0</td>\n",
       "      <td>1</td>\n",
       "      <td>0</td>\n",
       "      <td>4.579600</td>\n",
       "    </tr>\n",
       "  </tbody>\n",
       "</table>\n",
       "</div>"
      ],
      "text/plain": [
       "    sat  tothrs  colgpa  athlete  verbmath  hsize  hsrank     hsperc  female  \\\n",
       "0   920      43    2.04        1   0.48387   0.10       4  40.000000       1   \n",
       "1  1170      18    4.00        0   0.82813   9.40     191  20.319149       0   \n",
       "2   810      14    1.78        1   0.88372   1.19      42  35.294117       0   \n",
       "3   940      40    2.42        0   0.80769   5.71     252  44.133099       0   \n",
       "4  1180      18    2.61        0   0.73529   2.14      86  40.186916       0   \n",
       "\n",
       "   white  black    hsizesq  \n",
       "0      0      0   0.010000  \n",
       "1      1      0  88.360001  \n",
       "2      1      0   1.416100  \n",
       "3      1      0  32.604099  \n",
       "4      1      0   4.579600  "
      ]
     },
     "execution_count": 3,
     "metadata": {},
     "output_type": "execute_result"
    }
   ],
   "source": [
    "dfej6_5= pd.read_stata('gpa2.dta')\n",
    "dfej6_5.head()"
   ]
  },
  {
   "cell_type": "code",
   "execution_count": 23,
   "metadata": {},
   "outputs": [
    {
     "name": "stdout",
     "output_type": "stream",
     "text": [
      "                            OLS Regression Results                            \n",
      "==============================================================================\n",
      "Dep. Variable:                 colgpa   R-squared:                       0.278\n",
      "Model:                            OLS   Adj. R-squared:                  0.277\n",
      "Method:                 Least Squares   F-statistic:                     398.0\n",
      "Date:                Thu, 03 Sep 2020   Prob (F-statistic):          2.13e-290\n",
      "Time:                        19:32:40   Log-Likelihood:                -3467.9\n",
      "No. Observations:                4137   AIC:                             6946.\n",
      "Df Residuals:                    4132   BIC:                             6978.\n",
      "Df Model:                           4                                         \n",
      "Covariance Type:            nonrobust                                         \n",
      "====================================================================================\n",
      "                       coef    std err          t      P>|t|      [0.025      0.975]\n",
      "------------------------------------------------------------------------------------\n",
      "Intercept            1.4927      0.075     19.812      0.000       1.345       1.640\n",
      "sat                  0.0015   6.52e-05     22.886      0.000       0.001       0.002\n",
      "hsperc              -0.0139      0.001    -24.698      0.000      -0.015      -0.013\n",
      "hsize               -0.0609      0.017     -3.690      0.000      -0.093      -0.029\n",
      "np.square(hsize)     0.0055      0.002      2.406      0.016       0.001       0.010\n",
      "==============================================================================\n",
      "Omnibus:                      194.990   Durbin-Watson:                   1.879\n",
      "Prob(Omnibus):                  0.000   Jarque-Bera (JB):              239.365\n",
      "Skew:                          -0.497   Prob(JB):                     1.05e-52\n",
      "Kurtosis:                       3.633   Cond. No.                     9.02e+03\n",
      "==============================================================================\n",
      "\n",
      "Warnings:\n",
      "[1] Standard Errors assume that the covariance matrix of the errors is correctly specified.\n",
      "[2] The condition number is large, 9.02e+03. This might indicate that there are\n",
      "strong multicollinearity or other numerical problems.\n"
     ]
    }
   ],
   "source": [
    "regdfej6_5 = smf.ols('colgpa ~ sat + hsperc + hsize + np.square(hsize)  ', data = dfej6_5).fit() \n",
    "print(regdfej6_5.summary())"
   ]
  },
  {
   "cell_type": "code",
   "execution_count": 13,
   "metadata": {},
   "outputs": [],
   "source": [
    "# Como no está definido en los comandos que pueda ponerse la resta en la regresión, la defino fuera \n",
    "def res(x,y):\n",
    "    return x - y"
   ]
  },
  {
   "cell_type": "code",
   "execution_count": 15,
   "metadata": {},
   "outputs": [
    {
     "name": "stdout",
     "output_type": "stream",
     "text": [
      "                            OLS Regression Results                            \n",
      "==============================================================================\n",
      "Dep. Variable:                 colgpa   R-squared:                       0.278\n",
      "Model:                            OLS   Adj. R-squared:                  0.277\n",
      "Method:                 Least Squares   F-statistic:                     398.0\n",
      "Date:                Thu, 03 Sep 2020   Prob (F-statistic):          2.13e-290\n",
      "Time:                        18:43:55   Log-Likelihood:                -3467.9\n",
      "No. Observations:                4137   AIC:                             6946.\n",
      "Df Residuals:                    4132   BIC:                             6978.\n",
      "Df Model:                           4                                         \n",
      "Covariance Type:            nonrobust                                         \n",
      "=============================================================================================\n",
      "                                coef    std err          t      P>|t|      [0.025      0.975]\n",
      "---------------------------------------------------------------------------------------------\n",
      "Intercept                     2.7001      0.020    135.833      0.000       2.661       2.739\n",
      "res(sat, 1200)                0.0015   6.52e-05     22.886      0.000       0.001       0.002\n",
      "res(hsperc, 30)              -0.0139      0.001    -24.698      0.000      -0.015      -0.013\n",
      "res(hsize, 5)                -0.0609      0.017     -3.690      0.000      -0.093      -0.029\n",
      "res(np.square(hsize), 25)     0.0055      0.002      2.406      0.016       0.001       0.010\n",
      "==============================================================================\n",
      "Omnibus:                      194.990   Durbin-Watson:                   1.879\n",
      "Prob(Omnibus):                  0.000   Jarque-Bera (JB):              239.365\n",
      "Skew:                          -0.497   Prob(JB):                     1.05e-52\n",
      "Kurtosis:                       3.633   Cond. No.                         544.\n",
      "==============================================================================\n",
      "\n",
      "Warnings:\n",
      "[1] Standard Errors assume that the covariance matrix of the errors is correctly specified.\n"
     ]
    }
   ],
   "source": [
    "regdfej6_5a = smf.ols('colgpa ~ res(sat,1200) + res(hsperc,30) + res(hsize,5) + res(np.square(hsize),25)  ', data = dfej6_5).fit() \n",
    "print(regdfej6_5a.summary())"
   ]
  },
  {
   "cell_type": "code",
   "execution_count": null,
   "metadata": {},
   "outputs": [],
   "source": [
    "# Viebdo si puedo hacer el intervalo de otra manera\n",
    "# obviamente que lo puedo hacer manual (ver como )"
   ]
  },
  {
   "cell_type": "code",
   "execution_count": 25,
   "metadata": {},
   "outputs": [
    {
     "data": {
      "text/plain": [
       "sat         float64\n",
       "tothrs        int16\n",
       "colgpa      float32\n",
       "athlete        int8\n",
       "verbmath    float32\n",
       "hsize       float64\n",
       "hsrank        int16\n",
       "hsperc      float32\n",
       "female         int8\n",
       "white          int8\n",
       "black          int8\n",
       "hsizesq     float32\n",
       "dtype: object"
      ]
     },
     "execution_count": 25,
     "metadata": {},
     "output_type": "execute_result"
    }
   ],
   "source": [
    "dfej6_5.dtypes"
   ]
  },
  {
   "cell_type": "code",
   "execution_count": 21,
   "metadata": {},
   "outputs": [],
   "source": [
    "dfej6_5['sat'] = dfej6_5['sat'].astype(float)"
   ]
  },
  {
   "cell_type": "code",
   "execution_count": 29,
   "metadata": {},
   "outputs": [
    {
     "data": {
      "text/html": [
       "<div>\n",
       "<style scoped>\n",
       "    .dataframe tbody tr th:only-of-type {\n",
       "        vertical-align: middle;\n",
       "    }\n",
       "\n",
       "    .dataframe tbody tr th {\n",
       "        vertical-align: top;\n",
       "    }\n",
       "\n",
       "    .dataframe thead th {\n",
       "        text-align: right;\n",
       "    }\n",
       "</style>\n",
       "<table border=\"1\" class=\"dataframe\">\n",
       "  <thead>\n",
       "    <tr style=\"text-align: right;\">\n",
       "      <th></th>\n",
       "      <th>mean</th>\n",
       "      <th>mean_se</th>\n",
       "      <th>mean_ci_lower</th>\n",
       "      <th>mean_ci_upper</th>\n",
       "      <th>obs_ci_lower</th>\n",
       "      <th>obs_ci_upper</th>\n",
       "    </tr>\n",
       "  </thead>\n",
       "  <tbody>\n",
       "    <tr>\n",
       "      <th>0</th>\n",
       "      <td>2.305485</td>\n",
       "      <td>0.024769</td>\n",
       "      <td>2.256925</td>\n",
       "      <td>2.354045</td>\n",
       "      <td>1.206777</td>\n",
       "      <td>3.404193</td>\n",
       "    </tr>\n",
       "    <tr>\n",
       "      <th>1</th>\n",
       "      <td>2.867522</td>\n",
       "      <td>0.080109</td>\n",
       "      <td>2.710466</td>\n",
       "      <td>3.024578</td>\n",
       "      <td>1.758708</td>\n",
       "      <td>3.976336</td>\n",
       "    </tr>\n",
       "    <tr>\n",
       "      <th>2</th>\n",
       "      <td>2.147831</td>\n",
       "      <td>0.018498</td>\n",
       "      <td>2.111564</td>\n",
       "      <td>2.184098</td>\n",
       "      <td>1.049597</td>\n",
       "      <td>3.246064</td>\n",
       "    </tr>\n",
       "    <tr>\n",
       "      <th>3</th>\n",
       "      <td>2.114496</td>\n",
       "      <td>0.021966</td>\n",
       "      <td>2.071431</td>\n",
       "      <td>2.157561</td>\n",
       "      <td>1.016017</td>\n",
       "      <td>3.212975</td>\n",
       "    </tr>\n",
       "    <tr>\n",
       "      <th>4</th>\n",
       "      <td>2.591697</td>\n",
       "      <td>0.020501</td>\n",
       "      <td>2.551505</td>\n",
       "      <td>2.631890</td>\n",
       "      <td>1.493327</td>\n",
       "      <td>3.690068</td>\n",
       "    </tr>\n",
       "    <tr>\n",
       "      <th>...</th>\n",
       "      <td>...</td>\n",
       "      <td>...</td>\n",
       "      <td>...</td>\n",
       "      <td>...</td>\n",
       "      <td>...</td>\n",
       "      <td>...</td>\n",
       "    </tr>\n",
       "    <tr>\n",
       "      <th>4132</th>\n",
       "      <td>2.328759</td>\n",
       "      <td>0.015203</td>\n",
       "      <td>2.298952</td>\n",
       "      <td>2.358565</td>\n",
       "      <td>1.230720</td>\n",
       "      <td>3.426798</td>\n",
       "    </tr>\n",
       "    <tr>\n",
       "      <th>4133</th>\n",
       "      <td>2.552751</td>\n",
       "      <td>0.025143</td>\n",
       "      <td>2.503456</td>\n",
       "      <td>2.602045</td>\n",
       "      <td>1.454010</td>\n",
       "      <td>3.651491</td>\n",
       "    </tr>\n",
       "    <tr>\n",
       "      <th>4134</th>\n",
       "      <td>3.435517</td>\n",
       "      <td>0.029192</td>\n",
       "      <td>3.378285</td>\n",
       "      <td>3.492749</td>\n",
       "      <td>2.336391</td>\n",
       "      <td>4.534642</td>\n",
       "    </tr>\n",
       "    <tr>\n",
       "      <th>4135</th>\n",
       "      <td>2.024137</td>\n",
       "      <td>0.029942</td>\n",
       "      <td>1.965435</td>\n",
       "      <td>2.082839</td>\n",
       "      <td>0.924934</td>\n",
       "      <td>3.123340</td>\n",
       "    </tr>\n",
       "    <tr>\n",
       "      <th>4136</th>\n",
       "      <td>3.306716</td>\n",
       "      <td>0.026927</td>\n",
       "      <td>3.253925</td>\n",
       "      <td>3.359507</td>\n",
       "      <td>2.207813</td>\n",
       "      <td>4.405619</td>\n",
       "    </tr>\n",
       "  </tbody>\n",
       "</table>\n",
       "<p>4137 rows × 6 columns</p>\n",
       "</div>"
      ],
      "text/plain": [
       "          mean   mean_se  mean_ci_lower  mean_ci_upper  obs_ci_lower  \\\n",
       "0     2.305485  0.024769       2.256925       2.354045      1.206777   \n",
       "1     2.867522  0.080109       2.710466       3.024578      1.758708   \n",
       "2     2.147831  0.018498       2.111564       2.184098      1.049597   \n",
       "3     2.114496  0.021966       2.071431       2.157561      1.016017   \n",
       "4     2.591697  0.020501       2.551505       2.631890      1.493327   \n",
       "...        ...       ...            ...            ...           ...   \n",
       "4132  2.328759  0.015203       2.298952       2.358565      1.230720   \n",
       "4133  2.552751  0.025143       2.503456       2.602045      1.454010   \n",
       "4134  3.435517  0.029192       3.378285       3.492749      2.336391   \n",
       "4135  2.024137  0.029942       1.965435       2.082839      0.924934   \n",
       "4136  3.306716  0.026927       3.253925       3.359507      2.207813   \n",
       "\n",
       "      obs_ci_upper  \n",
       "0         3.404193  \n",
       "1         3.976336  \n",
       "2         3.246064  \n",
       "3         3.212975  \n",
       "4         3.690068  \n",
       "...            ...  \n",
       "4132      3.426798  \n",
       "4133      3.651491  \n",
       "4134      4.534642  \n",
       "4135      3.123340  \n",
       "4136      4.405619  \n",
       "\n",
       "[4137 rows x 6 columns]"
      ]
     },
     "execution_count": 29,
     "metadata": {},
     "output_type": "execute_result"
    }
   ],
   "source": [
    "regdfej6_5.get_prediction(dfej6_5, weights=1).summary_frame()"
   ]
  },
  {
   "cell_type": "code",
   "execution_count": 27,
   "metadata": {},
   "outputs": [
    {
     "data": {
      "text/plain": [
       "<statsmodels.regression._prediction.PredictionResults at 0xcc00c10>"
      ]
     },
     "execution_count": 27,
     "metadata": {},
     "output_type": "execute_result"
    }
   ],
   "source": [
    "# si le pongo por ejemplo 10 , que será 10 puntos adicionales, me da que no puede por sat entero, pero convierto y no lo hace\n",
    "regdfej6_5.get_prediction()   "
   ]
  },
  {
   "cell_type": "code",
   "execution_count": 16,
   "metadata": {},
   "outputs": [
    {
     "data": {
      "text/html": [
       "<div>\n",
       "<style scoped>\n",
       "    .dataframe tbody tr th:only-of-type {\n",
       "        vertical-align: middle;\n",
       "    }\n",
       "\n",
       "    .dataframe tbody tr th {\n",
       "        vertical-align: top;\n",
       "    }\n",
       "\n",
       "    .dataframe thead th {\n",
       "        text-align: right;\n",
       "    }\n",
       "</style>\n",
       "<table border=\"1\" class=\"dataframe\">\n",
       "  <thead>\n",
       "    <tr style=\"text-align: right;\">\n",
       "      <th></th>\n",
       "      <th>0</th>\n",
       "      <th>1</th>\n",
       "    </tr>\n",
       "  </thead>\n",
       "  <tbody>\n",
       "    <tr>\n",
       "      <th>Intercept</th>\n",
       "      <td>1.344942</td>\n",
       "      <td>1.640362</td>\n",
       "    </tr>\n",
       "    <tr>\n",
       "      <th>sat</th>\n",
       "      <td>0.001365</td>\n",
       "      <td>0.001620</td>\n",
       "    </tr>\n",
       "    <tr>\n",
       "      <th>hsperc</th>\n",
       "      <td>-0.014956</td>\n",
       "      <td>-0.012756</td>\n",
       "    </tr>\n",
       "    <tr>\n",
       "      <th>hsize</th>\n",
       "      <td>-0.093233</td>\n",
       "      <td>-0.028530</td>\n",
       "    </tr>\n",
       "    <tr>\n",
       "      <th>np.square(hsize)</th>\n",
       "      <td>0.001010</td>\n",
       "      <td>0.009910</td>\n",
       "    </tr>\n",
       "  </tbody>\n",
       "</table>\n",
       "</div>"
      ],
      "text/plain": [
       "                         0         1\n",
       "Intercept         1.344942  1.640362\n",
       "sat               0.001365  0.001620\n",
       "hsperc           -0.014956 -0.012756\n",
       "hsize            -0.093233 -0.028530\n",
       "np.square(hsize)  0.001010  0.009910"
      ]
     },
     "execution_count": 16,
     "metadata": {},
     "output_type": "execute_result"
    }
   ],
   "source": [
    "regdfej6_5.conf_int(0.05)"
   ]
  },
  {
   "cell_type": "code",
   "execution_count": null,
   "metadata": {},
   "outputs": [],
   "source": []
  },
  {
   "cell_type": "markdown",
   "metadata": {},
   "source": [
    "## Ejemplo 6.6 lntervalo de confianza para las predicciones de las calificaciones universitarias* (gpa2.dta)"
   ]
  },
  {
   "cell_type": "code",
   "execution_count": null,
   "metadata": {},
   "outputs": [],
   "source": []
  },
  {
   "cell_type": "markdown",
   "metadata": {},
   "source": [
    "## Ejemplo 6.7 Predicción de los salarios de los directores generales (ceosal2.dta)"
   ]
  },
  {
   "cell_type": "code",
   "execution_count": 10,
   "metadata": {},
   "outputs": [
    {
     "data": {
      "text/html": [
       "<div>\n",
       "<style scoped>\n",
       "    .dataframe tbody tr th:only-of-type {\n",
       "        vertical-align: middle;\n",
       "    }\n",
       "\n",
       "    .dataframe tbody tr th {\n",
       "        vertical-align: top;\n",
       "    }\n",
       "\n",
       "    .dataframe thead th {\n",
       "        text-align: right;\n",
       "    }\n",
       "</style>\n",
       "<table border=\"1\" class=\"dataframe\">\n",
       "  <thead>\n",
       "    <tr style=\"text-align: right;\">\n",
       "      <th></th>\n",
       "      <th>salary</th>\n",
       "      <th>age</th>\n",
       "      <th>college</th>\n",
       "      <th>grad</th>\n",
       "      <th>comten</th>\n",
       "      <th>ceoten</th>\n",
       "      <th>sales</th>\n",
       "      <th>profits</th>\n",
       "      <th>mktval</th>\n",
       "      <th>lsalary</th>\n",
       "      <th>lsales</th>\n",
       "      <th>lmktval</th>\n",
       "      <th>comtensq</th>\n",
       "      <th>ceotensq</th>\n",
       "      <th>profmarg</th>\n",
       "    </tr>\n",
       "  </thead>\n",
       "  <tbody>\n",
       "    <tr>\n",
       "      <th>0</th>\n",
       "      <td>1161</td>\n",
       "      <td>49</td>\n",
       "      <td>1</td>\n",
       "      <td>1</td>\n",
       "      <td>9</td>\n",
       "      <td>2</td>\n",
       "      <td>6200.0</td>\n",
       "      <td>966</td>\n",
       "      <td>23200.0</td>\n",
       "      <td>7.057037</td>\n",
       "      <td>8.732305</td>\n",
       "      <td>10.051908</td>\n",
       "      <td>81</td>\n",
       "      <td>4</td>\n",
       "      <td>15.580646</td>\n",
       "    </tr>\n",
       "    <tr>\n",
       "      <th>1</th>\n",
       "      <td>600</td>\n",
       "      <td>43</td>\n",
       "      <td>1</td>\n",
       "      <td>1</td>\n",
       "      <td>10</td>\n",
       "      <td>10</td>\n",
       "      <td>283.0</td>\n",
       "      <td>48</td>\n",
       "      <td>1100.0</td>\n",
       "      <td>6.396930</td>\n",
       "      <td>5.645447</td>\n",
       "      <td>7.003066</td>\n",
       "      <td>100</td>\n",
       "      <td>100</td>\n",
       "      <td>16.961130</td>\n",
       "    </tr>\n",
       "    <tr>\n",
       "      <th>2</th>\n",
       "      <td>379</td>\n",
       "      <td>51</td>\n",
       "      <td>1</td>\n",
       "      <td>1</td>\n",
       "      <td>9</td>\n",
       "      <td>3</td>\n",
       "      <td>169.0</td>\n",
       "      <td>40</td>\n",
       "      <td>1100.0</td>\n",
       "      <td>5.937536</td>\n",
       "      <td>5.129899</td>\n",
       "      <td>7.003066</td>\n",
       "      <td>81</td>\n",
       "      <td>9</td>\n",
       "      <td>23.668638</td>\n",
       "    </tr>\n",
       "    <tr>\n",
       "      <th>3</th>\n",
       "      <td>651</td>\n",
       "      <td>55</td>\n",
       "      <td>1</td>\n",
       "      <td>0</td>\n",
       "      <td>22</td>\n",
       "      <td>22</td>\n",
       "      <td>1100.0</td>\n",
       "      <td>-54</td>\n",
       "      <td>1000.0</td>\n",
       "      <td>6.478509</td>\n",
       "      <td>7.003066</td>\n",
       "      <td>6.907755</td>\n",
       "      <td>484</td>\n",
       "      <td>484</td>\n",
       "      <td>-4.909091</td>\n",
       "    </tr>\n",
       "    <tr>\n",
       "      <th>4</th>\n",
       "      <td>497</td>\n",
       "      <td>44</td>\n",
       "      <td>1</td>\n",
       "      <td>1</td>\n",
       "      <td>8</td>\n",
       "      <td>6</td>\n",
       "      <td>351.0</td>\n",
       "      <td>28</td>\n",
       "      <td>387.0</td>\n",
       "      <td>6.208590</td>\n",
       "      <td>5.860786</td>\n",
       "      <td>5.958425</td>\n",
       "      <td>64</td>\n",
       "      <td>36</td>\n",
       "      <td>7.977208</td>\n",
       "    </tr>\n",
       "  </tbody>\n",
       "</table>\n",
       "</div>"
      ],
      "text/plain": [
       "   salary  age  college  grad  comten  ceoten   sales  profits   mktval  \\\n",
       "0    1161   49        1     1       9       2  6200.0      966  23200.0   \n",
       "1     600   43        1     1      10      10   283.0       48   1100.0   \n",
       "2     379   51        1     1       9       3   169.0       40   1100.0   \n",
       "3     651   55        1     0      22      22  1100.0      -54   1000.0   \n",
       "4     497   44        1     1       8       6   351.0       28    387.0   \n",
       "\n",
       "    lsalary    lsales    lmktval  comtensq  ceotensq   profmarg  \n",
       "0  7.057037  8.732305  10.051908        81         4  15.580646  \n",
       "1  6.396930  5.645447   7.003066       100       100  16.961130  \n",
       "2  5.937536  5.129899   7.003066        81         9  23.668638  \n",
       "3  6.478509  7.003066   6.907755       484       484  -4.909091  \n",
       "4  6.208590  5.860786   5.958425        64        36   7.977208  "
      ]
     },
     "execution_count": 10,
     "metadata": {},
     "output_type": "execute_result"
    }
   ],
   "source": [
    "dfej6_7= pd.read_stata('ceosal2.dta')\n",
    "dfej6_7.head()"
   ]
  },
  {
   "cell_type": "code",
   "execution_count": 11,
   "metadata": {},
   "outputs": [
    {
     "name": "stdout",
     "output_type": "stream",
     "text": [
      "                            OLS Regression Results                            \n",
      "==============================================================================\n",
      "Dep. Variable:         np.log(salary)   R-squared:                       0.318\n",
      "Model:                            OLS   Adj. R-squared:                  0.306\n",
      "Method:                 Least Squares   F-statistic:                     26.91\n",
      "Date:                Mon, 13 Jul 2020   Prob (F-statistic):           2.47e-14\n",
      "Time:                        16:55:31   Log-Likelihood:                -128.12\n",
      "No. Observations:                 177   AIC:                             264.2\n",
      "Df Residuals:                     173   BIC:                             276.9\n",
      "Df Model:                           3                                         \n",
      "Covariance Type:            nonrobust                                         \n",
      "==================================================================================\n",
      "                     coef    std err          t      P>|t|      [0.025      0.975]\n",
      "----------------------------------------------------------------------------------\n",
      "Intercept          4.5038      0.257     17.509      0.000       3.996       5.012\n",
      "np.log(sales)      0.1629      0.039      4.150      0.000       0.085       0.240\n",
      "np.log(mktval)     0.1092      0.050      2.203      0.029       0.011       0.207\n",
      "ceoten             0.0117      0.005      2.198      0.029       0.001       0.022\n",
      "==============================================================================\n",
      "Omnibus:                       25.596   Durbin-Watson:                   2.044\n",
      "Prob(Omnibus):                  0.000   Jarque-Bera (JB):              123.522\n",
      "Skew:                          -0.291   Prob(JB):                     1.51e-27\n",
      "Kurtosis:                       7.051   Cond. No.                         95.3\n",
      "==============================================================================\n",
      "\n",
      "Warnings:\n",
      "[1] Standard Errors assume that the covariance matrix of the errors is correctly specified.\n"
     ]
    }
   ],
   "source": [
    "regdfej6_7 = smf.ols('np.log(salary) ~ np.log(sales) + np.log(mktval) + ceoten ', data = dfej6_7).fit() \n",
    "print(regdfej6_7.summary())"
   ]
  },
  {
   "cell_type": "markdown",
   "metadata": {},
   "source": [
    "## Ejemplo 6.8 Predicción de los salarios de los directores generales* (ceosal2.dta)"
   ]
  },
  {
   "cell_type": "code",
   "execution_count": 12,
   "metadata": {},
   "outputs": [
    {
     "name": "stdout",
     "output_type": "stream",
     "text": [
      "                            OLS Regression Results                            \n",
      "==============================================================================\n",
      "Dep. Variable:                 salary   R-squared:                       0.201\n",
      "Model:                            OLS   Adj. R-squared:                  0.187\n",
      "Method:                 Least Squares   F-statistic:                     14.53\n",
      "Date:                Mon, 13 Jul 2020   Prob (F-statistic):           1.74e-08\n",
      "Time:                        16:57:11   Log-Likelihood:                -1359.3\n",
      "No. Observations:                 177   AIC:                             2727.\n",
      "Df Residuals:                     173   BIC:                             2739.\n",
      "Df Model:                           3                                         \n",
      "Covariance Type:            nonrobust                                         \n",
      "==============================================================================\n",
      "                 coef    std err          t      P>|t|      [0.025      0.975]\n",
      "------------------------------------------------------------------------------\n",
      "Intercept    613.4361     65.237      9.403      0.000     484.673     742.199\n",
      "sales          0.0190      0.010      1.891      0.060      -0.001       0.039\n",
      "mktval         0.0234      0.009      2.468      0.015       0.005       0.042\n",
      "ceoten        12.7034      5.618      2.261      0.025       1.615      23.792\n",
      "==============================================================================\n",
      "Omnibus:                      187.324   Durbin-Watson:                   2.166\n",
      "Prob(Omnibus):                  0.000   Jarque-Bera (JB):             6405.956\n",
      "Skew:                           3.916   Prob(JB):                         0.00\n",
      "Kurtosis:                      31.412   Cond. No.                     1.59e+04\n",
      "==============================================================================\n",
      "\n",
      "Warnings:\n",
      "[1] Standard Errors assume that the covariance matrix of the errors is correctly specified.\n",
      "[2] The condition number is large, 1.59e+04. This might indicate that there are\n",
      "strong multicollinearity or other numerical problems.\n"
     ]
    }
   ],
   "source": [
    "regdfej6_8 = smf.ols('salary ~ sales + mktval + ceoten ', data = dfej6_7).fit() \n",
    "print(regdfej6_8.summary())"
   ]
  },
  {
   "cell_type": "code",
   "execution_count": null,
   "metadata": {},
   "outputs": [],
   "source": []
  }
 ],
 "metadata": {
  "kernelspec": {
   "display_name": "Python 3 (ipykernel)",
   "language": "python",
   "name": "python3"
  },
  "language_info": {
   "codemirror_mode": {
    "name": "ipython",
    "version": 3
   },
   "file_extension": ".py",
   "mimetype": "text/x-python",
   "name": "python",
   "nbconvert_exporter": "python",
   "pygments_lexer": "ipython3",
   "version": "3.12.4"
  }
 },
 "nbformat": 4,
 "nbformat_minor": 4
}
