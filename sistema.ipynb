{
 "cells": [
  {
   "cell_type": "code",
   "execution_count": 9,
   "metadata": {},
   "outputs": [],
   "source": [
    "import numpy as np\n",
    "import pandas as pd\n",
    "import statsmodels.formula.api as smf\n",
    "from statsmodels.iolib.summary2 import summary_col\n",
    "from linearmodels.iv import IV2SLS\n",
    "import linearmodels.system as iv3"
   ]
  },
  {
   "cell_type": "markdown",
   "metadata": {},
   "source": [
    "## Ejemplo 16.1 Índice de homicidios y tamaño de la fuerza de pollcía (crime4.dta)"
   ]
  },
  {
   "cell_type": "markdown",
   "metadata": {},
   "source": [
    "Las ciudades suelen precisar cuánta más fuerza policiaca necesitan para disminuir sus índices de homicidios.\n",
    "\n",
    "Un modelo simple de corte transversal para abordar esta cuestión es"
   ]
  },
  {
   "cell_type": "markdown",
   "metadata": {},
   "source": [
    "$    \\tag{16.6}$"
   ]
  },
  {
   "cell_type": "markdown",
   "metadata": {},
   "source": [
    "Donde murdpc son los homicidios, polpc es el número de oficiales de policía e incpc es el ingreso, todos ellos per cápita. (Por tanto, no se incluye un subíndice i.) El ingreso per cápita se considera exógeno en esta ecuación. En la práctica, se incluirían otros factores, como distribuciones de edad y sexo, niveles educativos, quizá variables geográficas y otras variables que midieran la severidad del castigo. Para esclarecer este punto, considere la ecuación (16. 6).\n",
    "\n",
    "La pregunta que se desea contestar es: si una ciudad incrementa, de manera exógena, su fuerza policiaca, ¿ese incremento hará descender el promedio del índice de homicidios? Si se pudiera elegir de manera exógena la cantidad de fuerza policiaca para una muestra aleatoria de ciudades, se estimaría (16.16) mediante MCO. Por supuesto, tal experimento no se puede realizar. Pero, de cualquier forma, ¿es posible pensar que la cantidad de fuerza policiaca se determina de manera exógena? Probablemente no. El gasto de una ciudad en las fuerzas del orden está determinado, al menos parcialmente, por su índice de homicidios esperado. Para reflejar esto, se postula una segunda relación:"
   ]
  },
  {
   "cell_type": "markdown",
   "metadata": {},
   "source": [
    "$    \\tag{16.7}$"
   ]
  },
  {
   "cell_type": "markdown",
   "metadata": {},
   "source": [
    "Se espera que \u00052 \b 0: manteniendo los otros factores constantes, las ciudades con índices de homicidios (esperados) más altos tengan más policías per cápita. Una vez que se especifican los demás factores en (16.7), se tiene un modelo de dos ecuaciones simultáneas. En realidad sólo interesa la ecuación (16.6) pero, como se verá en la sección 16.3, ``es necesario saber con precisión cómo se especifica la segunda ecuación con el fin de estimar la primera``.\n",
    "\n",
    "Un punto importante es que (16.7) describe el comportamiento de los policías, mientras que (16.6) describe las acciones de los potenciales homicidas. Esto da a cada ecuación una interpretación ceteris paribus clara, lo cual hace que las ecuaciones (16.6) y (16.7) sean un modelo de ecuaciones simultáneas apropiado."
   ]
  },
  {
   "cell_type": "markdown",
   "metadata": {},
   "source": []
  },
  {
   "cell_type": "markdown",
   "metadata": {},
   "source": []
  },
  {
   "cell_type": "markdown",
   "metadata": {},
   "source": []
  },
  {
   "cell_type": "markdown",
   "metadata": {},
   "source": [
    "## Ejemplo 16.2 Gastos en vivienda y ahorro"
   ]
  },
  {
   "cell_type": "markdown",
   "metadata": {},
   "source": [
    "Suponga que una familia aleatoria en la población tiene gastos y ahorros en vivienda anuales que están determinados de manera conjunta por"
   ]
  },
  {
   "cell_type": "markdown",
   "metadata": {},
   "source": [
    "$   \\tag{16.8}$\n",
    "\n",
    "$   \\tag{16.9}$"
   ]
  },
  {
   "cell_type": "markdown",
   "metadata": {},
   "source": [
    "donde inc es el ingreso anual y educ y age se miden en años. En un principio puede parecer que estas ecuaciones son una forma sensible de ver cómo se determinan los gastos y ahorros en vivienda. Pero es necesario preguntar, ¿qué valor tendría una de estas ecuaciones sin el otro? Ninguna tiene una interpretación ceteris paribus debido a que housing (vivienda) y saving (ahorro) se eligieron para la misma familia. Por ejemplo, no tiene sentido preguntar: si el ingreso anual aumenta en $10,000, ¿cómo cambiarían los gastos de la vivienda, si saving se mantuviera fijo? Si el ingreso familiar aumenta, una familia, por lo general,\n",
    "cambiará la mezcla óptima de gastos y ahorro en vivienda. Pero la ecuación (16.8) hace parecer como si se quisiera conocer el efecto de un cambio en inc, educ o age mientras se mantiene fijo saving. Este difícil experimento no es interesante. Cualquier modelo basado en principios económicos, en particular, la maximización de utilidades, haría que las familias eligieran de manera óptima housing y saving como funciones de inc y los precios relativos de la vivienda y el ahorro. Las variables educ y age afectarían las preferencias de consumo, ahorro y riesgo. Por tanto, housing y saving serían cada una funciones del ingreso,\n",
    "educación, edad y otras variables que afectan al problema de maximización de utilidades (como tasas de rendimiento diferentes sobre vivienda y otros ahorros).\n",
    "\n",
    "Incluso si se decidiera que MES en (16.8) y (16.9) tienen sentido, no hay forma de estimar los parámetros. (Se analizará este problema más ampliamente en la sección 16.3.) Las dos ecuaciones son indistintas, a menos que se suponga que el ingreso, la educación o la edad aparecen en una ecuación pero no en la otra, lo cual no tendría sentido.\n",
    "\n",
    "Aunque este es un ejemplo pobre del MES, lo que podría resultar interesante es probar si, en otros factores fijos, existe una compensación entre los gastos de vivienda y ahorro. Pero entonces sólo se estaría estimando (16.8) mediante MCO, a menos que existiera una variable omitida o problema de error de medición."
   ]
  },
  {
   "cell_type": "markdown",
   "metadata": {},
   "source": []
  },
  {
   "cell_type": "markdown",
   "metadata": {},
   "source": []
  },
  {
   "cell_type": "markdown",
   "metadata": {},
   "source": []
  },
  {
   "cell_type": "markdown",
   "metadata": {},
   "source": []
  },
  {
   "cell_type": "markdown",
   "metadata": {},
   "source": []
  },
  {
   "cell_type": "markdown",
   "metadata": {},
   "source": [
    "## Ejemplo 16.3 Oferta de trabajo de las mujeres casadas trabajadoras"
   ]
  },
  {
   "cell_type": "markdown",
   "metadata": {},
   "source": [
    "Para ilustrar la cuestión de la identificación, considere la oferta de mano de obra de trabajadoras casadas\n",
    "que ya forman parte del mercado laboral. En lugar de la función de la demanda, se escribe la oferta salarial\n",
    "en función de las horas y las variables de productividad acostumbradas. Con la condición de equilibrio\n",
    "impuesta, las dos ecuaciones estructurales son"
   ]
  },
  {
   "cell_type": "markdown",
   "metadata": {},
   "source": [
    "$    \\tag{16.19}$\n",
    "\n",
    "$    \\tag{16.19}$"
   ]
  },
  {
   "cell_type": "markdown",
   "metadata": {},
   "source": [
    "La variable age es la edad de la mujer, kidslt6 es el número de niños que tienen menos de seis años de edad,\n",
    "nwifeinc es el ingreso no salarial de la mujer (que incluye los ingresos de su cónyuge) y educ (educación) y\n",
    "exper (experiencia) son los años de educación y experiencia previa, respectivamente. Se supone que todas\n",
    "las variables, salvo hours y log(wage) son exógenas. (Este es un supuesto débil, puesto que educ podría\n",
    "estar correlacionado con la capacidad omitida en su ecuación. Pero con fines de ilustración, se ignora el\n",
    "problema de capacidad omitida.) La forma funcional en este sistema, donde hours aparece en forma nivelada\n",
    "pero wage (salario) está en forma logarítmica, es común en economía laboral. Se puede escribir este\n",
    "sistema como en las ecuaciones (16.17) y (16.18) al definir y1 \u0002 hours y y2 \u0002 log(wage).\n",
    "\n",
    "La primera ecuación es la función de la oferta y satisface la condición de orden, pues las dos variables\n",
    "exógenas, exper y exper2, se omitieron en la ecuación de oferta de mano de obra. Estas restricciones\n",
    "de exclusión son supuestos cruciales: se supone que, una vez que se controlan el salario, la educación, la\n",
    "edad, el número de niños pequeños y otros ingresos, la experiencia pasada no tiene efecto sobre la oferta\n",
    "actual de mano de obra. Desde luego, este supuesto es muy cuestionable, pero se utiliza aquí a modo de\n",
    "ilustración.\n",
    "\n",
    "Dadas las ecuaciones (16.19) y (16.20), la condición de rango para identificar la primera ecuación es\n",
    "que al menos exper o exper2 tiene un coeficiente diferente de cero en la ecuación (16.20). Si \u000322 \u0002 0 y\n",
    "\u000323 \u0002 0, no existen variables exógenas que aparezcan en la segunda ecuación y que tampoco aparezcan\n",
    "en la primera (educ aparece en ambas). Se puede decir que la condición de rango para la identificación de\n",
    "(16.19) es equivalente en términos en la forma reducida de log(wage), que es"
   ]
  },
  {
   "cell_type": "markdown",
   "metadata": {},
   "source": [
    "$   \\tag{16.21}$"
   ]
  },
  {
   "cell_type": "markdown",
   "metadata": {},
   "source": [
    "Para la identificación, se necesita que \u001125 \n",
    " 0 o \u001126 \n",
    " 0, algo que se puede probar mediante un estadístico\n",
    "F estándar, como se analizó en el capítulo 15.\n",
    "\n",
    "La ecuación de la oferta salarial, (16.20), se identifica si al menos una de las variables age, kidslt6, o\n",
    "nwifeinc tiene un coeficiente diferente de cero en (16.19). Esto es idéntico a suponer que la forma reducida\n",
    "de hours, que tiene la misma forma que el lado derecho de (16.21), depende de al menos una de las variables\n",
    "age, kidslt6 o nwifeinc. Cuando se especifica la ecuación de la oferta salarial, se supone que ni age,\n",
    "kidslt6 o nwifeinc tienen efecto alguno en el salario ofrecido, una vez que se ha dado cuenta de las horas, la\n",
    "educación y la experiencia. Éstos serían supuestos pobres si las variables tienen, de alguna manera, efectos\n",
    "directos en la productividad, o si las mujeres padecieran discriminación basada en su edad o en el número\n",
    "de hijos pequeños."
   ]
  },
  {
   "cell_type": "markdown",
   "metadata": {},
   "source": []
  },
  {
   "cell_type": "markdown",
   "metadata": {},
   "source": []
  },
  {
   "cell_type": "markdown",
   "metadata": {},
   "source": []
  },
  {
   "cell_type": "markdown",
   "metadata": {},
   "source": []
  },
  {
   "cell_type": "markdown",
   "metadata": {},
   "source": [
    "## Ejemplo 16.4 Inflación y grado de apertura"
   ]
  },
  {
   "cell_type": "markdown",
   "metadata": {},
   "source": [
    "Romer (1993) propone modelos teóricos sobre la inflación que sugieren que los países más “abiertos” deberían\n",
    "tener tasas de inflación más bajas. Su análisis empírico explica las tasas de inflación anuales promedio\n",
    "(desde 1973) en términos de la participación promedio de las importaciones en el producto interno bruto\n",
    "(o nacional) desde 1973, la cual es su medida de apertura. Además de estimar la ecuación clave mediante\n",
    "MCO, utiliza variables instrumentales. Si bien Romer no especifica ambas ecuaciones en un sistema simultáneo,\n",
    "tiene en mente un sistema de dos ecuaciones:"
   ]
  },
  {
   "cell_type": "markdown",
   "metadata": {},
   "source": [
    "$    \\tag{16.22}$\n",
    "\n",
    "$    \\tag{16.23}$"
   ]
  },
  {
   "cell_type": "markdown",
   "metadata": {},
   "source": [
    "donde pcinc es el ingreso per cápita (en dólares de 1980 y se supone exógena) y land es la extensión territorial\n",
    "del país, en millas cuadradas (también supuestamente exógena). La ecuación (16.22) es de interés,\n",
    "por su hipótesis de que \u00051 \f",
    " 0. (Las economías\n",
    "más abiertas tienen tasas de inflación menores.) La segunda ecuación refleja el hecho de que el grado de apertura puede depender de la tasa de inflación promedio, así como de otros factores. La variable log(pcinc) aparece en ambas ecuaciones, pero se\n",
    "supone que log(land ) aparece sólo en la segunda ecuación. La idea es que, ceteris paribus, un país más pequeño tiende a ser más abierto (así que \u000322 \f",
    " 0).\n",
    "\n",
    "Mediante la regla de identificación que se mencionó antes, se identifica la ecuación (16.22), siempre\n",
    "y cuando \u000322   0. La ecuación (16.23) no se identifica pues contiene dos variables exógenas. Pero lo que\n",
    "interesa es (16.22)."
   ]
  },
  {
   "cell_type": "markdown",
   "metadata": {},
   "source": []
  },
  {
   "cell_type": "markdown",
   "metadata": {},
   "source": []
  },
  {
   "cell_type": "markdown",
   "metadata": {},
   "source": []
  },
  {
   "cell_type": "markdown",
   "metadata": {},
   "source": []
  },
  {
   "cell_type": "markdown",
   "metadata": {},
   "source": []
  },
  {
   "cell_type": "markdown",
   "metadata": {},
   "source": []
  },
  {
   "cell_type": "markdown",
   "metadata": {},
   "source": []
  },
  {
   "cell_type": "markdown",
   "metadata": {},
   "source": []
  },
  {
   "cell_type": "markdown",
   "metadata": {},
   "source": []
  },
  {
   "cell_type": "markdown",
   "metadata": {},
   "source": []
  },
  {
   "cell_type": "markdown",
   "metadata": {},
   "source": [
    "## Ejemplo 16.5 Oferta de trabajo de las mujeres casadas trabajadoras (mroz.dta)"
   ]
  },
  {
   "cell_type": "markdown",
   "metadata": {},
   "source": [
    "Se utilizan los datos de las mujeres trabajadoras casadas en MROZ.RAW para estimar la ecuación de oferta\n",
    "de mano de obra (16.19) mediante MC2E. El conjunto completo de variables instrumentales incluye a educ,\n",
    "age, kidslt6, nwifeinc, exper y exper2. La curva estimada de oferta de mano de obra es"
   ]
  },
  {
   "cell_type": "markdown",
   "metadata": {},
   "source": [
    "$    \\tag{16.24}$"
   ]
  },
  {
   "cell_type": "markdown",
   "metadata": {},
   "source": [
    "la cual muestra que la curva de oferta de mano de obra tiene pendiente positiva. El coeficiente estimado\n",
    "en log(wage) tiene la siguiente interpretación, todos los factores constantes, \u0005hours \u0006 16.4(%\u0005wage). Las\n",
    "elasticidades de la oferta de mano de obra se pueden calcular si se multiplican ambos lados de esta última\n",
    "ecuación por 100/hours:"
   ]
  },
  {
   "cell_type": "markdown",
   "metadata": {},
   "source": []
  },
  {
   "cell_type": "markdown",
   "metadata": {},
   "source": [
    "lo cual implica que la elasticidad de la oferta de mano de obra (respecto al salario) simplemente es de\n",
    "1,640/hours. [La elasticidad no es constante en este modelo, pues la variable dependiente en (16.24) es\n",
    "hours y no log(hours).] Al promedio de horas trabajadas, 1,303, la elasticidad estimada es 1,640/1,303 \u0006\n",
    "1.26, lo cual implica un incremento mayor que 1% en las horas trabajadas dado un incremento de 1% en\n",
    "el salario. Esta es una elasticidad estimada grande. A más horas, la elasticidad será menor; a menos horas,\n",
    "como con hours \u0002 800, la elasticidad será superior a dos.\n",
    "\n",
    "Para fines comparativos, cuando (16.19) se estima mediante MCO, el coeficiente de log(wage)\n",
    "es \u00072.05 (ee \u0002 54.88), lo cual implica que no hay efecto en las horas trabajadas. Para confirmar que\n",
    "log(wage) en realidad es endógena en (16.19), se puede realizar la prueba de la sección 15.5. Cuando se\n",
    "agregan los residuales de la forma reducida vˆ2 a la ecuación y se estima mediante MCO, el estadístico t en\n",
    "vˆ2 es \u00076.61, lo cual es muy significativo y por tanto log(wage) parece ser endógeno.\n",
    "\n",
    "La ecuación de oferta salarial (16.20) también se puede estimar mediante MC2E. El resultado es"
   ]
  },
  {
   "cell_type": "markdown",
   "metadata": {},
   "source": [
    "$   \\tag{16.25}$"
   ]
  },
  {
   "cell_type": "markdown",
   "metadata": {},
   "source": [
    "La ecuación de oferta salarial (16.20) también se puede estimar mediante MC2E. El resultado es"
   ]
  },
  {
   "cell_type": "markdown",
   "metadata": {},
   "source": []
  },
  {
   "cell_type": "markdown",
   "metadata": {},
   "source": []
  },
  {
   "cell_type": "code",
   "execution_count": 11,
   "metadata": {},
   "outputs": [
    {
     "data": {
      "text/html": [
       "<div>\n",
       "<style scoped>\n",
       "    .dataframe tbody tr th:only-of-type {\n",
       "        vertical-align: middle;\n",
       "    }\n",
       "\n",
       "    .dataframe tbody tr th {\n",
       "        vertical-align: top;\n",
       "    }\n",
       "\n",
       "    .dataframe thead th {\n",
       "        text-align: right;\n",
       "    }\n",
       "</style>\n",
       "<table border=\"1\" class=\"dataframe\">\n",
       "  <thead>\n",
       "    <tr style=\"text-align: right;\">\n",
       "      <th></th>\n",
       "      <th>inlf</th>\n",
       "      <th>hours</th>\n",
       "      <th>kidslt6</th>\n",
       "      <th>kidsge6</th>\n",
       "      <th>age</th>\n",
       "      <th>educ</th>\n",
       "      <th>wage</th>\n",
       "      <th>repwage</th>\n",
       "      <th>hushrs</th>\n",
       "      <th>husage</th>\n",
       "      <th>...</th>\n",
       "      <th>faminc</th>\n",
       "      <th>mtr</th>\n",
       "      <th>motheduc</th>\n",
       "      <th>fatheduc</th>\n",
       "      <th>unem</th>\n",
       "      <th>city</th>\n",
       "      <th>exper</th>\n",
       "      <th>nwifeinc</th>\n",
       "      <th>lwage</th>\n",
       "      <th>expersq</th>\n",
       "    </tr>\n",
       "  </thead>\n",
       "  <tbody>\n",
       "    <tr>\n",
       "      <th>0</th>\n",
       "      <td>1</td>\n",
       "      <td>1610</td>\n",
       "      <td>1</td>\n",
       "      <td>0</td>\n",
       "      <td>32</td>\n",
       "      <td>12</td>\n",
       "      <td>3.3540</td>\n",
       "      <td>2.65</td>\n",
       "      <td>2708</td>\n",
       "      <td>34</td>\n",
       "      <td>...</td>\n",
       "      <td>16310.0</td>\n",
       "      <td>0.7215</td>\n",
       "      <td>12</td>\n",
       "      <td>7</td>\n",
       "      <td>5.0</td>\n",
       "      <td>0</td>\n",
       "      <td>14</td>\n",
       "      <td>10.910060</td>\n",
       "      <td>1.210154</td>\n",
       "      <td>196</td>\n",
       "    </tr>\n",
       "    <tr>\n",
       "      <th>1</th>\n",
       "      <td>1</td>\n",
       "      <td>1656</td>\n",
       "      <td>0</td>\n",
       "      <td>2</td>\n",
       "      <td>30</td>\n",
       "      <td>12</td>\n",
       "      <td>1.3889</td>\n",
       "      <td>2.65</td>\n",
       "      <td>2310</td>\n",
       "      <td>30</td>\n",
       "      <td>...</td>\n",
       "      <td>21800.0</td>\n",
       "      <td>0.6615</td>\n",
       "      <td>7</td>\n",
       "      <td>7</td>\n",
       "      <td>11.0</td>\n",
       "      <td>1</td>\n",
       "      <td>5</td>\n",
       "      <td>19.499981</td>\n",
       "      <td>0.328512</td>\n",
       "      <td>25</td>\n",
       "    </tr>\n",
       "    <tr>\n",
       "      <th>2</th>\n",
       "      <td>1</td>\n",
       "      <td>1980</td>\n",
       "      <td>1</td>\n",
       "      <td>3</td>\n",
       "      <td>35</td>\n",
       "      <td>12</td>\n",
       "      <td>4.5455</td>\n",
       "      <td>4.04</td>\n",
       "      <td>3072</td>\n",
       "      <td>40</td>\n",
       "      <td>...</td>\n",
       "      <td>21040.0</td>\n",
       "      <td>0.6915</td>\n",
       "      <td>12</td>\n",
       "      <td>7</td>\n",
       "      <td>5.0</td>\n",
       "      <td>0</td>\n",
       "      <td>15</td>\n",
       "      <td>12.039910</td>\n",
       "      <td>1.514138</td>\n",
       "      <td>225</td>\n",
       "    </tr>\n",
       "  </tbody>\n",
       "</table>\n",
       "<p>3 rows × 22 columns</p>\n",
       "</div>"
      ],
      "text/plain": [
       "   inlf  hours  kidslt6  kidsge6  age  educ    wage  repwage  hushrs  husage  \\\n",
       "0     1   1610        1        0   32    12  3.3540     2.65    2708      34   \n",
       "1     1   1656        0        2   30    12  1.3889     2.65    2310      30   \n",
       "2     1   1980        1        3   35    12  4.5455     4.04    3072      40   \n",
       "\n",
       "   ...   faminc     mtr  motheduc  fatheduc  unem  city  exper   nwifeinc  \\\n",
       "0  ...  16310.0  0.7215        12         7   5.0     0     14  10.910060   \n",
       "1  ...  21800.0  0.6615         7         7  11.0     1      5  19.499981   \n",
       "2  ...  21040.0  0.6915        12         7   5.0     0     15  12.039910   \n",
       "\n",
       "      lwage  expersq  \n",
       "0  1.210154      196  \n",
       "1  0.328512       25  \n",
       "2  1.514138      225  \n",
       "\n",
       "[3 rows x 22 columns]"
      ]
     },
     "execution_count": 11,
     "metadata": {},
     "output_type": "execute_result"
    }
   ],
   "source": [
    "df1 = pd.read_stata('mroz.dta')\n",
    "df1.head(3)"
   ]
  },
  {
   "cell_type": "code",
   "execution_count": 11,
   "metadata": {},
   "outputs": [],
   "source": [
    "df1['c']= np.ones(len(df1))"
   ]
  },
  {
   "cell_type": "code",
   "execution_count": 12,
   "metadata": {},
   "outputs": [
    {
     "data": {
      "text/html": [
       "<div>\n",
       "<style scoped>\n",
       "    .dataframe tbody tr th:only-of-type {\n",
       "        vertical-align: middle;\n",
       "    }\n",
       "\n",
       "    .dataframe tbody tr th {\n",
       "        vertical-align: top;\n",
       "    }\n",
       "\n",
       "    .dataframe thead th {\n",
       "        text-align: right;\n",
       "    }\n",
       "</style>\n",
       "<table border=\"1\" class=\"dataframe\">\n",
       "  <thead>\n",
       "    <tr style=\"text-align: right;\">\n",
       "      <th></th>\n",
       "      <th>inlf</th>\n",
       "      <th>hours</th>\n",
       "      <th>kidslt6</th>\n",
       "      <th>kidsge6</th>\n",
       "      <th>age</th>\n",
       "      <th>educ</th>\n",
       "      <th>wage</th>\n",
       "      <th>repwage</th>\n",
       "      <th>hushrs</th>\n",
       "      <th>husage</th>\n",
       "      <th>...</th>\n",
       "      <th>mtr</th>\n",
       "      <th>motheduc</th>\n",
       "      <th>fatheduc</th>\n",
       "      <th>unem</th>\n",
       "      <th>city</th>\n",
       "      <th>exper</th>\n",
       "      <th>nwifeinc</th>\n",
       "      <th>lwage</th>\n",
       "      <th>expersq</th>\n",
       "      <th>c</th>\n",
       "    </tr>\n",
       "  </thead>\n",
       "  <tbody>\n",
       "    <tr>\n",
       "      <th>0</th>\n",
       "      <td>1</td>\n",
       "      <td>1610</td>\n",
       "      <td>1</td>\n",
       "      <td>0</td>\n",
       "      <td>32</td>\n",
       "      <td>12</td>\n",
       "      <td>3.3540</td>\n",
       "      <td>2.65</td>\n",
       "      <td>2708</td>\n",
       "      <td>34</td>\n",
       "      <td>...</td>\n",
       "      <td>0.7215</td>\n",
       "      <td>12</td>\n",
       "      <td>7</td>\n",
       "      <td>5.0</td>\n",
       "      <td>0</td>\n",
       "      <td>14</td>\n",
       "      <td>10.910060</td>\n",
       "      <td>1.210154</td>\n",
       "      <td>196</td>\n",
       "      <td>1.0</td>\n",
       "    </tr>\n",
       "    <tr>\n",
       "      <th>1</th>\n",
       "      <td>1</td>\n",
       "      <td>1656</td>\n",
       "      <td>0</td>\n",
       "      <td>2</td>\n",
       "      <td>30</td>\n",
       "      <td>12</td>\n",
       "      <td>1.3889</td>\n",
       "      <td>2.65</td>\n",
       "      <td>2310</td>\n",
       "      <td>30</td>\n",
       "      <td>...</td>\n",
       "      <td>0.6615</td>\n",
       "      <td>7</td>\n",
       "      <td>7</td>\n",
       "      <td>11.0</td>\n",
       "      <td>1</td>\n",
       "      <td>5</td>\n",
       "      <td>19.499981</td>\n",
       "      <td>0.328512</td>\n",
       "      <td>25</td>\n",
       "      <td>1.0</td>\n",
       "    </tr>\n",
       "    <tr>\n",
       "      <th>2</th>\n",
       "      <td>1</td>\n",
       "      <td>1980</td>\n",
       "      <td>1</td>\n",
       "      <td>3</td>\n",
       "      <td>35</td>\n",
       "      <td>12</td>\n",
       "      <td>4.5455</td>\n",
       "      <td>4.04</td>\n",
       "      <td>3072</td>\n",
       "      <td>40</td>\n",
       "      <td>...</td>\n",
       "      <td>0.6915</td>\n",
       "      <td>12</td>\n",
       "      <td>7</td>\n",
       "      <td>5.0</td>\n",
       "      <td>0</td>\n",
       "      <td>15</td>\n",
       "      <td>12.039910</td>\n",
       "      <td>1.514138</td>\n",
       "      <td>225</td>\n",
       "      <td>1.0</td>\n",
       "    </tr>\n",
       "  </tbody>\n",
       "</table>\n",
       "<p>3 rows × 23 columns</p>\n",
       "</div>"
      ],
      "text/plain": [
       "   inlf  hours  kidslt6  kidsge6  age  educ    wage  repwage  hushrs  husage  \\\n",
       "0     1   1610        1        0   32    12  3.3540     2.65    2708      34   \n",
       "1     1   1656        0        2   30    12  1.3889     2.65    2310      30   \n",
       "2     1   1980        1        3   35    12  4.5455     4.04    3072      40   \n",
       "\n",
       "  ...      mtr  motheduc  fatheduc  unem  city  exper   nwifeinc     lwage  \\\n",
       "0 ...   0.7215        12         7   5.0     0     14  10.910060  1.210154   \n",
       "1 ...   0.6615         7         7  11.0     1      5  19.499981  0.328512   \n",
       "2 ...   0.6915        12         7   5.0     0     15  12.039910  1.514138   \n",
       "\n",
       "   expersq    c  \n",
       "0      196  1.0  \n",
       "1       25  1.0  \n",
       "2      225  1.0  \n",
       "\n",
       "[3 rows x 23 columns]"
      ]
     },
     "execution_count": 12,
     "metadata": {},
     "output_type": "execute_result"
    }
   ],
   "source": [
    "df1.head(3)"
   ]
  },
  {
   "cell_type": "code",
   "execution_count": 1,
   "metadata": {},
   "outputs": [],
   "source": [
    "from linearmodels import IV2SLS, IV3SLS, SUR, IVSystemGMM"
   ]
  },
  {
   "cell_type": "markdown",
   "metadata": {},
   "source": [
    "reg1 = IV2SLS (dependiente, exógenas, end´pgena, instrumentos)"
   ]
  },
  {
   "cell_type": "code",
   "execution_count": 13,
   "metadata": {},
   "outputs": [
    {
     "name": "stdout",
     "output_type": "stream",
     "text": [
      "                          IV-2SLS Estimation Summary                          \n",
      "==============================================================================\n",
      "Dep. Variable:                  hours   R-squared:                     -2.0076\n",
      "Estimator:                    IV-2SLS   Adj. R-squared:                -2.0433\n",
      "No. Observations:                 428   F-statistic:                    17.450\n",
      "Date:                Fri, Oct 18 2019   P-value (F-stat)                0.0037\n",
      "Time:                        10:43:44   Distribution:                  chi2(5)\n",
      "Cov. Estimator:            unadjusted                                         \n",
      "                                                                              \n",
      "                             Parameter Estimates                              \n",
      "==============================================================================\n",
      "            Parameter  Std. Err.     T-stat    P-value    Lower CI    Upper CI\n",
      "------------------------------------------------------------------------------\n",
      "c              2225.7     570.52     3.9011     0.0001      1107.5      3343.9\n",
      "educ          -183.75     58.684    -3.1312     0.0017     -298.77     -68.733\n",
      "age           -7.8061     9.3120    -0.8383     0.4019     -26.057      10.445\n",
      "kidslt6       -198.15     181.64    -1.0909     0.2753     -554.17      157.86\n",
      "nwifeinc      -10.170     6.5682    -1.5483     0.1215     -23.043      2.7039\n",
      "lwage          1639.6     467.27     3.5088     0.0005      723.73      2555.4\n",
      "==============================================================================\n",
      "\n",
      "Endogenous: lwage\n",
      "Instruments: exper, expersq\n",
      "Unadjusted Covariance (Homoskedastic)\n",
      "Debiased: False\n"
     ]
    },
    {
     "name": "stderr",
     "output_type": "stream",
     "text": [
      "c:\\python\\lib\\site-packages\\linearmodels\\utility.py:478: MissingValueWarning: \n",
      "Inputs contain missing values. Dropping rows with missing observations.\n",
      "  warnings.warn(missing_value_warning_msg, MissingValueWarning)\n"
     ]
    }
   ],
   "source": [
    "reg1 = IV2SLS(df1.hours, df1[['c','educ','age','kidslt6','nwifeinc']],df1[['lwage']],df1[['exper','expersq']]).fit(cov_type='unadjusted')\n",
    "print(reg1)"
   ]
  },
  {
   "cell_type": "markdown",
   "metadata": {},
   "source": [
    "reg1 = IV2SLS (dependiente, exógenas, end´pgena, instrumentos)"
   ]
  },
  {
   "cell_type": "code",
   "execution_count": 16,
   "metadata": {},
   "outputs": [
    {
     "name": "stdout",
     "output_type": "stream",
     "text": [
      "                          IV-2SLS Estimation Summary                          \n",
      "==============================================================================\n",
      "Dep. Variable:                  lwage   R-squared:                      0.1257\n",
      "Estimator:                    IV-2SLS   Adj. R-squared:                 0.1174\n",
      "No. Observations:                 428   F-statistic:                    77.012\n",
      "Date:                Fri, Oct 18 2019   P-value (F-stat)                0.0000\n",
      "Time:                        10:49:33   Distribution:                  chi2(4)\n",
      "Cov. Estimator:            unadjusted                                         \n",
      "                                                                              \n",
      "                             Parameter Estimates                              \n",
      "==============================================================================\n",
      "            Parameter  Std. Err.     T-stat    P-value    Lower CI    Upper CI\n",
      "------------------------------------------------------------------------------\n",
      "c             -0.6557     0.3358    -1.9527     0.0509     -1.3139      0.0024\n",
      "educ           0.1103     0.0154     7.1488     0.0000      0.0801      0.1406\n",
      "exper          0.0346     0.0194     1.7847     0.0743     -0.0034      0.0726\n",
      "expersq       -0.0007     0.0005    -1.5634     0.1179     -0.0016      0.0002\n",
      "hours          0.0001     0.0003     0.4974     0.6189     -0.0004      0.0006\n",
      "==============================================================================\n",
      "\n",
      "Endogenous: hours\n",
      "Instruments: age, kidslt6, nwifeinc\n",
      "Unadjusted Covariance (Homoskedastic)\n",
      "Debiased: False\n"
     ]
    },
    {
     "name": "stderr",
     "output_type": "stream",
     "text": [
      "c:\\python\\lib\\site-packages\\linearmodels\\utility.py:478: MissingValueWarning: \n",
      "Inputs contain missing values. Dropping rows with missing observations.\n",
      "  warnings.warn(missing_value_warning_msg, MissingValueWarning)\n"
     ]
    }
   ],
   "source": [
    "reg1 = IV2SLS(df1.lwage, df1[['c','educ','exper','expersq']],df1[['hours']],df1[['age','kidslt6','nwifeinc']]).fit(cov_type='unadjusted')\n",
    "print(reg1)"
   ]
  },
  {
   "cell_type": "code",
   "execution_count": null,
   "metadata": {},
   "outputs": [],
   "source": []
  },
  {
   "cell_type": "code",
   "execution_count": 12,
   "metadata": {},
   "outputs": [
    {
     "name": "stderr",
     "output_type": "stream",
     "text": [
      "c:\\python\\lib\\site-packages\\linearmodels\\iv\\data.py:30: FutureWarning: is_categorical is deprecated and will be removed in a future version.  Use is_categorical_dtype instead\n",
      "  if is_categorical(s):\n",
      "c:\\python\\lib\\site-packages\\linearmodels\\utility.py:502: MissingValueWarning: \n",
      "Inputs contain missing values. Dropping rows with missing observations.\n",
      "  warnings.warn(missing_value_warning_msg, MissingValueWarning)\n"
     ]
    },
    {
     "name": "stdout",
     "output_type": "stream",
     "text": [
      "results_3sls: \n",
      "                           System GLS Estimation Summary                           \n",
      "===================================================================================\n",
      "Estimator:                        GLS   Overall R-squared:                  -3.0751\n",
      "No. Equations.:                     2   McElroy's R-squared:                 0.8638\n",
      "No. Observations:                 428   Judge's (OLS) R-squared:            -3.0751\n",
      "Date:                Mon, Oct 16 2023   Berndt's R-squared:                  0.6857\n",
      "Time:                        14:24:02   Dhrymes's R-squared:                -3.0751\n",
      "                                        Cov. Estimator:                  unadjusted\n",
      "                                        Num. Constraints:                      None\n",
      "                    Equation: eq1, Dependent Variable: hours                    \n",
      "================================================================================\n",
      "              Parameter  Std. Err.     T-stat    P-value    Lower CI    Upper CI\n",
      "--------------------------------------------------------------------------------\n",
      "Intercept        2388.5     554.05     4.3109     0.0000      1299.4      3477.5\n",
      "educ            -238.89     59.838    -3.9923     0.0001     -356.51     -121.27\n",
      "age             -10.372     8.6628    -1.1973     0.2319     -27.400      6.6554\n",
      "kidslt6         -181.10     154.00    -1.1759     0.2403     -483.81      121.61\n",
      "nwifeinc        -0.0397     3.5319    -0.0112     0.9910     -6.9819      6.9026\n",
      "np.log(wage)     2016.5     502.53     4.0127     0.0001      1028.7      3004.3\n",
      "                                                                                \n",
      "====================\n",
      "    Instruments     \n",
      "--------------------\n",
      "exper, I(exper ** 2)\n",
      "                    \n",
      "                 Equation: eq2, Dependent Variable: np.log(wage)                 \n",
      "=================================================================================\n",
      "               Parameter  Std. Err.     T-stat    P-value    Lower CI    Upper CI\n",
      "---------------------------------------------------------------------------------\n",
      "Intercept        -0.6423     0.3464    -1.8544     0.0644     -1.3231      0.0385\n",
      "educ              0.1134     0.0156     7.2878     0.0000      0.0828      0.1439\n",
      "exper             0.0102     0.0081     1.2480     0.2127     -0.0058      0.0262\n",
      "I(exper ** 2)     0.0001     0.0002     0.7562     0.4499     -0.0002      0.0005\n",
      "hours             0.0002     0.0002     0.8356     0.4038     -0.0003      0.0007\n",
      "======================\n",
      "     Instruments      \n",
      "----------------------\n",
      "age, kidslt6, nwifeinc\n",
      "----------------------\n",
      "\n",
      "Covariance Estimator:\n",
      "Homoskedastic (Unadjusted) Covariance (Debiased: True, GLS: True)\n",
      "\n"
     ]
    },
    {
     "name": "stderr",
     "output_type": "stream",
     "text": [
      "c:\\python\\lib\\site-packages\\linearmodels\\system\\results.py:180: FutureWarning: Support for multi-dimensional indexing (e.g. `obj[:, None]`) is deprecated and will be removed in a future version.  Convert to a numpy array before indexing instead.\n",
      "  ci = self.params[:, None] + self.std_errors[:, None] * q\n"
     ]
    }
   ],
   "source": [
    "# 3SLS regressions:\n",
    "formula = {'eq1': 'hours ~ 1 + educ + age + kidslt6 + nwifeinc +'\n",
    "                  '[np.log(wage) ~ exper+I(exper**2)]',\n",
    "           'eq2': 'np.log(wage) ~ 1 + educ + exper + I(exper**2) +'\n",
    "                  '[hours ~ age + kidslt6 + nwifeinc]'}\n",
    "\n",
    "reg_3sls = iv3.IV3SLS.from_formula(formula, data=df1)\n",
    "\n",
    "results_3sls = reg_3sls.fit(cov_type='unadjusted', debiased=True)\n",
    "print(f'results_3sls: \\n{results_3sls}\\n')"
   ]
  },
  {
   "cell_type": "markdown",
   "metadata": {},
   "source": [
    "## Ejemplo 16.6 Inflación y grado de apertura (openness.dta)"
   ]
  },
  {
   "cell_type": "markdown",
   "metadata": {},
   "source": [
    "Antes de estimar (16.22) mediante los datos en OPENNESS.RAW, se revisa para ver si open (apertura)\n",
    "tiene una correlación parcial suficiente con la VI propuesta, log(land). La regresión en la forma reducida es"
   ]
  },
  {
   "cell_type": "markdown",
   "metadata": {},
   "source": []
  },
  {
   "cell_type": "markdown",
   "metadata": {},
   "source": [
    "El estadístico t sobre log(land) es superior a nueve en valor absoluto, lo cual verifica la aseveración de\n",
    "Romer de que los países más pequeños son más abiertos. El hecho de que log(pcinc) sea tan insignificante\n",
    "en esta regresión es irrelevante.\n",
    "Estimar (16.22) mediante log(land ) como una VI para open da"
   ]
  },
  {
   "cell_type": "markdown",
   "metadata": {},
   "source": [
    "$    \\tag{16.26}$"
   ]
  },
  {
   "cell_type": "markdown",
   "metadata": {},
   "source": [
    "El coeficiente en open es estadísticamente significativo al nivel aproximadamente de 1% en comparación con la alternativa (\u00051 \f",
    " 0). El efecto también es económicamente importante: para cada incremento de punto porcentual en la participación de importaciones en el producto interno bruto, la inflación anual será menor aproximadamente en una tercera parte de un punto porcentual. A modo de comparación, la estimación de MCO es de \u0007.215 (ee \u0002 .095)."
   ]
  },
  {
   "cell_type": "markdown",
   "metadata": {},
   "source": []
  },
  {
   "cell_type": "markdown",
   "metadata": {},
   "source": []
  },
  {
   "cell_type": "markdown",
   "metadata": {},
   "source": []
  },
  {
   "cell_type": "code",
   "execution_count": 6,
   "metadata": {},
   "outputs": [],
   "source": [
    "dfej16_6['c']= np.ones(len(dfej16_6))"
   ]
  },
  {
   "cell_type": "code",
   "execution_count": 2,
   "metadata": {
    "scrolled": true
   },
   "outputs": [
    {
     "data": {
      "text/html": [
       "<div>\n",
       "<style scoped>\n",
       "    .dataframe tbody tr th:only-of-type {\n",
       "        vertical-align: middle;\n",
       "    }\n",
       "\n",
       "    .dataframe tbody tr th {\n",
       "        vertical-align: top;\n",
       "    }\n",
       "\n",
       "    .dataframe thead th {\n",
       "        text-align: right;\n",
       "    }\n",
       "</style>\n",
       "<table border=\"1\" class=\"dataframe\">\n",
       "  <thead>\n",
       "    <tr style=\"text-align: right;\">\n",
       "      <th></th>\n",
       "      <th>open</th>\n",
       "      <th>inf</th>\n",
       "      <th>pcinc</th>\n",
       "      <th>land</th>\n",
       "      <th>oil</th>\n",
       "      <th>good</th>\n",
       "      <th>lpcinc</th>\n",
       "      <th>lland</th>\n",
       "      <th>lopen</th>\n",
       "      <th>linf</th>\n",
       "      <th>opendec</th>\n",
       "      <th>linfdec</th>\n",
       "    </tr>\n",
       "  </thead>\n",
       "  <tbody>\n",
       "    <tr>\n",
       "      <th>0</th>\n",
       "      <td>31.400000</td>\n",
       "      <td>9.9</td>\n",
       "      <td>1998</td>\n",
       "      <td>919595.0</td>\n",
       "      <td>0</td>\n",
       "      <td>0</td>\n",
       "      <td>7.599902</td>\n",
       "      <td>13.731688</td>\n",
       "      <td>3.446808</td>\n",
       "      <td>2.292535</td>\n",
       "      <td>0.314</td>\n",
       "      <td>-2.312635</td>\n",
       "    </tr>\n",
       "    <tr>\n",
       "      <th>1</th>\n",
       "      <td>9.400000</td>\n",
       "      <td>117.0</td>\n",
       "      <td>4342</td>\n",
       "      <td>1072067.0</td>\n",
       "      <td>0</td>\n",
       "      <td>1</td>\n",
       "      <td>8.376090</td>\n",
       "      <td>13.885099</td>\n",
       "      <td>2.240710</td>\n",
       "      <td>4.762174</td>\n",
       "      <td>0.094</td>\n",
       "      <td>0.157004</td>\n",
       "    </tr>\n",
       "    <tr>\n",
       "      <th>2</th>\n",
       "      <td>16.700001</td>\n",
       "      <td>9.5</td>\n",
       "      <td>8349</td>\n",
       "      <td>2966150.0</td>\n",
       "      <td>0</td>\n",
       "      <td>1</td>\n",
       "      <td>9.029897</td>\n",
       "      <td>14.902776</td>\n",
       "      <td>2.815409</td>\n",
       "      <td>2.251292</td>\n",
       "      <td>0.167</td>\n",
       "      <td>-2.353878</td>\n",
       "    </tr>\n",
       "    <tr>\n",
       "      <th>3</th>\n",
       "      <td>35.599998</td>\n",
       "      <td>5.0</td>\n",
       "      <td>8230</td>\n",
       "      <td>32375.0</td>\n",
       "      <td>0</td>\n",
       "      <td>1</td>\n",
       "      <td>9.015541</td>\n",
       "      <td>10.385141</td>\n",
       "      <td>3.572345</td>\n",
       "      <td>1.609438</td>\n",
       "      <td>0.356</td>\n",
       "      <td>-2.995732</td>\n",
       "    </tr>\n",
       "    <tr>\n",
       "      <th>4</th>\n",
       "      <td>91.000000</td>\n",
       "      <td>4.8</td>\n",
       "      <td>9185</td>\n",
       "      <td>240.0</td>\n",
       "      <td>1</td>\n",
       "      <td>0</td>\n",
       "      <td>9.125327</td>\n",
       "      <td>5.480639</td>\n",
       "      <td>4.510859</td>\n",
       "      <td>1.568616</td>\n",
       "      <td>0.910</td>\n",
       "      <td>-3.036554</td>\n",
       "    </tr>\n",
       "  </tbody>\n",
       "</table>\n",
       "</div>"
      ],
      "text/plain": [
       "        open    inf  pcinc       land  oil  good    lpcinc      lland  \\\n",
       "0  31.400000    9.9   1998   919595.0    0     0  7.599902  13.731688   \n",
       "1   9.400000  117.0   4342  1072067.0    0     1  8.376090  13.885099   \n",
       "2  16.700001    9.5   8349  2966150.0    0     1  9.029897  14.902776   \n",
       "3  35.599998    5.0   8230    32375.0    0     1  9.015541  10.385141   \n",
       "4  91.000000    4.8   9185      240.0    1     0  9.125327   5.480639   \n",
       "\n",
       "      lopen      linf  opendec   linfdec  \n",
       "0  3.446808  2.292535    0.314 -2.312635  \n",
       "1  2.240710  4.762174    0.094  0.157004  \n",
       "2  2.815409  2.251292    0.167 -2.353878  \n",
       "3  3.572345  1.609438    0.356 -2.995732  \n",
       "4  4.510859  1.568616    0.910 -3.036554  "
      ]
     },
     "execution_count": 2,
     "metadata": {},
     "output_type": "execute_result"
    }
   ],
   "source": [
    "dfej16_6 = pd.read_stata('openness.dta')\n",
    "dfej16_6.head()"
   ]
  },
  {
   "cell_type": "code",
   "execution_count": 3,
   "metadata": {},
   "outputs": [
    {
     "name": "stdout",
     "output_type": "stream",
     "text": [
      "                            OLS Regression Results                            \n",
      "==============================================================================\n",
      "Dep. Variable:                   open   R-squared:                       0.449\n",
      "Model:                            OLS   Adj. R-squared:                  0.439\n",
      "Method:                 Least Squares   F-statistic:                     45.17\n",
      "Date:                Mon, 16 Oct 2023   Prob (F-statistic):           4.45e-15\n",
      "Time:                        14:00:43   Log-Likelihood:                -488.44\n",
      "No. Observations:                 114   AIC:                             982.9\n",
      "Df Residuals:                     111   BIC:                             991.1\n",
      "Df Model:                           2                                         \n",
      "Covariance Type:            nonrobust                                         \n",
      "==============================================================================\n",
      "                 coef    std err          t      P>|t|      [0.025      0.975]\n",
      "------------------------------------------------------------------------------\n",
      "Intercept    117.0845     15.848      7.388      0.000      85.680     148.489\n",
      "lpcinc         0.5465      1.493      0.366      0.715      -2.412       3.505\n",
      "lland         -7.5671      0.814     -9.294      0.000      -9.181      -5.954\n",
      "==============================================================================\n",
      "Omnibus:                       56.815   Durbin-Watson:                   2.147\n",
      "Prob(Omnibus):                  0.000   Jarque-Bera (JB):              197.784\n",
      "Skew:                           1.783   Prob(JB):                     1.13e-43\n",
      "Kurtosis:                       8.377   Cond. No.                         130.\n",
      "==============================================================================\n",
      "\n",
      "Notes:\n",
      "[1] Standard Errors assume that the covariance matrix of the errors is correctly specified.\n"
     ]
    }
   ],
   "source": [
    "print(smf.ols('open ~ lpcinc + lland', data = dfej16_6).fit().summary())"
   ]
  },
  {
   "cell_type": "code",
   "execution_count": 7,
   "metadata": {},
   "outputs": [
    {
     "name": "stdout",
     "output_type": "stream",
     "text": [
      "                          IV-2SLS Estimation Summary                          \n",
      "==============================================================================\n",
      "Dep. Variable:                    inf   R-squared:                      0.0309\n",
      "Estimator:                    IV-2SLS   Adj. R-squared:                 0.0134\n",
      "No. Observations:                 114   F-statistic:                    5.7307\n",
      "Date:                Mon, Oct 16 2023   P-value (F-stat)                0.0570\n",
      "Time:                        14:09:04   Distribution:                  chi2(2)\n",
      "Cov. Estimator:            unadjusted                                         \n",
      "                                                                              \n",
      "                             Parameter Estimates                              \n",
      "==============================================================================\n",
      "            Parameter  Std. Err.     T-stat    P-value    Lower CI    Upper CI\n",
      "------------------------------------------------------------------------------\n",
      "c              26.899     15.197     1.7700     0.0767     -2.8866      56.685\n",
      "lpcinc         0.3758     1.9884     0.1890     0.8501     -3.5213      4.2730\n",
      "open          -0.3375     0.1422    -2.3731     0.0176     -0.6162     -0.0588\n",
      "==============================================================================\n",
      "\n",
      "Endogenous: open\n",
      "Instruments: lland\n",
      "Unadjusted Covariance (Homoskedastic)\n",
      "Debiased: False\n"
     ]
    }
   ],
   "source": [
    "reg166 = IV2SLS(dfej16_6.inf, dfej16_6[['c','lpcinc']],dfej16_6.open,dfej16_6.lland).fit(cov_type='unadjusted')\n",
    "print(reg166)"
   ]
  },
  {
   "cell_type": "code",
   "execution_count": null,
   "metadata": {},
   "outputs": [],
   "source": []
  },
  {
   "cell_type": "code",
   "execution_count": null,
   "metadata": {},
   "outputs": [],
   "source": []
  },
  {
   "cell_type": "markdown",
   "metadata": {},
   "source": [
    "## Ejemplo 16.7 Contraste de la hipótesis de la renta permanente (consump.dta )"
   ]
  },
  {
   "cell_type": "markdown",
   "metadata": {},
   "source": [
    "Campbell y Mankiw (1990) emplearon métodos de variables instrumentales para probar varias versiones\n",
    "de hipótesis de ingreso permanente. Se usarán los datos anuales de 1959 a 1995 en CONSUMP.RAW\n",
    "para imitar uno de sus análisis. Campbell y Mankiw emplearon datos trimestrales hasta 1985.\n",
    "Una ecuación que Campbell y Mankiw estimaron (escrita con nuestra notación) es"
   ]
  },
  {
   "cell_type": "markdown",
   "metadata": {},
   "source": [
    "$   \\tag{16.35}$"
   ]
  },
  {
   "cell_type": "markdown",
   "metadata": {},
   "source": [
    "donde\n",
    "gct \u0002 \u0005log(ct) \u0002 crecimiento anual en consumo real per cápita (excluyendo a los no perecederos).\n",
    "gyt \u0002 crecimiento en el ingreso real disponible.\n",
    "\n",
    "r3t \u0002 la tasa de interés real (ex post) medida por el rendimiento en las tasas trimestrales de los\n",
    "bonos del Tesoro: r3t \u0002 i3t \u0007 inft, donde la tasa de inflación está basada en el Índice de\n",
    "precios al consumidor.\n",
    "\n",
    "Las tasas de crecimiento de consumo e ingreso disponible no poseen tendencia y son débilmente\n",
    "dependientes; se supondrá que este también es el caso para r3t así que se puede aplicar la teoría estándar\n",
    "asintótica.\n",
    "\n",
    "La característica clave de la ecuación (16.35) es que la HIP implica que el término de error ut tiene una\n",
    "media condicional de cero en toda la información observada en el tiempo t \u0007 1 o antes: E(ut\u0002It\u00071) \u0002 0. Sin\n",
    "embargo, no es necesario que ut no esté correlacionado con gyt o r3t; una forma tradicional de pensar esto\n",
    "es que dichas variables están determinadas en forma conjunta, pero no se escribirá un sistema completo\n",
    "de tres ecuaciones.\n",
    "\n",
    "Debido a que ut no está correlacionado con todas las variables de fecha t \u0007 1 o anterior, los instrumentos\n",
    "válidos para estimar (16.35) son los valores rezagados de gc, gy y r3 (y los rezagos de las otras\n",
    "variables, pero no se usarán aquí). ¿Cuáles son las hipótesis de interés? La forma pura de HIP tiene \u00031 \u0002\n",
    "\u00032 \u0002 0. Campbell y Mankiw argumentan que \u00031 es positiva si alguna fracción de la población consume su\n",
    "ingreso actual, más que su ingreso permanente. La HIP con una tasa de interés real y no constante implica\n",
    "que \u00032 \b 0.\n",
    "\n",
    "Cuando se estima (16.35) mediante MC2E, usando los instrumentos gc\u00071, gy\u00071 y r3\u00071 como variables\n",
    "endógenas gyt y r3t, se obtiene"
   ]
  },
  {
   "cell_type": "markdown",
   "metadata": {},
   "source": [
    "$   \\tag{16.36}$"
   ]
  },
  {
   "cell_type": "markdown",
   "metadata": {},
   "source": [
    "Por tanto, la forma pura de HIP se rechaza fuertemente debido a que el coeficiente en gy es económicamente\n",
    "grande (un incremento de 1% en el ingreso disponible aumenta el consumo en más de .5%) y es\n",
    "estadísticamente significativo (t \u0002 4.34). En contraste, el coeficiente de interés real es muy pequeño y estadísticamente\n",
    "insignificante. Estos hallazgos son cualitativamente iguales que los de Campbell y Mankiw.\n",
    "\n",
    "La HIP también implica que los errores {ut} no están correlacionados serialmente. Después de la estimación\n",
    "de MC2E, se obtienen los residuales, uˆ t, y se incluye u ˆ t\u00071 como una variable explicativa adicional en\n",
    "(16.36); aún se emplearán los instrumentos gct\u00071, gyt\u00071, r3t\u00071, y u ˆ t\u00071 actúa como su propio instrumento (vea\n",
    "la sección 15.7). El coeficiente en uˆ t\u00071 es \f",
    " ˆ \u0002 .187 (ee \u0002 .133), así que existe cierta evidencia de correlación\n",
    "serial positiva, aunque no al nivel de significancia de 5%. Campbell y Mankiw analizan el por qué, con\n",
    "los datos trimestrales disponibles, la correlación serial positiva puede encontrarse en errores aun cuando la\n",
    "HIP fuera válida; algunas de estas cuestiones también se relacionan con los datos anuales."
   ]
  },
  {
   "cell_type": "markdown",
   "metadata": {},
   "source": []
  },
  {
   "cell_type": "markdown",
   "metadata": {},
   "source": []
  },
  {
   "cell_type": "markdown",
   "metadata": {},
   "source": []
  },
  {
   "cell_type": "markdown",
   "metadata": {},
   "source": []
  },
  {
   "cell_type": "markdown",
   "metadata": {},
   "source": []
  },
  {
   "cell_type": "code",
   "execution_count": 5,
   "metadata": {
    "scrolled": true
   },
   "outputs": [
    {
     "data": {
      "text/html": [
       "<div>\n",
       "<style scoped>\n",
       "    .dataframe tbody tr th:only-of-type {\n",
       "        vertical-align: middle;\n",
       "    }\n",
       "\n",
       "    .dataframe tbody tr th {\n",
       "        vertical-align: top;\n",
       "    }\n",
       "\n",
       "    .dataframe thead th {\n",
       "        text-align: right;\n",
       "    }\n",
       "</style>\n",
       "<table border=\"1\" class=\"dataframe\">\n",
       "  <thead>\n",
       "    <tr style=\"text-align: right;\">\n",
       "      <th></th>\n",
       "      <th>year</th>\n",
       "      <th>i3</th>\n",
       "      <th>inf</th>\n",
       "      <th>rdisp</th>\n",
       "      <th>rnondc</th>\n",
       "      <th>rserv</th>\n",
       "      <th>pop</th>\n",
       "      <th>y</th>\n",
       "      <th>rcons</th>\n",
       "      <th>c</th>\n",
       "      <th>...</th>\n",
       "      <th>gy</th>\n",
       "      <th>gc_1</th>\n",
       "      <th>gy_1</th>\n",
       "      <th>r3_1</th>\n",
       "      <th>lc_ly</th>\n",
       "      <th>lc_ly_1</th>\n",
       "      <th>gc_2</th>\n",
       "      <th>gy_2</th>\n",
       "      <th>r3_2</th>\n",
       "      <th>lc_ly_2</th>\n",
       "    </tr>\n",
       "  </thead>\n",
       "  <tbody>\n",
       "    <tr>\n",
       "      <th>0</th>\n",
       "      <td>1959</td>\n",
       "      <td>3.41</td>\n",
       "      <td>0.7</td>\n",
       "      <td>1530.099976</td>\n",
       "      <td>606.299988</td>\n",
       "      <td>687.400024</td>\n",
       "      <td>177830.0</td>\n",
       "      <td>8604.285156</td>\n",
       "      <td>1293.699951</td>\n",
       "      <td>7274.925293</td>\n",
       "      <td>...</td>\n",
       "      <td>NaN</td>\n",
       "      <td>NaN</td>\n",
       "      <td>NaN</td>\n",
       "      <td>NaN</td>\n",
       "      <td>-0.167827</td>\n",
       "      <td>NaN</td>\n",
       "      <td>NaN</td>\n",
       "      <td>NaN</td>\n",
       "      <td>NaN</td>\n",
       "      <td>NaN</td>\n",
       "    </tr>\n",
       "    <tr>\n",
       "      <th>1</th>\n",
       "      <td>1960</td>\n",
       "      <td>2.93</td>\n",
       "      <td>1.7</td>\n",
       "      <td>1565.400024</td>\n",
       "      <td>615.400024</td>\n",
       "      <td>717.400024</td>\n",
       "      <td>180671.0</td>\n",
       "      <td>8664.368164</td>\n",
       "      <td>1332.800049</td>\n",
       "      <td>7376.945312</td>\n",
       "      <td>...</td>\n",
       "      <td>0.006959</td>\n",
       "      <td>NaN</td>\n",
       "      <td>NaN</td>\n",
       "      <td>2.71</td>\n",
       "      <td>-0.160860</td>\n",
       "      <td>-0.167827</td>\n",
       "      <td>NaN</td>\n",
       "      <td>NaN</td>\n",
       "      <td>NaN</td>\n",
       "      <td>NaN</td>\n",
       "    </tr>\n",
       "    <tr>\n",
       "      <th>2</th>\n",
       "      <td>1961</td>\n",
       "      <td>2.38</td>\n",
       "      <td>1.0</td>\n",
       "      <td>1615.800049</td>\n",
       "      <td>626.700012</td>\n",
       "      <td>746.500000</td>\n",
       "      <td>183691.0</td>\n",
       "      <td>8796.293945</td>\n",
       "      <td>1373.199951</td>\n",
       "      <td>7475.597168</td>\n",
       "      <td>...</td>\n",
       "      <td>0.015111</td>\n",
       "      <td>0.013926</td>\n",
       "      <td>0.006959</td>\n",
       "      <td>1.23</td>\n",
       "      <td>-0.162686</td>\n",
       "      <td>-0.160860</td>\n",
       "      <td>NaN</td>\n",
       "      <td>NaN</td>\n",
       "      <td>2.71</td>\n",
       "      <td>-0.167827</td>\n",
       "    </tr>\n",
       "    <tr>\n",
       "      <th>3</th>\n",
       "      <td>1962</td>\n",
       "      <td>2.78</td>\n",
       "      <td>1.0</td>\n",
       "      <td>1693.699951</td>\n",
       "      <td>646.500000</td>\n",
       "      <td>783.400024</td>\n",
       "      <td>186538.0</td>\n",
       "      <td>9079.651367</td>\n",
       "      <td>1429.900024</td>\n",
       "      <td>7665.462402</td>\n",
       "      <td>...</td>\n",
       "      <td>0.031706</td>\n",
       "      <td>0.013285</td>\n",
       "      <td>0.015111</td>\n",
       "      <td>1.38</td>\n",
       "      <td>-0.169312</td>\n",
       "      <td>-0.162686</td>\n",
       "      <td>0.013926</td>\n",
       "      <td>0.006959</td>\n",
       "      <td>1.23</td>\n",
       "      <td>-0.160860</td>\n",
       "    </tr>\n",
       "    <tr>\n",
       "      <th>4</th>\n",
       "      <td>1963</td>\n",
       "      <td>3.16</td>\n",
       "      <td>1.3</td>\n",
       "      <td>1755.500000</td>\n",
       "      <td>660.000000</td>\n",
       "      <td>818.700012</td>\n",
       "      <td>189242.0</td>\n",
       "      <td>9276.482422</td>\n",
       "      <td>1478.699951</td>\n",
       "      <td>7813.804199</td>\n",
       "      <td>...</td>\n",
       "      <td>0.021446</td>\n",
       "      <td>0.025081</td>\n",
       "      <td>0.031706</td>\n",
       "      <td>1.78</td>\n",
       "      <td>-0.171591</td>\n",
       "      <td>-0.169312</td>\n",
       "      <td>0.013285</td>\n",
       "      <td>0.015111</td>\n",
       "      <td>1.38</td>\n",
       "      <td>-0.162686</td>\n",
       "    </tr>\n",
       "  </tbody>\n",
       "</table>\n",
       "<p>5 rows × 24 columns</p>\n",
       "</div>"
      ],
      "text/plain": [
       "   year    i3  inf        rdisp      rnondc       rserv       pop  \\\n",
       "0  1959  3.41  0.7  1530.099976  606.299988  687.400024  177830.0   \n",
       "1  1960  2.93  1.7  1565.400024  615.400024  717.400024  180671.0   \n",
       "2  1961  2.38  1.0  1615.800049  626.700012  746.500000  183691.0   \n",
       "3  1962  2.78  1.0  1693.699951  646.500000  783.400024  186538.0   \n",
       "4  1963  3.16  1.3  1755.500000  660.000000  818.700012  189242.0   \n",
       "\n",
       "             y        rcons            c  ...        gy      gc_1      gy_1  \\\n",
       "0  8604.285156  1293.699951  7274.925293  ...       NaN       NaN       NaN   \n",
       "1  8664.368164  1332.800049  7376.945312  ...  0.006959       NaN       NaN   \n",
       "2  8796.293945  1373.199951  7475.597168  ...  0.015111  0.013926  0.006959   \n",
       "3  9079.651367  1429.900024  7665.462402  ...  0.031706  0.013285  0.015111   \n",
       "4  9276.482422  1478.699951  7813.804199  ...  0.021446  0.025081  0.031706   \n",
       "\n",
       "   r3_1     lc_ly   lc_ly_1      gc_2      gy_2  r3_2   lc_ly_2  \n",
       "0   NaN -0.167827       NaN       NaN       NaN   NaN       NaN  \n",
       "1  2.71 -0.160860 -0.167827       NaN       NaN   NaN       NaN  \n",
       "2  1.23 -0.162686 -0.160860       NaN       NaN  2.71 -0.167827  \n",
       "3  1.38 -0.169312 -0.162686  0.013926  0.006959  1.23 -0.160860  \n",
       "4  1.78 -0.171591 -0.169312  0.013285  0.015111  1.38 -0.162686  \n",
       "\n",
       "[5 rows x 24 columns]"
      ]
     },
     "execution_count": 5,
     "metadata": {},
     "output_type": "execute_result"
    }
   ],
   "source": [
    "dfej16_7 = pd.read_stata('consump.dta')\n",
    "dfej16_7.head()"
   ]
  },
  {
   "cell_type": "code",
   "execution_count": 6,
   "metadata": {},
   "outputs": [
    {
     "name": "stdout",
     "output_type": "stream",
     "text": [
      "                          IV-2SLS Estimation Summary                          \n",
      "==============================================================================\n",
      "Dep. Variable:                     gc   R-squared:                      0.6779\n",
      "Estimator:                    IV-2SLS   Adj. R-squared:                 0.6578\n",
      "No. Observations:                  35   F-statistic:                    18.305\n",
      "Date:                Fri, Jul 17 2020   P-value (F-stat)                0.0001\n",
      "Time:                        13:31:28   Distribution:                  chi2(2)\n",
      "Cov. Estimator:                robust                                         \n",
      "                                                                              \n",
      "                             Parameter Estimates                              \n",
      "==============================================================================\n",
      "            Parameter  Std. Err.     T-stat    P-value    Lower CI    Upper CI\n",
      "------------------------------------------------------------------------------\n",
      "Intercept      0.0081     0.0034     2.3694     0.0178      0.0014      0.0147\n",
      "gy             0.5862     0.1371     4.2761     0.0000      0.3175      0.8549\n",
      "r3            -0.0003     0.0009    -0.2961     0.7671     -0.0021      0.0015\n",
      "==============================================================================\n",
      "\n",
      "Endogenous: gy, r3\n",
      "Instruments: gy_1, gc_1, r3_1\n",
      "Robust Covariance (Heteroskedastic)\n",
      "Debiased: False\n"
     ]
    },
    {
     "name": "stderr",
     "output_type": "stream",
     "text": [
      "c:\\python\\lib\\site-packages\\linearmodels\\utility.py:502: MissingValueWarning: \n",
      "Inputs contain missing values. Dropping rows with missing observations.\n",
      "  warnings.warn(missing_value_warning_msg, MissingValueWarning)\n"
     ]
    }
   ],
   "source": [
    "pi_reg = IV2SLS.from_formula('gc ~ 1 + [gy + r3 ~ gy_1 + gc_1 + r3_1]', data = dfej16_7).fit()\n",
    "print(pi_reg)"
   ]
  },
  {
   "cell_type": "markdown",
   "metadata": {},
   "source": [
    "## Ejemplo 16.8 Efecto de la población carcelaria sobre las tasas de delincuencia con violencia (prison.dta)"
   ]
  },
  {
   "cell_type": "markdown",
   "metadata": {},
   "source": [
    "Con el fin de estimar el efecto causal del incremento de la población carcelaria en el índice delictivo a nivel\n",
    "estatal, Levitt (1996) utilizó casos de pleitos en prisiones sobrepobladas como instrumentos del crecimiento\n",
    "en la población de la prisión. La ecuación que Levitt estimó es en primeras diferencias; se puede escribir\n",
    "un modelo subyacente de efectos fijos como"
   ]
  },
  {
   "cell_type": "markdown",
   "metadata": {},
   "source": [
    "$   \\tag{16.40}$"
   ]
  },
  {
   "cell_type": "markdown",
   "metadata": {},
   "source": [
    "donde \bt denota diferentes interceptos de tiempo, y crime (delitos) y prison (población carcelaria) se miden\n",
    "por cada 100,000 personas. (La variable de la población de la prisión se mide sobre el último día del año\n",
    "anterior.) El vector zit1 contiene el logaritmo de policías per cápita, el logaritmo de ingreso per cápita, la\n",
    "tasa de desempleo, las proporciones de negros y personas que viven en áreas metropolitanas y las proporciones\n",
    "de distribución por edades.\n",
    "\n",
    "Al diferenciar (16.40) se obtiene la ecuación estimada por Levitt:"
   ]
  },
  {
   "cell_type": "markdown",
   "metadata": {},
   "source": [
    "$   \\tag{16.41}$"
   ]
  },
  {
   "cell_type": "markdown",
   "metadata": {},
   "source": [
    "La simultaneidad entre los índices delictivos y la población carcelaria, o de manera más precisa en las tasas\n",
    "de crecimiento, hace que la estimación de MCO de (16.41) sea por lo general, más inconsistente. Mediante\n",
    "el índice de delitos violentos y un subconjunto de datos de Levitt (en PRISON.RAW, para los años\n",
    "de 1980 a 1993, para 51\u000314 \u0002 714 observaciones totales), se obtiene la estimación combinada de MCO de\n",
    "\u00051, que es \u0007.181 (ee \u0002 .048). También se estima (16.41) por MC2E combinados, donde los instrumentos\n",
    "para \u0005log(prison) son dos variables binarias, cada una para si se llegó a la decisión final sobre las peleas\n",
    "por sobrepoblación en el año presente o en los pasados dos años. La estimación combinada de MC2E de\n",
    "\u00051 es \u00071.032 (ee \u0002 .370). Por tanto, el efecto estimado de MC2E es mucho mayor; no es de sorprender que\n",
    "sea mucho menos preciso también. Levitt encontró resultados similares cuando usó un periodo de tiempo\n",
    "mayor (pero sin las primeras observaciones para algunos estados) y más instrumentos"
   ]
  },
  {
   "cell_type": "markdown",
   "metadata": {},
   "source": []
  },
  {
   "cell_type": "markdown",
   "metadata": {},
   "source": []
  },
  {
   "cell_type": "markdown",
   "metadata": {},
   "source": []
  },
  {
   "cell_type": "markdown",
   "metadata": {},
   "source": []
  },
  {
   "cell_type": "code",
   "execution_count": 3,
   "metadata": {},
   "outputs": [
    {
     "data": {
      "text/html": [
       "<div>\n",
       "<style scoped>\n",
       "    .dataframe tbody tr th:only-of-type {\n",
       "        vertical-align: middle;\n",
       "    }\n",
       "\n",
       "    .dataframe tbody tr th {\n",
       "        vertical-align: top;\n",
       "    }\n",
       "\n",
       "    .dataframe thead th {\n",
       "        text-align: right;\n",
       "    }\n",
       "</style>\n",
       "<table border=\"1\" class=\"dataframe\">\n",
       "  <thead>\n",
       "    <tr style=\"text-align: right;\">\n",
       "      <th></th>\n",
       "      <th>state</th>\n",
       "      <th>year</th>\n",
       "      <th>govelec</th>\n",
       "      <th>black</th>\n",
       "      <th>metro</th>\n",
       "      <th>unem</th>\n",
       "      <th>criv</th>\n",
       "      <th>crip</th>\n",
       "      <th>lcriv</th>\n",
       "      <th>lcrip</th>\n",
       "      <th>...</th>\n",
       "      <th>cag18_24</th>\n",
       "      <th>cag25_34</th>\n",
       "      <th>cunem</th>\n",
       "      <th>cblack</th>\n",
       "      <th>cmetro</th>\n",
       "      <th>pris</th>\n",
       "      <th>lpris</th>\n",
       "      <th>gpris</th>\n",
       "      <th>final1</th>\n",
       "      <th>final2</th>\n",
       "    </tr>\n",
       "  </thead>\n",
       "  <tbody>\n",
       "    <tr>\n",
       "      <th>0</th>\n",
       "      <td>1</td>\n",
       "      <td>80</td>\n",
       "      <td>0</td>\n",
       "      <td>0.2560</td>\n",
       "      <td>0.6320</td>\n",
       "      <td>0.08775</td>\n",
       "      <td>4.447868</td>\n",
       "      <td>44.476376</td>\n",
       "      <td>1.492425</td>\n",
       "      <td>3.794958</td>\n",
       "      <td>...</td>\n",
       "      <td>0.000077</td>\n",
       "      <td>0.001990</td>\n",
       "      <td>0.01675</td>\n",
       "      <td>-0.059999</td>\n",
       "      <td>0.0002</td>\n",
       "      <td>141.334717</td>\n",
       "      <td>4.951131</td>\n",
       "      <td>-0.020659</td>\n",
       "      <td>0</td>\n",
       "      <td>0</td>\n",
       "    </tr>\n",
       "    <tr>\n",
       "      <th>1</th>\n",
       "      <td>1</td>\n",
       "      <td>81</td>\n",
       "      <td>0</td>\n",
       "      <td>0.2557</td>\n",
       "      <td>0.6362</td>\n",
       "      <td>0.10667</td>\n",
       "      <td>4.700944</td>\n",
       "      <td>44.248787</td>\n",
       "      <td>1.547763</td>\n",
       "      <td>3.789828</td>\n",
       "      <td>...</td>\n",
       "      <td>0.000177</td>\n",
       "      <td>0.004632</td>\n",
       "      <td>0.01892</td>\n",
       "      <td>-0.030001</td>\n",
       "      <td>0.0042</td>\n",
       "      <td>163.533646</td>\n",
       "      <td>5.097019</td>\n",
       "      <td>0.145888</td>\n",
       "      <td>0</td>\n",
       "      <td>0</td>\n",
       "    </tr>\n",
       "    <tr>\n",
       "      <th>2</th>\n",
       "      <td>1</td>\n",
       "      <td>82</td>\n",
       "      <td>1</td>\n",
       "      <td>0.2554</td>\n",
       "      <td>0.6404</td>\n",
       "      <td>0.14367</td>\n",
       "      <td>4.497580</td>\n",
       "      <td>42.050446</td>\n",
       "      <td>1.503539</td>\n",
       "      <td>3.738870</td>\n",
       "      <td>...</td>\n",
       "      <td>-0.000712</td>\n",
       "      <td>0.000013</td>\n",
       "      <td>0.03700</td>\n",
       "      <td>-0.029999</td>\n",
       "      <td>0.0042</td>\n",
       "      <td>183.694809</td>\n",
       "      <td>5.213276</td>\n",
       "      <td>0.116257</td>\n",
       "      <td>0</td>\n",
       "      <td>0</td>\n",
       "    </tr>\n",
       "    <tr>\n",
       "      <th>3</th>\n",
       "      <td>1</td>\n",
       "      <td>83</td>\n",
       "      <td>0</td>\n",
       "      <td>0.2551</td>\n",
       "      <td>0.6446</td>\n",
       "      <td>0.13667</td>\n",
       "      <td>4.186833</td>\n",
       "      <td>37.084393</td>\n",
       "      <td>1.431945</td>\n",
       "      <td>3.613196</td>\n",
       "      <td>...</td>\n",
       "      <td>-0.001318</td>\n",
       "      <td>0.001163</td>\n",
       "      <td>-0.00700</td>\n",
       "      <td>-0.030001</td>\n",
       "      <td>0.0042</td>\n",
       "      <td>218.624207</td>\n",
       "      <td>5.387354</td>\n",
       "      <td>0.174078</td>\n",
       "      <td>0</td>\n",
       "      <td>0</td>\n",
       "    </tr>\n",
       "    <tr>\n",
       "      <th>4</th>\n",
       "      <td>1</td>\n",
       "      <td>84</td>\n",
       "      <td>0</td>\n",
       "      <td>0.2548</td>\n",
       "      <td>0.6488</td>\n",
       "      <td>0.11167</td>\n",
       "      <td>4.353239</td>\n",
       "      <td>35.042255</td>\n",
       "      <td>1.470920</td>\n",
       "      <td>3.556555</td>\n",
       "      <td>...</td>\n",
       "      <td>-0.002618</td>\n",
       "      <td>0.001297</td>\n",
       "      <td>-0.02500</td>\n",
       "      <td>-0.030001</td>\n",
       "      <td>0.0042</td>\n",
       "      <td>245.068619</td>\n",
       "      <td>5.501538</td>\n",
       "      <td>0.114184</td>\n",
       "      <td>0</td>\n",
       "      <td>0</td>\n",
       "    </tr>\n",
       "  </tbody>\n",
       "</table>\n",
       "<p>5 rows × 45 columns</p>\n",
       "</div>"
      ],
      "text/plain": [
       "   state  year  govelec   black   metro     unem      criv       crip  \\\n",
       "0      1    80        0  0.2560  0.6320  0.08775  4.447868  44.476376   \n",
       "1      1    81        0  0.2557  0.6362  0.10667  4.700944  44.248787   \n",
       "2      1    82        1  0.2554  0.6404  0.14367  4.497580  42.050446   \n",
       "3      1    83        0  0.2551  0.6446  0.13667  4.186833  37.084393   \n",
       "4      1    84        0  0.2548  0.6488  0.11167  4.353239  35.042255   \n",
       "\n",
       "      lcriv     lcrip  ...  cag18_24  cag25_34    cunem    cblack  cmetro  \\\n",
       "0  1.492425  3.794958  ...  0.000077  0.001990  0.01675 -0.059999  0.0002   \n",
       "1  1.547763  3.789828  ...  0.000177  0.004632  0.01892 -0.030001  0.0042   \n",
       "2  1.503539  3.738870  ... -0.000712  0.000013  0.03700 -0.029999  0.0042   \n",
       "3  1.431945  3.613196  ... -0.001318  0.001163 -0.00700 -0.030001  0.0042   \n",
       "4  1.470920  3.556555  ... -0.002618  0.001297 -0.02500 -0.030001  0.0042   \n",
       "\n",
       "         pris     lpris     gpris  final1  final2  \n",
       "0  141.334717  4.951131 -0.020659       0       0  \n",
       "1  163.533646  5.097019  0.145888       0       0  \n",
       "2  183.694809  5.213276  0.116257       0       0  \n",
       "3  218.624207  5.387354  0.174078       0       0  \n",
       "4  245.068619  5.501538  0.114184       0       0  \n",
       "\n",
       "[5 rows x 45 columns]"
      ]
     },
     "execution_count": 3,
     "metadata": {},
     "output_type": "execute_result"
    }
   ],
   "source": [
    "dfej16_8 = pd.read_stata('prison.dta')\n",
    "dfej16_8.head()"
   ]
  },
  {
   "cell_type": "code",
   "execution_count": 4,
   "metadata": {},
   "outputs": [
    {
     "name": "stdout",
     "output_type": "stream",
     "text": [
      "                          IV-2SLS Estimation Summary                          \n",
      "==============================================================================\n",
      "Dep. Variable:                  gcriv   R-squared:                     -0.2447\n",
      "Estimator:                    IV-2SLS   Adj. R-squared:                -0.2624\n",
      "No. Observations:                 714   F-statistic:                    59.380\n",
      "Date:                Fri, Jul 17 2020   P-value (F-stat)                0.0000\n",
      "Time:                        13:30:16   Distribution:                 chi2(10)\n",
      "Cov. Estimator:            unadjusted                                         \n",
      "                                                                              \n",
      "                             Parameter Estimates                              \n",
      "==============================================================================\n",
      "            Parameter  Std. Err.     T-stat    P-value    Lower CI    Upper CI\n",
      "------------------------------------------------------------------------------\n",
      "Intercept      0.0363     0.0242     1.5039     0.1326     -0.0110      0.0837\n",
      "gpolpc         0.0735     0.0690     1.0650     0.2869     -0.0617      0.2087\n",
      "gincpc         0.9259     0.1778     5.2060     0.0000      0.5773      1.2744\n",
      "cunem          0.7299     0.3548     2.0570     0.0397      0.0344      1.4253\n",
      "cblack        -0.0147     0.0415    -0.3553     0.7224     -0.0960      0.0665\n",
      "cmetro        -1.1513     1.2634    -0.9113     0.3621     -3.6275      1.3249\n",
      "cag0_14        3.1702     2.2861     1.3868     0.1655     -1.3104      7.6508\n",
      "cag15_17       6.6609     4.3317     1.5377     0.1241     -1.8291      15.151\n",
      "cag18_24      -0.9192     2.6477    -0.3472     0.7284     -6.1086      4.2701\n",
      "cag25_34      -4.3695     2.0283    -2.1543     0.0312     -8.3448     -0.3941\n",
      "gpris         -0.9672     0.3497    -2.7661     0.0057     -1.6526     -0.2819\n",
      "==============================================================================\n",
      "\n",
      "Endogenous: gpris\n",
      "Instruments: final1, final2\n",
      "Unadjusted Covariance (Homoskedastic)\n",
      "Debiased: False\n",
      "                            OLS Regression Results                            \n",
      "==============================================================================\n",
      "Dep. Variable:                  gcriv   R-squared:                       0.106\n",
      "Model:                            OLS   Adj. R-squared:                  0.093\n",
      "Method:                 Least Squares   F-statistic:                     8.302\n",
      "Date:                Fri, 17 Jul 2020   Prob (F-statistic):           8.20e-13\n",
      "Time:                        13:30:16   Log-Likelihood:                 758.05\n",
      "No. Observations:                 714   AIC:                            -1494.\n",
      "Df Residuals:                     703   BIC:                            -1444.\n",
      "Df Model:                          10                                         \n",
      "Covariance Type:            nonrobust                                         \n",
      "==============================================================================\n",
      "                 coef    std err          t      P>|t|      [0.025      0.975]\n",
      "------------------------------------------------------------------------------\n",
      "Intercept     -0.0051      0.014     -0.372      0.710      -0.032       0.022\n",
      "gpris         -0.1678      0.048     -3.483      0.001      -0.262      -0.073\n",
      "gpolpc         0.0938      0.058      1.604      0.109      -0.021       0.209\n",
      "gincpc         0.9603      0.151      6.343      0.000       0.663       1.258\n",
      "cunem          0.4068      0.279      1.460      0.145      -0.140       0.954\n",
      "cblack        -0.0113      0.035     -0.318      0.751      -0.081       0.058\n",
      "cmetro        -0.3920      1.042     -0.376      0.707      -2.438       1.654\n",
      "cag0_14        4.2932      1.908      2.250      0.025       0.546       8.040\n",
      "cag15_17      12.8985      2.899      4.450      0.000       7.207      18.590\n",
      "cag18_24       1.8146      2.025      0.896      0.370      -2.161       5.790\n",
      "cag25_34      -2.5618      1.599     -1.602      0.110      -5.702       0.578\n",
      "==============================================================================\n",
      "Omnibus:                       48.415   Durbin-Watson:                   1.866\n",
      "Prob(Omnibus):                  0.000   Jarque-Bera (JB):              200.346\n",
      "Skew:                          -0.054   Prob(JB):                     3.13e-44\n",
      "Kurtosis:                       5.593   Cond. No.                     1.07e+03\n",
      "==============================================================================\n",
      "\n",
      "Warnings:\n",
      "[1] Standard Errors assume that the covariance matrix of the errors is correctly specified.\n",
      "[2] The condition number is large, 1.07e+03. This might indicate that there are\n",
      "strong multicollinearity or other numerical problems.\n"
     ]
    },
    {
     "name": "stderr",
     "output_type": "stream",
     "text": [
      "c:\\python\\lib\\site-packages\\statsmodels\\compat\\pandas.py:49: FutureWarning: The Panel class is removed from pandas. Accessing it from the top-level namespace will also be removed in the next version\n",
      "  data_klasses = (pandas.Series, pandas.DataFrame, pandas.Panel)\n"
     ]
    }
   ],
   "source": [
    "print(IV2SLS.from_formula('gcriv ~ 1 + [gpris ~ final1 + final2] + gpolpc + gincpc + cunem + cblack + cmetro + cag0_14 + cag15_17 + cag18_24 + cag25_34', data=dfej16_8).fit(cov_type='unadjusted'))\n",
    "print(smf.ols('gcriv ~ gpris + gpolpc + gincpc + cunem + cblack + cmetro + cag0_14 + cag15_17 + cag18_24 + cag25_34', data=dfej16_8).fit().summary())"
   ]
  },
  {
   "cell_type": "code",
   "execution_count": null,
   "metadata": {},
   "outputs": [],
   "source": []
  }
 ],
 "metadata": {
  "kernelspec": {
   "display_name": "Python 3 (ipykernel)",
   "language": "python",
   "name": "python3"
  },
  "language_info": {
   "codemirror_mode": {
    "name": "ipython",
    "version": 3
   },
   "file_extension": ".py",
   "mimetype": "text/x-python",
   "name": "python",
   "nbconvert_exporter": "python",
   "pygments_lexer": "ipython3",
   "version": "3.7.0"
  }
 },
 "nbformat": 4,
 "nbformat_minor": 2
}
